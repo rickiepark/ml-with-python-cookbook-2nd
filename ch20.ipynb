{
  "cells": [
    {
      "cell_type": "markdown",
      "id": "6a48ed95-2289-47fd-8092-e7825ea46724",
      "metadata": {
        "id": "6a48ed95-2289-47fd-8092-e7825ea46724"
      },
      "source": [
        "# 20장. 파이토치 텐서"
      ]
    },
    {
      "cell_type": "markdown",
      "id": "8f0a25d2-cd1e-43a5-b890-f5de8cdd464f",
      "metadata": {
        "id": "8f0a25d2-cd1e-43a5-b890-f5de8cdd464f"
      },
      "source": [
        "<table align=\"left\"><tr><td>\n",
        "<a href=\"https://colab.research.google.com/github/rickiepark/ml-with-python-cookbook-2nd/blob/main/ch20.ipynb\" target=\"_parent\"><img src=\"https://colab.research.google.com/assets/colab-badge.svg\" alt=\"코랩에서 실행하기\"/></a>\n",
        "</td></tr></table>"
      ]
    },
    {
      "cell_type": "code",
      "execution_count": 1,
      "id": "c5b57e3e-dbfb-454d-aa33-31f5452d0192",
      "metadata": {
        "id": "c5b57e3e-dbfb-454d-aa33-31f5452d0192",
        "outputId": "d021261c-0df3-4a51-c7c0-f88b69bd480a",
        "colab": {
          "base_uri": "https://localhost:8080/"
        }
      },
      "outputs": [
        {
          "output_type": "stream",
          "name": "stdout",
          "text": [
            "numpy 1.26.4\n",
            "torch 2.5.1+cu121\n"
          ]
        }
      ],
      "source": [
        "import numpy as np\n",
        "import torch\n",
        "\n",
        "print('numpy', np.__version__)\n",
        "print('torch', torch.__version__)"
      ]
    },
    {
      "cell_type": "markdown",
      "id": "4a1d5313-72a8-48e4-b92f-fde54d84a240",
      "metadata": {
        "id": "4a1d5313-72a8-48e4-b92f-fde54d84a240"
      },
      "source": [
        "## 20.1 텐서 만들기"
      ]
    },
    {
      "cell_type": "code",
      "execution_count": 2,
      "id": "46a7456c-c5d2-4a23-a422-729f11fe9da2",
      "metadata": {
        "id": "46a7456c-c5d2-4a23-a422-729f11fe9da2"
      },
      "outputs": [],
      "source": [
        "# 라이브러리를 임포트합니다.\n",
        "import torch\n",
        "\n",
        "# 하나의 행으로 벡터를 만듭니다.\n",
        "tensor_row = torch.tensor([1, 2, 3])\n",
        "\n",
        "# 하나의 열로 벡터를 만듭니다.\n",
        "tensor_column = torch.tensor(\n",
        "    [\n",
        "        [1],\n",
        "        [2],\n",
        "        [3]\n",
        "    ]\n",
        ")"
      ]
    },
    {
      "cell_type": "markdown",
      "id": "689157b2-dd4e-4069-918d-fa4030585630",
      "metadata": {
        "id": "689157b2-dd4e-4069-918d-fa4030585630"
      },
      "source": [
        "## 20.2 넘파이로 텐서 만들기"
      ]
    },
    {
      "cell_type": "code",
      "execution_count": 3,
      "id": "bdaa2362-16d6-4abc-a9b0-b3c085599ee0",
      "metadata": {
        "id": "bdaa2362-16d6-4abc-a9b0-b3c085599ee0"
      },
      "outputs": [],
      "source": [
        "# 라이브러리를 임포트합니다.\n",
        "import numpy as np\n",
        "import torch\n",
        "\n",
        "# 넘파이 배열을 만듭니다.\n",
        "vector_row = np.array([1, 2, 3])\n",
        "\n",
        "# 넘파이 배열로부터 텐서를 만듭니다.\n",
        "tensor_row = torch.from_numpy(vector_row)"
      ]
    },
    {
      "cell_type": "markdown",
      "id": "8088effb-f419-486b-bb00-9fab8075cea8",
      "metadata": {
        "id": "8088effb-f419-486b-bb00-9fab8075cea8"
      },
      "source": [
        "## 20.3 희소 텐서 만들기"
      ]
    },
    {
      "cell_type": "code",
      "execution_count": 4,
      "id": "d871baa7-7907-47e4-84cf-b0f5e37e50a2",
      "metadata": {
        "id": "d871baa7-7907-47e4-84cf-b0f5e37e50a2"
      },
      "outputs": [],
      "source": [
        "# 라이브러리를 임포트합니다.\n",
        "import torch\n",
        "\n",
        "# 텐서를 만듭니다.\n",
        "tensor = torch.tensor(\n",
        "[\n",
        "[0, 0],\n",
        "[0, 1],\n",
        "[3, 0]\n",
        "]\n",
        ")\n",
        "\n",
        "# 일반 텐서로부터 희소 텐서를 만듭니다.\n",
        "sparse_tensor = tensor.to_sparse()"
      ]
    },
    {
      "cell_type": "code",
      "execution_count": 5,
      "id": "02983da4-1d45-4300-a7ee-9ac0d46515b0",
      "metadata": {
        "id": "02983da4-1d45-4300-a7ee-9ac0d46515b0",
        "outputId": "94323b04-df08-4959-c9cf-8d2a22a0406b",
        "colab": {
          "base_uri": "https://localhost:8080/"
        }
      },
      "outputs": [
        {
          "output_type": "stream",
          "name": "stdout",
          "text": [
            "<class 'torch.Tensor'>\n",
            "<class 'torch.Tensor'>\n"
          ]
        }
      ],
      "source": [
        "print(type(tensor))\n",
        "print(type(sparse_tensor))"
      ]
    },
    {
      "cell_type": "markdown",
      "id": "417e2e9e-f51d-4708-9f64-e840bf742ac0",
      "metadata": {
        "id": "417e2e9e-f51d-4708-9f64-e840bf742ac0"
      },
      "source": [
        "## 20.4 텐서 원소 선택하기"
      ]
    },
    {
      "cell_type": "code",
      "execution_count": 6,
      "id": "8fa3489c-5b6c-43c3-8b3a-f0b4678b9901",
      "metadata": {
        "id": "8fa3489c-5b6c-43c3-8b3a-f0b4678b9901",
        "outputId": "ff11bf90-3faa-4f85-8088-8483c41f9d5c",
        "colab": {
          "base_uri": "https://localhost:8080/"
        }
      },
      "outputs": [
        {
          "output_type": "execute_result",
          "data": {
            "text/plain": [
              "tensor(3)"
            ]
          },
          "metadata": {},
          "execution_count": 6
        }
      ],
      "source": [
        "# 라이브러리를 임포트합니다.\n",
        "import torch\n",
        "\n",
        "# 벡터 텐서를 만듭니다.\n",
        "vector = torch.tensor([1, 2, 3, 4, 5, 6])\n",
        "\n",
        "# 행렬 텐서를 만듭니다.\n",
        "matrix = torch.tensor(\n",
        "    [\n",
        "        [1, 2, 3],\n",
        "        [4, 5, 6],\n",
        "        [7, 8, 9]\n",
        "    ]\n",
        ")\n",
        "\n",
        "# 벡터의 세 번째 원소를 선택합니다.\n",
        "vector[2]"
      ]
    },
    {
      "cell_type": "code",
      "execution_count": 7,
      "id": "cf6e3dc3-e939-45ae-9e89-3b9667855cce",
      "metadata": {
        "id": "cf6e3dc3-e939-45ae-9e89-3b9667855cce",
        "outputId": "e37f41a7-92e7-4b11-8019-a5b9ab8c5673",
        "colab": {
          "base_uri": "https://localhost:8080/"
        }
      },
      "outputs": [
        {
          "output_type": "execute_result",
          "data": {
            "text/plain": [
              "tensor(5)"
            ]
          },
          "metadata": {},
          "execution_count": 7
        }
      ],
      "source": [
        "# 두 번째 행, 두 번째 열을 선택합니다.\n",
        "matrix[1,1]"
      ]
    },
    {
      "cell_type": "code",
      "execution_count": 8,
      "id": "3819648e-515a-4499-8b56-875cd3d15ad3",
      "metadata": {
        "id": "3819648e-515a-4499-8b56-875cd3d15ad3",
        "outputId": "2a89d8d4-134a-48bf-f6a1-19c431ba670f",
        "colab": {
          "base_uri": "https://localhost:8080/"
        }
      },
      "outputs": [
        {
          "output_type": "execute_result",
          "data": {
            "text/plain": [
              "tensor([1, 2, 3, 4, 5, 6])"
            ]
          },
          "metadata": {},
          "execution_count": 8
        }
      ],
      "source": [
        "# 벡터의 모든 원소를 선택합니다.\n",
        "vector[:]"
      ]
    },
    {
      "cell_type": "code",
      "execution_count": 9,
      "id": "b74c63e3-b268-4ccf-b77c-8ed9fd1cb9b4",
      "metadata": {
        "id": "b74c63e3-b268-4ccf-b77c-8ed9fd1cb9b4",
        "outputId": "0f4b0662-7053-4d8c-df47-a087ec74ae6a",
        "colab": {
          "base_uri": "https://localhost:8080/"
        }
      },
      "outputs": [
        {
          "output_type": "execute_result",
          "data": {
            "text/plain": [
              "tensor([1, 2, 3])"
            ]
          },
          "metadata": {},
          "execution_count": 9
        }
      ],
      "source": [
        "# 세 번째 원소를 포함해 모든 원소를 선택합니다.\n",
        "vector[:3]"
      ]
    },
    {
      "cell_type": "code",
      "execution_count": 10,
      "id": "2772546e-972a-4648-a698-ae5d38907e6e",
      "metadata": {
        "id": "2772546e-972a-4648-a698-ae5d38907e6e",
        "outputId": "576a6d07-c6e6-416e-e98a-9bfee9957720",
        "colab": {
          "base_uri": "https://localhost:8080/"
        }
      },
      "outputs": [
        {
          "output_type": "execute_result",
          "data": {
            "text/plain": [
              "tensor([4, 5, 6])"
            ]
          },
          "metadata": {},
          "execution_count": 10
        }
      ],
      "source": [
        "# 세 번째 이후의 모든 원소를 선택합니다.\n",
        "vector[3:]"
      ]
    },
    {
      "cell_type": "code",
      "execution_count": 11,
      "id": "1fb7fa31-8a0b-403a-b049-4f0ebaac9ea1",
      "metadata": {
        "id": "1fb7fa31-8a0b-403a-b049-4f0ebaac9ea1",
        "outputId": "2f4387c5-51c6-40f0-bbdd-9c622b244e0b",
        "colab": {
          "base_uri": "https://localhost:8080/"
        }
      },
      "outputs": [
        {
          "output_type": "execute_result",
          "data": {
            "text/plain": [
              "tensor(6)"
            ]
          },
          "metadata": {},
          "execution_count": 11
        }
      ],
      "source": [
        "# 마지막 원소를 선택합니다.\n",
        "vector[-1]"
      ]
    },
    {
      "cell_type": "code",
      "execution_count": 12,
      "id": "c6edb720-127d-4e48-b4c7-bc16fa95fbee",
      "metadata": {
        "id": "c6edb720-127d-4e48-b4c7-bc16fa95fbee",
        "outputId": "a10e5cda-2ead-4adc-a39a-5e87e4a46dd4",
        "colab": {
          "base_uri": "https://localhost:8080/"
        }
      },
      "outputs": [
        {
          "output_type": "execute_result",
          "data": {
            "text/plain": [
              "tensor([[1, 2, 3],\n",
              "        [4, 5, 6]])"
            ]
          },
          "metadata": {},
          "execution_count": 12
        }
      ],
      "source": [
        "# 처음 두 개 행의 모든 열을 선택합니다.\n",
        "matrix[:2,:]"
      ]
    },
    {
      "cell_type": "code",
      "execution_count": 13,
      "id": "f11b996b-0b02-442a-b72d-489b2e894301",
      "metadata": {
        "id": "f11b996b-0b02-442a-b72d-489b2e894301",
        "outputId": "ca60f068-152b-4a13-ed3d-0f3566a77d7d",
        "colab": {
          "base_uri": "https://localhost:8080/"
        }
      },
      "outputs": [
        {
          "output_type": "execute_result",
          "data": {
            "text/plain": [
              "tensor([[2],\n",
              "        [5],\n",
              "        [8]])"
            ]
          },
          "metadata": {},
          "execution_count": 13
        }
      ],
      "source": [
        "# 모든 행의 두 번째 열을 선택니다.\n",
        "matrix[:,1:2]"
      ]
    },
    {
      "cell_type": "code",
      "execution_count": 14,
      "id": "e678d7d7-ac49-4561-98f3-49caa23dc93c",
      "metadata": {
        "id": "e678d7d7-ac49-4561-98f3-49caa23dc93c",
        "outputId": "a9f318c6-69a6-45ee-d049-afe146fd365b",
        "colab": {
          "base_uri": "https://localhost:8080/",
          "height": 165
        }
      },
      "outputs": [
        {
          "output_type": "error",
          "ename": "ValueError",
          "evalue": "step must be greater than zero",
          "traceback": [
            "\u001b[0;31m---------------------------------------------------------------------------\u001b[0m",
            "\u001b[0;31mValueError\u001b[0m                                Traceback (most recent call last)",
            "\u001b[0;32m<ipython-input-14-3e146b498912>\u001b[0m in \u001b[0;36m<cell line: 2>\u001b[0;34m()\u001b[0m\n\u001b[1;32m      1\u001b[0m \u001b[0;31m# 벡터를 뒤집습니다.\u001b[0m\u001b[0;34m\u001b[0m\u001b[0;34m\u001b[0m\u001b[0m\n\u001b[0;32m----> 2\u001b[0;31m \u001b[0mvector\u001b[0m\u001b[0;34m[\u001b[0m\u001b[0;34m:\u001b[0m\u001b[0;34m:\u001b[0m\u001b[0;34m-\u001b[0m\u001b[0;36m1\u001b[0m\u001b[0;34m]\u001b[0m\u001b[0;34m\u001b[0m\u001b[0;34m\u001b[0m\u001b[0m\n\u001b[0m",
            "\u001b[0;31mValueError\u001b[0m: step must be greater than zero"
          ]
        }
      ],
      "source": [
        "# 벡터를 뒤집습니다.\n",
        "vector[::-1]"
      ]
    },
    {
      "cell_type": "code",
      "execution_count": 15,
      "id": "d03b3959-7f69-4bbc-af03-1163689520f6",
      "metadata": {
        "id": "d03b3959-7f69-4bbc-af03-1163689520f6",
        "outputId": "001c8ff0-c96a-4dce-b3fc-92e113172de3",
        "colab": {
          "base_uri": "https://localhost:8080/"
        }
      },
      "outputs": [
        {
          "output_type": "execute_result",
          "data": {
            "text/plain": [
              "tensor([6, 5, 4, 3, 2, 1])"
            ]
          },
          "metadata": {},
          "execution_count": 15
        }
      ],
      "source": [
        "vector.flip(dims=(-1,))"
      ]
    },
    {
      "cell_type": "markdown",
      "id": "efdac14c-68bd-4c95-9067-12be6572163c",
      "metadata": {
        "id": "efdac14c-68bd-4c95-9067-12be6572163c"
      },
      "source": [
        "## 20.5 텐서 구조 파악하기"
      ]
    },
    {
      "cell_type": "code",
      "execution_count": 16,
      "id": "540cd61b-8bdc-4e73-a217-ca3188589203",
      "metadata": {
        "id": "540cd61b-8bdc-4e73-a217-ca3188589203",
        "outputId": "28096c53-c6f4-4953-895d-9322ab099af3",
        "colab": {
          "base_uri": "https://localhost:8080/"
        }
      },
      "outputs": [
        {
          "output_type": "execute_result",
          "data": {
            "text/plain": [
              "torch.Size([2, 3])"
            ]
          },
          "metadata": {},
          "execution_count": 16
        }
      ],
      "source": [
        "# 라이브러리를 임포트합니다.\n",
        "import torch\n",
        "\n",
        "# 텐서를 만듭니다.\n",
        "tensor = torch.tensor([[1,2,3], [1,2,3]])\n",
        "\n",
        "# 텐서의 크기를 확인합니다.\n",
        "tensor.shape"
      ]
    },
    {
      "cell_type": "code",
      "execution_count": 17,
      "id": "bf537184-89f9-4828-acfd-973ccf388ed2",
      "metadata": {
        "id": "bf537184-89f9-4828-acfd-973ccf388ed2",
        "outputId": "fd840876-4f5d-4f73-ad3c-6b974440eb07",
        "colab": {
          "base_uri": "https://localhost:8080/"
        }
      },
      "outputs": [
        {
          "output_type": "execute_result",
          "data": {
            "text/plain": [
              "torch.int64"
            ]
          },
          "metadata": {},
          "execution_count": 17
        }
      ],
      "source": [
        "# 텐서 안에 있는 항목의 데이터 타입을 확인합니다.\n",
        "tensor.dtype"
      ]
    },
    {
      "cell_type": "code",
      "execution_count": 18,
      "id": "67ad2c2f-9c3d-4ba7-b99b-962878d8d09a",
      "metadata": {
        "id": "67ad2c2f-9c3d-4ba7-b99b-962878d8d09a",
        "outputId": "984659ef-f70c-43d1-b657-514b49e00449",
        "colab": {
          "base_uri": "https://localhost:8080/"
        }
      },
      "outputs": [
        {
          "output_type": "execute_result",
          "data": {
            "text/plain": [
              "torch.strided"
            ]
          },
          "metadata": {},
          "execution_count": 18
        }
      ],
      "source": [
        "# 텐서의 레이아웃을 확인합니다.\n",
        "tensor.layout"
      ]
    },
    {
      "cell_type": "code",
      "execution_count": 19,
      "id": "25cd0410-99d1-4bc7-9a2f-283a043b9559",
      "metadata": {
        "id": "25cd0410-99d1-4bc7-9a2f-283a043b9559",
        "outputId": "49954593-d010-4a33-9284-59b47025e738",
        "colab": {
          "base_uri": "https://localhost:8080/"
        }
      },
      "outputs": [
        {
          "output_type": "execute_result",
          "data": {
            "text/plain": [
              "device(type='cpu')"
            ]
          },
          "metadata": {},
          "execution_count": 19
        }
      ],
      "source": [
        "# 텐서가 사용하는 장치를 확인합니다.\n",
        "tensor.device"
      ]
    },
    {
      "cell_type": "markdown",
      "id": "7a030d03-1188-4119-ade0-e38e3182444c",
      "metadata": {
        "id": "7a030d03-1188-4119-ade0-e38e3182444c"
      },
      "source": [
        "## 20.6 원소에 연산 적용하기"
      ]
    },
    {
      "cell_type": "code",
      "execution_count": 20,
      "id": "e035927e-106a-4319-90f1-347d79ebe25d",
      "metadata": {
        "id": "e035927e-106a-4319-90f1-347d79ebe25d",
        "outputId": "7ca4a0d8-466e-4a7c-f4ee-d92386cbeff9",
        "colab": {
          "base_uri": "https://localhost:8080/"
        }
      },
      "outputs": [
        {
          "output_type": "execute_result",
          "data": {
            "text/plain": [
              "tensor([100, 200, 300])"
            ]
          },
          "metadata": {},
          "execution_count": 20
        }
      ],
      "source": [
        "# 라이브러리를 임포트합니다.\n",
        "import torch\n",
        "\n",
        "# 텐서를 만듭니다.\n",
        "tensor = torch.tensor([1, 2, 3])\n",
        "\n",
        "# 텐서에 있는 모든 원소에 산술 연산을 브로드캐스팅합니다.\n",
        "tensor * 100"
      ]
    },
    {
      "cell_type": "markdown",
      "id": "8951c8d3-c66f-44ba-ae36-e50ff2727a71",
      "metadata": {
        "id": "8951c8d3-c66f-44ba-ae36-e50ff2727a71"
      },
      "source": [
        "## 20.7 최댓값과 최솟값 찾기"
      ]
    },
    {
      "cell_type": "code",
      "execution_count": 21,
      "id": "025d67cd-6a14-4d4b-9b34-9b51ca1ac250",
      "metadata": {
        "id": "025d67cd-6a14-4d4b-9b34-9b51ca1ac250",
        "outputId": "983792f6-d07e-44e6-d795-79eb17f42fbc",
        "colab": {
          "base_uri": "https://localhost:8080/"
        }
      },
      "outputs": [
        {
          "output_type": "execute_result",
          "data": {
            "text/plain": [
              "tensor(3)"
            ]
          },
          "metadata": {},
          "execution_count": 21
        }
      ],
      "source": [
        "# 라이브러리를 임포트합니다.\n",
        "import torch\n",
        "\n",
        "# 텐서를 만듭니다.\n",
        "torch.tensor([1,2,3])\n",
        "\n",
        "# 최댓값을 찾습니다.\n",
        "tensor.max()"
      ]
    },
    {
      "cell_type": "code",
      "execution_count": 22,
      "id": "f63cba51-dbce-45e0-8858-6c1a66f11648",
      "metadata": {
        "id": "f63cba51-dbce-45e0-8858-6c1a66f11648",
        "outputId": "bd532dc4-59d1-4412-e79d-79fa0af1ac62",
        "colab": {
          "base_uri": "https://localhost:8080/"
        }
      },
      "outputs": [
        {
          "output_type": "execute_result",
          "data": {
            "text/plain": [
              "tensor(1)"
            ]
          },
          "metadata": {},
          "execution_count": 22
        }
      ],
      "source": [
        "# 최솟값을 찾습니다.\n",
        "tensor.min()"
      ]
    },
    {
      "cell_type": "code",
      "execution_count": 23,
      "id": "46bfeca7-3265-4da1-ad33-ae86aeae572a",
      "metadata": {
        "id": "46bfeca7-3265-4da1-ad33-ae86aeae572a",
        "outputId": "e77187c6-973a-470d-fb73-14e081c1bf0d",
        "colab": {
          "base_uri": "https://localhost:8080/"
        }
      },
      "outputs": [
        {
          "output_type": "execute_result",
          "data": {
            "text/plain": [
              "tensor(5)"
            ]
          },
          "metadata": {},
          "execution_count": 23
        }
      ],
      "source": [
        "# 다차원 텐서를 만듭니다.\n",
        "tensor = torch.tensor([[1,2,3],[1,2,5]])\n",
        "\n",
        "# 가장 큰 값을 찾습니다.\n",
        "tensor.max()"
      ]
    },
    {
      "cell_type": "markdown",
      "id": "aea676d8-689b-4f93-95d6-9b6ffc17e596",
      "metadata": {
        "id": "aea676d8-689b-4f93-95d6-9b6ffc17e596"
      },
      "source": [
        "## 20.8 텐서 크기 바꾸기"
      ]
    },
    {
      "cell_type": "code",
      "execution_count": 24,
      "id": "0ac323d6-85e6-4f0d-9ea8-1b2f20d3388a",
      "metadata": {
        "id": "0ac323d6-85e6-4f0d-9ea8-1b2f20d3388a",
        "outputId": "e2c61a57-e195-41a7-c6a1-4158733ddbf7",
        "colab": {
          "base_uri": "https://localhost:8080/"
        }
      },
      "outputs": [
        {
          "output_type": "execute_result",
          "data": {
            "text/plain": [
              "tensor([[ 1,  2,  3,  4,  5,  6],\n",
              "        [ 7,  8,  9, 10, 11, 12]])"
            ]
          },
          "metadata": {},
          "execution_count": 24
        }
      ],
      "source": [
        "# Load library\n",
        "import torch\n",
        "\n",
        "# Create 4x3 tensor\n",
        "tensor = torch.tensor([[1, 2, 3],\n",
        "                       [4, 5, 6],\n",
        "                       [7, 8, 9],\n",
        "                       [10, 11, 12]])\n",
        "\n",
        "# Reshape tensor into 2x6 tensor\n",
        "tensor.reshape(2, 6)"
      ]
    },
    {
      "cell_type": "markdown",
      "id": "a5d568be-97b7-4559-bd8b-41a982441b41",
      "metadata": {
        "id": "a5d568be-97b7-4559-bd8b-41a982441b41"
      },
      "source": [
        "## 20.9 텐서 전치하기"
      ]
    },
    {
      "cell_type": "code",
      "execution_count": 25,
      "id": "97fa6409-2033-4f26-8368-d0f3766a6767",
      "metadata": {
        "id": "97fa6409-2033-4f26-8368-d0f3766a6767",
        "outputId": "071e2571-46aa-4013-8cea-15133d469e3a",
        "colab": {
          "base_uri": "https://localhost:8080/"
        }
      },
      "outputs": [
        {
          "output_type": "execute_result",
          "data": {
            "text/plain": [
              "tensor([[[1],\n",
              "         [2],\n",
              "         [3]]])"
            ]
          },
          "metadata": {},
          "execution_count": 25
        }
      ],
      "source": [
        "# 라이브러리를 임포트합니다.\n",
        "import torch\n",
        "\n",
        "# 2차원 텐서를 만듭니다.\n",
        "tensor = torch.tensor([[[1,2,3]]])\n",
        "\n",
        "# 텐서를 전치합니다.\n",
        "tensor.mT"
      ]
    },
    {
      "cell_type": "code",
      "execution_count": 26,
      "id": "c7593031-22ee-4fe2-9520-d6c129876166",
      "metadata": {
        "id": "c7593031-22ee-4fe2-9520-d6c129876166",
        "outputId": "f47093f4-c9aa-4448-84cc-434c721191f5",
        "colab": {
          "base_uri": "https://localhost:8080/"
        }
      },
      "outputs": [
        {
          "output_type": "execute_result",
          "data": {
            "text/plain": [
              "tensor([[[1]],\n",
              "\n",
              "        [[2]],\n",
              "\n",
              "        [[3]]])"
            ]
          },
          "metadata": {},
          "execution_count": 26
        }
      ],
      "source": [
        "tensor.permute(*torch.arange(tensor.ndim - 1, -1, -1))"
      ]
    },
    {
      "cell_type": "markdown",
      "id": "3d681864-7e63-4352-8523-d03fec466ba8",
      "metadata": {
        "id": "3d681864-7e63-4352-8523-d03fec466ba8"
      },
      "source": [
        "## 20.10 텐서 펼치기"
      ]
    },
    {
      "cell_type": "code",
      "execution_count": 27,
      "id": "a074f2cf-77ea-4515-b8fc-979c9b710fdc",
      "metadata": {
        "id": "a074f2cf-77ea-4515-b8fc-979c9b710fdc",
        "outputId": "3e1ba4a0-d7c6-4b2a-ca03-7aefa0391ca4",
        "colab": {
          "base_uri": "https://localhost:8080/"
        }
      },
      "outputs": [
        {
          "output_type": "execute_result",
          "data": {
            "text/plain": [
              "tensor([1, 2, 3, 4, 5, 6, 7, 8, 9])"
            ]
          },
          "metadata": {},
          "execution_count": 27
        }
      ],
      "source": [
        "# 라이브러리를 임포트합니다.\n",
        "import torch\n",
        "\n",
        "# 텐서를 만듭니다.\n",
        "tensor = torch.tensor([[1, 2, 3],\n",
        "                       [4, 5, 6],\n",
        "                       [7, 8, 9]])\n",
        "\n",
        "# 텐서를 펼칩니다.\n",
        "tensor.flatten()"
      ]
    },
    {
      "cell_type": "markdown",
      "id": "0449560d-1889-4cc1-b547-e0989ca0e568",
      "metadata": {
        "id": "0449560d-1889-4cc1-b547-e0989ca0e568"
      },
      "source": [
        "## 20.11 점곱을 계산하기"
      ]
    },
    {
      "cell_type": "code",
      "execution_count": 28,
      "id": "d5e1aca2-67a8-4c97-b678-71922b3f7599",
      "metadata": {
        "id": "d5e1aca2-67a8-4c97-b678-71922b3f7599",
        "outputId": "f3c6c207-e8ae-4b01-db4c-9c5b23b1c284",
        "colab": {
          "base_uri": "https://localhost:8080/"
        }
      },
      "outputs": [
        {
          "output_type": "execute_result",
          "data": {
            "text/plain": [
              "tensor(32)"
            ]
          },
          "metadata": {},
          "execution_count": 28
        }
      ],
      "source": [
        "# 라이브러리를 임포트합니다.\n",
        "import torch\n",
        "\n",
        "# 텐서를 만듭니다.\n",
        "tensor_1 = torch.tensor([1, 2, 3])\n",
        "\n",
        "# 또 다른 텐서를 만듭니다.\n",
        "tensor_2 = torch.tensor([4, 5, 6])\n",
        "\n",
        "# 두 텐서의 점곱을 계산합니다.\n",
        "tensor_1.dot(tensor_2)"
      ]
    },
    {
      "cell_type": "markdown",
      "id": "70a987b3-486c-4ae5-9b3a-7971e99c743a",
      "metadata": {
        "id": "70a987b3-486c-4ae5-9b3a-7971e99c743a"
      },
      "source": [
        "## 20.12 텐서 곱셈"
      ]
    },
    {
      "cell_type": "code",
      "execution_count": 29,
      "id": "a9b94574-ce2a-4470-b357-fc66a0bb18a0",
      "metadata": {
        "id": "a9b94574-ce2a-4470-b357-fc66a0bb18a0",
        "outputId": "b9e72d94-8851-4322-da81-c405491d0e83",
        "colab": {
          "base_uri": "https://localhost:8080/"
        }
      },
      "outputs": [
        {
          "output_type": "execute_result",
          "data": {
            "text/plain": [
              "tensor([ 4, 10, 18])"
            ]
          },
          "metadata": {},
          "execution_count": 29
        }
      ],
      "source": [
        "# 라이브러리를 임포트합니다.\n",
        "import torch\n",
        "\n",
        "# 텐서를 만듭니다.\n",
        "tensor_1 = torch.tensor([1, 2, 3])\n",
        "\n",
        "# 또 다른 텐서를 만듭니다.\n",
        "tensor_2 = torch.tensor([4, 5, 6])\n",
        "\n",
        "# 두 텐서를 곱합니다.\n",
        "tensor_1 * tensor_2"
      ]
    },
    {
      "cell_type": "code",
      "execution_count": 30,
      "id": "b82788a5-b561-474c-b60a-83b4015b7805",
      "metadata": {
        "id": "b82788a5-b561-474c-b60a-83b4015b7805",
        "outputId": "2e7e1c1f-97b0-4850-ae43-d9262fa29684",
        "colab": {
          "base_uri": "https://localhost:8080/"
        }
      },
      "outputs": [
        {
          "output_type": "execute_result",
          "data": {
            "text/plain": [
              "tensor([5, 7, 9])"
            ]
          },
          "metadata": {},
          "execution_count": 30
        }
      ],
      "source": [
        "tensor_1+tensor_2"
      ]
    },
    {
      "cell_type": "code",
      "execution_count": 31,
      "id": "43d4336c-5f0a-488d-b464-24b055fd252e",
      "metadata": {
        "id": "43d4336c-5f0a-488d-b464-24b055fd252e",
        "outputId": "07a155b4-9993-423f-ec77-70019df976b4",
        "colab": {
          "base_uri": "https://localhost:8080/"
        }
      },
      "outputs": [
        {
          "output_type": "execute_result",
          "data": {
            "text/plain": [
              "tensor([-3, -3, -3])"
            ]
          },
          "metadata": {},
          "execution_count": 31
        }
      ],
      "source": [
        "tensor_1-tensor_2"
      ]
    },
    {
      "cell_type": "code",
      "execution_count": 32,
      "id": "c95b8dbc-67c3-4597-87bb-eda6ed20d14a",
      "metadata": {
        "id": "c95b8dbc-67c3-4597-87bb-eda6ed20d14a",
        "outputId": "c4f03465-3f5a-4c4d-f04c-919e32530c13",
        "colab": {
          "base_uri": "https://localhost:8080/"
        }
      },
      "outputs": [
        {
          "output_type": "execute_result",
          "data": {
            "text/plain": [
              "tensor([0.2500, 0.4000, 0.5000])"
            ]
          },
          "metadata": {},
          "execution_count": 32
        }
      ],
      "source": [
        "tensor_1/tensor_2"
      ]
    }
  ],
  "metadata": {
    "kernelspec": {
      "display_name": "Python 3 (ipykernel)",
      "language": "python",
      "name": "python3"
    },
    "language_info": {
      "codemirror_mode": {
        "name": "ipython",
        "version": 3
      },
      "file_extension": ".py",
      "mimetype": "text/x-python",
      "name": "python",
      "nbconvert_exporter": "python",
      "pygments_lexer": "ipython3",
      "version": "3.10.13"
    },
    "colab": {
      "provenance": []
    }
  },
  "nbformat": 4,
  "nbformat_minor": 5
}