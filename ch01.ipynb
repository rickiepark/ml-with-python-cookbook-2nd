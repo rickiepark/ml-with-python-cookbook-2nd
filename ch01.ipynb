{
  "cells": [
    {
      "cell_type": "markdown",
      "metadata": {
        "id": "_qjxo-BhWf7A"
      },
      "source": [
        "# 1장 벡터, 행렬, 배열"
      ]
    },
    {
      "cell_type": "markdown",
      "metadata": {
        "id": "F73rBlviWf79"
      },
      "source": [
        "<table align=\"left\"><tr><td>\n",
        "<a href=\"https://colab.research.google.com/github/rickiepark/ml-with-python-cookbook-2nd/blob/main/ch01.ipynb\" target=\"_parent\"><img src=\"https://colab.research.google.com/assets/colab-badge.svg\" alt=\"코랩에서 실행하기\"/></a>\n",
        "</td></tr></table>"
      ]
    },
    {
      "cell_type": "code",
      "execution_count": 1,
      "metadata": {
        "id": "w6RFCrtAWf7_",
        "outputId": "c3b9ee04-3343-4bf4-8eae-b805077699fc",
        "colab": {
          "base_uri": "https://localhost:8080/"
        }
      },
      "outputs": [
        {
          "output_type": "stream",
          "name": "stdout",
          "text": [
            "numpy 1.25.2\n",
            "pandas 2.0.3\n"
          ]
        }
      ],
      "source": [
        "import numpy as np\n",
        "import pandas as pd\n",
        "\n",
        "print('numpy', np.__version__)\n",
        "print('pandas', pd.__version__)"
      ]
    },
    {
      "cell_type": "markdown",
      "metadata": {
        "id": "jFRhh_LrWf8C"
      },
      "source": [
        "## 1.1 벡터 만들기"
      ]
    },
    {
      "cell_type": "code",
      "execution_count": 2,
      "metadata": {
        "id": "X6nx2RWtWf8C"
      },
      "outputs": [],
      "source": [
        "# 라이브러리를 임포트합니다.\n",
        "import numpy as np"
      ]
    },
    {
      "cell_type": "code",
      "execution_count": 3,
      "metadata": {
        "id": "LqCCpvDpWf8D"
      },
      "outputs": [],
      "source": [
        "# 하나의 행으로 벡터를 만듭니다.\n",
        "vector_row = np.array([1, 2, 3])"
      ]
    },
    {
      "cell_type": "code",
      "execution_count": 4,
      "metadata": {
        "id": "443ZLfVJWf93",
        "outputId": "086a2ed1-e5fd-4f2f-f900-5e63b90e31d1",
        "colab": {
          "base_uri": "https://localhost:8080/"
        }
      },
      "outputs": [
        {
          "output_type": "execute_result",
          "data": {
            "text/plain": [
              "array([1, 2, 3])"
            ]
          },
          "metadata": {},
          "execution_count": 4
        }
      ],
      "source": [
        "vector_row"
      ]
    },
    {
      "cell_type": "code",
      "execution_count": 5,
      "metadata": {
        "id": "boc3x2NGWf97"
      },
      "outputs": [],
      "source": [
        "# 하나의 열로 벡터를 만듭니다.\n",
        "vector_column = np.array([[1],\n",
        "                          [2],\n",
        "                          [3]])"
      ]
    },
    {
      "cell_type": "code",
      "execution_count": 6,
      "metadata": {
        "id": "mkzfHoKVWf9-",
        "outputId": "3fc315db-0c02-4035-b073-e0be8a40dc71",
        "colab": {
          "base_uri": "https://localhost:8080/"
        }
      },
      "outputs": [
        {
          "output_type": "execute_result",
          "data": {
            "text/plain": [
              "array([[1],\n",
              "       [2],\n",
              "       [3]])"
            ]
          },
          "metadata": {},
          "execution_count": 6
        }
      ],
      "source": [
        "vector_column"
      ]
    },
    {
      "cell_type": "markdown",
      "metadata": {
        "id": "5IBMbk90Wf-D"
      },
      "source": [
        "### 덧붙임"
      ]
    },
    {
      "cell_type": "code",
      "execution_count": 7,
      "metadata": {
        "id": "ZspqZVIOWf-E",
        "outputId": "d1364393-44a0-4c25-be18-7aaf32aa891e",
        "colab": {
          "base_uri": "https://localhost:8080/"
        }
      },
      "outputs": [
        {
          "output_type": "stream",
          "name": "stdout",
          "text": [
            "<class 'numpy.ndarray'>\n"
          ]
        }
      ],
      "source": [
        "# 넘파이 배열의 클래스를 출력합니다.\n",
        "print(type(vector_row))"
      ]
    },
    {
      "cell_type": "code",
      "execution_count": 8,
      "metadata": {
        "id": "NqPEbgdGWf-F"
      },
      "outputs": [],
      "source": [
        "# ndarray를 사용하는 것은 권장되지 않습니다.\n",
        "bad_way = np.ndarray((3,))"
      ]
    },
    {
      "cell_type": "code",
      "execution_count": 9,
      "metadata": {
        "id": "aqX-AvATWf-G",
        "outputId": "d4c1caf4-ae14-4a46-9186-1565ea2aa6cf",
        "colab": {
          "base_uri": "https://localhost:8080/"
        }
      },
      "outputs": [
        {
          "output_type": "execute_result",
          "data": {
            "text/plain": [
              "True"
            ]
          },
          "metadata": {},
          "execution_count": 9
        }
      ],
      "source": [
        "new_row = np.asarray([1, 2, 3])\n",
        "# asarray()는 새로운 배열을 만들지 않습니다.\n",
        "new_row = np.asarray(vector_row)\n",
        "new_row is vector_row"
      ]
    },
    {
      "cell_type": "code",
      "execution_count": 10,
      "metadata": {
        "id": "SinsCdb3Wf-G",
        "outputId": "99be9211-bcf5-46fc-b343-ff291e892b5b",
        "colab": {
          "base_uri": "https://localhost:8080/"
        }
      },
      "outputs": [
        {
          "output_type": "execute_result",
          "data": {
            "text/plain": [
              "False"
            ]
          },
          "metadata": {},
          "execution_count": 10
        }
      ],
      "source": [
        "# array()는 배열이 입력되면 새로운 배열을 만듭니다.\n",
        "new_row = np.array(vector_row)\n",
        "new_row is vector_row"
      ]
    },
    {
      "cell_type": "code",
      "execution_count": 11,
      "metadata": {
        "id": "UwnfKXTuWf-H",
        "outputId": "cfb02dce-87da-414c-c552-37b8a1239583",
        "colab": {
          "base_uri": "https://localhost:8080/"
        }
      },
      "outputs": [
        {
          "output_type": "execute_result",
          "data": {
            "text/plain": [
              "False"
            ]
          },
          "metadata": {},
          "execution_count": 11
        }
      ],
      "source": [
        "# copy() 메서드를 사용하면 의도가 분명해집니다.\n",
        "new_row = vector_row.copy()\n",
        "new_row is vector_row"
      ]
    },
    {
      "cell_type": "markdown",
      "metadata": {
        "id": "c1tJYouEWf-H"
      },
      "source": [
        "## 1.2 행렬 만들기"
      ]
    },
    {
      "cell_type": "code",
      "execution_count": 12,
      "metadata": {
        "id": "E_gAhkC2Wf-I",
        "outputId": "5b8b3ea4-2e67-4158-c8d6-e6b83bcc7845",
        "colab": {
          "base_uri": "https://localhost:8080/"
        }
      },
      "outputs": [
        {
          "output_type": "execute_result",
          "data": {
            "text/plain": [
              "array([[1, 2],\n",
              "       [1, 2],\n",
              "       [1, 2]])"
            ]
          },
          "metadata": {},
          "execution_count": 12
        }
      ],
      "source": [
        "# 라이브러리를 임포트합니다.\n",
        "import numpy as np\n",
        "\n",
        "matrix = np.array([[1, 2],\n",
        "                   [1, 2],\n",
        "                   [1, 2]])\n",
        "matrix"
      ]
    },
    {
      "cell_type": "code",
      "execution_count": 13,
      "metadata": {
        "id": "lR9v2PL0Wf-I",
        "outputId": "c9dfff92-72e0-41f4-9f2b-e53a51371981",
        "colab": {
          "base_uri": "https://localhost:8080/"
        }
      },
      "outputs": [
        {
          "output_type": "execute_result",
          "data": {
            "text/plain": [
              "matrix([[1, 2],\n",
              "        [1, 2],\n",
              "        [1, 2]])"
            ]
          },
          "metadata": {},
          "execution_count": 13
        }
      ],
      "source": [
        "matrix_object = np.mat([[1, 2],\n",
        "                        [1, 2],\n",
        "                        [1, 2]])\n",
        "matrix_object"
      ]
    },
    {
      "cell_type": "markdown",
      "metadata": {
        "id": "gGBGq5niWf-K"
      },
      "source": [
        "## 1.3 희소 행렬 만들기"
      ]
    },
    {
      "cell_type": "code",
      "execution_count": 14,
      "metadata": {
        "id": "ecP_U6wrWf-j"
      },
      "outputs": [],
      "source": [
        "# 라이브러리를 임포트합니다.\n",
        "import numpy as np\n",
        "from scipy import sparse\n",
        "\n",
        "# 행렬을 만듭니다.\n",
        "matrix = np.array([[0, 0],\n",
        "                   [0, 1],\n",
        "                   [3, 0]])\n",
        "\n",
        "# CSR 행렬을 만듭니다.\n",
        "matrix_sparse = sparse.csr_matrix(matrix)"
      ]
    },
    {
      "cell_type": "code",
      "execution_count": 15,
      "metadata": {
        "id": "dzwnQxKxWf-j",
        "outputId": "1fc42bd1-e91f-4f1d-a3a8-3f57f012f481",
        "colab": {
          "base_uri": "https://localhost:8080/"
        }
      },
      "outputs": [
        {
          "output_type": "stream",
          "name": "stdout",
          "text": [
            "  (1, 1)\t1\n",
            "  (2, 0)\t3\n"
          ]
        }
      ],
      "source": [
        "# 희소 행렬을 출력합니다.\n",
        "print(matrix_sparse)"
      ]
    },
    {
      "cell_type": "code",
      "execution_count": 16,
      "metadata": {
        "id": "jrAdqWf5Wf-j",
        "outputId": "e96f0e03-68ba-413a-ebab-145dfa026416",
        "colab": {
          "base_uri": "https://localhost:8080/"
        }
      },
      "outputs": [
        {
          "output_type": "stream",
          "name": "stdout",
          "text": [
            "  (1, 1)\t1\n",
            "  (2, 0)\t3\n"
          ]
        }
      ],
      "source": [
        "# 큰 행렬을 만듭니다.\n",
        "matrix_large = np.array([[0, 0, 0, 0, 0, 0, 0, 0, 0, 0],\n",
        "                         [0, 1, 0, 0, 0, 0, 0, 0, 0, 0],\n",
        "                         [3, 0, 0, 0, 0, 0, 0, 0, 0, 0]])\n",
        "\n",
        "# CSR 행렬을 만듭니다.\n",
        "matrix_large_sparse = sparse.csr_matrix(matrix_large)\n",
        "\n",
        "# 원래 희소 행렬을 출력합니다.\n",
        "print(matrix_sparse)"
      ]
    },
    {
      "cell_type": "code",
      "execution_count": 17,
      "metadata": {
        "id": "SIw9xciEWf-k",
        "outputId": "5e5f41e8-0df2-4296-b294-3f302369c48a",
        "colab": {
          "base_uri": "https://localhost:8080/"
        }
      },
      "outputs": [
        {
          "output_type": "stream",
          "name": "stdout",
          "text": [
            "  (1, 1)\t1\n",
            "  (2, 0)\t3\n"
          ]
        }
      ],
      "source": [
        "# 큰 희소 행렬을 출력합니다.\n",
        "print(matrix_large_sparse)"
      ]
    },
    {
      "cell_type": "markdown",
      "metadata": {
        "id": "6GzsLRJJWf-k"
      },
      "source": [
        "### 덧붙임"
      ]
    },
    {
      "cell_type": "code",
      "execution_count": 18,
      "metadata": {
        "id": "lS3HJ0s4Wf-k",
        "outputId": "767ec88e-eee9-464a-aab5-347bc22577d5",
        "colab": {
          "base_uri": "https://localhost:8080/"
        }
      },
      "outputs": [
        {
          "output_type": "stream",
          "name": "stdout",
          "text": [
            "  (1, 1)\t1\n",
            "  (2, 0)\t3\n"
          ]
        }
      ],
      "source": [
        "# (data, (row_index, col_index))로 구성된 튜플을 전달합니다.\n",
        "# shape 매개변수에서 0을 포함한 행렬의 전체 크기를 지정합니다.\n",
        "matrix_sparse_2 = sparse.csr_matrix(([1, 3], ([1, 2], [1, 0])), shape=(3, 10))\n",
        "\n",
        "print(matrix_sparse_2)"
      ]
    },
    {
      "cell_type": "code",
      "execution_count": 19,
      "metadata": {
        "id": "Y7LLBZhGWf-l",
        "outputId": "dcca17ac-05b5-4995-fe10-4d90752ce5c1",
        "colab": {
          "base_uri": "https://localhost:8080/"
        }
      },
      "outputs": [
        {
          "output_type": "stream",
          "name": "stdout",
          "text": [
            "[[0 0 0 0 0 0 0 0 0 0]\n",
            " [0 1 0 0 0 0 0 0 0 0]\n",
            " [3 0 0 0 0 0 0 0 0 0]]\n"
          ]
        }
      ],
      "source": [
        "print(matrix_sparse_2.toarray())"
      ]
    },
    {
      "cell_type": "code",
      "execution_count": 20,
      "metadata": {
        "id": "tOiYHMvKWf-l",
        "outputId": "1d150ece-ceae-452a-c3cd-f96b0751814d",
        "colab": {
          "base_uri": "https://localhost:8080/"
        }
      },
      "outputs": [
        {
          "output_type": "execute_result",
          "data": {
            "text/plain": [
              "matrix([[0, 0, 0, 0, 0, 0, 0, 0, 0, 0],\n",
              "        [0, 1, 0, 0, 0, 0, 0, 0, 0, 0],\n",
              "        [3, 0, 0, 0, 0, 0, 0, 0, 0, 0]])"
            ]
          },
          "metadata": {},
          "execution_count": 20
        }
      ],
      "source": [
        "matrix_sparse_2.todense()"
      ]
    },
    {
      "cell_type": "markdown",
      "source": [
        "## 1.4 넘파이 배열 사전 할당하기"
      ],
      "metadata": {
        "id": "ejavMMyy1qcl"
      }
    },
    {
      "cell_type": "code",
      "source": [
        "# 라이브러리를 임포트합니다.\n",
        "import numpy as np\n",
        "# 모두 0으로 채워진 (1,5) 크기의 벡터를 생성합니다.\n",
        "vector = np.zeros(shape=5)\n",
        "# 벡터를 출력합니다.\n",
        "print(vector)"
      ],
      "metadata": {
        "id": "XUJySmcG1xed",
        "outputId": "583da8a4-14d7-4666-bfb8-fad505767b77",
        "colab": {
          "base_uri": "https://localhost:8080/"
        }
      },
      "execution_count": 21,
      "outputs": [
        {
          "output_type": "stream",
          "name": "stdout",
          "text": [
            "[0. 0. 0. 0. 0.]\n"
          ]
        }
      ]
    },
    {
      "cell_type": "code",
      "source": [
        "# 모두 1로 채워진 (3,3) 크기의 행렬을 생성합니다.\n",
        "matrix = np.full(shape=(3,3), fill_value=1)\n",
        "# 행렬을 출력합니다.\n",
        "print(matrix)"
      ],
      "metadata": {
        "id": "lu85yS5w14mk",
        "outputId": "ce8d84ab-020e-4a78-9aac-91a10a057b47",
        "colab": {
          "base_uri": "https://localhost:8080/"
        }
      },
      "execution_count": 22,
      "outputs": [
        {
          "output_type": "stream",
          "name": "stdout",
          "text": [
            "[[1 1 1]\n",
            " [1 1 1]\n",
            " [1 1 1]]\n"
          ]
        }
      ]
    },
    {
      "cell_type": "markdown",
      "metadata": {
        "id": "mTHw-N9tWf-I"
      },
      "source": [
        "### 붙임"
      ]
    },
    {
      "cell_type": "code",
      "execution_count": 23,
      "metadata": {
        "id": "oujfP9WHWf-J",
        "outputId": "43ff5c4c-ec36-4cc3-bec9-5d3a5c63bec6",
        "colab": {
          "base_uri": "https://localhost:8080/"
        }
      },
      "outputs": [
        {
          "output_type": "execute_result",
          "data": {
            "text/plain": [
              "array([[0.0e+000, 0.0e+000],\n",
              "       [0.0e+000, 4.9e-324],\n",
              "       [1.5e-323, 0.0e+000]])"
            ]
          },
          "metadata": {},
          "execution_count": 23
        }
      ],
      "source": [
        "# 임의의 값이 채워진 배열을 만듭니다.\n",
        "empty_matrix = np.empty((3, 2))\n",
        "empty_matrix"
      ]
    },
    {
      "cell_type": "code",
      "execution_count": 24,
      "metadata": {
        "id": "mRmnYdAdWf-J",
        "outputId": "9e0a0b1b-a9aa-414b-b845-411dd7b01a91",
        "colab": {
          "base_uri": "https://localhost:8080/"
        }
      },
      "outputs": [
        {
          "output_type": "execute_result",
          "data": {
            "text/plain": [
              "array([[1., 1.],\n",
              "       [1., 1.],\n",
              "       [1., 1.]])"
            ]
          },
          "metadata": {},
          "execution_count": 24
        }
      ],
      "source": [
        "one_matrix = np.ones((3, 2))\n",
        "one_matrix"
      ]
    },
    {
      "cell_type": "markdown",
      "metadata": {
        "id": "ZHxOA2XgWf-m"
      },
      "source": [
        "## 1.5 원소 선택"
      ]
    },
    {
      "cell_type": "code",
      "execution_count": 25,
      "metadata": {
        "id": "vfOdiKr1Wf-m",
        "outputId": "b27f42db-c30c-4c3e-9d9d-80518cbe8418",
        "colab": {
          "base_uri": "https://localhost:8080/"
        }
      },
      "outputs": [
        {
          "output_type": "execute_result",
          "data": {
            "text/plain": [
              "3"
            ]
          },
          "metadata": {},
          "execution_count": 25
        }
      ],
      "source": [
        "# 라이브러리를 임포트합니다.\n",
        "import numpy as np\n",
        "\n",
        "# 행 벡터를 만듭니다.\n",
        "vector = np.array([1, 2, 3, 4, 5, 6])\n",
        "\n",
        "# 행렬을 만듭니다.\n",
        "matrix = np.array([[1, 2, 3],\n",
        "                   [4, 5, 6],\n",
        "                   [7, 8, 9]])\n",
        "\n",
        "# vector의 세 번째 원소를 선택합니다.\n",
        "vector[2]"
      ]
    },
    {
      "cell_type": "code",
      "execution_count": 26,
      "metadata": {
        "id": "E6WRZRBCWf-n",
        "outputId": "947f445a-a908-41a3-b1ac-9d0f16820342",
        "colab": {
          "base_uri": "https://localhost:8080/"
        }
      },
      "outputs": [
        {
          "output_type": "execute_result",
          "data": {
            "text/plain": [
              "5"
            ]
          },
          "metadata": {},
          "execution_count": 26
        }
      ],
      "source": [
        "# matrix의 두 번째 행, 두 번째 열의 원소를 선택합니다.\n",
        "matrix[1,1]"
      ]
    },
    {
      "cell_type": "code",
      "execution_count": 27,
      "metadata": {
        "id": "0gL3kYFzWf-o",
        "outputId": "feb69ab4-ef45-47e1-95ca-5975f8c1333b",
        "colab": {
          "base_uri": "https://localhost:8080/"
        }
      },
      "outputs": [
        {
          "output_type": "execute_result",
          "data": {
            "text/plain": [
              "array([1, 2, 3, 4, 5, 6])"
            ]
          },
          "metadata": {},
          "execution_count": 27
        }
      ],
      "source": [
        "# 벡터에 있는 모든 원소를 선택합니다.\n",
        "vector[:]"
      ]
    },
    {
      "cell_type": "code",
      "execution_count": 28,
      "metadata": {
        "id": "EzFsNAj0Wf-o",
        "outputId": "1517a073-854c-48e7-f45d-a8d301697949",
        "colab": {
          "base_uri": "https://localhost:8080/"
        }
      },
      "outputs": [
        {
          "output_type": "execute_result",
          "data": {
            "text/plain": [
              "array([1, 2, 3])"
            ]
          },
          "metadata": {},
          "execution_count": 28
        }
      ],
      "source": [
        "# 세 번째 원소를 포함하여 그 이전의 모든 원소를 선택합니다.\n",
        "vector[:3]"
      ]
    },
    {
      "cell_type": "code",
      "execution_count": 29,
      "metadata": {
        "id": "lldvJkGtWf-o",
        "outputId": "fe3aa840-0f14-468c-abcd-8320831952d9",
        "colab": {
          "base_uri": "https://localhost:8080/"
        }
      },
      "outputs": [
        {
          "output_type": "execute_result",
          "data": {
            "text/plain": [
              "array([4, 5, 6])"
            ]
          },
          "metadata": {},
          "execution_count": 29
        }
      ],
      "source": [
        "# 세 번째 이후의 모든 원소를 선택합니다.\n",
        "vector[3:]"
      ]
    },
    {
      "cell_type": "code",
      "execution_count": 30,
      "metadata": {
        "id": "tYDNw80nWf-p",
        "outputId": "68e0588d-d397-496b-b2e1-19a1f1c89906",
        "colab": {
          "base_uri": "https://localhost:8080/"
        }
      },
      "outputs": [
        {
          "output_type": "execute_result",
          "data": {
            "text/plain": [
              "6"
            ]
          },
          "metadata": {},
          "execution_count": 30
        }
      ],
      "source": [
        "# 마지막 원소를 선택합니다.\n",
        "vector[-1]"
      ]
    },
    {
      "cell_type": "code",
      "execution_count": 31,
      "metadata": {
        "id": "C5R2NkbZWgBV",
        "outputId": "1f0f859a-c915-46f3-e43c-19fc0087f24c",
        "colab": {
          "base_uri": "https://localhost:8080/"
        }
      },
      "outputs": [
        {
          "output_type": "execute_result",
          "data": {
            "text/plain": [
              "array([[1, 2, 3],\n",
              "       [4, 5, 6]])"
            ]
          },
          "metadata": {},
          "execution_count": 31
        }
      ],
      "source": [
        "# 행렬에서 첫 번째 두 개의 행과 모든 열을 선택합니다.\n",
        "matrix[:2,:]"
      ]
    },
    {
      "cell_type": "code",
      "execution_count": 32,
      "metadata": {
        "id": "qyfqsd9VWgBV",
        "outputId": "f86c8c19-ad4a-4967-8f67-43ab6f6a0e1a",
        "colab": {
          "base_uri": "https://localhost:8080/"
        }
      },
      "outputs": [
        {
          "output_type": "execute_result",
          "data": {
            "text/plain": [
              "array([[2],\n",
              "       [5],\n",
              "       [8]])"
            ]
          },
          "metadata": {},
          "execution_count": 32
        }
      ],
      "source": [
        "# 모든 행과 두 번째 열을 선택합니다.\n",
        "matrix[:,1:2]"
      ]
    },
    {
      "cell_type": "markdown",
      "metadata": {
        "id": "eXngrDKTWgBW"
      },
      "source": [
        "### 덧붙임"
      ]
    },
    {
      "cell_type": "code",
      "execution_count": 33,
      "metadata": {
        "id": "_dlUUUimWgBX",
        "outputId": "d8f6bdd8-0dd1-4645-fc8e-90e10b496c6a",
        "colab": {
          "base_uri": "https://localhost:8080/"
        }
      },
      "outputs": [
        {
          "output_type": "execute_result",
          "data": {
            "text/plain": [
              "array([[1, 2, 3],\n",
              "       [7, 8, 9]])"
            ]
          },
          "metadata": {},
          "execution_count": 33
        }
      ],
      "source": [
        "# 첫 번째 행과 세 번째 행을 선택합니다.\n",
        "matrix[[0,2]]"
      ]
    },
    {
      "cell_type": "code",
      "execution_count": 34,
      "metadata": {
        "id": "7QHLNkzEWgBY",
        "outputId": "d23b85d4-0ab6-4601-e6ae-e40f25346318",
        "colab": {
          "base_uri": "https://localhost:8080/"
        }
      },
      "outputs": [
        {
          "output_type": "execute_result",
          "data": {
            "text/plain": [
              "array([2, 7])"
            ]
          },
          "metadata": {},
          "execution_count": 34
        }
      ],
      "source": [
        "# (0, 1), (2, 0) 위치의 원소를 선택합니다.\n",
        "matrix[[0,2], [1,0]]"
      ]
    },
    {
      "cell_type": "code",
      "execution_count": 35,
      "metadata": {
        "id": "ebGCVq9DWgBY",
        "outputId": "a4460532-c703-4ae2-dd7f-5aa2bfc448ab",
        "colab": {
          "base_uri": "https://localhost:8080/"
        }
      },
      "outputs": [
        {
          "output_type": "execute_result",
          "data": {
            "text/plain": [
              "array([[False, False, False],\n",
              "       [False, False,  True],\n",
              "       [ True,  True,  True]])"
            ]
          },
          "metadata": {},
          "execution_count": 35
        }
      ],
      "source": [
        "# matrix의 각 원소에 비교 연산자가 적용됩니다.\n",
        "mask = matrix > 5\n",
        "\n",
        "mask"
      ]
    },
    {
      "cell_type": "code",
      "execution_count": 36,
      "metadata": {
        "id": "TMS5-xHJWgBb",
        "outputId": "d2e81569-b42c-40c9-a998-4bacdc8e2be1",
        "colab": {
          "base_uri": "https://localhost:8080/"
        }
      },
      "outputs": [
        {
          "output_type": "execute_result",
          "data": {
            "text/plain": [
              "array([6, 7, 8, 9])"
            ]
          },
          "metadata": {},
          "execution_count": 36
        }
      ],
      "source": [
        "# 불리언 마스크 배열을 사용하여 원소를 선택합니다.\n",
        "matrix[mask]"
      ]
    },
    {
      "cell_type": "markdown",
      "metadata": {
        "id": "0eIL_ZI6WgBb"
      },
      "source": [
        "## 1.6 행렬 정보 확인"
      ]
    },
    {
      "cell_type": "code",
      "execution_count": 37,
      "metadata": {
        "id": "cz8_fZabWgBc",
        "outputId": "4c9016ca-3616-4810-c6c6-4a6df7822575",
        "colab": {
          "base_uri": "https://localhost:8080/"
        }
      },
      "outputs": [
        {
          "output_type": "execute_result",
          "data": {
            "text/plain": [
              "(3, 4)"
            ]
          },
          "metadata": {},
          "execution_count": 37
        }
      ],
      "source": [
        "# 라이브러리를 임포트합니다.\n",
        "import numpy as np\n",
        "\n",
        "# 행렬을 만듭니다.\n",
        "matrix = np.array([[1, 2, 3, 4],\n",
        "                   [5, 6, 7, 8],\n",
        "                   [9, 10, 11, 12]])\n",
        "\n",
        "# 행렬의 크기를 확인합니다.\n",
        "matrix.shape"
      ]
    },
    {
      "cell_type": "code",
      "execution_count": 38,
      "metadata": {
        "id": "mhJpiadAWgBc",
        "outputId": "a8f91cc9-55ac-46e6-e721-e86b23f432ae",
        "colab": {
          "base_uri": "https://localhost:8080/"
        }
      },
      "outputs": [
        {
          "output_type": "execute_result",
          "data": {
            "text/plain": [
              "12"
            ]
          },
          "metadata": {},
          "execution_count": 38
        }
      ],
      "source": [
        "# 행렬의 원소 개수를 확인합니다(행 * 열).\n",
        "matrix.size"
      ]
    },
    {
      "cell_type": "code",
      "execution_count": 39,
      "metadata": {
        "id": "fEXHxmGEWgBd",
        "outputId": "181e9939-7fd5-460e-fe02-15e0e94df73d",
        "colab": {
          "base_uri": "https://localhost:8080/"
        }
      },
      "outputs": [
        {
          "output_type": "execute_result",
          "data": {
            "text/plain": [
              "2"
            ]
          },
          "metadata": {},
          "execution_count": 39
        }
      ],
      "source": [
        "# 차원 수를 확인합니다.\n",
        "matrix.ndim"
      ]
    },
    {
      "cell_type": "markdown",
      "metadata": {
        "id": "eW7txgHdWgBe"
      },
      "source": [
        "### 덧붙임"
      ]
    },
    {
      "cell_type": "code",
      "execution_count": 40,
      "metadata": {
        "id": "D1oe-eOvWgBe",
        "outputId": "63964c81-e15f-40c4-a425-981a219d6cf5",
        "colab": {
          "base_uri": "https://localhost:8080/"
        }
      },
      "outputs": [
        {
          "output_type": "stream",
          "name": "stdout",
          "text": [
            "int64\n"
          ]
        }
      ],
      "source": [
        "# 원소의 데이터 타입을 확인합니다.\n",
        "print(matrix.dtype)"
      ]
    },
    {
      "cell_type": "code",
      "execution_count": 41,
      "metadata": {
        "id": "c0a7pJcvWgBg",
        "outputId": "b2c3eb40-3c6a-4d6a-c70f-c9913a544f59",
        "colab": {
          "base_uri": "https://localhost:8080/"
        }
      },
      "outputs": [
        {
          "output_type": "stream",
          "name": "stdout",
          "text": [
            "8\n"
          ]
        }
      ],
      "source": [
        "# 원소 하나가 차지하는 바이트 크기입니다.\n",
        "print(matrix.itemsize)"
      ]
    },
    {
      "cell_type": "code",
      "execution_count": 42,
      "metadata": {
        "id": "iY9FzaNUWgBi",
        "outputId": "c86a7983-353f-4ed9-e65c-32ff48a8d43a",
        "colab": {
          "base_uri": "https://localhost:8080/"
        }
      },
      "outputs": [
        {
          "output_type": "stream",
          "name": "stdout",
          "text": [
            "96\n"
          ]
        }
      ],
      "source": [
        "# 배열 전체가 차지하는 바이트 크기입니다.\n",
        "print(matrix.nbytes)"
      ]
    },
    {
      "cell_type": "markdown",
      "metadata": {
        "id": "XH_ggisqWgBj"
      },
      "source": [
        "## 1.7 벡터화 연산 적용하기"
      ]
    },
    {
      "cell_type": "code",
      "execution_count": 43,
      "metadata": {
        "id": "QxnwRNqkWgBj",
        "outputId": "21f4e9f5-ddd6-4648-dc14-fa8dd008af90",
        "colab": {
          "base_uri": "https://localhost:8080/"
        }
      },
      "outputs": [
        {
          "output_type": "execute_result",
          "data": {
            "text/plain": [
              "array([[101, 102, 103],\n",
              "       [104, 105, 106],\n",
              "       [107, 108, 109]])"
            ]
          },
          "metadata": {},
          "execution_count": 43
        }
      ],
      "source": [
        "# 라이브러리를 임포트합니다.\n",
        "import numpy as np\n",
        "\n",
        "# 행렬을 만듭니다.\n",
        "matrix = np.array([[1, 2, 3],\n",
        "                   [4, 5, 6],\n",
        "                   [7, 8, 9]])\n",
        "\n",
        "# 100을 더하는 함수를 만듭니다.\n",
        "add_100 = lambda i: i + 100\n",
        "\n",
        "# 벡터화된 함수를 만듭니다.\n",
        "vectorized_add_100 = np.vectorize(add_100)\n",
        "\n",
        "# 행렬의 모든 원소에 함수를 적용합니다.\n",
        "vectorized_add_100(matrix)"
      ]
    },
    {
      "cell_type": "code",
      "execution_count": 44,
      "metadata": {
        "id": "P04ds_S3WgBj",
        "outputId": "164844cc-aa82-473c-8baa-c2bbd3c79433",
        "colab": {
          "base_uri": "https://localhost:8080/"
        }
      },
      "outputs": [
        {
          "output_type": "execute_result",
          "data": {
            "text/plain": [
              "array([[101, 102, 103],\n",
              "       [104, 105, 106],\n",
              "       [107, 108, 109]])"
            ]
          },
          "metadata": {},
          "execution_count": 44
        }
      ],
      "source": [
        "# 모든 원소에 100을 더합니다.\n",
        "matrix + 100"
      ]
    },
    {
      "cell_type": "markdown",
      "metadata": {
        "id": "6qamaY7JWgCS"
      },
      "source": [
        "### 덧붙임"
      ]
    },
    {
      "cell_type": "code",
      "execution_count": 45,
      "metadata": {
        "id": "UIIKSalZWgCS",
        "outputId": "32a08cab-22ea-48ac-fb91-c98e6a998ec0",
        "colab": {
          "base_uri": "https://localhost:8080/"
        }
      },
      "outputs": [
        {
          "output_type": "execute_result",
          "data": {
            "text/plain": [
              "array([[101, 102, 103],\n",
              "       [104, 105, 106],\n",
              "       [107, 108, 109]])"
            ]
          },
          "metadata": {},
          "execution_count": 45
        }
      ],
      "source": [
        "# (3, 3) 크기 행렬에 (3, ) 벡터를 더하면\n",
        "# (1, 3) 크기가 된다음 행을 따라 반복됩니다.\n",
        "matrix + [100, 100, 100]"
      ]
    },
    {
      "cell_type": "code",
      "execution_count": 46,
      "metadata": {
        "id": "4KSENyStWgCT",
        "outputId": "c1187451-8446-4867-f521-6f577d488d24",
        "colab": {
          "base_uri": "https://localhost:8080/"
        }
      },
      "outputs": [
        {
          "output_type": "execute_result",
          "data": {
            "text/plain": [
              "array([[101, 102, 103],\n",
              "       [104, 105, 106],\n",
              "       [107, 108, 109]])"
            ]
          },
          "metadata": {},
          "execution_count": 46
        }
      ],
      "source": [
        "# (3, 3) 크기 행렬에 (3, 1) 벡터를 더하면 열을 따라 반복됩니다.\n",
        "matrix + [[100], [100], [100]]"
      ]
    },
    {
      "cell_type": "markdown",
      "metadata": {
        "id": "VdTMrxSKWgCT"
      },
      "source": [
        "## 1.8 최댓값, 최솟값 찾기"
      ]
    },
    {
      "cell_type": "code",
      "execution_count": 47,
      "metadata": {
        "id": "8YwCGnHGWgCW",
        "outputId": "ea4017bc-0b5a-4e00-e6de-ac1a1b480a36",
        "colab": {
          "base_uri": "https://localhost:8080/"
        }
      },
      "outputs": [
        {
          "output_type": "execute_result",
          "data": {
            "text/plain": [
              "9"
            ]
          },
          "metadata": {},
          "execution_count": 47
        }
      ],
      "source": [
        "# 라이브러리를 임포트합니다.\n",
        "import numpy as np\n",
        "\n",
        "# 행렬을 만듭니다.\n",
        "matrix = np.array([[1, 2, 3],\n",
        "                   [4, 5, 6],\n",
        "                   [7, 8, 9]])\n",
        "\n",
        "# 가장 큰 원소를 반환합니다.\n",
        "np.max(matrix)"
      ]
    },
    {
      "cell_type": "code",
      "execution_count": 48,
      "metadata": {
        "id": "Ox4X6WANWgCX",
        "outputId": "36cef7e0-842e-458f-d921-95df5eb0b951",
        "colab": {
          "base_uri": "https://localhost:8080/"
        }
      },
      "outputs": [
        {
          "output_type": "execute_result",
          "data": {
            "text/plain": [
              "1"
            ]
          },
          "metadata": {},
          "execution_count": 48
        }
      ],
      "source": [
        "# 가장 작은 원소를 반환합니다.\n",
        "np.min(matrix)"
      ]
    },
    {
      "cell_type": "code",
      "execution_count": 49,
      "metadata": {
        "id": "yotNcSYhWgCY",
        "outputId": "0b645915-0624-4801-bab7-b89a1a755b26",
        "colab": {
          "base_uri": "https://localhost:8080/"
        }
      },
      "outputs": [
        {
          "output_type": "execute_result",
          "data": {
            "text/plain": [
              "array([7, 8, 9])"
            ]
          },
          "metadata": {},
          "execution_count": 49
        }
      ],
      "source": [
        "# 각 열에서 최댓값을 찾습니다.\n",
        "np.max(matrix, axis=0)"
      ]
    },
    {
      "cell_type": "code",
      "execution_count": 50,
      "metadata": {
        "id": "WFuN-oXdWgCY",
        "outputId": "c70fedea-703b-4314-8e0a-77f7e7c6e997",
        "colab": {
          "base_uri": "https://localhost:8080/"
        }
      },
      "outputs": [
        {
          "output_type": "execute_result",
          "data": {
            "text/plain": [
              "array([3, 6, 9])"
            ]
          },
          "metadata": {},
          "execution_count": 50
        }
      ],
      "source": [
        "# 각 행에서 최댓값을 찾습니다.\n",
        "np.max(matrix, axis=1)"
      ]
    },
    {
      "cell_type": "markdown",
      "metadata": {
        "id": "KonKBix9WgCY"
      },
      "source": [
        "### 덧붙임"
      ]
    },
    {
      "cell_type": "code",
      "execution_count": 51,
      "metadata": {
        "id": "_UyPLRK7WgCY",
        "outputId": "69104750-66b3-4cfb-afbe-f4a77dc9c100",
        "colab": {
          "base_uri": "https://localhost:8080/"
        }
      },
      "outputs": [
        {
          "output_type": "execute_result",
          "data": {
            "text/plain": [
              "array([[3],\n",
              "       [6],\n",
              "       [9]])"
            ]
          },
          "metadata": {},
          "execution_count": 51
        }
      ],
      "source": [
        "# 이전 예와 달리 (3, 1) 크기의 열 벡터가 만들어 집니다.\n",
        "vector_column = np.max(matrix, axis=1, keepdims=True)\n",
        "\n",
        "vector_column"
      ]
    },
    {
      "cell_type": "code",
      "execution_count": 52,
      "metadata": {
        "id": "-2FhPB3hWgCZ",
        "outputId": "246b4418-df77-48b8-96e1-3caefa180960",
        "colab": {
          "base_uri": "https://localhost:8080/"
        }
      },
      "outputs": [
        {
          "output_type": "execute_result",
          "data": {
            "text/plain": [
              "array([[-2, -1,  0],\n",
              "       [-2, -1,  0],\n",
              "       [-2, -1,  0]])"
            ]
          },
          "metadata": {},
          "execution_count": 52
        }
      ],
      "source": [
        "# 열 벡터이므로 브로드캐스팅을 이용하여 각 행의 최댓값을 뺄 수 있습니다.\n",
        "matrix - vector_column"
      ]
    },
    {
      "cell_type": "markdown",
      "metadata": {
        "id": "enhLh-33WgCZ"
      },
      "source": [
        "## 1.9 평균, 분산, 표준 편차 계산하기"
      ]
    },
    {
      "cell_type": "code",
      "execution_count": 53,
      "metadata": {
        "id": "TRtIyu0wWgCZ",
        "outputId": "93d0bba3-3411-4bb8-b4e0-b1a994309938",
        "colab": {
          "base_uri": "https://localhost:8080/"
        }
      },
      "outputs": [
        {
          "output_type": "execute_result",
          "data": {
            "text/plain": [
              "5.0"
            ]
          },
          "metadata": {},
          "execution_count": 53
        }
      ],
      "source": [
        "# 라이브러리를 임포트합니다.\n",
        "import numpy as np\n",
        "\n",
        "# 행렬을 만듭니다.\n",
        "matrix = np.array([[1, 2, 3],\n",
        "                   [4, 5, 6],\n",
        "                   [7, 8, 9]])\n",
        "\n",
        "# 평균을 반환합니다.\n",
        "np.mean(matrix)"
      ]
    },
    {
      "cell_type": "code",
      "execution_count": 54,
      "metadata": {
        "id": "kvCU-3xjWgCa",
        "outputId": "69b570e8-16d0-45b0-a1d0-e0f16f4cf6f6",
        "colab": {
          "base_uri": "https://localhost:8080/"
        }
      },
      "outputs": [
        {
          "output_type": "execute_result",
          "data": {
            "text/plain": [
              "6.666666666666667"
            ]
          },
          "metadata": {},
          "execution_count": 54
        }
      ],
      "source": [
        "# 분산을 반환합니다.\n",
        "np.var(matrix)"
      ]
    },
    {
      "cell_type": "code",
      "execution_count": 55,
      "metadata": {
        "id": "LF2Vqr42WgCa",
        "outputId": "a56df4fd-5cb4-4d07-9ec6-f6b40e97d73a",
        "colab": {
          "base_uri": "https://localhost:8080/"
        }
      },
      "outputs": [
        {
          "output_type": "execute_result",
          "data": {
            "text/plain": [
              "2.581988897471611"
            ]
          },
          "metadata": {},
          "execution_count": 55
        }
      ],
      "source": [
        "# 표준 편차를 반환합니다.\n",
        "np.std(matrix)"
      ]
    },
    {
      "cell_type": "code",
      "execution_count": 56,
      "metadata": {
        "id": "B5r6wJl5WgCa",
        "outputId": "3eaa4759-a980-4935-a0d6-e6d73626f055",
        "colab": {
          "base_uri": "https://localhost:8080/"
        }
      },
      "outputs": [
        {
          "output_type": "execute_result",
          "data": {
            "text/plain": [
              "array([4., 5., 6.])"
            ]
          },
          "metadata": {},
          "execution_count": 56
        }
      ],
      "source": [
        "# 각 열의 평균을 계산합니다.\n",
        "np.mean(matrix, axis=0)"
      ]
    },
    {
      "cell_type": "markdown",
      "metadata": {
        "id": "OJI8qM2EWgCb"
      },
      "source": [
        "### 덧붙임"
      ]
    },
    {
      "cell_type": "code",
      "execution_count": 57,
      "metadata": {
        "id": "r1aCY2IJWgCb",
        "outputId": "31b1e6d7-d9c7-4384-a3b6-28d106f5ee99",
        "colab": {
          "base_uri": "https://localhost:8080/"
        }
      },
      "outputs": [
        {
          "output_type": "execute_result",
          "data": {
            "text/plain": [
              "2.7386127875258306"
            ]
          },
          "metadata": {},
          "execution_count": 57
        }
      ],
      "source": [
        "np.std(matrix, ddof=1)"
      ]
    },
    {
      "cell_type": "code",
      "execution_count": 58,
      "metadata": {
        "id": "HQtcLx86WgCb",
        "outputId": "cf468434-a9f3-4319-ab30-b50e17677a9e",
        "colab": {
          "base_uri": "https://localhost:8080/"
        }
      },
      "outputs": [
        {
          "output_type": "execute_result",
          "data": {
            "text/plain": [
              "0    2.738613\n",
              "dtype: float64"
            ]
          },
          "metadata": {},
          "execution_count": 58
        }
      ],
      "source": [
        "import pandas as pd\n",
        "\n",
        "df = pd.DataFrame(matrix.flatten())\n",
        "df.std()"
      ]
    },
    {
      "cell_type": "markdown",
      "metadata": {
        "id": "67Ph8S3IWgCc"
      },
      "source": [
        "## 1.10 배열 크기 바꾸기"
      ]
    },
    {
      "cell_type": "code",
      "execution_count": 59,
      "metadata": {
        "id": "Csh3IQ9_WgCc",
        "outputId": "4a4c88cf-6a42-4346-955e-40c95aa9d72c",
        "colab": {
          "base_uri": "https://localhost:8080/"
        }
      },
      "outputs": [
        {
          "output_type": "execute_result",
          "data": {
            "text/plain": [
              "array([[ 1,  2,  3,  4,  5,  6],\n",
              "       [ 7,  8,  9, 10, 11, 12]])"
            ]
          },
          "metadata": {},
          "execution_count": 59
        }
      ],
      "source": [
        "# 라이브러리를 임포트합니다.\n",
        "import numpy as np\n",
        "\n",
        "# 4x3 행렬을 만듭니다.\n",
        "matrix = np.array([[1, 2, 3],\n",
        "                   [4, 5, 6],\n",
        "                   [7, 8, 9],\n",
        "                   [10, 11, 12]])\n",
        "\n",
        "# 2x6 행렬로 크기를 바꿉니다.\n",
        "matrix.reshape(2, 6)"
      ]
    },
    {
      "cell_type": "code",
      "execution_count": 60,
      "metadata": {
        "id": "mUYZDAtTWgCc",
        "outputId": "d7c36aa0-45b1-4ec3-8eaa-bdf884ea0e8e",
        "colab": {
          "base_uri": "https://localhost:8080/"
        }
      },
      "outputs": [
        {
          "output_type": "execute_result",
          "data": {
            "text/plain": [
              "12"
            ]
          },
          "metadata": {},
          "execution_count": 60
        }
      ],
      "source": [
        "matrix.size"
      ]
    },
    {
      "cell_type": "code",
      "execution_count": 61,
      "metadata": {
        "id": "lIFwgE06WgCd",
        "outputId": "a9815fc0-741f-4024-cab6-79c713a67a97",
        "colab": {
          "base_uri": "https://localhost:8080/"
        }
      },
      "outputs": [
        {
          "output_type": "execute_result",
          "data": {
            "text/plain": [
              "array([[ 1,  2,  3,  4,  5,  6,  7,  8,  9, 10, 11, 12]])"
            ]
          },
          "metadata": {},
          "execution_count": 61
        }
      ],
      "source": [
        "matrix.reshape(1, -1)"
      ]
    },
    {
      "cell_type": "code",
      "execution_count": 62,
      "metadata": {
        "id": "1QKNpeUNWgDr",
        "outputId": "ea081135-5ce1-45ea-e4b2-7e5d1583c236",
        "colab": {
          "base_uri": "https://localhost:8080/"
        }
      },
      "outputs": [
        {
          "output_type": "execute_result",
          "data": {
            "text/plain": [
              "array([ 1,  2,  3,  4,  5,  6,  7,  8,  9, 10, 11, 12])"
            ]
          },
          "metadata": {},
          "execution_count": 62
        }
      ],
      "source": [
        "matrix.reshape(12)"
      ]
    },
    {
      "cell_type": "markdown",
      "metadata": {
        "id": "jNP0K0qlWgDy"
      },
      "source": [
        "### 덧붙임"
      ]
    },
    {
      "cell_type": "code",
      "execution_count": 63,
      "metadata": {
        "id": "pVudsXMWWgDz",
        "outputId": "64d74502-9c47-40e0-b40d-002fbdb385fb",
        "colab": {
          "base_uri": "https://localhost:8080/"
        }
      },
      "outputs": [
        {
          "output_type": "execute_result",
          "data": {
            "text/plain": [
              "array([ 1,  2,  3,  4,  5,  6,  7,  8,  9, 10, 11, 12])"
            ]
          },
          "metadata": {},
          "execution_count": 63
        }
      ],
      "source": [
        "matrix.reshape(-1)"
      ]
    },
    {
      "cell_type": "code",
      "execution_count": 64,
      "metadata": {
        "id": "H_ZotaBfWgDz",
        "outputId": "739a9aef-545a-4fbf-e852-3cc3560cffb9",
        "colab": {
          "base_uri": "https://localhost:8080/"
        }
      },
      "outputs": [
        {
          "output_type": "execute_result",
          "data": {
            "text/plain": [
              "array([ 1,  2,  3,  4,  5,  6,  7,  8,  9, 10, 11, 12])"
            ]
          },
          "metadata": {},
          "execution_count": 64
        }
      ],
      "source": [
        "matrix.ravel()"
      ]
    },
    {
      "cell_type": "markdown",
      "metadata": {
        "id": "iazoezq5WgD0"
      },
      "source": [
        "## 1.11 벡터나 행렬을 전치하기"
      ]
    },
    {
      "cell_type": "code",
      "execution_count": 65,
      "metadata": {
        "id": "O9Ma1y7zWgD3",
        "outputId": "41950fda-f9d6-4bbc-819b-87114bf782c8",
        "colab": {
          "base_uri": "https://localhost:8080/"
        }
      },
      "outputs": [
        {
          "output_type": "execute_result",
          "data": {
            "text/plain": [
              "array([[1, 4, 7],\n",
              "       [2, 5, 8],\n",
              "       [3, 6, 9]])"
            ]
          },
          "metadata": {},
          "execution_count": 65
        }
      ],
      "source": [
        "# 라이브러리를 임포트합니다.\n",
        "import numpy as np\n",
        "\n",
        "# 행렬을 만듭니다.\n",
        "matrix = np.array([[1, 2, 3],\n",
        "                   [4, 5, 6],\n",
        "                   [7, 8, 9]])\n",
        "\n",
        "# 행렬을 전치합니다.\n",
        "matrix.T"
      ]
    },
    {
      "cell_type": "code",
      "execution_count": 66,
      "metadata": {
        "id": "nFoXuCL4WgD4",
        "outputId": "1031e885-1b9d-457c-ab7d-27770a6bd9ff",
        "colab": {
          "base_uri": "https://localhost:8080/"
        }
      },
      "outputs": [
        {
          "output_type": "execute_result",
          "data": {
            "text/plain": [
              "array([1, 2, 3, 4, 5, 6])"
            ]
          },
          "metadata": {},
          "execution_count": 66
        }
      ],
      "source": [
        "# 벡터를 전치합니다.\n",
        "np.array([1, 2, 3, 4, 5, 6]).T"
      ]
    },
    {
      "cell_type": "code",
      "execution_count": 67,
      "metadata": {
        "id": "-zL_A0WwWgD7",
        "outputId": "62786ae6-de71-4505-d97c-3778641b59d0",
        "colab": {
          "base_uri": "https://localhost:8080/"
        }
      },
      "outputs": [
        {
          "output_type": "execute_result",
          "data": {
            "text/plain": [
              "array([[1],\n",
              "       [2],\n",
              "       [3],\n",
              "       [4],\n",
              "       [5],\n",
              "       [6]])"
            ]
          },
          "metadata": {},
          "execution_count": 67
        }
      ],
      "source": [
        "# 행 벡터를 전치합니다.\n",
        "np.array([[1, 2, 3, 4, 5, 6]]).T"
      ]
    },
    {
      "cell_type": "markdown",
      "metadata": {
        "id": "NJaGpJpFWgD8"
      },
      "source": [
        "### 덧붙임"
      ]
    },
    {
      "cell_type": "code",
      "execution_count": 68,
      "metadata": {
        "id": "5B6RhaddWgEC",
        "outputId": "d1abf43a-3fd4-42bd-816a-f46556d6f2aa",
        "colab": {
          "base_uri": "https://localhost:8080/"
        }
      },
      "outputs": [
        {
          "output_type": "execute_result",
          "data": {
            "text/plain": [
              "array([[1, 4, 7],\n",
              "       [2, 5, 8],\n",
              "       [3, 6, 9]])"
            ]
          },
          "metadata": {},
          "execution_count": 68
        }
      ],
      "source": [
        "matrix.transpose()"
      ]
    },
    {
      "cell_type": "code",
      "execution_count": 69,
      "metadata": {
        "id": "RZ4pPVi3WgEC",
        "outputId": "d51bd7d4-7292-4b65-bc0a-4e914b057c15",
        "colab": {
          "base_uri": "https://localhost:8080/"
        }
      },
      "outputs": [
        {
          "output_type": "execute_result",
          "data": {
            "text/plain": [
              "array([[[ 1,  3,  5],\n",
              "        [ 2,  4,  6]],\n",
              "\n",
              "       [[ 7,  9, 11],\n",
              "        [ 8, 10, 12]]])"
            ]
          },
          "metadata": {},
          "execution_count": 69
        }
      ],
      "source": [
        "# 2x3x2 행렬을 만듭니다.\n",
        "matrix = np.array([[[ 1,  2],\n",
        "                    [ 3,  4],\n",
        "                    [ 5,  6]],\n",
        "\n",
        "                   [[ 7,  8],\n",
        "                    [ 9, 10],\n",
        "                    [11, 12]]])\n",
        "\n",
        "# 두 번째와 세 번째 차원을 바꾸어 2x2x3 행렬로 만듭니다.\n",
        "matrix.transpose((0, 2, 1))"
      ]
    },
    {
      "cell_type": "markdown",
      "metadata": {
        "id": "dzZYWXVdWgEN"
      },
      "source": [
        "## 1.12 행렬 펼치기"
      ]
    },
    {
      "cell_type": "code",
      "execution_count": 70,
      "metadata": {
        "id": "r5ey9U8NWgEO",
        "outputId": "578cd0a0-64f4-4830-a8be-589e9413915d",
        "colab": {
          "base_uri": "https://localhost:8080/"
        }
      },
      "outputs": [
        {
          "output_type": "execute_result",
          "data": {
            "text/plain": [
              "array([1, 2, 3, 4, 5, 6, 7, 8, 9])"
            ]
          },
          "metadata": {},
          "execution_count": 70
        }
      ],
      "source": [
        "# 라이브러리를 임포트합니다.\n",
        "import numpy as np\n",
        "\n",
        "# 행렬을 만듭니다.\n",
        "matrix = np.array([[1, 2, 3],\n",
        "                   [4, 5, 6],\n",
        "                   [7, 8, 9]])\n",
        "\n",
        "# 행렬을 펼칩니다.\n",
        "matrix.flatten()"
      ]
    },
    {
      "cell_type": "code",
      "execution_count": 71,
      "metadata": {
        "id": "32zvMH4mWgEO",
        "outputId": "adbeda69-993d-4011-d07d-f57512490ddb",
        "colab": {
          "base_uri": "https://localhost:8080/"
        }
      },
      "outputs": [
        {
          "output_type": "execute_result",
          "data": {
            "text/plain": [
              "array([[1, 2, 3, 4, 5, 6, 7, 8, 9]])"
            ]
          },
          "metadata": {},
          "execution_count": 71
        }
      ],
      "source": [
        "matrix.reshape(1, -1)"
      ]
    },
    {
      "cell_type": "markdown",
      "metadata": {
        "id": "NeE132mdWgEO"
      },
      "source": [
        "### 덧붙임"
      ]
    },
    {
      "cell_type": "code",
      "execution_count": 72,
      "metadata": {
        "id": "_q39Mt76WgEO",
        "outputId": "345cf39b-b28c-41f7-957c-7b0d061a9db2",
        "colab": {
          "base_uri": "https://localhost:8080/"
        }
      },
      "outputs": [
        {
          "output_type": "execute_result",
          "data": {
            "text/plain": [
              "array([-1,  2,  3,  4,  5,  6,  7,  8,  9])"
            ]
          },
          "metadata": {},
          "execution_count": 72
        }
      ],
      "source": [
        "vector_reshaped = matrix.reshape(-1)\n",
        "vector_flattened = matrix.flatten()\n",
        "\n",
        "# (0, 0) 위치의 원소를 바꿉니다.\n",
        "matrix[0][0] = -1\n",
        "\n",
        "# 배열의 뷰는 원본 배열의 변경 사항을 반영합니다.\n",
        "vector_reshaped"
      ]
    },
    {
      "cell_type": "code",
      "execution_count": 73,
      "metadata": {
        "id": "fbnxJtb0WgEQ",
        "outputId": "9a995f52-abe6-4b85-e70b-56453e07173f",
        "colab": {
          "base_uri": "https://localhost:8080/"
        }
      },
      "outputs": [
        {
          "output_type": "execute_result",
          "data": {
            "text/plain": [
              "array([1, 2, 3, 4, 5, 6, 7, 8, 9])"
            ]
          },
          "metadata": {},
          "execution_count": 73
        }
      ],
      "source": [
        "# 복사된 배열에는 영향이 미치지 않습니다.\n",
        "vector_flattened"
      ]
    },
    {
      "cell_type": "markdown",
      "metadata": {
        "id": "C-k3HxaRWgEQ"
      },
      "source": [
        "## 1.13 행렬의 랭크 구하기"
      ]
    },
    {
      "cell_type": "code",
      "execution_count": 74,
      "metadata": {
        "id": "zP1iS8jdWgEQ",
        "outputId": "16883ff2-5991-4256-9a7d-590380113eb9",
        "colab": {
          "base_uri": "https://localhost:8080/"
        }
      },
      "outputs": [
        {
          "output_type": "execute_result",
          "data": {
            "text/plain": [
              "2"
            ]
          },
          "metadata": {},
          "execution_count": 74
        }
      ],
      "source": [
        "# 라이브러리를 임포트합니다.\n",
        "import numpy as np\n",
        "\n",
        "# 행렬을 만듭니다.\n",
        "matrix = np.array([[1, 1, 1],\n",
        "                   [1, 1, 10],\n",
        "                   [1, 1, 15]])\n",
        "\n",
        "# 행렬의 랭크를 반환합니다.\n",
        "np.linalg.matrix_rank(matrix)"
      ]
    },
    {
      "cell_type": "markdown",
      "metadata": {
        "id": "IDC5FiXDWgER"
      },
      "source": [
        "### 덧붙임"
      ]
    },
    {
      "cell_type": "markdown",
      "metadata": {
        "id": "RFg2Fxk6WgER"
      },
      "source": [
        "넘파이 0.18 버전에서 `rank()` 함수가 삭제되었습니다. 대신 `ndim()` 함수를 사용하세요."
      ]
    },
    {
      "cell_type": "code",
      "execution_count": 75,
      "metadata": {
        "scrolled": true,
        "id": "MkiLJcpJWgER",
        "outputId": "a6f4f36b-02c4-4d05-ae59-7bc0ae8eae74",
        "colab": {
          "base_uri": "https://localhost:8080/"
        }
      },
      "outputs": [
        {
          "output_type": "execute_result",
          "data": {
            "text/plain": [
              "2"
            ]
          },
          "metadata": {},
          "execution_count": 75
        }
      ],
      "source": [
        "# 2D 배열이므로 2가 반환됩니다.\n",
        "np.ndim(matrix)"
      ]
    },
    {
      "cell_type": "code",
      "execution_count": 76,
      "metadata": {
        "id": "N6RCD6KrWgEd",
        "outputId": "69d3149c-c098-4173-af1f-fa8319dba63a",
        "colab": {
          "base_uri": "https://localhost:8080/"
        }
      },
      "outputs": [
        {
          "output_type": "execute_result",
          "data": {
            "text/plain": [
              "2"
            ]
          },
          "metadata": {},
          "execution_count": 76
        }
      ],
      "source": [
        "# svd 함수로 특잇값만 계산합니다.\n",
        "s = np.linalg.svd(matrix, compute_uv=False)\n",
        "# 오차를 고려하여 0에 가까운 아주 작은 값을 지정합니다.\n",
        "np.sum(s > 1e-10)"
      ]
    },
    {
      "cell_type": "markdown",
      "metadata": {
        "id": "uX5-74RvWgEe"
      },
      "source": [
        "## 1.14 행렬의 대각 원소 추출하기"
      ]
    },
    {
      "cell_type": "code",
      "execution_count": 78,
      "metadata": {
        "id": "Kyn9cm_fWgEf",
        "outputId": "d57f31c0-b5c3-460f-b8a7-a6ea397ab7d9",
        "colab": {
          "base_uri": "https://localhost:8080/"
        }
      },
      "outputs": [
        {
          "output_type": "execute_result",
          "data": {
            "text/plain": [
              "array([1, 4, 9])"
            ]
          },
          "metadata": {},
          "execution_count": 78
        }
      ],
      "source": [
        "# 라이브러리를 임포트합니다.\n",
        "import numpy as np\n",
        "\n",
        "# 행렬을 만듭니다.\n",
        "matrix = np.array([[1, 2, 3],\n",
        "                   [2, 4, 6],\n",
        "                   [3, 8, 9]])\n",
        "\n",
        "# 대각 원소를 반환합니다.\n",
        "matrix.diagonal()"
      ]
    },
    {
      "cell_type": "markdown",
      "metadata": {
        "id": "XTZRpHHbWgEg"
      },
      "source": [
        "### 덧붙임"
      ]
    },
    {
      "cell_type": "code",
      "execution_count": 79,
      "metadata": {
        "id": "F_BFUQTNWgEg"
      },
      "outputs": [],
      "source": [
        "# 반환된 배열을 변경하려면 복사해야 합니다.\n",
        "a = matrix.diagonal().copy()"
      ]
    },
    {
      "cell_type": "code",
      "execution_count": 80,
      "metadata": {
        "id": "gHIKmTjpWgEg",
        "outputId": "1ee4bb43-084b-45c3-e090-2aabc78ff6e2",
        "colab": {
          "base_uri": "https://localhost:8080/"
        }
      },
      "outputs": [
        {
          "output_type": "stream",
          "name": "stdout",
          "text": [
            "[1 4 9]\n"
          ]
        }
      ],
      "source": [
        "a = np.diag(matrix)\n",
        "print(a)"
      ]
    },
    {
      "cell_type": "code",
      "execution_count": 81,
      "metadata": {
        "id": "iX8zzLVcWgEh",
        "outputId": "771276e2-27e5-4029-a82f-0c44bdb15fa1",
        "colab": {
          "base_uri": "https://localhost:8080/"
        }
      },
      "outputs": [
        {
          "output_type": "execute_result",
          "data": {
            "text/plain": [
              "array([[1, 0, 0],\n",
              "       [0, 4, 0],\n",
              "       [0, 0, 9]])"
            ]
          },
          "metadata": {},
          "execution_count": 81
        }
      ],
      "source": [
        "# 1차원 배열이 주어지면 2차원 대각행렬을 만듭니다.\n",
        "np.diag(a)"
      ]
    },
    {
      "cell_type": "markdown",
      "metadata": {
        "id": "rCXtVU5jWgEh"
      },
      "source": [
        "## 1.15 행렬의 대각합 계산하기"
      ]
    },
    {
      "cell_type": "code",
      "execution_count": 82,
      "metadata": {
        "id": "PuJ_e5V3WgEh",
        "outputId": "237ebca7-c040-43ea-a449-21db43fabea2",
        "colab": {
          "base_uri": "https://localhost:8080/"
        }
      },
      "outputs": [
        {
          "output_type": "execute_result",
          "data": {
            "text/plain": [
              "14"
            ]
          },
          "metadata": {},
          "execution_count": 82
        }
      ],
      "source": [
        "# 라이브러리를 임포트합니다.\n",
        "import numpy as np\n",
        "\n",
        "# 행렬을 만듭니다.\n",
        "matrix = np.array([[1, 2, 3],\n",
        "                   [2, 4, 6],\n",
        "                   [3, 8, 9]])\n",
        "\n",
        "# 대각합을 반환합니다.\n",
        "matrix.trace()"
      ]
    },
    {
      "cell_type": "code",
      "execution_count": 83,
      "metadata": {
        "id": "f1IDPWftWgEi",
        "outputId": "8d3cbc83-fa76-4f7e-9659-96bbd5a14083",
        "colab": {
          "base_uri": "https://localhost:8080/"
        }
      },
      "outputs": [
        {
          "output_type": "execute_result",
          "data": {
            "text/plain": [
              "14"
            ]
          },
          "metadata": {},
          "execution_count": 83
        }
      ],
      "source": [
        "# 대각 원소를 사용하여 합을 구합니다.\n",
        "sum(matrix.diagonal())"
      ]
    },
    {
      "cell_type": "markdown",
      "metadata": {
        "id": "4_xn_m_pWgEi"
      },
      "source": [
        "### 덧붙임"
      ]
    },
    {
      "cell_type": "code",
      "execution_count": 84,
      "metadata": {
        "id": "rRuWrypwWgEi",
        "outputId": "18691f25-91d6-4c18-a8fa-26d0562d560c",
        "colab": {
          "base_uri": "https://localhost:8080/"
        }
      },
      "outputs": [
        {
          "output_type": "execute_result",
          "data": {
            "text/plain": [
              "8"
            ]
          },
          "metadata": {},
          "execution_count": 84
        }
      ],
      "source": [
        "# 주 대각선 하나 위의 대각 원소의 합을 반환합니다.\n",
        "matrix.trace(offset=1)"
      ]
    },
    {
      "cell_type": "code",
      "execution_count": 85,
      "metadata": {
        "id": "uc16_x8nWgEj",
        "outputId": "fe5c3acd-a249-4865-f515-a4dbc4f2a80a",
        "colab": {
          "base_uri": "https://localhost:8080/"
        }
      },
      "outputs": [
        {
          "output_type": "execute_result",
          "data": {
            "text/plain": [
              "10"
            ]
          },
          "metadata": {},
          "execution_count": 85
        }
      ],
      "source": [
        "# 주 대각선 하나 아래의 대각 원소의 합을 반환합니다.\n",
        "matrix.trace(offset=-1)"
      ]
    },
    {
      "cell_type": "markdown",
      "metadata": {
        "id": "Za7VLQkAWgEn"
      },
      "source": [
        "## 1.16 점곱 계산"
      ]
    },
    {
      "cell_type": "code",
      "execution_count": 89,
      "metadata": {
        "id": "D_apluLiWgEo",
        "outputId": "dc0334e5-45db-4237-a0b2-0dff5ac56816",
        "colab": {
          "base_uri": "https://localhost:8080/"
        }
      },
      "outputs": [
        {
          "output_type": "execute_result",
          "data": {
            "text/plain": [
              "32"
            ]
          },
          "metadata": {},
          "execution_count": 89
        }
      ],
      "source": [
        "# 라이브러리를 임포트합니다.\n",
        "import numpy as np\n",
        "\n",
        "# 두 벡터를 만듭니다.\n",
        "vector_a = np.array([1,2,3])\n",
        "vector_b = np.array([4,5,6])\n",
        "\n",
        "# 점곱을 계산합니다.\n",
        "np.dot(vector_a, vector_b)"
      ]
    },
    {
      "cell_type": "markdown",
      "metadata": {
        "id": "ldtBP-E1WgEo"
      },
      "source": [
        "### 덧붙임"
      ]
    },
    {
      "cell_type": "code",
      "execution_count": 90,
      "metadata": {
        "id": "i67SefXLWgEo"
      },
      "outputs": [],
      "source": [
        "scalar_a = np.array(1)\n",
        "scalar_b = np.array(2)"
      ]
    },
    {
      "cell_type": "code",
      "execution_count": 91,
      "metadata": {
        "id": "itUw0t37WgGY",
        "outputId": "7f9a901b-9ad2-4a5a-d0e2-c8307168076b",
        "colab": {
          "base_uri": "https://localhost:8080/"
        }
      },
      "outputs": [
        {
          "output_type": "execute_result",
          "data": {
            "text/plain": [
              "2"
            ]
          },
          "metadata": {},
          "execution_count": 91
        }
      ],
      "source": [
        "np.dot(scalar_a, scalar_b)"
      ]
    },
    {
      "cell_type": "code",
      "execution_count": 92,
      "metadata": {
        "id": "6dzbr1ghWgGY",
        "outputId": "500fc739-ae02-4db5-c1f6-278b722954a4",
        "colab": {
          "base_uri": "https://localhost:8080/",
          "height": 162
        }
      },
      "outputs": [
        {
          "output_type": "error",
          "ename": "ValueError",
          "evalue": "matmul: Input operand 0 does not have enough dimensions (has 0, gufunc core with signature (n?,k),(k,m?)->(n?,m?) requires 1)",
          "traceback": [
            "\u001b[0;31m---------------------------------------------------------------------------\u001b[0m",
            "\u001b[0;31mValueError\u001b[0m                                Traceback (most recent call last)",
            "\u001b[0;32m<ipython-input-92-36d968e1a1af>\u001b[0m in \u001b[0;36m<cell line: 2>\u001b[0;34m()\u001b[0m\n\u001b[1;32m      1\u001b[0m \u001b[0;31m# 스칼라 배열에 적용되지 않습니다.\u001b[0m\u001b[0;34m\u001b[0m\u001b[0;34m\u001b[0m\u001b[0m\n\u001b[0;32m----> 2\u001b[0;31m \u001b[0mscalar_a\u001b[0m \u001b[0;34m@\u001b[0m \u001b[0mscalar_b\u001b[0m\u001b[0;34m\u001b[0m\u001b[0;34m\u001b[0m\u001b[0m\n\u001b[0m",
            "\u001b[0;31mValueError\u001b[0m: matmul: Input operand 0 does not have enough dimensions (has 0, gufunc core with signature (n?,k),(k,m?)->(n?,m?) requires 1)"
          ]
        }
      ],
      "source": [
        "# 스칼라 배열에 적용되지 않습니다.\n",
        "scalar_a @ scalar_b"
      ]
    },
    {
      "cell_type": "markdown",
      "metadata": {
        "id": "Qdf1NtUCWgGe"
      },
      "source": [
        "## 1.17 행렬 덧셈과 뺄셈"
      ]
    },
    {
      "cell_type": "code",
      "execution_count": 93,
      "metadata": {
        "id": "Y8RcWjrRWgGe",
        "outputId": "12d6b61e-6dbb-4a2b-8a06-cebaeb25fd9d",
        "colab": {
          "base_uri": "https://localhost:8080/"
        }
      },
      "outputs": [
        {
          "output_type": "execute_result",
          "data": {
            "text/plain": [
              "array([[ 2,  4,  2],\n",
              "       [ 2,  4,  2],\n",
              "       [ 2,  4, 10]])"
            ]
          },
          "metadata": {},
          "execution_count": 93
        }
      ],
      "source": [
        "# 라이브러리를 임포트합니다.\n",
        "import numpy as np\n",
        "\n",
        "# 행렬을 만듭니다.\n",
        "matrix_a = np.array([[1, 1, 1],\n",
        "                     [1, 1, 1],\n",
        "                     [1, 1, 2]])\n",
        "\n",
        "# 행렬을 만듭니다.\n",
        "matrix_b = np.array([[1, 3, 1],\n",
        "                     [1, 3, 1],\n",
        "                     [1, 3, 8]])\n",
        "\n",
        "# 두 행렬을 더합니다.\n",
        "np.add(matrix_a, matrix_b)"
      ]
    },
    {
      "cell_type": "code",
      "execution_count": 94,
      "metadata": {
        "id": "VDIWHzUgWgGf",
        "outputId": "2399f6df-2b4b-429f-876f-47681e5f2979",
        "colab": {
          "base_uri": "https://localhost:8080/"
        }
      },
      "outputs": [
        {
          "output_type": "execute_result",
          "data": {
            "text/plain": [
              "array([[ 0, -2,  0],\n",
              "       [ 0, -2,  0],\n",
              "       [ 0, -2, -6]])"
            ]
          },
          "metadata": {},
          "execution_count": 94
        }
      ],
      "source": [
        "# 두 행렬을 뺍니다.\n",
        "np.subtract(matrix_a, matrix_b)"
      ]
    },
    {
      "cell_type": "code",
      "execution_count": 95,
      "metadata": {
        "id": "66fxWQACWgGh",
        "outputId": "108225e8-3957-4e93-e1ee-4608a9c55176",
        "colab": {
          "base_uri": "https://localhost:8080/"
        }
      },
      "outputs": [
        {
          "output_type": "execute_result",
          "data": {
            "text/plain": [
              "array([[ 2,  4,  2],\n",
              "       [ 2,  4,  2],\n",
              "       [ 2,  4, 10]])"
            ]
          },
          "metadata": {},
          "execution_count": 95
        }
      ],
      "source": [
        "# 두 행렬을 더합니다.\n",
        "matrix_a + matrix_b"
      ]
    },
    {
      "cell_type": "markdown",
      "metadata": {
        "id": "kE1bHhWZWgGh"
      },
      "source": [
        "## 1.18 행렬 곱셈"
      ]
    },
    {
      "cell_type": "code",
      "execution_count": 96,
      "metadata": {
        "id": "xdS2Q1TlWgGh",
        "outputId": "863a4212-ae3e-405b-a80e-ad76c9e1b6fb",
        "colab": {
          "base_uri": "https://localhost:8080/"
        }
      },
      "outputs": [
        {
          "output_type": "execute_result",
          "data": {
            "text/plain": [
              "array([[2, 5],\n",
              "       [3, 7]])"
            ]
          },
          "metadata": {},
          "execution_count": 96
        }
      ],
      "source": [
        "# 라이브러리를 임포트합니다.\n",
        "import numpy as np\n",
        "\n",
        "# 행렬을 만듭니다.\n",
        "matrix_a = np.array([[1, 1],\n",
        "                     [1, 2]])\n",
        "\n",
        "# 행렬을 만듭니다.\n",
        "matrix_b = np.array([[1, 3],\n",
        "                     [1, 2]])\n",
        "\n",
        "# 두 행렬을 곱합니다.\n",
        "np.dot(matrix_a, matrix_b)"
      ]
    },
    {
      "cell_type": "code",
      "execution_count": 97,
      "metadata": {
        "id": "BONWNRXNWgGi",
        "outputId": "1488222e-b32f-4625-a3cb-d8928c5e7b3e",
        "colab": {
          "base_uri": "https://localhost:8080/"
        }
      },
      "outputs": [
        {
          "output_type": "execute_result",
          "data": {
            "text/plain": [
              "array([[2, 5],\n",
              "       [3, 7]])"
            ]
          },
          "metadata": {},
          "execution_count": 97
        }
      ],
      "source": [
        "# 두 행렬을 곱합니다.\n",
        "matrix_a @ matrix_b"
      ]
    },
    {
      "cell_type": "code",
      "execution_count": 98,
      "metadata": {
        "id": "nMQ2g_3IWgGi",
        "outputId": "365cc50b-d5fe-48e7-b451-6d12f0857669",
        "colab": {
          "base_uri": "https://localhost:8080/"
        }
      },
      "outputs": [
        {
          "output_type": "execute_result",
          "data": {
            "text/plain": [
              "array([[1, 3],\n",
              "       [1, 4]])"
            ]
          },
          "metadata": {},
          "execution_count": 98
        }
      ],
      "source": [
        "# 두 행렬의 원소별 곱셈을 수행합니다.\n",
        "matrix_a * matrix_b"
      ]
    },
    {
      "cell_type": "markdown",
      "metadata": {
        "id": "ioiNsIWnWgGi"
      },
      "source": [
        "### 덧붙임"
      ]
    },
    {
      "cell_type": "code",
      "execution_count": 99,
      "metadata": {
        "id": "HXu5BqlYWgGi",
        "outputId": "6760810d-a6f3-4bb6-e368-897d992df168",
        "colab": {
          "base_uri": "https://localhost:8080/"
        }
      },
      "outputs": [
        {
          "output_type": "execute_result",
          "data": {
            "text/plain": [
              "(2, 1, 4, 1, 3, 6)"
            ]
          },
          "metadata": {},
          "execution_count": 99
        }
      ],
      "source": [
        "a = np.random.rand(2, 1, 4, 5)\n",
        "b = np.random.rand(1, 3, 5, 6)\n",
        "\n",
        "np.dot(a, b).shape"
      ]
    },
    {
      "cell_type": "code",
      "execution_count": 100,
      "metadata": {
        "id": "6k5k0GiJWgGi",
        "outputId": "144b40a6-b5fa-477f-8742-3f714f485238",
        "colab": {
          "base_uri": "https://localhost:8080/"
        }
      },
      "outputs": [
        {
          "output_type": "execute_result",
          "data": {
            "text/plain": [
              "(2, 3, 4, 6)"
            ]
          },
          "metadata": {},
          "execution_count": 100
        }
      ],
      "source": [
        "np.matmul(a, b).shape"
      ]
    },
    {
      "cell_type": "markdown",
      "metadata": {
        "id": "Xm9E_r_2WgGj"
      },
      "source": [
        "## 1.19 역행렬"
      ]
    },
    {
      "cell_type": "code",
      "execution_count": 101,
      "metadata": {
        "id": "iYjZ-Kd3WgGj",
        "outputId": "b30221ad-596f-49eb-805f-876cb6ffb242",
        "colab": {
          "base_uri": "https://localhost:8080/"
        }
      },
      "outputs": [
        {
          "output_type": "execute_result",
          "data": {
            "text/plain": [
              "array([[-1.66666667,  1.33333333],\n",
              "       [ 0.66666667, -0.33333333]])"
            ]
          },
          "metadata": {},
          "execution_count": 101
        }
      ],
      "source": [
        "# 라이브러리를 임포트합니다.\n",
        "import numpy as np\n",
        "\n",
        "# 행렬을 만듭니다.\n",
        "matrix = np.array([[1, 4],\n",
        "                   [2, 5]])\n",
        "\n",
        "# 역행렬을 계산합니다.\n",
        "np.linalg.inv(matrix)"
      ]
    },
    {
      "cell_type": "code",
      "execution_count": 102,
      "metadata": {
        "id": "Hc-nYWJwWgGj",
        "outputId": "85d34176-bd04-43d1-e049-c06aa2fed19e",
        "colab": {
          "base_uri": "https://localhost:8080/"
        }
      },
      "outputs": [
        {
          "output_type": "execute_result",
          "data": {
            "text/plain": [
              "array([[1.00000000e+00, 0.00000000e+00],\n",
              "       [1.11022302e-16, 1.00000000e+00]])"
            ]
          },
          "metadata": {},
          "execution_count": 102
        }
      ],
      "source": [
        "# 행렬과 역행렬을 곱합니다.\n",
        "matrix @ np.linalg.inv(matrix)"
      ]
    },
    {
      "cell_type": "markdown",
      "metadata": {
        "id": "RP51Ja92WgGj"
      },
      "source": [
        "### 덧붙임"
      ]
    },
    {
      "cell_type": "code",
      "execution_count": 103,
      "metadata": {
        "id": "sjp4DwwxWgGk",
        "outputId": "8fc14f10-e9a7-42cc-9bf5-9454a77ca7a6",
        "colab": {
          "base_uri": "https://localhost:8080/"
        }
      },
      "outputs": [
        {
          "output_type": "execute_result",
          "data": {
            "text/plain": [
              "array([[-1.16666667,  1.        ],\n",
              "       [-0.33333333,  0.33333333],\n",
              "       [ 0.5       , -0.33333333]])"
            ]
          },
          "metadata": {},
          "execution_count": 103
        }
      ],
      "source": [
        "matrix = np.array([[1, 4, 7],\n",
        "                   [2, 5, 8]])\n",
        "\n",
        "# 유사 역행렬을 계산합니다.\n",
        "np.linalg.pinv(matrix)"
      ]
    },
    {
      "cell_type": "markdown",
      "metadata": {
        "id": "4syZTTKFWgGk"
      },
      "source": [
        "## 1.20 난수 생성"
      ]
    },
    {
      "cell_type": "code",
      "execution_count": 104,
      "metadata": {
        "id": "6RLwdjevWgGk",
        "outputId": "97a99099-8810-4837-dc63-8657b383e801",
        "colab": {
          "base_uri": "https://localhost:8080/"
        }
      },
      "outputs": [
        {
          "output_type": "execute_result",
          "data": {
            "text/plain": [
              "array([0.5488135 , 0.71518937, 0.60276338])"
            ]
          },
          "metadata": {},
          "execution_count": 104
        }
      ],
      "source": [
        "# 라이브러리를 임포트합니다.\n",
        "import numpy as np\n",
        "\n",
        "# 초깃값을 지정합니다.\n",
        "np.random.seed(0)\n",
        "\n",
        "# 0.0과 1.0 사이에서 세 개의 실수 난수를 생성합니다.\n",
        "np.random.random(3)"
      ]
    },
    {
      "cell_type": "code",
      "execution_count": 105,
      "metadata": {
        "id": "8lO68NM6WgGk",
        "outputId": "719124bf-4efd-408c-e317-3354c2ff21c1",
        "colab": {
          "base_uri": "https://localhost:8080/"
        }
      },
      "outputs": [
        {
          "output_type": "execute_result",
          "data": {
            "text/plain": [
              "array([3, 7, 9])"
            ]
          },
          "metadata": {},
          "execution_count": 105
        }
      ],
      "source": [
        "# 1과 10 사이에서 세 개의 정수 난수를 생성합니다.\n",
        "np.random.randint(0, 11, 3)"
      ]
    },
    {
      "cell_type": "code",
      "execution_count": 106,
      "metadata": {
        "id": "4xSd3XgbWgGl",
        "outputId": "c729ed15-777e-4b57-c7e0-5ef8114ebd72",
        "colab": {
          "base_uri": "https://localhost:8080/"
        }
      },
      "outputs": [
        {
          "output_type": "execute_result",
          "data": {
            "text/plain": [
              "array([-1.42232584,  1.52006949, -0.29139398])"
            ]
          },
          "metadata": {},
          "execution_count": 106
        }
      ],
      "source": [
        "# 평균이 0.0이고 표준 편차가 1.0인 정규 분포에서 세 개의 수를 뽑습니다.\n",
        "np.random.normal(0.0, 1.0, 3)"
      ]
    },
    {
      "cell_type": "code",
      "execution_count": 107,
      "metadata": {
        "id": "9dZ-GwytWgGl",
        "outputId": "fb7df53b-0fbf-46cb-e13c-5dcb0aab59d7",
        "colab": {
          "base_uri": "https://localhost:8080/"
        }
      },
      "outputs": [
        {
          "output_type": "execute_result",
          "data": {
            "text/plain": [
              "array([-0.98118713, -0.08939902,  1.46416405])"
            ]
          },
          "metadata": {},
          "execution_count": 107
        }
      ],
      "source": [
        "# 평균이 0.0이고 스케일이 1.0인 로지스틱 분포에서 세 개의 수를 뽑습니다.\n",
        "np.random.logistic(0.0, 1.0, 3)"
      ]
    },
    {
      "cell_type": "code",
      "execution_count": 108,
      "metadata": {
        "id": "iBa5PIzPWgGl",
        "outputId": "79a63c1d-a896-431d-f133-4474cbba2c2a",
        "colab": {
          "base_uri": "https://localhost:8080/"
        }
      },
      "outputs": [
        {
          "output_type": "execute_result",
          "data": {
            "text/plain": [
              "array([1.47997717, 1.3927848 , 1.83607876])"
            ]
          },
          "metadata": {},
          "execution_count": 108
        }
      ],
      "source": [
        "# 1.0보다 크거나 같고 2.0보다 작은 세 개의 수를 뽑습니다.\n",
        "np.random.uniform(1.0, 2.0, 3)"
      ]
    },
    {
      "cell_type": "markdown",
      "metadata": {
        "id": "39x_JDzDWgGm"
      },
      "source": [
        "### 덧붙임"
      ]
    },
    {
      "cell_type": "code",
      "execution_count": 109,
      "metadata": {
        "id": "ALE0Psf5WgGn",
        "outputId": "81ac3b53-1768-4990-9cc9-b3707151c299",
        "colab": {
          "base_uri": "https://localhost:8080/"
        }
      },
      "outputs": [
        {
          "output_type": "execute_result",
          "data": {
            "text/plain": [
              "array([[0.33739616, 0.64817187, 0.36824154],\n",
              "       [0.95715516, 0.14035078, 0.87008726]])"
            ]
          },
          "metadata": {},
          "execution_count": 109
        }
      ],
      "source": [
        "# 0.0(포함)과 1.0 사이에서 세 개의 실수 난수를 생성합니다.\n",
        "# np.random.random((2, 3)), np.random.sample((2, 3)),\n",
        "# np.random.uniform(0.0, 1.0, (2, 3))과 동일합니다.\n",
        "np.random.random_sample((2, 3))"
      ]
    },
    {
      "cell_type": "code",
      "execution_count": 110,
      "metadata": {
        "id": "tsFza7KyWgGo",
        "outputId": "fb89abcd-b109-489a-b2f9-103788717355",
        "colab": {
          "base_uri": "https://localhost:8080/"
        }
      },
      "outputs": [
        {
          "output_type": "execute_result",
          "data": {
            "text/plain": [
              "array([[0.47360805, 0.80091075, 0.52047748],\n",
              "       [0.67887953, 0.72063265, 0.58201979]])"
            ]
          },
          "metadata": {},
          "execution_count": 110
        }
      ],
      "source": [
        "# np.random.random_sample((2, 3))과 동일합니다.\n",
        "np.random.rand(2, 3)"
      ]
    },
    {
      "cell_type": "code",
      "execution_count": 111,
      "metadata": {
        "id": "AjP49JNoWgGo",
        "outputId": "ad4296da-51e8-4605-f363-22fea94a831d",
        "colab": {
          "base_uri": "https://localhost:8080/"
        }
      },
      "outputs": [
        {
          "output_type": "execute_result",
          "data": {
            "text/plain": [
              "array([0, 0, 0, 0, 0, 0, 0, 0, 0, 0])"
            ]
          },
          "metadata": {},
          "execution_count": 111
        }
      ],
      "source": [
        "np.random.randint(0, 1, 10)"
      ]
    },
    {
      "cell_type": "code",
      "execution_count": 112,
      "metadata": {
        "id": "ovYOA8ATWgGp",
        "outputId": "dc1c963f-413b-4107-b026-79d05a2f4e9c",
        "colab": {
          "base_uri": "https://localhost:8080/"
        }
      },
      "outputs": [
        {
          "output_type": "execute_result",
          "data": {
            "text/plain": [
              "array([[-0.13309028,  1.59456053,  0.23043417],\n",
              "       [-0.06491034, -0.96898025,  0.59124281]])"
            ]
          },
          "metadata": {},
          "execution_count": 112
        }
      ],
      "source": [
        "# np.random.normal(0.0, 1.0, (2, 3))과 동일합니다.\n",
        "np.random.standard_normal((2, 3))"
      ]
    },
    {
      "cell_type": "code",
      "execution_count": 113,
      "metadata": {
        "id": "IJMdtqI4WgGp",
        "outputId": "87284097-f3a2-4923-93ea-36101f1df824",
        "colab": {
          "base_uri": "https://localhost:8080/"
        }
      },
      "outputs": [
        {
          "output_type": "execute_result",
          "data": {
            "text/plain": [
              "array([[-0.7827755 , -0.44423283, -0.34518616],\n",
              "       [-0.88180055, -0.44265324, -0.5409163 ]])"
            ]
          },
          "metadata": {},
          "execution_count": 113
        }
      ],
      "source": [
        "# np.random.normal(0.0, 1.0, (2, 3))과 동일합니다.\n",
        "np.random.randn(2, 3)"
      ]
    },
    {
      "cell_type": "code",
      "execution_count": 114,
      "metadata": {
        "id": "akZvd4twWgGp",
        "outputId": "a3160597-4426-4ed6-e333-92e6160a2018",
        "colab": {
          "base_uri": "https://localhost:8080/"
        }
      },
      "outputs": [
        {
          "output_type": "execute_result",
          "data": {
            "text/plain": [
              "array([0, 1, 2, 2, 0])"
            ]
          },
          "metadata": {},
          "execution_count": 114
        }
      ],
      "source": [
        "# 0~2 사이의 정수 중 랜덤하게 10번을 뽑습니다.\n",
        "# np.random.choice(3, 5)와 동일합니다.\n",
        "np.random.choice([0,1,2], 5)"
      ]
    },
    {
      "cell_type": "code",
      "execution_count": 115,
      "metadata": {
        "id": "Es-HV09AWgGq",
        "outputId": "6d12fff7-234d-4942-dd2f-91f4763bc8d6",
        "colab": {
          "base_uri": "https://localhost:8080/"
        }
      },
      "outputs": [
        {
          "output_type": "execute_result",
          "data": {
            "text/plain": [
              "array([0, 2, 3, 4, 1])"
            ]
          },
          "metadata": {},
          "execution_count": 115
        }
      ],
      "source": [
        "a = np.array([0, 1, 2, 3, 4])\n",
        "np.random.shuffle(a)\n",
        "a"
      ]
    },
    {
      "cell_type": "code",
      "execution_count": 116,
      "metadata": {
        "id": "nIxTkUi-WgGq",
        "outputId": "e8235363-5f7c-47b0-879b-edbe28ac1e34",
        "colab": {
          "base_uri": "https://localhost:8080/"
        }
      },
      "outputs": [
        {
          "output_type": "execute_result",
          "data": {
            "text/plain": [
              "array([2, 0, 1, 3, 4])"
            ]
          },
          "metadata": {},
          "execution_count": 116
        }
      ],
      "source": [
        "# a는 변경되지 않습니다.\n",
        "np.random.permutation(a)"
      ]
    },
    {
      "cell_type": "code",
      "execution_count": 117,
      "metadata": {
        "id": "K8mXYXesWgGr",
        "outputId": "94fad862-87df-4421-e710-c61a0bfc5a47",
        "colab": {
          "base_uri": "https://localhost:8080/"
        }
      },
      "outputs": [
        {
          "output_type": "execute_result",
          "data": {
            "text/plain": [
              "array([4, 1, 2, 0, 3])"
            ]
          },
          "metadata": {},
          "execution_count": 117
        }
      ],
      "source": [
        "np.random.permutation(5)"
      ]
    }
  ],
  "metadata": {
    "kernelspec": {
      "display_name": "Python 3 (ipykernel)",
      "language": "python",
      "name": "python3"
    },
    "language_info": {
      "codemirror_mode": {
        "name": "ipython",
        "version": 3
      },
      "file_extension": ".py",
      "mimetype": "text/x-python",
      "name": "python",
      "nbconvert_exporter": "python",
      "pygments_lexer": "ipython3",
      "version": "3.10.13"
    },
    "colab": {
      "provenance": []
    }
  },
  "nbformat": 4,
  "nbformat_minor": 0
}