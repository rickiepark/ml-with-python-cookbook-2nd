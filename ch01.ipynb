{
  "cells": [
    {
      "cell_type": "markdown",
      "metadata": {
        "id": "_qjxo-BhWf7A"
      },
      "source": [
        "# 1장 벡터, 행렬, 배열"
      ]
    },
    {
      "cell_type": "markdown",
      "metadata": {
        "id": "F73rBlviWf79"
      },
      "source": [
        "<table align=\"left\"><tr><td>\n",
        "<a href=\"https://colab.research.google.com/github/rickiepark/ml-with-python-cookbook-2nd/blob/main/ch01.ipynb\" target=\"_parent\"><img src=\"https://colab.research.google.com/assets/colab-badge.svg\" alt=\"코랩에서 실행하기\"/></a>\n",
        "</td></tr></table>"
      ]
    },
    {
      "cell_type": "code",
      "execution_count": 1,
      "metadata": {
        "id": "w6RFCrtAWf7_",
        "outputId": "1b6abdad-c7c9-4c22-90f4-ddc78d806bff",
        "colab": {
          "base_uri": "https://localhost:8080/"
        }
      },
      "outputs": [
        {
          "output_type": "stream",
          "name": "stdout",
          "text": [
            "numpy 1.25.2\n",
            "pandas 1.5.3\n"
          ]
        }
      ],
      "source": [
        "import numpy as np\n",
        "import pandas as pd\n",
        "\n",
        "print('numpy', np.__version__)\n",
        "print('pandas', pd.__version__)"
      ]
    },
    {
      "cell_type": "markdown",
      "metadata": {
        "id": "jFRhh_LrWf8C"
      },
      "source": [
        "## 1.1 벡터 만들기"
      ]
    },
    {
      "cell_type": "code",
      "execution_count": 2,
      "metadata": {
        "id": "X6nx2RWtWf8C"
      },
      "outputs": [],
      "source": [
        "# 라이브러리를 임포트합니다.\n",
        "import numpy as np"
      ]
    },
    {
      "cell_type": "code",
      "execution_count": 3,
      "metadata": {
        "id": "LqCCpvDpWf8D"
      },
      "outputs": [],
      "source": [
        "# 하나의 행으로 벡터를 만듭니다.\n",
        "vector_row = np.array([1, 2, 3])"
      ]
    },
    {
      "cell_type": "code",
      "execution_count": 4,
      "metadata": {
        "id": "443ZLfVJWf93",
        "outputId": "2af4d3fa-9155-4860-8dae-59d31e7d30db",
        "colab": {
          "base_uri": "https://localhost:8080/"
        }
      },
      "outputs": [
        {
          "output_type": "execute_result",
          "data": {
            "text/plain": [
              "array([1, 2, 3])"
            ]
          },
          "metadata": {},
          "execution_count": 4
        }
      ],
      "source": [
        "vector_row"
      ]
    },
    {
      "cell_type": "code",
      "execution_count": 5,
      "metadata": {
        "id": "boc3x2NGWf97"
      },
      "outputs": [],
      "source": [
        "# 하나의 열로 벡터를 만듭니다.\n",
        "vector_column = np.array([[1],\n",
        "                          [2],\n",
        "                          [3]])"
      ]
    },
    {
      "cell_type": "code",
      "execution_count": 6,
      "metadata": {
        "id": "mkzfHoKVWf9-",
        "outputId": "acf4c682-3b86-4a1f-d3b3-aa3102a34396",
        "colab": {
          "base_uri": "https://localhost:8080/"
        }
      },
      "outputs": [
        {
          "output_type": "execute_result",
          "data": {
            "text/plain": [
              "array([[1],\n",
              "       [2],\n",
              "       [3]])"
            ]
          },
          "metadata": {},
          "execution_count": 6
        }
      ],
      "source": [
        "vector_column"
      ]
    },
    {
      "cell_type": "markdown",
      "metadata": {
        "id": "5IBMbk90Wf-D"
      },
      "source": [
        "### 덧붙임"
      ]
    },
    {
      "cell_type": "code",
      "execution_count": 7,
      "metadata": {
        "id": "ZspqZVIOWf-E",
        "outputId": "a3520bb0-2aa6-4add-c440-1188fca775cf",
        "colab": {
          "base_uri": "https://localhost:8080/"
        }
      },
      "outputs": [
        {
          "output_type": "stream",
          "name": "stdout",
          "text": [
            "<class 'numpy.ndarray'>\n"
          ]
        }
      ],
      "source": [
        "# 넘파이 배열의 클래스를 출력합니다.\n",
        "print(type(vector_row))"
      ]
    },
    {
      "cell_type": "code",
      "execution_count": 8,
      "metadata": {
        "id": "NqPEbgdGWf-F"
      },
      "outputs": [],
      "source": [
        "# ndarray를 사용하는 것은 권장되지 않습니다.\n",
        "bad_way = np.ndarray((3,))"
      ]
    },
    {
      "cell_type": "code",
      "execution_count": 9,
      "metadata": {
        "id": "aqX-AvATWf-G",
        "outputId": "1fc9fbff-703a-4539-df67-25ad3995a570",
        "colab": {
          "base_uri": "https://localhost:8080/"
        }
      },
      "outputs": [
        {
          "output_type": "execute_result",
          "data": {
            "text/plain": [
              "True"
            ]
          },
          "metadata": {},
          "execution_count": 9
        }
      ],
      "source": [
        "new_row = np.asarray([1, 2, 3])\n",
        "# asarray()는 새로운 배열을 만들지 않습니다.\n",
        "new_row = np.asarray(vector_row)\n",
        "new_row is vector_row"
      ]
    },
    {
      "cell_type": "code",
      "execution_count": 10,
      "metadata": {
        "id": "SinsCdb3Wf-G",
        "outputId": "cb08b0c8-41c3-4b8a-bbeb-dedd0ff938dd",
        "colab": {
          "base_uri": "https://localhost:8080/"
        }
      },
      "outputs": [
        {
          "output_type": "execute_result",
          "data": {
            "text/plain": [
              "False"
            ]
          },
          "metadata": {},
          "execution_count": 10
        }
      ],
      "source": [
        "# array()는 배열이 입력되면 새로운 배열을 만듭니다.\n",
        "new_row = np.array(vector_row)\n",
        "new_row is vector_row"
      ]
    },
    {
      "cell_type": "code",
      "execution_count": 11,
      "metadata": {
        "id": "UwnfKXTuWf-H",
        "outputId": "cf7d1965-4de6-481a-d019-348e0cc5b579",
        "colab": {
          "base_uri": "https://localhost:8080/"
        }
      },
      "outputs": [
        {
          "output_type": "execute_result",
          "data": {
            "text/plain": [
              "False"
            ]
          },
          "metadata": {},
          "execution_count": 11
        }
      ],
      "source": [
        "# copy() 메서드를 사용하면 의도가 분명해집니다.\n",
        "new_row = vector_row.copy()\n",
        "new_row is vector_row"
      ]
    },
    {
      "cell_type": "markdown",
      "metadata": {
        "id": "c1tJYouEWf-H"
      },
      "source": [
        "## 1.2 행렬 만들기"
      ]
    },
    {
      "cell_type": "code",
      "execution_count": 12,
      "metadata": {
        "id": "E_gAhkC2Wf-I",
        "outputId": "e4ce241d-7b7f-41ec-a06f-5c7906956d88",
        "colab": {
          "base_uri": "https://localhost:8080/"
        }
      },
      "outputs": [
        {
          "output_type": "execute_result",
          "data": {
            "text/plain": [
              "array([[1, 2],\n",
              "       [1, 2],\n",
              "       [1, 2]])"
            ]
          },
          "metadata": {},
          "execution_count": 12
        }
      ],
      "source": [
        "# 라이브러리를 임포트합니다.\n",
        "import numpy as np\n",
        "\n",
        "matrix = np.array([[1, 2],\n",
        "                   [1, 2],\n",
        "                   [1, 2]])\n",
        "matrix"
      ]
    },
    {
      "cell_type": "code",
      "execution_count": 13,
      "metadata": {
        "id": "lR9v2PL0Wf-I",
        "outputId": "81bc7698-a28d-4a8a-9e54-a6d81e89ba92",
        "colab": {
          "base_uri": "https://localhost:8080/"
        }
      },
      "outputs": [
        {
          "output_type": "execute_result",
          "data": {
            "text/plain": [
              "matrix([[1, 2],\n",
              "        [1, 2],\n",
              "        [1, 2]])"
            ]
          },
          "metadata": {},
          "execution_count": 13
        }
      ],
      "source": [
        "matrix_object = np.mat([[1, 2],\n",
        "                        [1, 2],\n",
        "                        [1, 2]])\n",
        "matrix_object"
      ]
    },
    {
      "cell_type": "markdown",
      "metadata": {
        "id": "mTHw-N9tWf-I"
      },
      "source": [
        "### 붙임"
      ]
    },
    {
      "cell_type": "code",
      "execution_count": 14,
      "metadata": {
        "id": "oujfP9WHWf-J",
        "outputId": "e7b61513-6e52-46b4-d91e-1b8924786e9a",
        "colab": {
          "base_uri": "https://localhost:8080/"
        }
      },
      "outputs": [
        {
          "output_type": "execute_result",
          "data": {
            "text/plain": [
              "array([[4.80274921e-310, 0.00000000e+000],\n",
              "       [6.57307604e-310, 6.57307803e-310],\n",
              "       [6.57307732e-310, 6.57303122e-310]])"
            ]
          },
          "metadata": {},
          "execution_count": 14
        }
      ],
      "source": [
        "# 임의의 값이 채워진 배열을 만듭니다.\n",
        "empty_matrix = np.empty((3, 2))\n",
        "empty_matrix"
      ]
    },
    {
      "cell_type": "code",
      "execution_count": 15,
      "metadata": {
        "id": "x_InY5DvWf-J",
        "outputId": "e8011db5-66d1-40d7-ed65-355005ad7906",
        "colab": {
          "base_uri": "https://localhost:8080/"
        }
      },
      "outputs": [
        {
          "output_type": "execute_result",
          "data": {
            "text/plain": [
              "array([[0., 0.],\n",
              "       [0., 0.],\n",
              "       [0., 0.]])"
            ]
          },
          "metadata": {},
          "execution_count": 15
        }
      ],
      "source": [
        "zero_matrix = np.zeros((3, 2))\n",
        "zero_matrix"
      ]
    },
    {
      "cell_type": "code",
      "execution_count": 16,
      "metadata": {
        "id": "mRmnYdAdWf-J",
        "outputId": "dfb57c2a-27c8-42b6-8dcf-1b44c7717c0e",
        "colab": {
          "base_uri": "https://localhost:8080/"
        }
      },
      "outputs": [
        {
          "output_type": "execute_result",
          "data": {
            "text/plain": [
              "array([[1., 1.],\n",
              "       [1., 1.],\n",
              "       [1., 1.]])"
            ]
          },
          "metadata": {},
          "execution_count": 16
        }
      ],
      "source": [
        "one_matrix = np.ones((3, 2))\n",
        "one_matrix"
      ]
    },
    {
      "cell_type": "code",
      "execution_count": 17,
      "metadata": {
        "id": "BymjGTrRWf-K",
        "outputId": "72c9b179-7607-4af5-ecd8-960b2d2b4669",
        "colab": {
          "base_uri": "https://localhost:8080/"
        }
      },
      "outputs": [
        {
          "output_type": "execute_result",
          "data": {
            "text/plain": [
              "array([[7, 7],\n",
              "       [7, 7],\n",
              "       [7, 7]])"
            ]
          },
          "metadata": {},
          "execution_count": 17
        }
      ],
      "source": [
        "# 0 행렬을 만든 후 7을 더합니다.\n",
        "seven_matrix = np.zeros((3, 2)) + 7\n",
        "# full() 함수를 사용하는 것이 효율적입니다.\n",
        "seven_matrix = np.full((3, 2), 7)\n",
        "seven_matrix"
      ]
    },
    {
      "cell_type": "markdown",
      "metadata": {
        "id": "gGBGq5niWf-K"
      },
      "source": [
        "## 1.3 희소 행렬 만들기"
      ]
    },
    {
      "cell_type": "code",
      "execution_count": 18,
      "metadata": {
        "id": "ecP_U6wrWf-j"
      },
      "outputs": [],
      "source": [
        "# 라이브러리를 임포트합니다.\n",
        "import numpy as np\n",
        "from scipy import sparse\n",
        "\n",
        "# 행렬을 만듭니다.\n",
        "matrix = np.array([[0, 0],\n",
        "                   [0, 1],\n",
        "                   [3, 0]])\n",
        "\n",
        "# CSR 행렬을 만듭니다.\n",
        "matrix_sparse = sparse.csr_matrix(matrix)"
      ]
    },
    {
      "cell_type": "code",
      "execution_count": 19,
      "metadata": {
        "id": "dzwnQxKxWf-j",
        "outputId": "90e57f22-0aeb-422e-ffdf-dbb3ed146ca0",
        "colab": {
          "base_uri": "https://localhost:8080/"
        }
      },
      "outputs": [
        {
          "output_type": "stream",
          "name": "stdout",
          "text": [
            "  (1, 1)\t1\n",
            "  (2, 0)\t3\n"
          ]
        }
      ],
      "source": [
        "# 희소 행렬을 출력합니다.\n",
        "print(matrix_sparse)"
      ]
    },
    {
      "cell_type": "code",
      "execution_count": 20,
      "metadata": {
        "id": "jrAdqWf5Wf-j",
        "outputId": "16a2f4e3-e943-4e97-9c5b-e7cf6d0731c9",
        "colab": {
          "base_uri": "https://localhost:8080/"
        }
      },
      "outputs": [
        {
          "output_type": "stream",
          "name": "stdout",
          "text": [
            "  (1, 1)\t1\n",
            "  (2, 0)\t3\n"
          ]
        }
      ],
      "source": [
        "# 큰 행렬을 만듭니다.\n",
        "matrix_large = np.array([[0, 0, 0, 0, 0, 0, 0, 0, 0, 0],\n",
        "                         [0, 1, 0, 0, 0, 0, 0, 0, 0, 0],\n",
        "                         [3, 0, 0, 0, 0, 0, 0, 0, 0, 0]])\n",
        "\n",
        "# CSR 행렬을 만듭니다.\n",
        "matrix_large_sparse = sparse.csr_matrix(matrix_large)\n",
        "\n",
        "# 원래 희소 행렬을 출력합니다.\n",
        "print(matrix_sparse)"
      ]
    },
    {
      "cell_type": "code",
      "execution_count": 21,
      "metadata": {
        "id": "SIw9xciEWf-k",
        "outputId": "79e2fbf6-70f1-45e5-fb4c-161e1e0a1268",
        "colab": {
          "base_uri": "https://localhost:8080/"
        }
      },
      "outputs": [
        {
          "output_type": "stream",
          "name": "stdout",
          "text": [
            "  (1, 1)\t1\n",
            "  (2, 0)\t3\n"
          ]
        }
      ],
      "source": [
        "# 큰 희소 행렬을 출력합니다.\n",
        "print(matrix_large_sparse)"
      ]
    },
    {
      "cell_type": "markdown",
      "metadata": {
        "id": "6GzsLRJJWf-k"
      },
      "source": [
        "### 덧붙임"
      ]
    },
    {
      "cell_type": "code",
      "execution_count": 22,
      "metadata": {
        "id": "lS3HJ0s4Wf-k",
        "outputId": "328ecd30-367f-4553-c0e9-3c8540c69145",
        "colab": {
          "base_uri": "https://localhost:8080/"
        }
      },
      "outputs": [
        {
          "output_type": "stream",
          "name": "stdout",
          "text": [
            "  (1, 1)\t1\n",
            "  (2, 0)\t3\n"
          ]
        }
      ],
      "source": [
        "# (data, (row_index, col_index))로 구성된 튜플을 전달합니다.\n",
        "# shape 매개변수에서 0을 포함한 행렬의 전체 크기를 지정합니다.\n",
        "matrix_sparse_2 = sparse.csr_matrix(([1, 3], ([1, 2], [1, 0])), shape=(3, 10))\n",
        "\n",
        "print(matrix_sparse_2)"
      ]
    },
    {
      "cell_type": "code",
      "execution_count": 23,
      "metadata": {
        "id": "Y7LLBZhGWf-l",
        "outputId": "d996c577-d290-4315-b89e-a974051d8f90",
        "colab": {
          "base_uri": "https://localhost:8080/"
        }
      },
      "outputs": [
        {
          "output_type": "stream",
          "name": "stdout",
          "text": [
            "[[0 0 0 0 0 0 0 0 0 0]\n",
            " [0 1 0 0 0 0 0 0 0 0]\n",
            " [3 0 0 0 0 0 0 0 0 0]]\n"
          ]
        }
      ],
      "source": [
        "print(matrix_sparse_2.toarray())"
      ]
    },
    {
      "cell_type": "code",
      "execution_count": 24,
      "metadata": {
        "id": "tOiYHMvKWf-l",
        "outputId": "78dc6bfa-e86d-458b-d335-55eb37d67da1",
        "colab": {
          "base_uri": "https://localhost:8080/"
        }
      },
      "outputs": [
        {
          "output_type": "execute_result",
          "data": {
            "text/plain": [
              "matrix([[0, 0, 0, 0, 0, 0, 0, 0, 0, 0],\n",
              "        [0, 1, 0, 0, 0, 0, 0, 0, 0, 0],\n",
              "        [3, 0, 0, 0, 0, 0, 0, 0, 0, 0]])"
            ]
          },
          "metadata": {},
          "execution_count": 24
        }
      ],
      "source": [
        "matrix_sparse_2.todense()"
      ]
    },
    {
      "cell_type": "markdown",
      "metadata": {
        "id": "ZHxOA2XgWf-m"
      },
      "source": [
        "## 1.4 원소 선택"
      ]
    },
    {
      "cell_type": "code",
      "execution_count": 25,
      "metadata": {
        "id": "vfOdiKr1Wf-m",
        "outputId": "ec420875-816a-43b6-a366-ac021f0c07ea",
        "colab": {
          "base_uri": "https://localhost:8080/"
        }
      },
      "outputs": [
        {
          "output_type": "execute_result",
          "data": {
            "text/plain": [
              "3"
            ]
          },
          "metadata": {},
          "execution_count": 25
        }
      ],
      "source": [
        "# 라이브러리를 임포트합니다.\n",
        "import numpy as np\n",
        "\n",
        "# 행 벡터를 만듭니다.\n",
        "vector = np.array([1, 2, 3, 4, 5, 6])\n",
        "\n",
        "# 행렬을 만듭니다.\n",
        "matrix = np.array([[1, 2, 3],\n",
        "                   [4, 5, 6],\n",
        "                   [7, 8, 9]])\n",
        "\n",
        "# vector의 세 번째 원소를 선택합니다.\n",
        "vector[2]"
      ]
    },
    {
      "cell_type": "code",
      "execution_count": 26,
      "metadata": {
        "id": "E6WRZRBCWf-n",
        "outputId": "fe25d4a5-b76d-400c-be4a-ceda58d70797",
        "colab": {
          "base_uri": "https://localhost:8080/"
        }
      },
      "outputs": [
        {
          "output_type": "execute_result",
          "data": {
            "text/plain": [
              "5"
            ]
          },
          "metadata": {},
          "execution_count": 26
        }
      ],
      "source": [
        "# matrix의 두 번째 행, 두 번째 열의 원소를 선택합니다.\n",
        "matrix[1,1]"
      ]
    },
    {
      "cell_type": "code",
      "execution_count": 27,
      "metadata": {
        "id": "0gL3kYFzWf-o",
        "outputId": "a67e5965-cec0-4f4d-a624-3f573cb479fa",
        "colab": {
          "base_uri": "https://localhost:8080/"
        }
      },
      "outputs": [
        {
          "output_type": "execute_result",
          "data": {
            "text/plain": [
              "array([1, 2, 3, 4, 5, 6])"
            ]
          },
          "metadata": {},
          "execution_count": 27
        }
      ],
      "source": [
        "# 벡터에 있는 모든 원소를 선택합니다.\n",
        "vector[:]"
      ]
    },
    {
      "cell_type": "code",
      "execution_count": 28,
      "metadata": {
        "id": "EzFsNAj0Wf-o",
        "outputId": "f137b05c-b1bd-41b8-8e90-6f7086a0de9d",
        "colab": {
          "base_uri": "https://localhost:8080/"
        }
      },
      "outputs": [
        {
          "output_type": "execute_result",
          "data": {
            "text/plain": [
              "array([1, 2, 3])"
            ]
          },
          "metadata": {},
          "execution_count": 28
        }
      ],
      "source": [
        "# 세 번째 원소를 포함하여 그 이전의 모든 원소를 선택합니다.\n",
        "vector[:3]"
      ]
    },
    {
      "cell_type": "code",
      "execution_count": 29,
      "metadata": {
        "id": "lldvJkGtWf-o",
        "outputId": "19236270-ac4f-4e43-bee0-a8bac6f36889",
        "colab": {
          "base_uri": "https://localhost:8080/"
        }
      },
      "outputs": [
        {
          "output_type": "execute_result",
          "data": {
            "text/plain": [
              "array([4, 5, 6])"
            ]
          },
          "metadata": {},
          "execution_count": 29
        }
      ],
      "source": [
        "# 세 번째 이후의 모든 원소를 선택합니다.\n",
        "vector[3:]"
      ]
    },
    {
      "cell_type": "code",
      "execution_count": 30,
      "metadata": {
        "id": "tYDNw80nWf-p",
        "outputId": "72c6a397-7920-427d-aa8e-e053a4623768",
        "colab": {
          "base_uri": "https://localhost:8080/"
        }
      },
      "outputs": [
        {
          "output_type": "execute_result",
          "data": {
            "text/plain": [
              "6"
            ]
          },
          "metadata": {},
          "execution_count": 30
        }
      ],
      "source": [
        "# 마지막 원소를 선택합니다.\n",
        "vector[-1]"
      ]
    },
    {
      "cell_type": "code",
      "execution_count": 31,
      "metadata": {
        "id": "C5R2NkbZWgBV",
        "outputId": "18408c26-368e-42dd-b94a-4a24298b05bc",
        "colab": {
          "base_uri": "https://localhost:8080/"
        }
      },
      "outputs": [
        {
          "output_type": "execute_result",
          "data": {
            "text/plain": [
              "array([[1, 2, 3],\n",
              "       [4, 5, 6]])"
            ]
          },
          "metadata": {},
          "execution_count": 31
        }
      ],
      "source": [
        "# 행렬에서 첫 번째 두 개의 행과 모든 열을 선택합니다.\n",
        "matrix[:2,:]"
      ]
    },
    {
      "cell_type": "code",
      "execution_count": 32,
      "metadata": {
        "id": "qyfqsd9VWgBV",
        "outputId": "bb643e24-1c3b-4023-c32d-ddcccec3ab07",
        "colab": {
          "base_uri": "https://localhost:8080/"
        }
      },
      "outputs": [
        {
          "output_type": "execute_result",
          "data": {
            "text/plain": [
              "array([[2],\n",
              "       [5],\n",
              "       [8]])"
            ]
          },
          "metadata": {},
          "execution_count": 32
        }
      ],
      "source": [
        "# 모든 행과 두 번째 열을 선택합니다.\n",
        "matrix[:,1:2]"
      ]
    },
    {
      "cell_type": "markdown",
      "metadata": {
        "id": "eXngrDKTWgBW"
      },
      "source": [
        "### 덧붙임"
      ]
    },
    {
      "cell_type": "code",
      "execution_count": 33,
      "metadata": {
        "id": "_dlUUUimWgBX",
        "outputId": "41cb8fcd-b5e2-4c79-fd80-23e95a943eef",
        "colab": {
          "base_uri": "https://localhost:8080/"
        }
      },
      "outputs": [
        {
          "output_type": "execute_result",
          "data": {
            "text/plain": [
              "array([[1, 2, 3],\n",
              "       [7, 8, 9]])"
            ]
          },
          "metadata": {},
          "execution_count": 33
        }
      ],
      "source": [
        "# 첫 번째 행과 세 번째 행을 선택합니다.\n",
        "matrix[[0,2]]"
      ]
    },
    {
      "cell_type": "code",
      "execution_count": 34,
      "metadata": {
        "id": "7QHLNkzEWgBY",
        "outputId": "a4142f22-74fe-4c17-9686-b2155ffc5678",
        "colab": {
          "base_uri": "https://localhost:8080/"
        }
      },
      "outputs": [
        {
          "output_type": "execute_result",
          "data": {
            "text/plain": [
              "array([2, 7])"
            ]
          },
          "metadata": {},
          "execution_count": 34
        }
      ],
      "source": [
        "# (0, 1), (2, 0) 위치의 원소를 선택합니다.\n",
        "matrix[[0,2], [1,0]]"
      ]
    },
    {
      "cell_type": "code",
      "execution_count": 35,
      "metadata": {
        "id": "ebGCVq9DWgBY",
        "outputId": "32fd7b5a-3bf0-4357-f598-6626aefb266f",
        "colab": {
          "base_uri": "https://localhost:8080/"
        }
      },
      "outputs": [
        {
          "output_type": "execute_result",
          "data": {
            "text/plain": [
              "array([[False, False, False],\n",
              "       [False, False,  True],\n",
              "       [ True,  True,  True]])"
            ]
          },
          "metadata": {},
          "execution_count": 35
        }
      ],
      "source": [
        "# matrix의 각 원소에 비교 연산자가 적용됩니다.\n",
        "mask = matrix > 5\n",
        "\n",
        "mask"
      ]
    },
    {
      "cell_type": "code",
      "execution_count": 36,
      "metadata": {
        "id": "TMS5-xHJWgBb",
        "outputId": "b526d4d0-49fe-4073-8ca1-22b136be19f8",
        "colab": {
          "base_uri": "https://localhost:8080/"
        }
      },
      "outputs": [
        {
          "output_type": "execute_result",
          "data": {
            "text/plain": [
              "array([6, 7, 8, 9])"
            ]
          },
          "metadata": {},
          "execution_count": 36
        }
      ],
      "source": [
        "# 불리언 마스크 배열을 사용하여 원소를 선택합니다.\n",
        "matrix[mask]"
      ]
    },
    {
      "cell_type": "markdown",
      "metadata": {
        "id": "0eIL_ZI6WgBb"
      },
      "source": [
        "## 1.5 행렬 정보 확인"
      ]
    },
    {
      "cell_type": "code",
      "execution_count": 37,
      "metadata": {
        "id": "cz8_fZabWgBc",
        "outputId": "6e93c425-1afe-4a4c-9104-7de188de03c8",
        "colab": {
          "base_uri": "https://localhost:8080/"
        }
      },
      "outputs": [
        {
          "output_type": "execute_result",
          "data": {
            "text/plain": [
              "(3, 4)"
            ]
          },
          "metadata": {},
          "execution_count": 37
        }
      ],
      "source": [
        "# 라이브러리를 임포트합니다.\n",
        "import numpy as np\n",
        "\n",
        "# 행렬을 만듭니다.\n",
        "matrix = np.array([[1, 2, 3, 4],\n",
        "                   [5, 6, 7, 8],\n",
        "                   [9, 10, 11, 12]])\n",
        "\n",
        "# 행렬의 크기를 확인합니다.\n",
        "matrix.shape"
      ]
    },
    {
      "cell_type": "code",
      "execution_count": 38,
      "metadata": {
        "id": "mhJpiadAWgBc",
        "outputId": "04f7b841-b6ca-4321-f9d8-492f2d509557",
        "colab": {
          "base_uri": "https://localhost:8080/"
        }
      },
      "outputs": [
        {
          "output_type": "execute_result",
          "data": {
            "text/plain": [
              "12"
            ]
          },
          "metadata": {},
          "execution_count": 38
        }
      ],
      "source": [
        "# 행렬의 원소 개수를 확인합니다(행 * 열).\n",
        "matrix.size"
      ]
    },
    {
      "cell_type": "code",
      "execution_count": 39,
      "metadata": {
        "id": "fEXHxmGEWgBd",
        "outputId": "04e83704-e2cc-4714-d5c3-cc486b8555ed",
        "colab": {
          "base_uri": "https://localhost:8080/"
        }
      },
      "outputs": [
        {
          "output_type": "execute_result",
          "data": {
            "text/plain": [
              "2"
            ]
          },
          "metadata": {},
          "execution_count": 39
        }
      ],
      "source": [
        "# 차원 수를 확인합니다.\n",
        "matrix.ndim"
      ]
    },
    {
      "cell_type": "markdown",
      "metadata": {
        "id": "eW7txgHdWgBe"
      },
      "source": [
        "### 덧붙임"
      ]
    },
    {
      "cell_type": "code",
      "execution_count": 40,
      "metadata": {
        "id": "D1oe-eOvWgBe",
        "outputId": "f7150bf7-06c7-43ba-d270-56c7d0b08433",
        "colab": {
          "base_uri": "https://localhost:8080/"
        }
      },
      "outputs": [
        {
          "output_type": "stream",
          "name": "stdout",
          "text": [
            "int64\n"
          ]
        }
      ],
      "source": [
        "# 원소의 데이터 타입을 확인합니다.\n",
        "print(matrix.dtype)"
      ]
    },
    {
      "cell_type": "code",
      "execution_count": 41,
      "metadata": {
        "id": "c0a7pJcvWgBg",
        "outputId": "bc18ef99-d97f-4562-e80e-38549d088573",
        "colab": {
          "base_uri": "https://localhost:8080/"
        }
      },
      "outputs": [
        {
          "output_type": "stream",
          "name": "stdout",
          "text": [
            "8\n"
          ]
        }
      ],
      "source": [
        "# 원소 하나가 차지하는 바이트 크기입니다.\n",
        "print(matrix.itemsize)"
      ]
    },
    {
      "cell_type": "code",
      "execution_count": 42,
      "metadata": {
        "id": "iY9FzaNUWgBi",
        "outputId": "c80ce4d2-7a60-4cae-cb75-4062d7799670",
        "colab": {
          "base_uri": "https://localhost:8080/"
        }
      },
      "outputs": [
        {
          "output_type": "stream",
          "name": "stdout",
          "text": [
            "96\n"
          ]
        }
      ],
      "source": [
        "# 배열 전체가 차지하는 바이트 크기입니다.\n",
        "print(matrix.nbytes)"
      ]
    },
    {
      "cell_type": "markdown",
      "metadata": {
        "id": "XH_ggisqWgBj"
      },
      "source": [
        "## 1.6 벡터화 연산 적용하기"
      ]
    },
    {
      "cell_type": "code",
      "execution_count": 43,
      "metadata": {
        "id": "QxnwRNqkWgBj",
        "outputId": "7749ec7e-75de-412a-bcc2-f5fe885352b1",
        "colab": {
          "base_uri": "https://localhost:8080/"
        }
      },
      "outputs": [
        {
          "output_type": "execute_result",
          "data": {
            "text/plain": [
              "array([[101, 102, 103],\n",
              "       [104, 105, 106],\n",
              "       [107, 108, 109]])"
            ]
          },
          "metadata": {},
          "execution_count": 43
        }
      ],
      "source": [
        "# 라이브러리를 임포트합니다.\n",
        "import numpy as np\n",
        "\n",
        "# 행렬을 만듭니다.\n",
        "matrix = np.array([[1, 2, 3],\n",
        "                   [4, 5, 6],\n",
        "                   [7, 8, 9]])\n",
        "\n",
        "# 100을 더하는 함수를 만듭니다.\n",
        "add_100 = lambda i: i + 100\n",
        "\n",
        "# 벡터화된 함수를 만듭니다.\n",
        "vectorized_add_100 = np.vectorize(add_100)\n",
        "\n",
        "# 행렬의 모든 원소에 함수를 적용합니다.\n",
        "vectorized_add_100(matrix)"
      ]
    },
    {
      "cell_type": "code",
      "execution_count": 44,
      "metadata": {
        "id": "P04ds_S3WgBj",
        "outputId": "9d93819a-cc05-4c0e-b334-dd2d066624a6",
        "colab": {
          "base_uri": "https://localhost:8080/"
        }
      },
      "outputs": [
        {
          "output_type": "execute_result",
          "data": {
            "text/plain": [
              "array([[101, 102, 103],\n",
              "       [104, 105, 106],\n",
              "       [107, 108, 109]])"
            ]
          },
          "metadata": {},
          "execution_count": 44
        }
      ],
      "source": [
        "# 모든 원소에 100을 더합니다.\n",
        "matrix + 100"
      ]
    },
    {
      "cell_type": "markdown",
      "metadata": {
        "id": "6qamaY7JWgCS"
      },
      "source": [
        "### 덧붙임"
      ]
    },
    {
      "cell_type": "code",
      "execution_count": 45,
      "metadata": {
        "id": "UIIKSalZWgCS",
        "outputId": "440990e9-e739-4702-85ed-0ae0e59d3f9f",
        "colab": {
          "base_uri": "https://localhost:8080/"
        }
      },
      "outputs": [
        {
          "output_type": "execute_result",
          "data": {
            "text/plain": [
              "array([[101, 102, 103],\n",
              "       [104, 105, 106],\n",
              "       [107, 108, 109]])"
            ]
          },
          "metadata": {},
          "execution_count": 45
        }
      ],
      "source": [
        "# (3, 3) 크기 행렬에 (3, ) 벡터를 더하면\n",
        "# (1, 3) 크기가 된다음 행을 따라 반복됩니다.\n",
        "matrix + [100, 100, 100]"
      ]
    },
    {
      "cell_type": "code",
      "execution_count": 46,
      "metadata": {
        "id": "4KSENyStWgCT",
        "outputId": "3440e374-5e10-4903-9b86-4388850d78d4",
        "colab": {
          "base_uri": "https://localhost:8080/"
        }
      },
      "outputs": [
        {
          "output_type": "execute_result",
          "data": {
            "text/plain": [
              "array([[101, 102, 103],\n",
              "       [104, 105, 106],\n",
              "       [107, 108, 109]])"
            ]
          },
          "metadata": {},
          "execution_count": 46
        }
      ],
      "source": [
        "# (3, 3) 크기 행렬에 (3, 1) 벡터를 더하면 열을 따라 반복됩니다.\n",
        "matrix + [[100], [100], [100]]"
      ]
    },
    {
      "cell_type": "markdown",
      "metadata": {
        "id": "VdTMrxSKWgCT"
      },
      "source": [
        "## 1.7 최댓값, 최솟값 찾기"
      ]
    },
    {
      "cell_type": "code",
      "execution_count": 47,
      "metadata": {
        "id": "8YwCGnHGWgCW",
        "outputId": "2df8172d-b540-40a4-9390-fc453d7f7e57",
        "colab": {
          "base_uri": "https://localhost:8080/"
        }
      },
      "outputs": [
        {
          "output_type": "execute_result",
          "data": {
            "text/plain": [
              "9"
            ]
          },
          "metadata": {},
          "execution_count": 47
        }
      ],
      "source": [
        "# 라이브러리를 임포트합니다.\n",
        "import numpy as np\n",
        "\n",
        "# 행렬을 만듭니다.\n",
        "matrix = np.array([[1, 2, 3],\n",
        "                   [4, 5, 6],\n",
        "                   [7, 8, 9]])\n",
        "\n",
        "# 가장 큰 원소를 반환합니다.\n",
        "np.max(matrix)"
      ]
    },
    {
      "cell_type": "code",
      "execution_count": 48,
      "metadata": {
        "id": "Ox4X6WANWgCX",
        "outputId": "d89bfc01-bbb4-4670-9525-c2b47f324bc2",
        "colab": {
          "base_uri": "https://localhost:8080/"
        }
      },
      "outputs": [
        {
          "output_type": "execute_result",
          "data": {
            "text/plain": [
              "1"
            ]
          },
          "metadata": {},
          "execution_count": 48
        }
      ],
      "source": [
        "# 가장 작은 원소를 반환합니다.\n",
        "np.min(matrix)"
      ]
    },
    {
      "cell_type": "code",
      "execution_count": 49,
      "metadata": {
        "id": "yotNcSYhWgCY",
        "outputId": "252ea9f7-adb4-458c-af81-2456c4dc7c34",
        "colab": {
          "base_uri": "https://localhost:8080/"
        }
      },
      "outputs": [
        {
          "output_type": "execute_result",
          "data": {
            "text/plain": [
              "array([7, 8, 9])"
            ]
          },
          "metadata": {},
          "execution_count": 49
        }
      ],
      "source": [
        "# 각 열에서 최댓값을 찾습니다.\n",
        "np.max(matrix, axis=0)"
      ]
    },
    {
      "cell_type": "code",
      "execution_count": 50,
      "metadata": {
        "id": "WFuN-oXdWgCY",
        "outputId": "c2d7f955-4104-4a96-e545-f5ad48e2d8f0",
        "colab": {
          "base_uri": "https://localhost:8080/"
        }
      },
      "outputs": [
        {
          "output_type": "execute_result",
          "data": {
            "text/plain": [
              "array([3, 6, 9])"
            ]
          },
          "metadata": {},
          "execution_count": 50
        }
      ],
      "source": [
        "# 각 행에서 최댓값을 찾습니다.\n",
        "np.max(matrix, axis=1)"
      ]
    },
    {
      "cell_type": "markdown",
      "metadata": {
        "id": "KonKBix9WgCY"
      },
      "source": [
        "### 덧붙임"
      ]
    },
    {
      "cell_type": "code",
      "execution_count": 51,
      "metadata": {
        "id": "_UyPLRK7WgCY",
        "outputId": "99d13f4e-c7d9-4258-b6f3-ab4c9b4d9cab",
        "colab": {
          "base_uri": "https://localhost:8080/"
        }
      },
      "outputs": [
        {
          "output_type": "execute_result",
          "data": {
            "text/plain": [
              "array([[3],\n",
              "       [6],\n",
              "       [9]])"
            ]
          },
          "metadata": {},
          "execution_count": 51
        }
      ],
      "source": [
        "# 이전 예와 달리 (3, 1) 크기의 열 벡터가 만들어 집니다.\n",
        "vector_column = np.max(matrix, axis=1, keepdims=True)\n",
        "\n",
        "vector_column"
      ]
    },
    {
      "cell_type": "code",
      "execution_count": 52,
      "metadata": {
        "id": "-2FhPB3hWgCZ",
        "outputId": "c248a455-5d87-4dca-ba89-334574f58a88",
        "colab": {
          "base_uri": "https://localhost:8080/"
        }
      },
      "outputs": [
        {
          "output_type": "execute_result",
          "data": {
            "text/plain": [
              "array([[-2, -1,  0],\n",
              "       [-2, -1,  0],\n",
              "       [-2, -1,  0]])"
            ]
          },
          "metadata": {},
          "execution_count": 52
        }
      ],
      "source": [
        "# 열 벡터이므로 브로드캐스팅을 이용하여 각 행의 최댓값을 뺄 수 있습니다.\n",
        "matrix - vector_column"
      ]
    },
    {
      "cell_type": "markdown",
      "metadata": {
        "id": "enhLh-33WgCZ"
      },
      "source": [
        "## 1.8 평균, 분산, 표준 편차 계산하기"
      ]
    },
    {
      "cell_type": "code",
      "execution_count": 53,
      "metadata": {
        "id": "TRtIyu0wWgCZ",
        "outputId": "8f7b2ed7-6e30-4a84-bb1e-9e5b95ff005f",
        "colab": {
          "base_uri": "https://localhost:8080/"
        }
      },
      "outputs": [
        {
          "output_type": "execute_result",
          "data": {
            "text/plain": [
              "5.0"
            ]
          },
          "metadata": {},
          "execution_count": 53
        }
      ],
      "source": [
        "# 라이브러리를 임포트합니다.\n",
        "import numpy as np\n",
        "\n",
        "# 행렬을 만듭니다.\n",
        "matrix = np.array([[1, 2, 3],\n",
        "                   [4, 5, 6],\n",
        "                   [7, 8, 9]])\n",
        "\n",
        "# 평균을 반환합니다.\n",
        "np.mean(matrix)"
      ]
    },
    {
      "cell_type": "code",
      "execution_count": 54,
      "metadata": {
        "id": "kvCU-3xjWgCa",
        "outputId": "9c548b61-2717-4556-d0e7-e532f4a0c38d",
        "colab": {
          "base_uri": "https://localhost:8080/"
        }
      },
      "outputs": [
        {
          "output_type": "execute_result",
          "data": {
            "text/plain": [
              "6.666666666666667"
            ]
          },
          "metadata": {},
          "execution_count": 54
        }
      ],
      "source": [
        "# 분산을 반환합니다.\n",
        "np.var(matrix)"
      ]
    },
    {
      "cell_type": "code",
      "execution_count": 55,
      "metadata": {
        "id": "LF2Vqr42WgCa",
        "outputId": "74ec4f54-557b-44a1-deeb-d4c7396ba268",
        "colab": {
          "base_uri": "https://localhost:8080/"
        }
      },
      "outputs": [
        {
          "output_type": "execute_result",
          "data": {
            "text/plain": [
              "2.581988897471611"
            ]
          },
          "metadata": {},
          "execution_count": 55
        }
      ],
      "source": [
        "# 표준 편차를 반환합니다.\n",
        "np.std(matrix)"
      ]
    },
    {
      "cell_type": "code",
      "execution_count": 56,
      "metadata": {
        "id": "B5r6wJl5WgCa",
        "outputId": "7c56c789-bd83-4168-d755-48b919c45f90",
        "colab": {
          "base_uri": "https://localhost:8080/"
        }
      },
      "outputs": [
        {
          "output_type": "execute_result",
          "data": {
            "text/plain": [
              "array([4., 5., 6.])"
            ]
          },
          "metadata": {},
          "execution_count": 56
        }
      ],
      "source": [
        "# 각 열의 평균을 계산합니다.\n",
        "np.mean(matrix, axis=0)"
      ]
    },
    {
      "cell_type": "markdown",
      "metadata": {
        "id": "OJI8qM2EWgCb"
      },
      "source": [
        "### 덧붙임"
      ]
    },
    {
      "cell_type": "code",
      "execution_count": 57,
      "metadata": {
        "id": "r1aCY2IJWgCb",
        "outputId": "ec1bab3a-7300-48ea-d33c-e0404d1bec53",
        "colab": {
          "base_uri": "https://localhost:8080/"
        }
      },
      "outputs": [
        {
          "output_type": "execute_result",
          "data": {
            "text/plain": [
              "2.7386127875258306"
            ]
          },
          "metadata": {},
          "execution_count": 57
        }
      ],
      "source": [
        "np.std(matrix, ddof=1)"
      ]
    },
    {
      "cell_type": "code",
      "execution_count": 58,
      "metadata": {
        "id": "HQtcLx86WgCb",
        "outputId": "fa8560b3-0c7b-4067-9ea7-72f83b6f9c23",
        "colab": {
          "base_uri": "https://localhost:8080/"
        }
      },
      "outputs": [
        {
          "output_type": "execute_result",
          "data": {
            "text/plain": [
              "0    2.738613\n",
              "dtype: float64"
            ]
          },
          "metadata": {},
          "execution_count": 58
        }
      ],
      "source": [
        "import pandas as pd\n",
        "\n",
        "df = pd.DataFrame(matrix.flatten())\n",
        "df.std()"
      ]
    },
    {
      "cell_type": "markdown",
      "metadata": {
        "id": "67Ph8S3IWgCc"
      },
      "source": [
        "## 1.9 배열 크기 바꾸기"
      ]
    },
    {
      "cell_type": "code",
      "execution_count": 59,
      "metadata": {
        "id": "Csh3IQ9_WgCc",
        "outputId": "686738c5-eecc-4185-90d3-acf416af7955",
        "colab": {
          "base_uri": "https://localhost:8080/"
        }
      },
      "outputs": [
        {
          "output_type": "execute_result",
          "data": {
            "text/plain": [
              "array([[ 1,  2,  3,  4,  5,  6],\n",
              "       [ 7,  8,  9, 10, 11, 12]])"
            ]
          },
          "metadata": {},
          "execution_count": 59
        }
      ],
      "source": [
        "# 라이브러리를 임포트합니다.\n",
        "import numpy as np\n",
        "\n",
        "# 4x3 행렬을 만듭니다.\n",
        "matrix = np.array([[1, 2, 3],\n",
        "                   [4, 5, 6],\n",
        "                   [7, 8, 9],\n",
        "                   [10, 11, 12]])\n",
        "\n",
        "# 2x6 행렬로 크기를 바꿉니다.\n",
        "matrix.reshape(2, 6)"
      ]
    },
    {
      "cell_type": "code",
      "execution_count": 60,
      "metadata": {
        "id": "mUYZDAtTWgCc",
        "outputId": "efbf6600-0d40-4339-cb25-03418b331b6e",
        "colab": {
          "base_uri": "https://localhost:8080/"
        }
      },
      "outputs": [
        {
          "output_type": "execute_result",
          "data": {
            "text/plain": [
              "12"
            ]
          },
          "metadata": {},
          "execution_count": 60
        }
      ],
      "source": [
        "matrix.size"
      ]
    },
    {
      "cell_type": "code",
      "execution_count": 61,
      "metadata": {
        "id": "lIFwgE06WgCd",
        "outputId": "1de6431f-9bcd-4aaf-8410-5ce2ff473e05",
        "colab": {
          "base_uri": "https://localhost:8080/"
        }
      },
      "outputs": [
        {
          "output_type": "execute_result",
          "data": {
            "text/plain": [
              "array([[ 1,  2,  3,  4,  5,  6,  7,  8,  9, 10, 11, 12]])"
            ]
          },
          "metadata": {},
          "execution_count": 61
        }
      ],
      "source": [
        "matrix.reshape(1, -1)"
      ]
    },
    {
      "cell_type": "code",
      "execution_count": 62,
      "metadata": {
        "id": "1QKNpeUNWgDr",
        "outputId": "660aef9a-f3f6-49d9-d066-17176841c1a5",
        "colab": {
          "base_uri": "https://localhost:8080/"
        }
      },
      "outputs": [
        {
          "output_type": "execute_result",
          "data": {
            "text/plain": [
              "array([ 1,  2,  3,  4,  5,  6,  7,  8,  9, 10, 11, 12])"
            ]
          },
          "metadata": {},
          "execution_count": 62
        }
      ],
      "source": [
        "matrix.reshape(12)"
      ]
    },
    {
      "cell_type": "markdown",
      "metadata": {
        "id": "jNP0K0qlWgDy"
      },
      "source": [
        "### 덧붙임"
      ]
    },
    {
      "cell_type": "code",
      "execution_count": 63,
      "metadata": {
        "id": "pVudsXMWWgDz",
        "outputId": "7e031280-c53b-46a1-cb95-a3e0f319e1ef",
        "colab": {
          "base_uri": "https://localhost:8080/"
        }
      },
      "outputs": [
        {
          "output_type": "execute_result",
          "data": {
            "text/plain": [
              "array([ 1,  2,  3,  4,  5,  6,  7,  8,  9, 10, 11, 12])"
            ]
          },
          "metadata": {},
          "execution_count": 63
        }
      ],
      "source": [
        "matrix.reshape(-1)"
      ]
    },
    {
      "cell_type": "code",
      "execution_count": 64,
      "metadata": {
        "id": "H_ZotaBfWgDz",
        "outputId": "837aecd8-e81d-498c-815f-01bcd3780d2a",
        "colab": {
          "base_uri": "https://localhost:8080/"
        }
      },
      "outputs": [
        {
          "output_type": "execute_result",
          "data": {
            "text/plain": [
              "array([ 1,  2,  3,  4,  5,  6,  7,  8,  9, 10, 11, 12])"
            ]
          },
          "metadata": {},
          "execution_count": 64
        }
      ],
      "source": [
        "matrix.ravel()"
      ]
    },
    {
      "cell_type": "markdown",
      "metadata": {
        "id": "iazoezq5WgD0"
      },
      "source": [
        "## 1.10 벡터나 행렬을 전치하기"
      ]
    },
    {
      "cell_type": "code",
      "execution_count": 65,
      "metadata": {
        "id": "O9Ma1y7zWgD3",
        "outputId": "3f65ae1b-e006-4904-9119-0564c0d41088",
        "colab": {
          "base_uri": "https://localhost:8080/"
        }
      },
      "outputs": [
        {
          "output_type": "execute_result",
          "data": {
            "text/plain": [
              "array([[1, 4, 7],\n",
              "       [2, 5, 8],\n",
              "       [3, 6, 9]])"
            ]
          },
          "metadata": {},
          "execution_count": 65
        }
      ],
      "source": [
        "# 라이브러리를 임포트합니다.\n",
        "import numpy as np\n",
        "\n",
        "# 행렬을 만듭니다.\n",
        "matrix = np.array([[1, 2, 3],\n",
        "                   [4, 5, 6],\n",
        "                   [7, 8, 9]])\n",
        "\n",
        "# 행렬을 전치합니다.\n",
        "matrix.T"
      ]
    },
    {
      "cell_type": "code",
      "execution_count": 66,
      "metadata": {
        "id": "nFoXuCL4WgD4",
        "outputId": "fdfb76e3-c060-40a0-b460-cedc06ac3fd9",
        "colab": {
          "base_uri": "https://localhost:8080/"
        }
      },
      "outputs": [
        {
          "output_type": "execute_result",
          "data": {
            "text/plain": [
              "array([1, 2, 3, 4, 5, 6])"
            ]
          },
          "metadata": {},
          "execution_count": 66
        }
      ],
      "source": [
        "# 벡터를 전치합니다.\n",
        "np.array([1, 2, 3, 4, 5, 6]).T"
      ]
    },
    {
      "cell_type": "code",
      "execution_count": 67,
      "metadata": {
        "id": "-zL_A0WwWgD7",
        "outputId": "0de7ea8c-38d5-476d-85a2-802a17354184",
        "colab": {
          "base_uri": "https://localhost:8080/"
        }
      },
      "outputs": [
        {
          "output_type": "execute_result",
          "data": {
            "text/plain": [
              "array([[1],\n",
              "       [2],\n",
              "       [3],\n",
              "       [4],\n",
              "       [5],\n",
              "       [6]])"
            ]
          },
          "metadata": {},
          "execution_count": 67
        }
      ],
      "source": [
        "# 행 벡터를 전치합니다.\n",
        "np.array([[1, 2, 3, 4, 5, 6]]).T"
      ]
    },
    {
      "cell_type": "markdown",
      "metadata": {
        "id": "NJaGpJpFWgD8"
      },
      "source": [
        "### 덧붙임"
      ]
    },
    {
      "cell_type": "code",
      "execution_count": 68,
      "metadata": {
        "id": "5B6RhaddWgEC",
        "outputId": "d4eaa302-0525-4121-edf1-29fe8ca87956",
        "colab": {
          "base_uri": "https://localhost:8080/"
        }
      },
      "outputs": [
        {
          "output_type": "execute_result",
          "data": {
            "text/plain": [
              "array([[1, 4, 7],\n",
              "       [2, 5, 8],\n",
              "       [3, 6, 9]])"
            ]
          },
          "metadata": {},
          "execution_count": 68
        }
      ],
      "source": [
        "matrix.transpose()"
      ]
    },
    {
      "cell_type": "code",
      "execution_count": 69,
      "metadata": {
        "id": "RZ4pPVi3WgEC",
        "outputId": "ad9d3d87-2ed2-4020-dad1-de6d63995507",
        "colab": {
          "base_uri": "https://localhost:8080/"
        }
      },
      "outputs": [
        {
          "output_type": "execute_result",
          "data": {
            "text/plain": [
              "array([[[ 1,  3,  5],\n",
              "        [ 2,  4,  6]],\n",
              "\n",
              "       [[ 7,  9, 11],\n",
              "        [ 8, 10, 12]]])"
            ]
          },
          "metadata": {},
          "execution_count": 69
        }
      ],
      "source": [
        "# 2x3x2 행렬을 만듭니다.\n",
        "matrix = np.array([[[ 1,  2],\n",
        "                    [ 3,  4],\n",
        "                    [ 5,  6]],\n",
        "\n",
        "                   [[ 7,  8],\n",
        "                    [ 9, 10],\n",
        "                    [11, 12]]])\n",
        "\n",
        "# 두 번째와 세 번째 차원을 바꾸어 2x2x3 행렬로 만듭니다.\n",
        "matrix.transpose((0, 2, 1))"
      ]
    },
    {
      "cell_type": "markdown",
      "metadata": {
        "id": "dzZYWXVdWgEN"
      },
      "source": [
        "## 1.11 행렬 펼치기"
      ]
    },
    {
      "cell_type": "code",
      "execution_count": 70,
      "metadata": {
        "id": "r5ey9U8NWgEO",
        "outputId": "7182e70a-7fec-4e0f-e24b-ceee57a6e825",
        "colab": {
          "base_uri": "https://localhost:8080/"
        }
      },
      "outputs": [
        {
          "output_type": "execute_result",
          "data": {
            "text/plain": [
              "array([1, 2, 3, 4, 5, 6, 7, 8, 9])"
            ]
          },
          "metadata": {},
          "execution_count": 70
        }
      ],
      "source": [
        "# 라이브러리를 임포트합니다.\n",
        "import numpy as np\n",
        "\n",
        "# 행렬을 만듭니다.\n",
        "matrix = np.array([[1, 2, 3],\n",
        "                   [4, 5, 6],\n",
        "                   [7, 8, 9]])\n",
        "\n",
        "# 행렬을 펼칩니다.\n",
        "matrix.flatten()"
      ]
    },
    {
      "cell_type": "code",
      "execution_count": 71,
      "metadata": {
        "id": "32zvMH4mWgEO",
        "outputId": "f6d34d18-ca2e-4dd4-eedc-bbc2cb883672",
        "colab": {
          "base_uri": "https://localhost:8080/"
        }
      },
      "outputs": [
        {
          "output_type": "execute_result",
          "data": {
            "text/plain": [
              "array([[1, 2, 3, 4, 5, 6, 7, 8, 9]])"
            ]
          },
          "metadata": {},
          "execution_count": 71
        }
      ],
      "source": [
        "matrix.reshape(1, -1)"
      ]
    },
    {
      "cell_type": "markdown",
      "metadata": {
        "id": "NeE132mdWgEO"
      },
      "source": [
        "### 덧붙임"
      ]
    },
    {
      "cell_type": "code",
      "execution_count": 72,
      "metadata": {
        "id": "_q39Mt76WgEO",
        "outputId": "877d3faf-9b99-47b9-9e73-76bfcfc663b4",
        "colab": {
          "base_uri": "https://localhost:8080/"
        }
      },
      "outputs": [
        {
          "output_type": "execute_result",
          "data": {
            "text/plain": [
              "array([-1,  2,  3,  4,  5,  6,  7,  8,  9])"
            ]
          },
          "metadata": {},
          "execution_count": 72
        }
      ],
      "source": [
        "vector_reshaped = matrix.reshape(-1)\n",
        "vector_flattened = matrix.flatten()\n",
        "\n",
        "# (0, 0) 위치의 원소를 바꿉니다.\n",
        "matrix[0][0] = -1\n",
        "\n",
        "# 배열의 뷰는 원본 배열의 변경 사항을 반영합니다.\n",
        "vector_reshaped"
      ]
    },
    {
      "cell_type": "code",
      "execution_count": 73,
      "metadata": {
        "id": "fbnxJtb0WgEQ",
        "outputId": "804574ec-54f4-4038-ed31-5535610cea48",
        "colab": {
          "base_uri": "https://localhost:8080/"
        }
      },
      "outputs": [
        {
          "output_type": "execute_result",
          "data": {
            "text/plain": [
              "array([1, 2, 3, 4, 5, 6, 7, 8, 9])"
            ]
          },
          "metadata": {},
          "execution_count": 73
        }
      ],
      "source": [
        "# 복사된 배열에는 영향이 미치지 않습니다.\n",
        "vector_flattened"
      ]
    },
    {
      "cell_type": "markdown",
      "metadata": {
        "id": "C-k3HxaRWgEQ"
      },
      "source": [
        "## 1.12 행렬의 랭크 구하기"
      ]
    },
    {
      "cell_type": "code",
      "execution_count": 74,
      "metadata": {
        "id": "zP1iS8jdWgEQ",
        "outputId": "fa099566-b220-4bba-a20d-fb1e718743ce",
        "colab": {
          "base_uri": "https://localhost:8080/"
        }
      },
      "outputs": [
        {
          "output_type": "execute_result",
          "data": {
            "text/plain": [
              "2"
            ]
          },
          "metadata": {},
          "execution_count": 74
        }
      ],
      "source": [
        "# 라이브러리를 임포트합니다.\n",
        "import numpy as np\n",
        "\n",
        "# 행렬을 만듭니다.\n",
        "matrix = np.array([[1, 1, 1],\n",
        "                   [1, 1, 10],\n",
        "                   [1, 1, 15]])\n",
        "\n",
        "# 행렬의 랭크를 반환합니다.\n",
        "np.linalg.matrix_rank(matrix)"
      ]
    },
    {
      "cell_type": "markdown",
      "metadata": {
        "id": "IDC5FiXDWgER"
      },
      "source": [
        "### 덧붙임"
      ]
    },
    {
      "cell_type": "markdown",
      "metadata": {
        "id": "RFg2Fxk6WgER"
      },
      "source": [
        "넘파이 0.18 버전에서 `rank()` 함수가 삭제되었습니다. 대신 `ndim()` 함수를 사용하세요."
      ]
    },
    {
      "cell_type": "code",
      "execution_count": 75,
      "metadata": {
        "scrolled": true,
        "id": "MkiLJcpJWgER",
        "outputId": "4353201f-ce10-481e-fa1c-ca994939fe70",
        "colab": {
          "base_uri": "https://localhost:8080/"
        }
      },
      "outputs": [
        {
          "output_type": "execute_result",
          "data": {
            "text/plain": [
              "2"
            ]
          },
          "metadata": {},
          "execution_count": 75
        }
      ],
      "source": [
        "# 2D 배열이므로 2가 반환됩니다.\n",
        "np.ndim(matrix)"
      ]
    },
    {
      "cell_type": "code",
      "execution_count": 76,
      "metadata": {
        "id": "N6RCD6KrWgEd",
        "outputId": "a035ca62-2f9e-4949-a0a0-7ba401dbcc6d",
        "colab": {
          "base_uri": "https://localhost:8080/"
        }
      },
      "outputs": [
        {
          "output_type": "execute_result",
          "data": {
            "text/plain": [
              "2"
            ]
          },
          "metadata": {},
          "execution_count": 76
        }
      ],
      "source": [
        "# svd 함수로 특잇값만 계산합니다.\n",
        "s = np.linalg.svd(matrix, compute_uv=False)\n",
        "# 오차를 고려하여 0에 가까운 아주 작은 값을 지정합니다.\n",
        "np.sum(s > 1e-10)"
      ]
    },
    {
      "cell_type": "markdown",
      "metadata": {
        "id": "QSWyK3GRWgEe"
      },
      "source": [
        "## 1.13 행렬식 계산하기"
      ]
    },
    {
      "cell_type": "code",
      "execution_count": 77,
      "metadata": {
        "id": "igWf2WKkWgEe",
        "outputId": "ef73fa57-3054-4874-c76d-f23a279a6239",
        "colab": {
          "base_uri": "https://localhost:8080/"
        }
      },
      "outputs": [
        {
          "output_type": "execute_result",
          "data": {
            "text/plain": [
              "0.0"
            ]
          },
          "metadata": {},
          "execution_count": 77
        }
      ],
      "source": [
        "# 라이브러리를 임포트합니다.\n",
        "import numpy as np\n",
        "\n",
        "# 행렬을 만듭니다.\n",
        "matrix = np.array([[1, 2, 3],\n",
        "                   [2, 4, 6],\n",
        "                   [3, 8, 9]])\n",
        "\n",
        "# 행렬의 행렬식을 반환합니다.\n",
        "np.linalg.det(matrix)"
      ]
    },
    {
      "cell_type": "markdown",
      "metadata": {
        "id": "uX5-74RvWgEe"
      },
      "source": [
        "## 1.14 행렬의 대각 원소 추출하기"
      ]
    },
    {
      "cell_type": "code",
      "execution_count": 78,
      "metadata": {
        "id": "Kyn9cm_fWgEf",
        "outputId": "5dda9ab6-15e1-4f78-f538-da54282d40ba",
        "colab": {
          "base_uri": "https://localhost:8080/"
        }
      },
      "outputs": [
        {
          "output_type": "execute_result",
          "data": {
            "text/plain": [
              "array([1, 4, 9])"
            ]
          },
          "metadata": {},
          "execution_count": 78
        }
      ],
      "source": [
        "# 라이브러리를 임포트합니다.\n",
        "import numpy as np\n",
        "\n",
        "# 행렬을 만듭니다.\n",
        "matrix = np.array([[1, 2, 3],\n",
        "                   [2, 4, 6],\n",
        "                   [3, 8, 9]])\n",
        "\n",
        "# 대각 원소를 반환합니다.\n",
        "matrix.diagonal()"
      ]
    },
    {
      "cell_type": "markdown",
      "metadata": {
        "id": "XTZRpHHbWgEg"
      },
      "source": [
        "### 덧붙임"
      ]
    },
    {
      "cell_type": "code",
      "execution_count": 79,
      "metadata": {
        "id": "F_BFUQTNWgEg"
      },
      "outputs": [],
      "source": [
        "# 반환된 배열을 변경하려면 복사해야 합니다.\n",
        "a = matrix.diagonal().copy()"
      ]
    },
    {
      "cell_type": "code",
      "execution_count": 80,
      "metadata": {
        "id": "gHIKmTjpWgEg",
        "outputId": "34b0391e-3af2-4830-e7fc-e808b0ab7121",
        "colab": {
          "base_uri": "https://localhost:8080/"
        }
      },
      "outputs": [
        {
          "output_type": "stream",
          "name": "stdout",
          "text": [
            "[1 4 9]\n"
          ]
        }
      ],
      "source": [
        "a = np.diag(matrix)\n",
        "print(a)"
      ]
    },
    {
      "cell_type": "code",
      "execution_count": 81,
      "metadata": {
        "id": "iX8zzLVcWgEh",
        "outputId": "be8a6ff1-a7e5-467e-e18e-1aed025c73bb",
        "colab": {
          "base_uri": "https://localhost:8080/"
        }
      },
      "outputs": [
        {
          "output_type": "execute_result",
          "data": {
            "text/plain": [
              "array([[1, 0, 0],\n",
              "       [0, 4, 0],\n",
              "       [0, 0, 9]])"
            ]
          },
          "metadata": {},
          "execution_count": 81
        }
      ],
      "source": [
        "# 1차원 배열이 주어지면 2차원 대각행렬을 만듭니다.\n",
        "np.diag(a)"
      ]
    },
    {
      "cell_type": "markdown",
      "metadata": {
        "id": "rCXtVU5jWgEh"
      },
      "source": [
        "## 1.15 행렬의 대각합 계산"
      ]
    },
    {
      "cell_type": "code",
      "execution_count": 82,
      "metadata": {
        "id": "PuJ_e5V3WgEh",
        "outputId": "66673e7a-0612-4a20-90e4-9b79d990cdaf",
        "colab": {
          "base_uri": "https://localhost:8080/"
        }
      },
      "outputs": [
        {
          "output_type": "execute_result",
          "data": {
            "text/plain": [
              "14"
            ]
          },
          "metadata": {},
          "execution_count": 82
        }
      ],
      "source": [
        "# 라이브러리를 임포트합니다.\n",
        "import numpy as np\n",
        "\n",
        "# 행렬을 만듭니다.\n",
        "matrix = np.array([[1, 2, 3],\n",
        "                   [2, 4, 6],\n",
        "                   [3, 8, 9]])\n",
        "\n",
        "# 대각합을 반환합니다.\n",
        "matrix.trace()"
      ]
    },
    {
      "cell_type": "code",
      "execution_count": 83,
      "metadata": {
        "id": "f1IDPWftWgEi",
        "outputId": "30a5f10d-7cd1-4e34-ac8e-13e2c3cde1ca",
        "colab": {
          "base_uri": "https://localhost:8080/"
        }
      },
      "outputs": [
        {
          "output_type": "execute_result",
          "data": {
            "text/plain": [
              "14"
            ]
          },
          "metadata": {},
          "execution_count": 83
        }
      ],
      "source": [
        "# 대각 원소를 사용하여 합을 구합니다.\n",
        "sum(matrix.diagonal())"
      ]
    },
    {
      "cell_type": "markdown",
      "metadata": {
        "id": "4_xn_m_pWgEi"
      },
      "source": [
        "### 덧붙임"
      ]
    },
    {
      "cell_type": "code",
      "execution_count": 84,
      "metadata": {
        "id": "rRuWrypwWgEi",
        "outputId": "96e08a00-bf5c-4508-82c1-445eb4df7976",
        "colab": {
          "base_uri": "https://localhost:8080/"
        }
      },
      "outputs": [
        {
          "output_type": "execute_result",
          "data": {
            "text/plain": [
              "8"
            ]
          },
          "metadata": {},
          "execution_count": 84
        }
      ],
      "source": [
        "# 주 대각선 하나 위의 대각 원소의 합을 반환합니다.\n",
        "matrix.trace(offset=1)"
      ]
    },
    {
      "cell_type": "code",
      "execution_count": 85,
      "metadata": {
        "id": "uc16_x8nWgEj",
        "outputId": "d30a01b3-5d38-4edb-8a89-0094ed72b6aa",
        "colab": {
          "base_uri": "https://localhost:8080/"
        }
      },
      "outputs": [
        {
          "output_type": "execute_result",
          "data": {
            "text/plain": [
              "10"
            ]
          },
          "metadata": {},
          "execution_count": 85
        }
      ],
      "source": [
        "# 주 대각선 하나 아래의 대각 원소의 합을 반환합니다.\n",
        "matrix.trace(offset=-1)"
      ]
    },
    {
      "cell_type": "markdown",
      "metadata": {
        "id": "6o8KmSSQWgEk"
      },
      "source": [
        "## 1.16 고윳값과 고유벡터 찾기"
      ]
    },
    {
      "cell_type": "code",
      "execution_count": 86,
      "metadata": {
        "id": "XQmZnLvlWgEk",
        "outputId": "875e193b-c07f-4cf7-dc20-659f9cbf6750",
        "colab": {
          "base_uri": "https://localhost:8080/"
        }
      },
      "outputs": [
        {
          "output_type": "execute_result",
          "data": {
            "text/plain": [
              "array([13.55075847,  0.74003145, -3.29078992])"
            ]
          },
          "metadata": {},
          "execution_count": 86
        }
      ],
      "source": [
        "# 라이브러리를 임포트합니다.\n",
        "import numpy as np\n",
        "\n",
        "# 행렬을 만듭니다.\n",
        "matrix = np.array([[1, -1, 3],\n",
        "                   [1, 1, 6],\n",
        "                   [3, 8, 9]])\n",
        "\n",
        "# 고윳값과 고유벡터를 계산합니다.\n",
        "eigenvalues, eigenvectors = np.linalg.eig(matrix)\n",
        "# 고윳값을 확인합니다.\n",
        "eigenvalues"
      ]
    },
    {
      "cell_type": "code",
      "execution_count": 87,
      "metadata": {
        "id": "tJn4lD1IWgEl",
        "outputId": "8a1d854a-8c05-417f-ef76-56bb37b6a28d",
        "colab": {
          "base_uri": "https://localhost:8080/"
        }
      },
      "outputs": [
        {
          "output_type": "execute_result",
          "data": {
            "text/plain": [
              "array([[-0.17622017, -0.96677403, -0.53373322],\n",
              "       [-0.435951  ,  0.2053623 , -0.64324848],\n",
              "       [-0.88254925,  0.15223105,  0.54896288]])"
            ]
          },
          "metadata": {},
          "execution_count": 87
        }
      ],
      "source": [
        "# 고유벡터를 확인합니다.\n",
        "eigenvectors"
      ]
    },
    {
      "cell_type": "markdown",
      "metadata": {
        "id": "nh0FMlQGWgEm"
      },
      "source": [
        "### 덧붙임"
      ]
    },
    {
      "cell_type": "code",
      "execution_count": 88,
      "metadata": {
        "id": "Fble_VTNWgEn"
      },
      "outputs": [],
      "source": [
        "# 대칭 행렬을 만듭니다.\n",
        "matrix = np.array([[1, -1, 3],\n",
        "                   [-1, 1, 6],\n",
        "                   [3, 6, 9]])\n",
        "\n",
        "# 고윳값과 고유벡터를 계산합니다.\n",
        "eigenvalues, eigenvectors = np.linalg.eigh(matrix)"
      ]
    },
    {
      "cell_type": "markdown",
      "metadata": {
        "id": "Za7VLQkAWgEn"
      },
      "source": [
        "## 1.17 점곱 계산"
      ]
    },
    {
      "cell_type": "code",
      "execution_count": 89,
      "metadata": {
        "id": "D_apluLiWgEo",
        "outputId": "c2a7c131-ae2c-494a-8237-3a69697ff337",
        "colab": {
          "base_uri": "https://localhost:8080/"
        }
      },
      "outputs": [
        {
          "output_type": "execute_result",
          "data": {
            "text/plain": [
              "32"
            ]
          },
          "metadata": {},
          "execution_count": 89
        }
      ],
      "source": [
        "# 라이브러리를 임포트합니다.\n",
        "import numpy as np\n",
        "\n",
        "# 두 벡터를 만듭니다.\n",
        "vector_a = np.array([1,2,3])\n",
        "vector_b = np.array([4,5,6])\n",
        "\n",
        "# 점곱을 계산합니다.\n",
        "np.dot(vector_a, vector_b)"
      ]
    },
    {
      "cell_type": "markdown",
      "metadata": {
        "id": "ldtBP-E1WgEo"
      },
      "source": [
        "### 덧붙임"
      ]
    },
    {
      "cell_type": "code",
      "execution_count": 90,
      "metadata": {
        "id": "i67SefXLWgEo"
      },
      "outputs": [],
      "source": [
        "scalar_a = np.array(1)\n",
        "scalar_b = np.array(2)"
      ]
    },
    {
      "cell_type": "code",
      "execution_count": 91,
      "metadata": {
        "id": "itUw0t37WgGY",
        "outputId": "b88ea0ac-f254-4976-c24c-66ed17ca56ca",
        "colab": {
          "base_uri": "https://localhost:8080/"
        }
      },
      "outputs": [
        {
          "output_type": "execute_result",
          "data": {
            "text/plain": [
              "2"
            ]
          },
          "metadata": {},
          "execution_count": 91
        }
      ],
      "source": [
        "np.dot(scalar_a, scalar_b)"
      ]
    },
    {
      "cell_type": "code",
      "execution_count": 92,
      "metadata": {
        "id": "6dzbr1ghWgGY",
        "outputId": "61768c49-43b6-4f29-c4cf-68d670bc955e",
        "colab": {
          "base_uri": "https://localhost:8080/",
          "height": 165
        }
      },
      "outputs": [
        {
          "output_type": "error",
          "ename": "ValueError",
          "evalue": "matmul: Input operand 0 does not have enough dimensions (has 0, gufunc core with signature (n?,k),(k,m?)->(n?,m?) requires 1)",
          "traceback": [
            "\u001b[0;31m---------------------------------------------------------------------------\u001b[0m",
            "\u001b[0;31mValueError\u001b[0m                                Traceback (most recent call last)",
            "\u001b[0;32m<ipython-input-92-36d968e1a1af>\u001b[0m in \u001b[0;36m<cell line: 2>\u001b[0;34m()\u001b[0m\n\u001b[1;32m      1\u001b[0m \u001b[0;31m# 스칼라 배열에 적용되지 않습니다.\u001b[0m\u001b[0;34m\u001b[0m\u001b[0;34m\u001b[0m\u001b[0m\n\u001b[0;32m----> 2\u001b[0;31m \u001b[0mscalar_a\u001b[0m \u001b[0;34m@\u001b[0m \u001b[0mscalar_b\u001b[0m\u001b[0;34m\u001b[0m\u001b[0;34m\u001b[0m\u001b[0m\n\u001b[0m",
            "\u001b[0;31mValueError\u001b[0m: matmul: Input operand 0 does not have enough dimensions (has 0, gufunc core with signature (n?,k),(k,m?)->(n?,m?) requires 1)"
          ]
        }
      ],
      "source": [
        "# 스칼라 배열에 적용되지 않습니다.\n",
        "scalar_a @ scalar_b"
      ]
    },
    {
      "cell_type": "markdown",
      "metadata": {
        "id": "Qdf1NtUCWgGe"
      },
      "source": [
        "## 1.18 행렬 덧셈과 뺄셈"
      ]
    },
    {
      "cell_type": "code",
      "execution_count": 93,
      "metadata": {
        "id": "Y8RcWjrRWgGe",
        "outputId": "f06214f4-361e-4e7d-89aa-aa79b657f021",
        "colab": {
          "base_uri": "https://localhost:8080/"
        }
      },
      "outputs": [
        {
          "output_type": "execute_result",
          "data": {
            "text/plain": [
              "array([[ 2,  4,  2],\n",
              "       [ 2,  4,  2],\n",
              "       [ 2,  4, 10]])"
            ]
          },
          "metadata": {},
          "execution_count": 93
        }
      ],
      "source": [
        "# 라이브러리를 임포트합니다.\n",
        "import numpy as np\n",
        "\n",
        "# 행렬을 만듭니다.\n",
        "matrix_a = np.array([[1, 1, 1],\n",
        "                     [1, 1, 1],\n",
        "                     [1, 1, 2]])\n",
        "\n",
        "# 행렬을 만듭니다.\n",
        "matrix_b = np.array([[1, 3, 1],\n",
        "                     [1, 3, 1],\n",
        "                     [1, 3, 8]])\n",
        "\n",
        "# 두 행렬을 더합니다.\n",
        "np.add(matrix_a, matrix_b)"
      ]
    },
    {
      "cell_type": "code",
      "execution_count": 94,
      "metadata": {
        "id": "VDIWHzUgWgGf",
        "outputId": "5561125d-9a93-44ab-8007-705637cc9b1d",
        "colab": {
          "base_uri": "https://localhost:8080/"
        }
      },
      "outputs": [
        {
          "output_type": "execute_result",
          "data": {
            "text/plain": [
              "array([[ 0, -2,  0],\n",
              "       [ 0, -2,  0],\n",
              "       [ 0, -2, -6]])"
            ]
          },
          "metadata": {},
          "execution_count": 94
        }
      ],
      "source": [
        "# 두 행렬을 뺍니다.\n",
        "np.subtract(matrix_a, matrix_b)"
      ]
    },
    {
      "cell_type": "code",
      "execution_count": 95,
      "metadata": {
        "id": "66fxWQACWgGh",
        "outputId": "70aed5d8-8f22-4559-b6a1-9d04cc338451",
        "colab": {
          "base_uri": "https://localhost:8080/"
        }
      },
      "outputs": [
        {
          "output_type": "execute_result",
          "data": {
            "text/plain": [
              "array([[ 2,  4,  2],\n",
              "       [ 2,  4,  2],\n",
              "       [ 2,  4, 10]])"
            ]
          },
          "metadata": {},
          "execution_count": 95
        }
      ],
      "source": [
        "# 두 행렬을 더합니다.\n",
        "matrix_a + matrix_b"
      ]
    },
    {
      "cell_type": "markdown",
      "metadata": {
        "id": "kE1bHhWZWgGh"
      },
      "source": [
        "## 1.19 행렬 곱셈"
      ]
    },
    {
      "cell_type": "code",
      "execution_count": 96,
      "metadata": {
        "id": "xdS2Q1TlWgGh",
        "outputId": "f7e1fb6c-0067-4281-b495-2d1f3f97fe98",
        "colab": {
          "base_uri": "https://localhost:8080/"
        }
      },
      "outputs": [
        {
          "output_type": "execute_result",
          "data": {
            "text/plain": [
              "array([[2, 5],\n",
              "       [3, 7]])"
            ]
          },
          "metadata": {},
          "execution_count": 96
        }
      ],
      "source": [
        "# 라이브러리를 임포트합니다.\n",
        "import numpy as np\n",
        "\n",
        "# 행렬을 만듭니다.\n",
        "matrix_a = np.array([[1, 1],\n",
        "                     [1, 2]])\n",
        "\n",
        "# 행렬을 만듭니다.\n",
        "matrix_b = np.array([[1, 3],\n",
        "                     [1, 2]])\n",
        "\n",
        "# 두 행렬을 곱합니다.\n",
        "np.dot(matrix_a, matrix_b)"
      ]
    },
    {
      "cell_type": "code",
      "execution_count": 97,
      "metadata": {
        "id": "BONWNRXNWgGi",
        "outputId": "f8bcd3cf-55ba-4c19-953f-21285000d2a4",
        "colab": {
          "base_uri": "https://localhost:8080/"
        }
      },
      "outputs": [
        {
          "output_type": "execute_result",
          "data": {
            "text/plain": [
              "array([[2, 5],\n",
              "       [3, 7]])"
            ]
          },
          "metadata": {},
          "execution_count": 97
        }
      ],
      "source": [
        "# 두 행렬을 곱합니다.\n",
        "matrix_a @ matrix_b"
      ]
    },
    {
      "cell_type": "code",
      "execution_count": 98,
      "metadata": {
        "id": "nMQ2g_3IWgGi",
        "outputId": "52eaa8bc-6db8-45a8-dccc-88c64beb80f4",
        "colab": {
          "base_uri": "https://localhost:8080/"
        }
      },
      "outputs": [
        {
          "output_type": "execute_result",
          "data": {
            "text/plain": [
              "array([[1, 3],\n",
              "       [1, 4]])"
            ]
          },
          "metadata": {},
          "execution_count": 98
        }
      ],
      "source": [
        "# 두 행렬의 원소별 곱셈을 수행합니다.\n",
        "matrix_a * matrix_b"
      ]
    },
    {
      "cell_type": "markdown",
      "metadata": {
        "id": "ioiNsIWnWgGi"
      },
      "source": [
        "### 덧붙임"
      ]
    },
    {
      "cell_type": "code",
      "execution_count": 99,
      "metadata": {
        "id": "HXu5BqlYWgGi",
        "outputId": "6cd26bd9-1dab-4bf6-bdc9-1274a33b95b7",
        "colab": {
          "base_uri": "https://localhost:8080/"
        }
      },
      "outputs": [
        {
          "output_type": "execute_result",
          "data": {
            "text/plain": [
              "(2, 1, 4, 1, 3, 6)"
            ]
          },
          "metadata": {},
          "execution_count": 99
        }
      ],
      "source": [
        "a = np.random.rand(2, 1, 4, 5)\n",
        "b = np.random.rand(1, 3, 5, 6)\n",
        "\n",
        "np.dot(a, b).shape"
      ]
    },
    {
      "cell_type": "code",
      "execution_count": 100,
      "metadata": {
        "id": "6k5k0GiJWgGi",
        "outputId": "e34d4ce4-3ada-47c8-b707-991e00aaffc4",
        "colab": {
          "base_uri": "https://localhost:8080/"
        }
      },
      "outputs": [
        {
          "output_type": "execute_result",
          "data": {
            "text/plain": [
              "(2, 3, 4, 6)"
            ]
          },
          "metadata": {},
          "execution_count": 100
        }
      ],
      "source": [
        "np.matmul(a, b).shape"
      ]
    },
    {
      "cell_type": "markdown",
      "metadata": {
        "id": "Xm9E_r_2WgGj"
      },
      "source": [
        "## 1.20 역행렬"
      ]
    },
    {
      "cell_type": "code",
      "execution_count": 101,
      "metadata": {
        "id": "iYjZ-Kd3WgGj",
        "outputId": "728c3719-4189-48a7-b34c-ba315b6f1ba2",
        "colab": {
          "base_uri": "https://localhost:8080/"
        }
      },
      "outputs": [
        {
          "output_type": "execute_result",
          "data": {
            "text/plain": [
              "array([[-1.66666667,  1.33333333],\n",
              "       [ 0.66666667, -0.33333333]])"
            ]
          },
          "metadata": {},
          "execution_count": 101
        }
      ],
      "source": [
        "# 라이브러리를 임포트합니다.\n",
        "import numpy as np\n",
        "\n",
        "# 행렬을 만듭니다.\n",
        "matrix = np.array([[1, 4],\n",
        "                   [2, 5]])\n",
        "\n",
        "# 역행렬을 계산합니다.\n",
        "np.linalg.inv(matrix)"
      ]
    },
    {
      "cell_type": "code",
      "execution_count": 102,
      "metadata": {
        "id": "Hc-nYWJwWgGj",
        "outputId": "7b267b62-78c7-4b40-f823-133d7ee30ef8",
        "colab": {
          "base_uri": "https://localhost:8080/"
        }
      },
      "outputs": [
        {
          "output_type": "execute_result",
          "data": {
            "text/plain": [
              "array([[1.00000000e+00, 0.00000000e+00],\n",
              "       [1.11022302e-16, 1.00000000e+00]])"
            ]
          },
          "metadata": {},
          "execution_count": 102
        }
      ],
      "source": [
        "# 행렬과 역행렬을 곱합니다.\n",
        "matrix @ np.linalg.inv(matrix)"
      ]
    },
    {
      "cell_type": "markdown",
      "metadata": {
        "id": "RP51Ja92WgGj"
      },
      "source": [
        "### 덧붙임"
      ]
    },
    {
      "cell_type": "code",
      "execution_count": 103,
      "metadata": {
        "id": "sjp4DwwxWgGk",
        "outputId": "1f87bdba-edda-4b8b-cef4-51c15024c96a",
        "colab": {
          "base_uri": "https://localhost:8080/"
        }
      },
      "outputs": [
        {
          "output_type": "execute_result",
          "data": {
            "text/plain": [
              "array([[-1.16666667,  1.        ],\n",
              "       [-0.33333333,  0.33333333],\n",
              "       [ 0.5       , -0.33333333]])"
            ]
          },
          "metadata": {},
          "execution_count": 103
        }
      ],
      "source": [
        "matrix = np.array([[1, 4, 7],\n",
        "                   [2, 5, 8]])\n",
        "\n",
        "# 유사 역행렬을 계산합니다.\n",
        "np.linalg.pinv(matrix)"
      ]
    },
    {
      "cell_type": "markdown",
      "metadata": {
        "id": "4syZTTKFWgGk"
      },
      "source": [
        "## 1.21 난수 생성"
      ]
    },
    {
      "cell_type": "code",
      "execution_count": 104,
      "metadata": {
        "id": "6RLwdjevWgGk",
        "outputId": "9c8c27b0-88dc-482a-84c3-32f7d74d66c6",
        "colab": {
          "base_uri": "https://localhost:8080/"
        }
      },
      "outputs": [
        {
          "output_type": "execute_result",
          "data": {
            "text/plain": [
              "array([0.5488135 , 0.71518937, 0.60276338])"
            ]
          },
          "metadata": {},
          "execution_count": 104
        }
      ],
      "source": [
        "# 라이브러리를 임포트합니다.\n",
        "import numpy as np\n",
        "\n",
        "# 초깃값을 지정합니다.\n",
        "np.random.seed(0)\n",
        "\n",
        "# 0.0과 1.0 사이에서 세 개의 실수 난수를 생성합니다.\n",
        "np.random.random(3)"
      ]
    },
    {
      "cell_type": "code",
      "execution_count": 105,
      "metadata": {
        "id": "8lO68NM6WgGk",
        "outputId": "6da9740f-e92f-4488-de0f-94be0daa2ed0",
        "colab": {
          "base_uri": "https://localhost:8080/"
        }
      },
      "outputs": [
        {
          "output_type": "execute_result",
          "data": {
            "text/plain": [
              "array([3, 7, 9])"
            ]
          },
          "metadata": {},
          "execution_count": 105
        }
      ],
      "source": [
        "# 1과 10 사이에서 세 개의 정수 난수를 생성합니다.\n",
        "np.random.randint(0, 11, 3)"
      ]
    },
    {
      "cell_type": "code",
      "execution_count": 106,
      "metadata": {
        "id": "4xSd3XgbWgGl",
        "outputId": "e01b15e9-00df-4d59-e20b-a4d0ce793cb4",
        "colab": {
          "base_uri": "https://localhost:8080/"
        }
      },
      "outputs": [
        {
          "output_type": "execute_result",
          "data": {
            "text/plain": [
              "array([-1.42232584,  1.52006949, -0.29139398])"
            ]
          },
          "metadata": {},
          "execution_count": 106
        }
      ],
      "source": [
        "# 평균이 0.0이고 표준 편차가 1.0인 정규 분포에서 세 개의 수를 뽑습니다.\n",
        "np.random.normal(0.0, 1.0, 3)"
      ]
    },
    {
      "cell_type": "code",
      "execution_count": 107,
      "metadata": {
        "id": "9dZ-GwytWgGl",
        "outputId": "b1dfacc8-a2fb-4aeb-a3ac-3585913732dd",
        "colab": {
          "base_uri": "https://localhost:8080/"
        }
      },
      "outputs": [
        {
          "output_type": "execute_result",
          "data": {
            "text/plain": [
              "array([-0.98118713, -0.08939902,  1.46416405])"
            ]
          },
          "metadata": {},
          "execution_count": 107
        }
      ],
      "source": [
        "# 평균이 0.0이고 스케일이 1.0인 로지스틱 분포에서 세 개의 수를 뽑습니다.\n",
        "np.random.logistic(0.0, 1.0, 3)"
      ]
    },
    {
      "cell_type": "code",
      "execution_count": 108,
      "metadata": {
        "id": "iBa5PIzPWgGl",
        "outputId": "c277148d-a739-44e6-cbb2-55297a9d6057",
        "colab": {
          "base_uri": "https://localhost:8080/"
        }
      },
      "outputs": [
        {
          "output_type": "execute_result",
          "data": {
            "text/plain": [
              "array([1.47997717, 1.3927848 , 1.83607876])"
            ]
          },
          "metadata": {},
          "execution_count": 108
        }
      ],
      "source": [
        "# 1.0보다 크거나 같고 2.0보다 작은 세 개의 수를 뽑습니다.\n",
        "np.random.uniform(1.0, 2.0, 3)"
      ]
    },
    {
      "cell_type": "markdown",
      "metadata": {
        "id": "39x_JDzDWgGm"
      },
      "source": [
        "### 덧붙임"
      ]
    },
    {
      "cell_type": "code",
      "execution_count": 109,
      "metadata": {
        "id": "ALE0Psf5WgGn",
        "outputId": "48882417-d190-4dec-a0ba-42542198aca2",
        "colab": {
          "base_uri": "https://localhost:8080/"
        }
      },
      "outputs": [
        {
          "output_type": "execute_result",
          "data": {
            "text/plain": [
              "array([[0.33739616, 0.64817187, 0.36824154],\n",
              "       [0.95715516, 0.14035078, 0.87008726]])"
            ]
          },
          "metadata": {},
          "execution_count": 109
        }
      ],
      "source": [
        "# 0.0(포함)과 1.0 사이에서 세 개의 실수 난수를 생성합니다.\n",
        "# np.random.random((2, 3)), np.random.sample((2, 3)),\n",
        "# np.random.uniform(0.0, 1.0, (2, 3))과 동일합니다.\n",
        "np.random.random_sample((2, 3))"
      ]
    },
    {
      "cell_type": "code",
      "execution_count": 110,
      "metadata": {
        "id": "tsFza7KyWgGo",
        "outputId": "bfd64d70-6785-4354-ad88-e91876796cbd",
        "colab": {
          "base_uri": "https://localhost:8080/"
        }
      },
      "outputs": [
        {
          "output_type": "execute_result",
          "data": {
            "text/plain": [
              "array([[0.47360805, 0.80091075, 0.52047748],\n",
              "       [0.67887953, 0.72063265, 0.58201979]])"
            ]
          },
          "metadata": {},
          "execution_count": 110
        }
      ],
      "source": [
        "# np.random.random_sample((2, 3))과 동일합니다.\n",
        "np.random.rand(2, 3)"
      ]
    },
    {
      "cell_type": "code",
      "execution_count": 111,
      "metadata": {
        "id": "AjP49JNoWgGo",
        "outputId": "6e60b221-7035-4838-f8e4-b4fc58e6e39b",
        "colab": {
          "base_uri": "https://localhost:8080/"
        }
      },
      "outputs": [
        {
          "output_type": "execute_result",
          "data": {
            "text/plain": [
              "array([0, 0, 0, 0, 0, 0, 0, 0, 0, 0])"
            ]
          },
          "metadata": {},
          "execution_count": 111
        }
      ],
      "source": [
        "np.random.randint(0, 1, 10)"
      ]
    },
    {
      "cell_type": "code",
      "execution_count": 112,
      "metadata": {
        "id": "ovYOA8ATWgGp",
        "outputId": "6674eeb8-ef7d-4aed-8d7f-13af9bbfd4df",
        "colab": {
          "base_uri": "https://localhost:8080/"
        }
      },
      "outputs": [
        {
          "output_type": "execute_result",
          "data": {
            "text/plain": [
              "array([[-0.13309028,  1.59456053,  0.23043417],\n",
              "       [-0.06491034, -0.96898025,  0.59124281]])"
            ]
          },
          "metadata": {},
          "execution_count": 112
        }
      ],
      "source": [
        "# np.random.normal(0.0, 1.0, (2, 3))과 동일합니다.\n",
        "np.random.standard_normal((2, 3))"
      ]
    },
    {
      "cell_type": "code",
      "execution_count": 113,
      "metadata": {
        "id": "IJMdtqI4WgGp",
        "outputId": "49817ae0-92a0-4af4-88d2-e905b13d7f4b",
        "colab": {
          "base_uri": "https://localhost:8080/"
        }
      },
      "outputs": [
        {
          "output_type": "execute_result",
          "data": {
            "text/plain": [
              "array([[-0.7827755 , -0.44423283, -0.34518616],\n",
              "       [-0.88180055, -0.44265324, -0.5409163 ]])"
            ]
          },
          "metadata": {},
          "execution_count": 113
        }
      ],
      "source": [
        "# np.random.normal(0.0, 1.0, (2, 3))과 동일합니다.\n",
        "np.random.randn(2, 3)"
      ]
    },
    {
      "cell_type": "code",
      "execution_count": 114,
      "metadata": {
        "id": "akZvd4twWgGp",
        "outputId": "b1862422-f496-40bc-e4ff-80fa76081efd",
        "colab": {
          "base_uri": "https://localhost:8080/"
        }
      },
      "outputs": [
        {
          "output_type": "execute_result",
          "data": {
            "text/plain": [
              "array([0, 1, 2, 2, 0])"
            ]
          },
          "metadata": {},
          "execution_count": 114
        }
      ],
      "source": [
        "# 0~2 사이의 정수 중 랜덤하게 10번을 뽑습니다.\n",
        "# np.random.choice(3, 5)와 동일합니다.\n",
        "np.random.choice([0,1,2], 5)"
      ]
    },
    {
      "cell_type": "code",
      "execution_count": 115,
      "metadata": {
        "id": "Es-HV09AWgGq",
        "outputId": "0d08e733-7bb2-4567-9376-4fd862e86644",
        "colab": {
          "base_uri": "https://localhost:8080/"
        }
      },
      "outputs": [
        {
          "output_type": "execute_result",
          "data": {
            "text/plain": [
              "array([0, 2, 3, 4, 1])"
            ]
          },
          "metadata": {},
          "execution_count": 115
        }
      ],
      "source": [
        "a = np.array([0, 1, 2, 3, 4])\n",
        "np.random.shuffle(a)\n",
        "a"
      ]
    },
    {
      "cell_type": "code",
      "execution_count": 116,
      "metadata": {
        "id": "nIxTkUi-WgGq",
        "outputId": "abf40bd1-850e-4e38-996a-c3fca4d1a34d",
        "colab": {
          "base_uri": "https://localhost:8080/"
        }
      },
      "outputs": [
        {
          "output_type": "execute_result",
          "data": {
            "text/plain": [
              "array([2, 0, 1, 3, 4])"
            ]
          },
          "metadata": {},
          "execution_count": 116
        }
      ],
      "source": [
        "# a는 변경되지 않습니다.\n",
        "np.random.permutation(a)"
      ]
    },
    {
      "cell_type": "code",
      "execution_count": 117,
      "metadata": {
        "id": "K8mXYXesWgGr",
        "outputId": "01972d1e-2de8-4d77-9311-9962bbb24f5b",
        "colab": {
          "base_uri": "https://localhost:8080/"
        }
      },
      "outputs": [
        {
          "output_type": "execute_result",
          "data": {
            "text/plain": [
              "array([4, 1, 2, 0, 3])"
            ]
          },
          "metadata": {},
          "execution_count": 117
        }
      ],
      "source": [
        "np.random.permutation(5)"
      ]
    }
  ],
  "metadata": {
    "kernelspec": {
      "display_name": "Python 3 (ipykernel)",
      "language": "python",
      "name": "python3"
    },
    "language_info": {
      "codemirror_mode": {
        "name": "ipython",
        "version": 3
      },
      "file_extension": ".py",
      "mimetype": "text/x-python",
      "name": "python",
      "nbconvert_exporter": "python",
      "pygments_lexer": "ipython3",
      "version": "3.10.13"
    },
    "colab": {
      "provenance": []
    }
  },
  "nbformat": 4,
  "nbformat_minor": 0
}