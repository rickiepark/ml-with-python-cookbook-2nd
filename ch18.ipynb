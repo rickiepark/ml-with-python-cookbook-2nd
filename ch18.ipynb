{
  "cells": [
    {
      "cell_type": "markdown",
      "metadata": {
        "id": "_I0drIf5zKVH"
      },
      "source": [
        "# 18장. 나이브 베이즈"
      ]
    },
    {
      "cell_type": "markdown",
      "metadata": {
        "id": "APWhwCctzKVO"
      },
      "source": [
        "<table align=\"left\"><tr><td>\n",
        "<a href=\"https://colab.research.google.com/github/rickiepark/ml-with-python-cookbook-2nd/blob/main/ch18.ipynb\" target=\"_parent\"><img src=\"https://colab.research.google.com/assets/colab-badge.svg\" alt=\"코랩에서 실행하기\"/></a>\n",
        "</td></tr></table>"
      ]
    },
    {
      "cell_type": "code",
      "execution_count": 1,
      "metadata": {
        "id": "uBq1Ia6BzKVR",
        "outputId": "22f771ab-24fa-414f-ac29-fb930a1ee316",
        "colab": {
          "base_uri": "https://localhost:8080/"
        }
      },
      "outputs": [
        {
          "output_type": "stream",
          "name": "stdout",
          "text": [
            "numpy 1.25.2\n",
            "sklearn 1.2.2\n"
          ]
        }
      ],
      "source": [
        "import numpy as np\n",
        "import sklearn\n",
        "\n",
        "print('numpy', np.__version__)\n",
        "print('sklearn', sklearn.__version__)"
      ]
    },
    {
      "cell_type": "markdown",
      "metadata": {
        "id": "EeG8uAVtzKVT"
      },
      "source": [
        "## 18.1 연속적인 특성으로 분류기 훈련하기"
      ]
    },
    {
      "cell_type": "code",
      "execution_count": 2,
      "metadata": {
        "id": "86XXmtyNzKVV"
      },
      "outputs": [],
      "source": [
        "# 라이브러리를 임포트합니다.\n",
        "from sklearn import datasets\n",
        "from sklearn.naive_bayes import GaussianNB\n",
        "\n",
        "# 데이터를 로드합니다.\n",
        "iris = datasets.load_iris()\n",
        "features = iris.data\n",
        "target = iris.target\n",
        "\n",
        "# 가우시안 나이브 베이지 객체를 만듭니다.\n",
        "classifer = GaussianNB()\n",
        "\n",
        "# 모델을 훈련합니다.\n",
        "model = classifer.fit(features, target)"
      ]
    },
    {
      "cell_type": "code",
      "execution_count": 3,
      "metadata": {
        "id": "ke_eEhl-zKVX",
        "outputId": "f02c81b7-ea2e-48ad-d165-3bf2706e016d",
        "colab": {
          "base_uri": "https://localhost:8080/"
        }
      },
      "outputs": [
        {
          "output_type": "execute_result",
          "data": {
            "text/plain": [
              "array([1])"
            ]
          },
          "metadata": {},
          "execution_count": 3
        }
      ],
      "source": [
        "# 새로운 샘플을 만듭니다.\n",
        "new_observation = [[ 4,  4,  4,  0.4]]\n",
        "\n",
        "# 클래스를 예측합니다.\n",
        "model.predict(new_observation)"
      ]
    },
    {
      "cell_type": "code",
      "execution_count": 4,
      "metadata": {
        "id": "krC277FxzKVa"
      },
      "outputs": [],
      "source": [
        "# 각 클래스별 사전 확률을 지정한 가우시안 나이브 베이즈 객체를 만듭니다.\n",
        "clf = GaussianNB(priors=[0.25, 0.25, 0.5])\n",
        "\n",
        "# 모델을 훈련합니다.\n",
        "model = classifer.fit(features, target)"
      ]
    },
    {
      "cell_type": "markdown",
      "metadata": {
        "id": "FKrxRrfpzKVc"
      },
      "source": [
        "## 18.2 이산적인 카운트 특성으로 분류기 훈련하기"
      ]
    },
    {
      "cell_type": "code",
      "execution_count": 5,
      "metadata": {
        "id": "QL6UzNIkzKVe"
      },
      "outputs": [],
      "source": [
        "# 라이브러리를 임포트합니다.\n",
        "import numpy as np\n",
        "from sklearn.naive_bayes import MultinomialNB\n",
        "from sklearn.feature_extraction.text import CountVectorizer\n",
        "\n",
        "# 텍스트를 만듭니다.\n",
        "text_data = np.array(['I love Brazil. Brazil!',\n",
        "                      'Brazil is best',\n",
        "                      'Germany beats both'])\n",
        "\n",
        "# BoW(bag of words)를 만듭니다.\n",
        "count = CountVectorizer()\n",
        "bag_of_words = count.fit_transform(text_data)\n",
        "\n",
        "# 특성 행렬을 만듭니다.\n",
        "features = bag_of_words.toarray()\n",
        "\n",
        "# 타깃 벡터를 만듭니다.\n",
        "target = np.array([0,0,1])\n",
        "\n",
        "# 각 클래스별 사전 확률을 지정한 다항 나이브 베이즈 객체를 만듭니다.\n",
        "classifer = MultinomialNB(class_prior=[0.25, 0.5])\n",
        "\n",
        "# 모델을 훈련합니다.\n",
        "model = classifer.fit(features, target)"
      ]
    },
    {
      "cell_type": "code",
      "execution_count": 6,
      "metadata": {
        "id": "i3OM4qPGzKVe",
        "outputId": "b09b2c9e-ef8c-42ed-f593-689df31cbc5c",
        "colab": {
          "base_uri": "https://localhost:8080/"
        }
      },
      "outputs": [
        {
          "output_type": "execute_result",
          "data": {
            "text/plain": [
              "array([0])"
            ]
          },
          "metadata": {},
          "execution_count": 6
        }
      ],
      "source": [
        "# 새로운 샘플을 만듭니다.\n",
        "new_observation = [[0, 0, 0, 1, 0, 1, 0]]\n",
        "\n",
        "# 새로운 샘플의 클래스를 예측합니다.\n",
        "model.predict(new_observation)"
      ]
    },
    {
      "cell_type": "markdown",
      "metadata": {
        "id": "C04E5S8RzKVf"
      },
      "source": [
        "## 18.3 이진 특성으로 나이브 베이지 분류기 훈련하기"
      ]
    },
    {
      "cell_type": "code",
      "execution_count": 7,
      "metadata": {
        "id": "DvwHRquwzKVf"
      },
      "outputs": [],
      "source": [
        "# 라이브러리를 임포트합니다.\n",
        "import numpy as np\n",
        "from sklearn.naive_bayes import BernoulliNB\n",
        "\n",
        "# 세 개의 이진 특성을 만듭니다.\n",
        "features = np.random.randint(2, size=(100, 3))\n",
        "\n",
        "# 이진 타깃 벡터를 만듭니다.\n",
        "target = np.random.randint(2, size=(100, 1)).ravel()\n",
        "\n",
        "# 각 클래스별 사전 확률을 지정하여 베르누이 나이브 베이즈 객체를 만듭니다.\n",
        "classifer = BernoulliNB(class_prior=[0.25, 0.5])\n",
        "\n",
        "# 모델을 훈련합니다.\n",
        "model = classifer.fit(features, target)"
      ]
    },
    {
      "cell_type": "code",
      "execution_count": 8,
      "metadata": {
        "id": "JCsowgl4zKVg"
      },
      "outputs": [],
      "source": [
        "model_uniform_prior = BernoulliNB(class_prior=None, fit_prior=True)"
      ]
    },
    {
      "cell_type": "markdown",
      "metadata": {
        "id": "0j3lTuRdzKVg"
      },
      "source": [
        "## 18.4 예측 확률 보정하기"
      ]
    },
    {
      "cell_type": "code",
      "execution_count": 9,
      "metadata": {
        "id": "Hllpnjp8zKVg",
        "outputId": "ad83f914-65c3-42d2-d4e6-104eb71360a0",
        "colab": {
          "base_uri": "https://localhost:8080/"
        }
      },
      "outputs": [
        {
          "output_type": "execute_result",
          "data": {
            "text/plain": [
              "array([[0.31859969, 0.63663466, 0.04476565]])"
            ]
          },
          "metadata": {},
          "execution_count": 9
        }
      ],
      "source": [
        "# 라이브러리를 임포트합니다.\n",
        "from sklearn import datasets\n",
        "from sklearn.naive_bayes import GaussianNB\n",
        "from sklearn.calibration import CalibratedClassifierCV\n",
        "\n",
        "# 데이터를 로드합니다.\n",
        "iris = datasets.load_iris()\n",
        "features = iris.data\n",
        "target = iris.target\n",
        "\n",
        "# 가우시안 나이브 베이즈 객체를 만듭니다.\n",
        "classifer = GaussianNB()\n",
        "\n",
        "# 시그모이드 보정을 사용해 보정 교차 검증을 만듭니다.\n",
        "classifer_sigmoid = CalibratedClassifierCV(classifer, cv=2, method='sigmoid')\n",
        "\n",
        "# 확률을 보정합니다.\n",
        "classifer_sigmoid.fit(features, target)\n",
        "\n",
        "# 새로운 샘플을 만듭니다.\n",
        "new_observation = [[ 2.6,  2.6,  2.6,  0.4]]\n",
        "\n",
        "# 보정된 확률을 확인합니다.\n",
        "classifer_sigmoid.predict_proba(new_observation)"
      ]
    },
    {
      "cell_type": "code",
      "execution_count": 10,
      "metadata": {
        "id": "25LClvhNzKVh",
        "outputId": "3962c41f-4744-4516-b7aa-30fae7311075",
        "colab": {
          "base_uri": "https://localhost:8080/"
        }
      },
      "outputs": [
        {
          "output_type": "execute_result",
          "data": {
            "text/plain": [
              "array([[2.31548432e-04, 9.99768128e-01, 3.23532277e-07]])"
            ]
          },
          "metadata": {},
          "execution_count": 10
        }
      ],
      "source": [
        "# 가우시안 나이브 베이즈를 훈련하고 클래스 확률을 예측합니다.\n",
        "classifer.fit(features, target).predict_proba(new_observation)"
      ]
    },
    {
      "cell_type": "code",
      "execution_count": 11,
      "metadata": {
        "id": "Vdot9ptHzKVi",
        "outputId": "0b744840-ad75-40b4-c816-afd44cbdd0f2",
        "colab": {
          "base_uri": "https://localhost:8080/"
        }
      },
      "outputs": [
        {
          "output_type": "execute_result",
          "data": {
            "text/plain": [
              "array([[0.31859969, 0.63663466, 0.04476565]])"
            ]
          },
          "metadata": {},
          "execution_count": 11
        }
      ],
      "source": [
        "# 보정된 확률을 확인합니다.\n",
        "classifer_sigmoid.predict_proba(new_observation)"
      ]
    }
  ],
  "metadata": {
    "kernelspec": {
      "display_name": "Python 3 (ipykernel)",
      "language": "python",
      "name": "python3"
    },
    "language_info": {
      "codemirror_mode": {
        "name": "ipython",
        "version": 3
      },
      "file_extension": ".py",
      "mimetype": "text/x-python",
      "name": "python",
      "nbconvert_exporter": "python",
      "pygments_lexer": "ipython3",
      "version": "3.10.13"
    },
    "colab": {
      "provenance": []
    }
  },
  "nbformat": 4,
  "nbformat_minor": 0
}