{
  "cells": [
    {
      "cell_type": "markdown",
      "metadata": {
        "id": "qPaS2uxsfdpn"
      },
      "source": [
        "# 6장. 텍스트 다루기"
      ]
    },
    {
      "cell_type": "markdown",
      "metadata": {
        "id": "LA6vaLGBfdps"
      },
      "source": [
        "<table align=\"left\"><tr><td>\n",
        "<a href=\"https://colab.research.google.com/github/rickiepark/ml-with-python-cookbook-2nd/blob/main/ch06.ipynb\" target=\"_parent\"><img src=\"https://colab.research.google.com/assets/colab-badge.svg\" alt=\"코랩에서 실행하기\"/></a>\n",
        "</td></tr></table>"
      ]
    },
    {
      "cell_type": "code",
      "source": [
        "!pip install konlpy"
      ],
      "metadata": {
        "id": "ky6GtPcsfkH_",
        "outputId": "aefb1c66-13c2-4785-f1b8-f9a3ba938bf9",
        "colab": {
          "base_uri": "https://localhost:8080/"
        }
      },
      "execution_count": 1,
      "outputs": [
        {
          "output_type": "stream",
          "name": "stdout",
          "text": [
            "Collecting konlpy\n",
            "  Downloading konlpy-0.6.0-py2.py3-none-any.whl (19.4 MB)\n",
            "\u001b[2K     \u001b[90m━━━━━━━━━━━━━━━━━━━━━━━━━━━━━━━━━━━━━━━━\u001b[0m \u001b[32m19.4/19.4 MB\u001b[0m \u001b[31m36.2 MB/s\u001b[0m eta \u001b[36m0:00:00\u001b[0m\n",
            "\u001b[?25hCollecting JPype1>=0.7.0 (from konlpy)\n",
            "  Downloading JPype1-1.5.0-cp310-cp310-manylinux_2_17_x86_64.manylinux2014_x86_64.whl (488 kB)\n",
            "\u001b[2K     \u001b[90m━━━━━━━━━━━━━━━━━━━━━━━━━━━━━━━━━━━━━━━━\u001b[0m \u001b[32m488.6/488.6 kB\u001b[0m \u001b[31m37.7 MB/s\u001b[0m eta \u001b[36m0:00:00\u001b[0m\n",
            "\u001b[?25hRequirement already satisfied: lxml>=4.1.0 in /usr/local/lib/python3.10/dist-packages (from konlpy) (4.9.4)\n",
            "Requirement already satisfied: numpy>=1.6 in /usr/local/lib/python3.10/dist-packages (from konlpy) (1.25.2)\n",
            "Requirement already satisfied: packaging in /usr/local/lib/python3.10/dist-packages (from JPype1>=0.7.0->konlpy) (23.2)\n",
            "Installing collected packages: JPype1, konlpy\n",
            "Successfully installed JPype1-1.5.0 konlpy-0.6.0\n"
          ]
        }
      ]
    },
    {
      "cell_type": "code",
      "execution_count": 3,
      "metadata": {
        "id": "FlBcmX1afdpt",
        "outputId": "d7893198-e958-46d4-bdb8-85511368d38a",
        "colab": {
          "base_uri": "https://localhost:8080/"
        }
      },
      "outputs": [
        {
          "output_type": "stream",
          "name": "stdout",
          "text": [
            "numpy 1.25.2\n",
            "sklearn 1.2.2\n",
            "bs4 4.12.3\n",
            "nltk 3.8.1\n",
            "konlpy 0.6.0\n",
            "spacy 3.7.4\n",
            "transformers 4.37.2\n"
          ]
        }
      ],
      "source": [
        "import numpy as np\n",
        "import sklearn\n",
        "import bs4\n",
        "import nltk\n",
        "import konlpy\n",
        "import spacy\n",
        "import transformers\n",
        "\n",
        "print('numpy', np.__version__)\n",
        "print('sklearn', sklearn.__version__)\n",
        "print('bs4', bs4.__version__)\n",
        "print('nltk', nltk.__version__)\n",
        "print('konlpy', konlpy.__version__)\n",
        "print('spacy', spacy.__version__)\n",
        "print('transformers', transformers.__version__)"
      ]
    },
    {
      "cell_type": "markdown",
      "metadata": {
        "id": "sB4gytnxfdpv"
      },
      "source": [
        "## 6.1 텍스트 정제"
      ]
    },
    {
      "cell_type": "code",
      "execution_count": 4,
      "metadata": {
        "id": "01Tx_UVJfdpv",
        "outputId": "95dcb8d4-8d49-4774-d876-08673a00bcff",
        "colab": {
          "base_uri": "https://localhost:8080/"
        }
      },
      "outputs": [
        {
          "output_type": "execute_result",
          "data": {
            "text/plain": [
              "['Interrobang. By Aishwarya Henriette',\n",
              " 'Parking And Going. By Karl Gautier',\n",
              " 'Today Is The night. By Jarek Prakash']"
            ]
          },
          "metadata": {},
          "execution_count": 4
        }
      ],
      "source": [
        "# 텍스트를 만듭니다.\n",
        "text_data = [\"   Interrobang. By Aishwarya Henriette     \",\n",
        "             \"Parking And Going. By Karl Gautier\",\n",
        "             \"    Today Is The night. By Jarek Prakash   \"]\n",
        "\n",
        "# 공백 문자를 제거합니다.\n",
        "strip_whitespace = [string.strip() for string in text_data]\n",
        "\n",
        "# 텍스트를 확인합니다.\n",
        "strip_whitespace"
      ]
    },
    {
      "cell_type": "code",
      "execution_count": 5,
      "metadata": {
        "id": "MJ6MVHb4fdpx",
        "outputId": "15d0c010-f57d-48ad-d2f9-ce89bb0742ab",
        "colab": {
          "base_uri": "https://localhost:8080/"
        }
      },
      "outputs": [
        {
          "output_type": "execute_result",
          "data": {
            "text/plain": [
              "['Interrobang By Aishwarya Henriette',\n",
              " 'Parking And Going By Karl Gautier',\n",
              " 'Today Is The night By Jarek Prakash']"
            ]
          },
          "metadata": {},
          "execution_count": 5
        }
      ],
      "source": [
        "# 마침표를 제거합니다.\n",
        "remove_periods = [string.replace(\".\", \"\") for string in strip_whitespace]\n",
        "\n",
        "# 텍스트를 확인합니다.\n",
        "remove_periods"
      ]
    },
    {
      "cell_type": "code",
      "execution_count": 6,
      "metadata": {
        "id": "vMXE9LDMfdpx",
        "outputId": "b8e64bd0-7f1c-48a4-bd89-e62271ae9b26",
        "colab": {
          "base_uri": "https://localhost:8080/"
        }
      },
      "outputs": [
        {
          "output_type": "execute_result",
          "data": {
            "text/plain": [
              "['INTERROBANG BY AISHWARYA HENRIETTE',\n",
              " 'PARKING AND GOING BY KARL GAUTIER',\n",
              " 'TODAY IS THE NIGHT BY JAREK PRAKASH']"
            ]
          },
          "metadata": {},
          "execution_count": 6
        }
      ],
      "source": [
        "# 함수를 만듭니다.\n",
        "def capitalizer(string: str) -> str:\n",
        "    return string.upper()\n",
        "\n",
        "# 함수를 적용합니다.\n",
        "[capitalizer(string) for string in remove_periods]"
      ]
    },
    {
      "cell_type": "code",
      "execution_count": 7,
      "metadata": {
        "id": "WaRL6s1_fdpy",
        "outputId": "6aa28b1f-8a1e-4c3f-dc95-5a6e806d8d70",
        "colab": {
          "base_uri": "https://localhost:8080/"
        }
      },
      "outputs": [
        {
          "output_type": "execute_result",
          "data": {
            "text/plain": [
              "['XXXXXXXXXXX XX XXXXXXXXX XXXXXXXXX',\n",
              " 'XXXXXXX XXX XXXXX XX XXXX XXXXXXX',\n",
              " 'XXXXX XX XXX XXXXX XX XXXXX XXXXXXX']"
            ]
          },
          "metadata": {},
          "execution_count": 7
        }
      ],
      "source": [
        "# 라이브러리를 임포트합니다.\n",
        "import re\n",
        "\n",
        "# 함수를 만듭니다.\n",
        "def replace_letters_with_X(string: str) -> str:\n",
        "    return re.sub(r\"[a-zA-Z]\", \"X\", string)\n",
        "\n",
        "# 함수를 적용합니다.\n",
        "[replace_letters_with_X(string) for string in remove_periods]"
      ]
    },
    {
      "cell_type": "code",
      "execution_count": 8,
      "metadata": {
        "id": "rLFubpvgfdpz",
        "outputId": "11dc8f51-4ad1-45b9-bb45-455604347375",
        "colab": {
          "base_uri": "https://localhost:8080/"
        }
      },
      "outputs": [
        {
          "output_type": "stream",
          "name": "stdout",
          "text": [
            "5|True|False|False|False|b'machine learning in python cookbook'|machine learning in python cookbook\n"
          ]
        }
      ],
      "source": [
        "# 문자열을 정의합니다.\n",
        "s = \"machine learning in python cookbook\"\n",
        "\n",
        "# 문자 \"n\"의 첫 번째 인덱스를 찾습니다.\n",
        "find_n = s.find(\"n\")\n",
        "\n",
        "# \"m\"으로 시작하는 문자열인지 확인합니다.\n",
        "starts_with_m = s.startswith(\"m\")\n",
        "\n",
        "# \"python\"으로 끝나는 문자열인지 확인합니다.\n",
        "ends_with_python = s.endswith(\"python\")\n",
        "\n",
        "# 문자열이 알파벳과 숫자로 이루어져 있는지 확인합니다.\n",
        "is_alnum = s.isalnum()\n",
        "\n",
        "# (공백을 제외한) 알파벳으로만 이루어졌는지 확인하니다.\n",
        "is_alpha = s.isalpha()\n",
        "\n",
        "# utf-8로 인코딩합니다.\n",
        "encode_as_utf8 = s.encode(\"utf-8\")\n",
        "\n",
        "# utf-8로 디코딩합니다.\n",
        "decode = encode_as_utf8.decode(\"utf-8\")\n",
        "\n",
        "print(\n",
        "  find_n,\n",
        "  starts_with_m,\n",
        "  ends_with_python,\n",
        "  is_alnum,\n",
        "  is_alpha,\n",
        "  encode_as_utf8,\n",
        "  decode,\n",
        "  sep = \"|\"\n",
        ")"
      ]
    },
    {
      "cell_type": "markdown",
      "metadata": {
        "id": "BP5xbxuufdp0"
      },
      "source": [
        "## 6.2 HTML 파싱과 정제"
      ]
    },
    {
      "cell_type": "code",
      "execution_count": 9,
      "metadata": {
        "id": "jfCRvPTdfdp2",
        "outputId": "616924ce-0c5f-4ff3-c36d-501728f17d4b",
        "colab": {
          "base_uri": "https://localhost:8080/",
          "height": 38
        }
      },
      "outputs": [
        {
          "output_type": "execute_result",
          "data": {
            "text/plain": [
              "'Masego Azra'"
            ],
            "application/vnd.google.colaboratory.intrinsic+json": {
              "type": "string"
            }
          },
          "metadata": {},
          "execution_count": 9
        }
      ],
      "source": [
        "# 라이브러리를 임포트합니다.\n",
        "from bs4 import BeautifulSoup\n",
        "\n",
        "# 예제 HTML 코드를 만듭니다.\n",
        "html = \"<div class='full_name'>\"\\\n",
        "       \"<span style='font-weight:bold'>Masego\"\\\n",
        "       \"</span> Azra</div>\"\n",
        "\n",
        "# html을 파싱합니다.\n",
        "soup = BeautifulSoup(html, \"lxml\")\n",
        "\n",
        "# \"full_name\" 이름의 클래스를 가진 div를 찾아 텍스트를 출력합니다.\n",
        "soup.find(\"div\", { \"class\" : \"full_name\" }).text"
      ]
    },
    {
      "cell_type": "markdown",
      "metadata": {
        "id": "vnaFA0Ekfdp3"
      },
      "source": [
        "## 6.3 구둣점 삭제"
      ]
    },
    {
      "cell_type": "code",
      "execution_count": 10,
      "metadata": {
        "id": "5gYp6_gzfdp4",
        "outputId": "19662e9e-ae35-4456-fd1f-1fbb4942cc9e",
        "colab": {
          "base_uri": "https://localhost:8080/"
        }
      },
      "outputs": [
        {
          "output_type": "execute_result",
          "data": {
            "text/plain": [
              "['Hi I Love This Song', '10000 Agree LoveIT', 'Right']"
            ]
          },
          "metadata": {},
          "execution_count": 10
        }
      ],
      "source": [
        "# 라이브러리를 임포트합니다.\n",
        "import unicodedata\n",
        "import sys\n",
        "\n",
        "# 텍스트를 만듭니다.\n",
        "text_data = ['Hi!!!! I. Love. This. Song....',\n",
        "             '10000% Agree!!!! #LoveIT',\n",
        "             'Right?!?!']\n",
        "\n",
        "# 구두점 문자로 이루어진 딕셔너리를 만듭니다.\n",
        "punctuation = dict.fromkeys(\n",
        "  (i for i in range(sys.maxunicode)\n",
        "  if unicodedata.category(chr(i)).startswith('P')\n",
        "  ),\n",
        "  None\n",
        ")\n",
        "\n",
        "# 문자열의 구두점을 삭제합니다.\n",
        "[string.translate(punctuation) for string in text_data]"
      ]
    },
    {
      "cell_type": "markdown",
      "metadata": {
        "id": "NvOBQvR4fdp5"
      },
      "source": [
        "## 6.4 텍스트 토큰화"
      ]
    },
    {
      "cell_type": "code",
      "execution_count": 11,
      "metadata": {
        "id": "4oC7uuZCfdp5",
        "outputId": "9b4098a2-bd5a-4d4e-be8e-c82dff8461a9",
        "colab": {
          "base_uri": "https://localhost:8080/"
        }
      },
      "outputs": [
        {
          "output_type": "stream",
          "name": "stderr",
          "text": [
            "[nltk_data] Downloading package punkt to /root/nltk_data...\n",
            "[nltk_data]   Unzipping tokenizers/punkt.zip.\n"
          ]
        },
        {
          "output_type": "execute_result",
          "data": {
            "text/plain": [
              "True"
            ]
          },
          "metadata": {},
          "execution_count": 11
        }
      ],
      "source": [
        "# 구두점 데이터를 다운로드합니다.\n",
        "import nltk\n",
        "nltk.download('punkt')"
      ]
    },
    {
      "cell_type": "code",
      "execution_count": 12,
      "metadata": {
        "id": "ukgrAkiXfdp5",
        "outputId": "a6a921a3-d02b-4805-db18-c73d16e0716f",
        "colab": {
          "base_uri": "https://localhost:8080/"
        }
      },
      "outputs": [
        {
          "output_type": "execute_result",
          "data": {
            "text/plain": [
              "['The', 'science', 'of', 'today', 'is', 'the', 'technology', 'of', 'tomorrow']"
            ]
          },
          "metadata": {},
          "execution_count": 12
        }
      ],
      "source": [
        "# 라이브러리를 임포트합니다.\n",
        "from nltk.tokenize import word_tokenize\n",
        "\n",
        "# 텍스트를 만듭니다.\n",
        "string = \"The science of today is the technology of tomorrow\"\n",
        "\n",
        "# 단어를 토큰으로 나눕니다.\n",
        "word_tokenize(string)"
      ]
    },
    {
      "cell_type": "code",
      "execution_count": 13,
      "metadata": {
        "id": "zWh1ISFofdp6",
        "outputId": "1c0cb63f-d806-4f29-8254-c01cd7592c51",
        "colab": {
          "base_uri": "https://localhost:8080/"
        }
      },
      "outputs": [
        {
          "output_type": "execute_result",
          "data": {
            "text/plain": [
              "['The science of today is the technology of tomorrow.', 'Tomorrow is today.']"
            ]
          },
          "metadata": {},
          "execution_count": 13
        }
      ],
      "source": [
        "# 라이브러리를 임포트합니다.\n",
        "from nltk.tokenize import sent_tokenize\n",
        "\n",
        "# 텍스트를 만듭니다.\n",
        "string = \"The science of today is the technology of tomorrow. Tomorrow is today.\"\n",
        "\n",
        "# 문장으로 나눕니다.\n",
        "sent_tokenize(string)"
      ]
    },
    {
      "cell_type": "markdown",
      "metadata": {
        "id": "UzsKCBgvfdp6"
      },
      "source": [
        "## 6.5 불용어 삭제"
      ]
    },
    {
      "cell_type": "code",
      "execution_count": 14,
      "metadata": {
        "id": "SytyhESYfdp6",
        "outputId": "7c079942-3638-475b-9721-003cd27c0ec0",
        "colab": {
          "base_uri": "https://localhost:8080/"
        }
      },
      "outputs": [
        {
          "output_type": "stream",
          "name": "stderr",
          "text": [
            "[nltk_data] Downloading package stopwords to /root/nltk_data...\n",
            "[nltk_data]   Unzipping corpora/stopwords.zip.\n"
          ]
        },
        {
          "output_type": "execute_result",
          "data": {
            "text/plain": [
              "True"
            ]
          },
          "metadata": {},
          "execution_count": 14
        }
      ],
      "source": [
        "# 불용어 데이터를 다운로드합니다.\n",
        "import nltk\n",
        "nltk.download('stopwords')"
      ]
    },
    {
      "cell_type": "code",
      "execution_count": 15,
      "metadata": {
        "id": "Lo01zs8Ufdp6",
        "outputId": "3f846bce-05f5-441f-ae4e-46f5ad70365e",
        "colab": {
          "base_uri": "https://localhost:8080/"
        }
      },
      "outputs": [
        {
          "output_type": "execute_result",
          "data": {
            "text/plain": [
              "['going', 'go', 'store', 'park']"
            ]
          },
          "metadata": {},
          "execution_count": 15
        }
      ],
      "source": [
        "# 라이브러리를 임포트합니다.\n",
        "from nltk.corpus import stopwords\n",
        "\n",
        "# 단어 토큰을 만듭니다.\n",
        "tokenized_words = ['i',\n",
        "                   'am',\n",
        "                   'going',\n",
        "                   'to',\n",
        "                   'go',\n",
        "                   'to',\n",
        "                   'the',\n",
        "                   'store',\n",
        "                   'and',\n",
        "                   'park']\n",
        "\n",
        "# 불용어를 적재합니다.\n",
        "stop_words = stopwords.words('english')\n",
        "\n",
        "# 불용어를 삭제합니다.\n",
        "[word for word in tokenized_words if word not in stop_words]"
      ]
    },
    {
      "cell_type": "code",
      "execution_count": 16,
      "metadata": {
        "id": "HVzWU7Rmfdp7",
        "outputId": "3171f70a-b3a5-4bd1-b4da-4e92c214c9c3",
        "colab": {
          "base_uri": "https://localhost:8080/"
        }
      },
      "outputs": [
        {
          "output_type": "execute_result",
          "data": {
            "text/plain": [
              "['i', 'me', 'my', 'myself', 'we']"
            ]
          },
          "metadata": {},
          "execution_count": 16
        }
      ],
      "source": [
        "# 불용어를 확인합니다.\n",
        "stop_words[:5]"
      ]
    },
    {
      "cell_type": "code",
      "execution_count": 17,
      "metadata": {
        "id": "BRKrtt0gfdp7",
        "outputId": "5460dd1c-daf5-4e64-da0f-c4c34c26c78b",
        "colab": {
          "base_uri": "https://localhost:8080/",
          "height": 186
        }
      },
      "outputs": [
        {
          "output_type": "execute_result",
          "data": {
            "text/plain": [
              "<bound method CorpusReader.abspath of <WordListCorpusReader in '/root/nltk_data/corpora/stopwords'>>"
            ],
            "text/html": [
              "<div style=\"max-width:800px; border: 1px solid var(--colab-border-color);\"><style>\n",
              "      pre.function-repr-contents {\n",
              "        overflow-x: auto;\n",
              "        padding: 8px 12px;\n",
              "        max-height: 500px;\n",
              "      }\n",
              "\n",
              "      pre.function-repr-contents.function-repr-contents-collapsed {\n",
              "        cursor: pointer;\n",
              "        max-height: 100px;\n",
              "      }\n",
              "    </style>\n",
              "    <pre style=\"white-space: initial; background:\n",
              "         var(--colab-secondary-surface-color); padding: 8px 12px;\n",
              "         border-bottom: 1px solid var(--colab-border-color);\"><b>nltk.corpus.reader.api.CorpusReader.abspath</b><br/>def abspath(fileid)</pre><pre class=\"function-repr-contents function-repr-contents-collapsed\" style=\"\"><a class=\"filepath\" style=\"display:none\" href=\"#\">/usr/local/lib/python3.10/dist-packages/nltk/corpus/reader/api.py</a>Return the absolute path for the given file.\n",
              "\n",
              ":type fileid: str\n",
              ":param fileid: The file identifier for the file whose path\n",
              "    should be returned.\n",
              ":rtype: PathPointer</pre>\n",
              "      <script>\n",
              "      if (google.colab.kernel.accessAllowed && google.colab.files && google.colab.files.view) {\n",
              "        for (const element of document.querySelectorAll('.filepath')) {\n",
              "          element.style.display = 'block'\n",
              "          element.onclick = (event) => {\n",
              "            event.preventDefault();\n",
              "            event.stopPropagation();\n",
              "            google.colab.files.view(element.textContent, 161);\n",
              "          };\n",
              "        }\n",
              "      }\n",
              "      for (const element of document.querySelectorAll('.function-repr-contents')) {\n",
              "        element.onclick = (event) => {\n",
              "          event.preventDefault();\n",
              "          event.stopPropagation();\n",
              "          element.classList.toggle('function-repr-contents-collapsed');\n",
              "        };\n",
              "      }\n",
              "      </script>\n",
              "      </div>"
            ]
          },
          "metadata": {},
          "execution_count": 17
        }
      ],
      "source": [
        "stopwords.abspath"
      ]
    },
    {
      "cell_type": "markdown",
      "metadata": {
        "id": "QkPraxhPfdp7"
      },
      "source": [
        "## 붙임"
      ]
    },
    {
      "cell_type": "code",
      "execution_count": 18,
      "metadata": {
        "id": "dWW1E_jnfdp7",
        "outputId": "b122cd0f-7e57-4345-cec6-303523cba65a",
        "colab": {
          "base_uri": "https://localhost:8080/"
        }
      },
      "outputs": [
        {
          "output_type": "execute_result",
          "data": {
            "text/plain": [
              "(318, 179)"
            ]
          },
          "metadata": {},
          "execution_count": 18
        }
      ],
      "source": [
        "from sklearn.feature_extraction.text import ENGLISH_STOP_WORDS\n",
        "\n",
        "len(ENGLISH_STOP_WORDS), len(stop_words)"
      ]
    },
    {
      "cell_type": "code",
      "execution_count": 19,
      "metadata": {
        "id": "8oSCkCjHfdp8",
        "outputId": "809f4f4e-e054-4004-8391-b9bf0214c963",
        "colab": {
          "base_uri": "https://localhost:8080/"
        }
      },
      "outputs": [
        {
          "output_type": "execute_result",
          "data": {
            "text/plain": [
              "['re', 'name', 'anywhere', 'still', 'me']"
            ]
          },
          "metadata": {},
          "execution_count": 19
        }
      ],
      "source": [
        "list(ENGLISH_STOP_WORDS)[:5]"
      ]
    },
    {
      "cell_type": "markdown",
      "metadata": {
        "id": "agY42R4_fdp9"
      },
      "source": [
        "## 6.6 어간 추출"
      ]
    },
    {
      "cell_type": "code",
      "execution_count": 20,
      "metadata": {
        "id": "H9Kx19Msfdp-",
        "outputId": "5e05e8db-36f7-4b24-9d01-8e5382c11ca0",
        "colab": {
          "base_uri": "https://localhost:8080/"
        }
      },
      "outputs": [
        {
          "output_type": "execute_result",
          "data": {
            "text/plain": [
              "['i', 'am', 'humbl', 'by', 'thi', 'tradit', 'meet']"
            ]
          },
          "metadata": {},
          "execution_count": 20
        }
      ],
      "source": [
        "# 라이브러리를 임포트합니다.\n",
        "from nltk.stem.porter import PorterStemmer\n",
        "\n",
        "# 단어 토큰을 만듭니다.\n",
        "tokenized_words = ['i', 'am', 'humbled', 'by', 'this', 'traditional', 'meeting']\n",
        "\n",
        "# 어간 추출기를 만듭니다.\n",
        "porter = PorterStemmer()\n",
        "\n",
        "# 어간 추출기를 적용합니다.\n",
        "[porter.stem(word) for word in tokenized_words]"
      ]
    },
    {
      "cell_type": "markdown",
      "metadata": {
        "id": "6C7nkGVJfdp-"
      },
      "source": [
        "## 6.7 품사 태깅"
      ]
    },
    {
      "cell_type": "code",
      "execution_count": 21,
      "metadata": {
        "id": "4Q2c4Hh3fdp_",
        "outputId": "17260df2-8555-451c-d0b9-01853214dcc9",
        "colab": {
          "base_uri": "https://localhost:8080/"
        }
      },
      "outputs": [
        {
          "output_type": "stream",
          "name": "stderr",
          "text": [
            "[nltk_data] Downloading package averaged_perceptron_tagger to\n",
            "[nltk_data]     /root/nltk_data...\n",
            "[nltk_data]   Unzipping taggers/averaged_perceptron_tagger.zip.\n"
          ]
        },
        {
          "output_type": "execute_result",
          "data": {
            "text/plain": [
              "True"
            ]
          },
          "metadata": {},
          "execution_count": 21
        }
      ],
      "source": [
        "# 태거를 다운로드합니다.\n",
        "import nltk\n",
        "nltk.download('averaged_perceptron_tagger')"
      ]
    },
    {
      "cell_type": "code",
      "execution_count": 22,
      "metadata": {
        "id": "ilB8tS8RfdqC",
        "outputId": "a43476c4-a4d1-41c9-fa55-883dfa34f37b",
        "colab": {
          "base_uri": "https://localhost:8080/"
        }
      },
      "outputs": [
        {
          "output_type": "execute_result",
          "data": {
            "text/plain": [
              "[('Chris', 'NNP'), ('loved', 'VBD'), ('outdoor', 'RP'), ('running', 'VBG')]"
            ]
          },
          "metadata": {},
          "execution_count": 22
        }
      ],
      "source": [
        "# 라이브러리를 임포트합니다.\n",
        "from nltk import pos_tag\n",
        "from nltk import word_tokenize\n",
        "\n",
        "# 텍스트를 만듭니다.\n",
        "text_data = \"Chris loved outdoor running\"\n",
        "\n",
        "# 사전 훈련된 품사 태깅을 사용합니다.\n",
        "text_tagged = pos_tag(word_tokenize(text_data))\n",
        "\n",
        "# 품사를 확인합니다.\n",
        "text_tagged"
      ]
    },
    {
      "cell_type": "code",
      "execution_count": 23,
      "metadata": {
        "id": "0QCSKnWCfdqC",
        "outputId": "2b75f2c9-d77a-4572-fd91-38b21925c059",
        "colab": {
          "base_uri": "https://localhost:8080/"
        }
      },
      "outputs": [
        {
          "output_type": "execute_result",
          "data": {
            "text/plain": [
              "['Chris']"
            ]
          },
          "metadata": {},
          "execution_count": 23
        }
      ],
      "source": [
        "# 단어를 필터링합니다.\n",
        "[word for word, tag in text_tagged if tag in ['NN','NNS','NNP','NNPS'] ]"
      ]
    },
    {
      "cell_type": "code",
      "execution_count": 24,
      "metadata": {
        "id": "e2Bx5rkRfdqC",
        "outputId": "91181dbc-5d4f-4dc6-e2b3-9e724bfc0439",
        "colab": {
          "base_uri": "https://localhost:8080/"
        }
      },
      "outputs": [
        {
          "output_type": "execute_result",
          "data": {
            "text/plain": [
              "array([[1, 1, 0, 1, 0, 1, 1, 1, 0],\n",
              "       [1, 0, 1, 1, 0, 0, 0, 0, 1],\n",
              "       [1, 0, 1, 1, 1, 0, 0, 0, 1]])"
            ]
          },
          "metadata": {},
          "execution_count": 24
        }
      ],
      "source": [
        "from sklearn.preprocessing import MultiLabelBinarizer\n",
        "\n",
        "# 텍스트를 만듭니다.\n",
        "tweets = [\"I am eating a burrito for breakfast\",\n",
        "          \"Political science is an amazing field\",\n",
        "          \"San Francisco is an awesome city\"]\n",
        "\n",
        "# 빈 리스트를 만듭니다.\n",
        "tagged_tweets = []\n",
        "\n",
        "# 각 단어와 트윗을 태깅합니다.\n",
        "for tweet in tweets:\n",
        "    tweet_tag = nltk.pos_tag(word_tokenize(tweet))\n",
        "    tagged_tweets.append([tag for word, tag in tweet_tag])\n",
        "\n",
        "# 원-핫 인코딩을 사용하여 태그를 특성으로 변환합니다.\n",
        "one_hot_multi = MultiLabelBinarizer()\n",
        "one_hot_multi.fit_transform(tagged_tweets)"
      ]
    },
    {
      "cell_type": "code",
      "execution_count": 25,
      "metadata": {
        "id": "T1Fi_glSfdqD",
        "outputId": "aad78ca5-fefd-4947-b2b4-b8d5fb28302f",
        "colab": {
          "base_uri": "https://localhost:8080/"
        }
      },
      "outputs": [
        {
          "output_type": "execute_result",
          "data": {
            "text/plain": [
              "array(['DT', 'IN', 'JJ', 'NN', 'NNP', 'PRP', 'VBG', 'VBP', 'VBZ'],\n",
              "      dtype=object)"
            ]
          },
          "metadata": {},
          "execution_count": 25
        }
      ],
      "source": [
        "# 특성 이름을 확인합니다.\n",
        "one_hot_multi.classes_"
      ]
    },
    {
      "cell_type": "markdown",
      "metadata": {
        "id": "sdLS-_pafdqD"
      },
      "source": [
        "## 붙임"
      ]
    },
    {
      "cell_type": "code",
      "execution_count": 27,
      "metadata": {
        "id": "o6G6xdTIfdqD"
      },
      "outputs": [],
      "source": [
        "from konlpy.tag import Okt\n",
        "okt = Okt()"
      ]
    },
    {
      "cell_type": "code",
      "execution_count": 28,
      "metadata": {
        "id": "Kkm3uW_9fdqD",
        "outputId": "eb06a708-423d-43fc-fa17-9946c8463ce4",
        "colab": {
          "base_uri": "https://localhost:8080/"
        }
      },
      "outputs": [
        {
          "output_type": "execute_result",
          "data": {
            "text/plain": [
              "[('태양계', 'Noun'),\n",
              " ('는', 'Josa'),\n",
              " ('지금', 'Noun'),\n",
              " ('으로부터', 'Josa'),\n",
              " ('약', 'Noun'),\n",
              " ('46억', 'Number'),\n",
              " ('년', 'Noun'),\n",
              " ('전', 'Noun'),\n",
              " (',', 'Punctuation'),\n",
              " ('거대한', 'Adjective'),\n",
              " ('분자', 'Noun'),\n",
              " ('구름', 'Noun'),\n",
              " ('의', 'Josa'),\n",
              " ('일부분', 'Noun'),\n",
              " ('이', 'Josa'),\n",
              " ('중력', 'Noun'),\n",
              " ('붕괴', 'Noun'),\n",
              " ('를', 'Josa'),\n",
              " ('일으키면서', 'Verb'),\n",
              " ('형성', 'Noun'),\n",
              " ('되었다', 'Verb')]"
            ]
          },
          "metadata": {},
          "execution_count": 28
        }
      ],
      "source": [
        "text = '태양계는 지금으로부터 약 46억 년 전, 거대한 분자 구름의 일부분이 중력 붕괴를 일으키면서 형성되었다'\n",
        "\n",
        "okt.pos(text)"
      ]
    },
    {
      "cell_type": "code",
      "execution_count": 29,
      "metadata": {
        "id": "Bx4sc4hifdqE",
        "outputId": "2766286c-8621-4517-a571-3b5fdda6736f",
        "colab": {
          "base_uri": "https://localhost:8080/"
        }
      },
      "outputs": [
        {
          "output_type": "execute_result",
          "data": {
            "text/plain": [
              "['태양계',\n",
              " '는',\n",
              " '지금',\n",
              " '으로부터',\n",
              " '약',\n",
              " '46억',\n",
              " '년',\n",
              " '전',\n",
              " ',',\n",
              " '거대한',\n",
              " '분자',\n",
              " '구름',\n",
              " '의',\n",
              " '일부분',\n",
              " '이',\n",
              " '중력',\n",
              " '붕괴',\n",
              " '를',\n",
              " '일으키면서',\n",
              " '형성',\n",
              " '되었다']"
            ]
          },
          "metadata": {},
          "execution_count": 29
        }
      ],
      "source": [
        "okt.morphs(text)"
      ]
    },
    {
      "cell_type": "code",
      "execution_count": 30,
      "metadata": {
        "id": "FrVtWTOSfdqE",
        "outputId": "1edab12c-b8d4-4258-a99d-fe4e3a70aa7a",
        "colab": {
          "base_uri": "https://localhost:8080/"
        }
      },
      "outputs": [
        {
          "output_type": "execute_result",
          "data": {
            "text/plain": [
              "['태양계', '지금', '약', '년', '전', '분자', '구름', '일부분', '중력', '붕괴', '형성']"
            ]
          },
          "metadata": {},
          "execution_count": 30
        }
      ],
      "source": [
        "okt.nouns(text)"
      ]
    },
    {
      "cell_type": "markdown",
      "metadata": {
        "id": "btV6MnQDfdqL"
      },
      "source": [
        "## 6.8 개체명 인식하기"
      ]
    },
    {
      "cell_type": "code",
      "execution_count": 31,
      "metadata": {
        "id": "dU_xoD-KfdqM",
        "outputId": "b57f6d77-f958-4710-9c6b-9b00e22eca5a",
        "colab": {
          "base_uri": "https://localhost:8080/"
        }
      },
      "outputs": [
        {
          "output_type": "stream",
          "name": "stdout",
          "text": [
            "(Elon Musk, 21B)\n",
            "Elon Musk,PERSON\n",
            "21B,MONEY\n"
          ]
        }
      ],
      "source": [
        "# 라이브러리를 임포트합니다.\n",
        "import spacy\n",
        "\n",
        "# spaCy 패키지를 로드하고 텍스트를 파싱합니다.\n",
        "# 그전에 \"python -m spacy download en\"을 실행해야 합니다.\n",
        "nlp = spacy.load(\"en_core_web_sm\")\n",
        "doc = nlp(\"Elon Musk offered to buy Twitter using $21B of his own money.\")\n",
        "\n",
        "# 개체명을 출력합니다.\n",
        "print(doc.ents)\n",
        "\n",
        "# 각 개체명의 텍스트와 레이블을 출력합니다.\n",
        "for entity in doc.ents:\n",
        "    print(entity.text, entity.label_, sep=\",\")"
      ]
    },
    {
      "cell_type": "markdown",
      "metadata": {
        "id": "q7X0UjiOfdqM"
      },
      "source": [
        "## 6.9 텍스트를 BoW로 인코딩하기"
      ]
    },
    {
      "cell_type": "code",
      "execution_count": 32,
      "metadata": {
        "id": "x5D8Rc9wfdqM",
        "outputId": "9c5a3cda-71a3-4b0a-c465-c40b1b888825",
        "colab": {
          "base_uri": "https://localhost:8080/"
        }
      },
      "outputs": [
        {
          "output_type": "execute_result",
          "data": {
            "text/plain": [
              "<3x8 sparse matrix of type '<class 'numpy.int64'>'\n",
              "\twith 8 stored elements in Compressed Sparse Row format>"
            ]
          },
          "metadata": {},
          "execution_count": 32
        }
      ],
      "source": [
        "# 라이브러리를 임포트합니다.\n",
        "import numpy as np\n",
        "from sklearn.feature_extraction.text import CountVectorizer\n",
        "\n",
        "# 텍스트를 만듭니다.\n",
        "text_data = np.array(['I love Brazil. Brazil!',\n",
        "                      'Sweden is best',\n",
        "                      'Germany beats both'])\n",
        "\n",
        "# BoW 특성 행렬을 만듭니다.\n",
        "count = CountVectorizer()\n",
        "bag_of_words = count.fit_transform(text_data)\n",
        "\n",
        "# 특성 행렬을 확인합니다.\n",
        "bag_of_words"
      ]
    },
    {
      "cell_type": "code",
      "execution_count": 33,
      "metadata": {
        "id": "YT1oY0txfdqN",
        "outputId": "50851b8c-0c95-41bb-e6b5-5a19e7f93129",
        "colab": {
          "base_uri": "https://localhost:8080/"
        }
      },
      "outputs": [
        {
          "output_type": "execute_result",
          "data": {
            "text/plain": [
              "array([[0, 0, 0, 2, 0, 0, 1, 0],\n",
              "       [0, 1, 0, 0, 0, 1, 0, 1],\n",
              "       [1, 0, 1, 0, 1, 0, 0, 0]])"
            ]
          },
          "metadata": {},
          "execution_count": 33
        }
      ],
      "source": [
        "bag_of_words.toarray()"
      ]
    },
    {
      "cell_type": "code",
      "execution_count": 34,
      "metadata": {
        "id": "iRJFd-zvfdqN",
        "outputId": "558adfc8-9607-46ae-8692-22671dd346bd",
        "colab": {
          "base_uri": "https://localhost:8080/"
        }
      },
      "outputs": [
        {
          "output_type": "execute_result",
          "data": {
            "text/plain": [
              "array(['beats', 'best', 'both', 'brazil', 'germany', 'is', 'love',\n",
              "       'sweden'], dtype=object)"
            ]
          },
          "metadata": {},
          "execution_count": 34
        }
      ],
      "source": [
        "# 특성 이름을 확인합니다.\n",
        "count.get_feature_names_out()"
      ]
    },
    {
      "cell_type": "code",
      "execution_count": 35,
      "metadata": {
        "id": "78po3iHufdqO",
        "outputId": "1e7ba28e-9cf0-47bc-dbf0-e3cf6c8f0d31",
        "colab": {
          "base_uri": "https://localhost:8080/"
        }
      },
      "outputs": [
        {
          "output_type": "execute_result",
          "data": {
            "text/plain": [
              "array([[2],\n",
              "       [0],\n",
              "       [0]])"
            ]
          },
          "metadata": {},
          "execution_count": 35
        }
      ],
      "source": [
        "# 옵션을 지정하여 특성 행렬을 만듭니다.\n",
        "count_2gram = CountVectorizer(ngram_range=(1,2),\n",
        "                              stop_words=\"english\",\n",
        "                              vocabulary=['brazil'])\n",
        "bag = count_2gram.fit_transform(text_data)\n",
        "\n",
        "# 특성 행렬을 확인합니다.\n",
        "bag.toarray()"
      ]
    },
    {
      "cell_type": "code",
      "execution_count": 36,
      "metadata": {
        "id": "JAod-hmNfdqO",
        "outputId": "dc686ad2-1e01-47ca-8db6-8e3c592fa824",
        "colab": {
          "base_uri": "https://localhost:8080/"
        }
      },
      "outputs": [
        {
          "output_type": "execute_result",
          "data": {
            "text/plain": [
              "{'brazil': 0}"
            ]
          },
          "metadata": {},
          "execution_count": 36
        }
      ],
      "source": [
        "# 1-그램과 2-그램을 확인합니다.\n",
        "count_2gram.vocabulary_"
      ]
    },
    {
      "cell_type": "markdown",
      "metadata": {
        "id": "f4AroTcyfdqO"
      },
      "source": [
        "## 6.10 단어 중요도에 가중치 부여하기"
      ]
    },
    {
      "cell_type": "code",
      "execution_count": 37,
      "metadata": {
        "id": "WkECv6u_fdqO",
        "outputId": "439c3efe-d051-4bf0-ebc5-a50365b0e5c6",
        "colab": {
          "base_uri": "https://localhost:8080/"
        }
      },
      "outputs": [
        {
          "output_type": "execute_result",
          "data": {
            "text/plain": [
              "<3x8 sparse matrix of type '<class 'numpy.float64'>'\n",
              "\twith 8 stored elements in Compressed Sparse Row format>"
            ]
          },
          "metadata": {},
          "execution_count": 37
        }
      ],
      "source": [
        "# 라이브러리를 임포트합니다.\n",
        "import numpy as np\n",
        "from sklearn.feature_extraction.text import TfidfVectorizer\n",
        "\n",
        "# 텍스트를 만듭니다.\n",
        "text_data = np.array(['I love Brazil. Brazil!',\n",
        "                      'Sweden is best',\n",
        "                      'Germany beats both'])\n",
        "\n",
        "# tf-idf 특성 행렬을 만듭니다.\n",
        "tfidf = TfidfVectorizer()\n",
        "feature_matrix = tfidf.fit_transform(text_data)\n",
        "\n",
        "# tf-idf 특성 행렬을 확인합니다.\n",
        "feature_matrix"
      ]
    },
    {
      "cell_type": "code",
      "execution_count": 38,
      "metadata": {
        "id": "d4gZ293pfdqP",
        "outputId": "875a85c8-d6ec-4b4d-8246-bbca8772f065",
        "colab": {
          "base_uri": "https://localhost:8080/"
        }
      },
      "outputs": [
        {
          "output_type": "execute_result",
          "data": {
            "text/plain": [
              "array([[0.        , 0.        , 0.        , 0.89442719, 0.        ,\n",
              "        0.        , 0.4472136 , 0.        ],\n",
              "       [0.        , 0.57735027, 0.        , 0.        , 0.        ,\n",
              "        0.57735027, 0.        , 0.57735027],\n",
              "       [0.57735027, 0.        , 0.57735027, 0.        , 0.57735027,\n",
              "        0.        , 0.        , 0.        ]])"
            ]
          },
          "metadata": {},
          "execution_count": 38
        }
      ],
      "source": [
        "# tf-idf 특성 행렬을 밀집 배열로 확인합니다.\n",
        "feature_matrix.toarray()"
      ]
    },
    {
      "cell_type": "code",
      "execution_count": 39,
      "metadata": {
        "id": "Vym8tbScfdqP",
        "outputId": "c9388882-0104-4d28-a70d-ace7179557fd",
        "colab": {
          "base_uri": "https://localhost:8080/"
        }
      },
      "outputs": [
        {
          "output_type": "execute_result",
          "data": {
            "text/plain": [
              "{'love': 6,\n",
              " 'brazil': 3,\n",
              " 'sweden': 7,\n",
              " 'is': 5,\n",
              " 'best': 1,\n",
              " 'germany': 4,\n",
              " 'beats': 0,\n",
              " 'both': 2}"
            ]
          },
          "metadata": {},
          "execution_count": 39
        }
      ],
      "source": [
        "# 특성 이름을 확인합니다.\n",
        "tfidf.vocabulary_"
      ]
    },
    {
      "cell_type": "markdown",
      "metadata": {
        "id": "uzQYSbSNfdqQ"
      },
      "source": [
        "## 6.11 텍스트 벡터를 사용해 검색 쿼리 텍스트의 유사도 계산하기"
      ]
    },
    {
      "cell_type": "code",
      "execution_count": 40,
      "metadata": {
        "id": "YsIXr017fdqQ",
        "outputId": "50aed997-0a72-47f6-84bf-bb0a29975792",
        "colab": {
          "base_uri": "https://localhost:8080/"
        }
      },
      "outputs": [
        {
          "output_type": "stream",
          "name": "stdout",
          "text": [
            "[('Sweden is best', 0.6666666666666666), ('I love Brazil. Brazil!', 0.5163977794943222), ('Germany beats both', 0.0)]\n"
          ]
        }
      ],
      "source": [
        "# 라이브러리를 임포트합니다.\n",
        "import numpy as np\n",
        "from sklearn.feature_extraction.text import TfidfVectorizer\n",
        "from sklearn.metrics.pairwise import linear_kernel\n",
        "\n",
        "# 검색할 텍스트 데이터를 만듭니다.\n",
        "text_data = np.array(['I love Brazil. Brazil!',\n",
        "                      'Sweden is best',\n",
        "                      'Germany beats both'])\n",
        "\n",
        "# tf-idf 특성 행렬을 만듭니다.\n",
        "tfidf = TfidfVectorizer()\n",
        "feature_matrix = tfidf.fit_transform(text_data)\n",
        "\n",
        "# 검색 쿼리를 만들고 이를 tf-idf 벡터로 변환합니다.\n",
        "text = \"Brazil is the best\"\n",
        "vector = tfidf.transform([text])\n",
        "\n",
        "# 입력 벡터와 다른 모든 벡터 사이의 코사인 유사도를 계산합니다.\n",
        "cosine_similarities = linear_kernel(vector, feature_matrix).flatten()\n",
        "\n",
        "# 가장 관련있는 항목의 인덱스를 순서대로 정렬합니다.\n",
        "related_doc_indicies = cosine_similarities.argsort()[:-10:-1]\n",
        "\n",
        "# 코사인 유사도에 따라 입력 쿼리와 가장 비슷한 텍스트를 출력합니다.\n",
        "print([(text_data[i], cosine_similarities[i]) for i in related_doc_indicies])"
      ]
    },
    {
      "cell_type": "markdown",
      "metadata": {
        "id": "0u-36CrifdqQ"
      },
      "source": [
        "## 6.12 감성 분석 분류기 사용하기"
      ]
    },
    {
      "cell_type": "code",
      "execution_count": 41,
      "metadata": {
        "id": "GG80NbcpfdqS",
        "outputId": "eca2c36e-ce95-42eb-b838-690149b88714",
        "colab": {
          "base_uri": "https://localhost:8080/",
          "height": 329,
          "referenced_widgets": [
            "0c91f7a28aaf4e0e9f999707117e5a45",
            "bb60f1f52ade451093682a618a568ee4",
            "ce0835c4eefb4a73a194999d17842d1a",
            "af82384a73f34f4fb94428a5cf239f5f",
            "9c295f78b45d4e5e87e7e59fbcfd9f30",
            "033434531e274c53b664985af434efbd",
            "1c2a21d972334b958f29671da48ccb1b",
            "73c93fa454544d4288f6c47bb2b023d9",
            "92bd304955ec453da390bd36d64c4f20",
            "df87c0c8f0614840bdab16b177f93952",
            "2ef63c40382243eca02c3fd86c9b0ad3",
            "d37ca73cb3054ad4a37b1931a4914b32",
            "2a856bd1d8d74f1da76ddebaccef5386",
            "e881570a5f264622953fa86f774ad745",
            "81460fb3b8ba4bdca8193a826f70bf57",
            "42049d04b6ec41089093afb67e1d0fd3",
            "96fd56662197476ea092f11775fe9856",
            "1aafec04ba0744e8a2dd06e92babb851",
            "56d274f5731e4131b91d85d16a23a172",
            "8c46a0742e744d51ae9d5d3cd7c0ea98",
            "ff5004f0d5574ae6acb2b80b39fcab2a",
            "04d67b958b864343a3977609fa85a757",
            "c92e5f5eb5354f1fbbd30923b8d9cd3b",
            "7d2f65c85574424e9c8276b4d41000ef",
            "74ffbedd05034449bee9681163fb729f",
            "78e67339979943c2bb0f30a2acb9304c",
            "09cdc3203a28412b8bbadcb90ff7a3fb",
            "14e995bac9e44f37af8991a96b18421a",
            "f457d9c89b6d4fbe9cf7f4969bab8384",
            "202ccc6e22b7490fbe3c93d4b3868062",
            "6d9dc164e5794411978754ecd8b449cf",
            "4a016bbcf6da4558ba980f7e1c97966d",
            "f2915a5fb23341b89811ea2361009f39",
            "505b07c6ef1c42ad9c3f76206dc121fa",
            "4c54afd6d3614bf8b4bbe24ea97c1eb2",
            "5fbfc02ddc284887b00e8acab690cc13",
            "921dd2b3e7d5498ebbafe6def1b01f9b",
            "097e3a15eddf4d04a3be2143634dc901",
            "6703c5f7117645ebb47a2cd32c89442b",
            "82698446a6e44352bfc0503a14c7aece",
            "094d8b8c64914c25969ec129f2d66e01",
            "6bd48a85339d491bb52b74c4ee61b31b",
            "7c2897ee07e443ba9ea7811082b4f380",
            "6c45939584ac43e3892e1f2812431d1e"
          ]
        }
      },
      "outputs": [
        {
          "output_type": "stream",
          "name": "stderr",
          "text": [
            "No model was supplied, defaulted to distilbert-base-uncased-finetuned-sst-2-english and revision af0f99b (https://huggingface.co/distilbert-base-uncased-finetuned-sst-2-english).\n",
            "Using a pipeline without specifying a model name and revision in production is not recommended.\n",
            "/usr/local/lib/python3.10/dist-packages/huggingface_hub/utils/_token.py:88: UserWarning: \n",
            "The secret `HF_TOKEN` does not exist in your Colab secrets.\n",
            "To authenticate with the Hugging Face Hub, create a token in your settings tab (https://huggingface.co/settings/tokens), set it as secret in your Google Colab and restart your session.\n",
            "You will be able to reuse this secret in all of your notebooks.\n",
            "Please note that authentication is recommended but still optional to access public models or datasets.\n",
            "  warnings.warn(\n"
          ]
        },
        {
          "output_type": "display_data",
          "data": {
            "text/plain": [
              "config.json:   0%|          | 0.00/629 [00:00<?, ?B/s]"
            ],
            "application/vnd.jupyter.widget-view+json": {
              "version_major": 2,
              "version_minor": 0,
              "model_id": "0c91f7a28aaf4e0e9f999707117e5a45"
            }
          },
          "metadata": {}
        },
        {
          "output_type": "display_data",
          "data": {
            "text/plain": [
              "model.safetensors:   0%|          | 0.00/268M [00:00<?, ?B/s]"
            ],
            "application/vnd.jupyter.widget-view+json": {
              "version_major": 2,
              "version_minor": 0,
              "model_id": "d37ca73cb3054ad4a37b1931a4914b32"
            }
          },
          "metadata": {}
        },
        {
          "output_type": "display_data",
          "data": {
            "text/plain": [
              "tokenizer_config.json:   0%|          | 0.00/48.0 [00:00<?, ?B/s]"
            ],
            "application/vnd.jupyter.widget-view+json": {
              "version_major": 2,
              "version_minor": 0,
              "model_id": "c92e5f5eb5354f1fbbd30923b8d9cd3b"
            }
          },
          "metadata": {}
        },
        {
          "output_type": "display_data",
          "data": {
            "text/plain": [
              "vocab.txt:   0%|          | 0.00/232k [00:00<?, ?B/s]"
            ],
            "application/vnd.jupyter.widget-view+json": {
              "version_major": 2,
              "version_minor": 0,
              "model_id": "505b07c6ef1c42ad9c3f76206dc121fa"
            }
          },
          "metadata": {}
        },
        {
          "output_type": "stream",
          "name": "stdout",
          "text": [
            "[{'label': 'NEGATIVE', 'score': 0.9998020529747009}] [{'label': 'POSITIVE', 'score': 0.9995730519294739}]\n"
          ]
        }
      ],
      "source": [
        "# 라이브러리를 임포트합니다.\n",
        "from transformers import pipeline\n",
        "\n",
        "# 감성 분석을 위한 NLP 파이프라인을 만듭니다.\n",
        "classifier = pipeline(\"sentiment-analysis\")\n",
        "\n",
        "# 텍스트를 분류합니다.\n",
        "# (처음 실행하면 필요한 데이터와 모델을 다운로드합니다)\n",
        "sentiment_1 = classifier(\"I hate machine learning! It's the absolute worst.\")\n",
        "sentiment_2 = classifier(\n",
        "    \"Machine learning is the absolute\"\n",
        "    \"bees knees I love it so much!\"\n",
        ")\n",
        "\n",
        "# 감성 분석 결과를 출력합니다.\n",
        "print(sentiment_1, sentiment_2)"
      ]
    }
  ],
  "metadata": {
    "kernelspec": {
      "display_name": "Python 3 (ipykernel)",
      "language": "python",
      "name": "python3"
    },
    "language_info": {
      "codemirror_mode": {
        "name": "ipython",
        "version": 3
      },
      "file_extension": ".py",
      "mimetype": "text/x-python",
      "name": "python",
      "nbconvert_exporter": "python",
      "pygments_lexer": "ipython3",
      "version": "3.10.13"
    },
    "colab": {
      "provenance": []
    },
    "widgets": {
      "application/vnd.jupyter.widget-state+json": {
        "0c91f7a28aaf4e0e9f999707117e5a45": {
          "model_module": "@jupyter-widgets/controls",
          "model_name": "HBoxModel",
          "model_module_version": "1.5.0",
          "state": {
            "_dom_classes": [],
            "_model_module": "@jupyter-widgets/controls",
            "_model_module_version": "1.5.0",
            "_model_name": "HBoxModel",
            "_view_count": null,
            "_view_module": "@jupyter-widgets/controls",
            "_view_module_version": "1.5.0",
            "_view_name": "HBoxView",
            "box_style": "",
            "children": [
              "IPY_MODEL_bb60f1f52ade451093682a618a568ee4",
              "IPY_MODEL_ce0835c4eefb4a73a194999d17842d1a",
              "IPY_MODEL_af82384a73f34f4fb94428a5cf239f5f"
            ],
            "layout": "IPY_MODEL_9c295f78b45d4e5e87e7e59fbcfd9f30"
          }
        },
        "bb60f1f52ade451093682a618a568ee4": {
          "model_module": "@jupyter-widgets/controls",
          "model_name": "HTMLModel",
          "model_module_version": "1.5.0",
          "state": {
            "_dom_classes": [],
            "_model_module": "@jupyter-widgets/controls",
            "_model_module_version": "1.5.0",
            "_model_name": "HTMLModel",
            "_view_count": null,
            "_view_module": "@jupyter-widgets/controls",
            "_view_module_version": "1.5.0",
            "_view_name": "HTMLView",
            "description": "",
            "description_tooltip": null,
            "layout": "IPY_MODEL_033434531e274c53b664985af434efbd",
            "placeholder": "​",
            "style": "IPY_MODEL_1c2a21d972334b958f29671da48ccb1b",
            "value": "config.json: 100%"
          }
        },
        "ce0835c4eefb4a73a194999d17842d1a": {
          "model_module": "@jupyter-widgets/controls",
          "model_name": "FloatProgressModel",
          "model_module_version": "1.5.0",
          "state": {
            "_dom_classes": [],
            "_model_module": "@jupyter-widgets/controls",
            "_model_module_version": "1.5.0",
            "_model_name": "FloatProgressModel",
            "_view_count": null,
            "_view_module": "@jupyter-widgets/controls",
            "_view_module_version": "1.5.0",
            "_view_name": "ProgressView",
            "bar_style": "success",
            "description": "",
            "description_tooltip": null,
            "layout": "IPY_MODEL_73c93fa454544d4288f6c47bb2b023d9",
            "max": 629,
            "min": 0,
            "orientation": "horizontal",
            "style": "IPY_MODEL_92bd304955ec453da390bd36d64c4f20",
            "value": 629
          }
        },
        "af82384a73f34f4fb94428a5cf239f5f": {
          "model_module": "@jupyter-widgets/controls",
          "model_name": "HTMLModel",
          "model_module_version": "1.5.0",
          "state": {
            "_dom_classes": [],
            "_model_module": "@jupyter-widgets/controls",
            "_model_module_version": "1.5.0",
            "_model_name": "HTMLModel",
            "_view_count": null,
            "_view_module": "@jupyter-widgets/controls",
            "_view_module_version": "1.5.0",
            "_view_name": "HTMLView",
            "description": "",
            "description_tooltip": null,
            "layout": "IPY_MODEL_df87c0c8f0614840bdab16b177f93952",
            "placeholder": "​",
            "style": "IPY_MODEL_2ef63c40382243eca02c3fd86c9b0ad3",
            "value": " 629/629 [00:00&lt;00:00, 19.1kB/s]"
          }
        },
        "9c295f78b45d4e5e87e7e59fbcfd9f30": {
          "model_module": "@jupyter-widgets/base",
          "model_name": "LayoutModel",
          "model_module_version": "1.2.0",
          "state": {
            "_model_module": "@jupyter-widgets/base",
            "_model_module_version": "1.2.0",
            "_model_name": "LayoutModel",
            "_view_count": null,
            "_view_module": "@jupyter-widgets/base",
            "_view_module_version": "1.2.0",
            "_view_name": "LayoutView",
            "align_content": null,
            "align_items": null,
            "align_self": null,
            "border": null,
            "bottom": null,
            "display": null,
            "flex": null,
            "flex_flow": null,
            "grid_area": null,
            "grid_auto_columns": null,
            "grid_auto_flow": null,
            "grid_auto_rows": null,
            "grid_column": null,
            "grid_gap": null,
            "grid_row": null,
            "grid_template_areas": null,
            "grid_template_columns": null,
            "grid_template_rows": null,
            "height": null,
            "justify_content": null,
            "justify_items": null,
            "left": null,
            "margin": null,
            "max_height": null,
            "max_width": null,
            "min_height": null,
            "min_width": null,
            "object_fit": null,
            "object_position": null,
            "order": null,
            "overflow": null,
            "overflow_x": null,
            "overflow_y": null,
            "padding": null,
            "right": null,
            "top": null,
            "visibility": null,
            "width": null
          }
        },
        "033434531e274c53b664985af434efbd": {
          "model_module": "@jupyter-widgets/base",
          "model_name": "LayoutModel",
          "model_module_version": "1.2.0",
          "state": {
            "_model_module": "@jupyter-widgets/base",
            "_model_module_version": "1.2.0",
            "_model_name": "LayoutModel",
            "_view_count": null,
            "_view_module": "@jupyter-widgets/base",
            "_view_module_version": "1.2.0",
            "_view_name": "LayoutView",
            "align_content": null,
            "align_items": null,
            "align_self": null,
            "border": null,
            "bottom": null,
            "display": null,
            "flex": null,
            "flex_flow": null,
            "grid_area": null,
            "grid_auto_columns": null,
            "grid_auto_flow": null,
            "grid_auto_rows": null,
            "grid_column": null,
            "grid_gap": null,
            "grid_row": null,
            "grid_template_areas": null,
            "grid_template_columns": null,
            "grid_template_rows": null,
            "height": null,
            "justify_content": null,
            "justify_items": null,
            "left": null,
            "margin": null,
            "max_height": null,
            "max_width": null,
            "min_height": null,
            "min_width": null,
            "object_fit": null,
            "object_position": null,
            "order": null,
            "overflow": null,
            "overflow_x": null,
            "overflow_y": null,
            "padding": null,
            "right": null,
            "top": null,
            "visibility": null,
            "width": null
          }
        },
        "1c2a21d972334b958f29671da48ccb1b": {
          "model_module": "@jupyter-widgets/controls",
          "model_name": "DescriptionStyleModel",
          "model_module_version": "1.5.0",
          "state": {
            "_model_module": "@jupyter-widgets/controls",
            "_model_module_version": "1.5.0",
            "_model_name": "DescriptionStyleModel",
            "_view_count": null,
            "_view_module": "@jupyter-widgets/base",
            "_view_module_version": "1.2.0",
            "_view_name": "StyleView",
            "description_width": ""
          }
        },
        "73c93fa454544d4288f6c47bb2b023d9": {
          "model_module": "@jupyter-widgets/base",
          "model_name": "LayoutModel",
          "model_module_version": "1.2.0",
          "state": {
            "_model_module": "@jupyter-widgets/base",
            "_model_module_version": "1.2.0",
            "_model_name": "LayoutModel",
            "_view_count": null,
            "_view_module": "@jupyter-widgets/base",
            "_view_module_version": "1.2.0",
            "_view_name": "LayoutView",
            "align_content": null,
            "align_items": null,
            "align_self": null,
            "border": null,
            "bottom": null,
            "display": null,
            "flex": null,
            "flex_flow": null,
            "grid_area": null,
            "grid_auto_columns": null,
            "grid_auto_flow": null,
            "grid_auto_rows": null,
            "grid_column": null,
            "grid_gap": null,
            "grid_row": null,
            "grid_template_areas": null,
            "grid_template_columns": null,
            "grid_template_rows": null,
            "height": null,
            "justify_content": null,
            "justify_items": null,
            "left": null,
            "margin": null,
            "max_height": null,
            "max_width": null,
            "min_height": null,
            "min_width": null,
            "object_fit": null,
            "object_position": null,
            "order": null,
            "overflow": null,
            "overflow_x": null,
            "overflow_y": null,
            "padding": null,
            "right": null,
            "top": null,
            "visibility": null,
            "width": null
          }
        },
        "92bd304955ec453da390bd36d64c4f20": {
          "model_module": "@jupyter-widgets/controls",
          "model_name": "ProgressStyleModel",
          "model_module_version": "1.5.0",
          "state": {
            "_model_module": "@jupyter-widgets/controls",
            "_model_module_version": "1.5.0",
            "_model_name": "ProgressStyleModel",
            "_view_count": null,
            "_view_module": "@jupyter-widgets/base",
            "_view_module_version": "1.2.0",
            "_view_name": "StyleView",
            "bar_color": null,
            "description_width": ""
          }
        },
        "df87c0c8f0614840bdab16b177f93952": {
          "model_module": "@jupyter-widgets/base",
          "model_name": "LayoutModel",
          "model_module_version": "1.2.0",
          "state": {
            "_model_module": "@jupyter-widgets/base",
            "_model_module_version": "1.2.0",
            "_model_name": "LayoutModel",
            "_view_count": null,
            "_view_module": "@jupyter-widgets/base",
            "_view_module_version": "1.2.0",
            "_view_name": "LayoutView",
            "align_content": null,
            "align_items": null,
            "align_self": null,
            "border": null,
            "bottom": null,
            "display": null,
            "flex": null,
            "flex_flow": null,
            "grid_area": null,
            "grid_auto_columns": null,
            "grid_auto_flow": null,
            "grid_auto_rows": null,
            "grid_column": null,
            "grid_gap": null,
            "grid_row": null,
            "grid_template_areas": null,
            "grid_template_columns": null,
            "grid_template_rows": null,
            "height": null,
            "justify_content": null,
            "justify_items": null,
            "left": null,
            "margin": null,
            "max_height": null,
            "max_width": null,
            "min_height": null,
            "min_width": null,
            "object_fit": null,
            "object_position": null,
            "order": null,
            "overflow": null,
            "overflow_x": null,
            "overflow_y": null,
            "padding": null,
            "right": null,
            "top": null,
            "visibility": null,
            "width": null
          }
        },
        "2ef63c40382243eca02c3fd86c9b0ad3": {
          "model_module": "@jupyter-widgets/controls",
          "model_name": "DescriptionStyleModel",
          "model_module_version": "1.5.0",
          "state": {
            "_model_module": "@jupyter-widgets/controls",
            "_model_module_version": "1.5.0",
            "_model_name": "DescriptionStyleModel",
            "_view_count": null,
            "_view_module": "@jupyter-widgets/base",
            "_view_module_version": "1.2.0",
            "_view_name": "StyleView",
            "description_width": ""
          }
        },
        "d37ca73cb3054ad4a37b1931a4914b32": {
          "model_module": "@jupyter-widgets/controls",
          "model_name": "HBoxModel",
          "model_module_version": "1.5.0",
          "state": {
            "_dom_classes": [],
            "_model_module": "@jupyter-widgets/controls",
            "_model_module_version": "1.5.0",
            "_model_name": "HBoxModel",
            "_view_count": null,
            "_view_module": "@jupyter-widgets/controls",
            "_view_module_version": "1.5.0",
            "_view_name": "HBoxView",
            "box_style": "",
            "children": [
              "IPY_MODEL_2a856bd1d8d74f1da76ddebaccef5386",
              "IPY_MODEL_e881570a5f264622953fa86f774ad745",
              "IPY_MODEL_81460fb3b8ba4bdca8193a826f70bf57"
            ],
            "layout": "IPY_MODEL_42049d04b6ec41089093afb67e1d0fd3"
          }
        },
        "2a856bd1d8d74f1da76ddebaccef5386": {
          "model_module": "@jupyter-widgets/controls",
          "model_name": "HTMLModel",
          "model_module_version": "1.5.0",
          "state": {
            "_dom_classes": [],
            "_model_module": "@jupyter-widgets/controls",
            "_model_module_version": "1.5.0",
            "_model_name": "HTMLModel",
            "_view_count": null,
            "_view_module": "@jupyter-widgets/controls",
            "_view_module_version": "1.5.0",
            "_view_name": "HTMLView",
            "description": "",
            "description_tooltip": null,
            "layout": "IPY_MODEL_96fd56662197476ea092f11775fe9856",
            "placeholder": "​",
            "style": "IPY_MODEL_1aafec04ba0744e8a2dd06e92babb851",
            "value": "model.safetensors: 100%"
          }
        },
        "e881570a5f264622953fa86f774ad745": {
          "model_module": "@jupyter-widgets/controls",
          "model_name": "FloatProgressModel",
          "model_module_version": "1.5.0",
          "state": {
            "_dom_classes": [],
            "_model_module": "@jupyter-widgets/controls",
            "_model_module_version": "1.5.0",
            "_model_name": "FloatProgressModel",
            "_view_count": null,
            "_view_module": "@jupyter-widgets/controls",
            "_view_module_version": "1.5.0",
            "_view_name": "ProgressView",
            "bar_style": "success",
            "description": "",
            "description_tooltip": null,
            "layout": "IPY_MODEL_56d274f5731e4131b91d85d16a23a172",
            "max": 267832558,
            "min": 0,
            "orientation": "horizontal",
            "style": "IPY_MODEL_8c46a0742e744d51ae9d5d3cd7c0ea98",
            "value": 267832558
          }
        },
        "81460fb3b8ba4bdca8193a826f70bf57": {
          "model_module": "@jupyter-widgets/controls",
          "model_name": "HTMLModel",
          "model_module_version": "1.5.0",
          "state": {
            "_dom_classes": [],
            "_model_module": "@jupyter-widgets/controls",
            "_model_module_version": "1.5.0",
            "_model_name": "HTMLModel",
            "_view_count": null,
            "_view_module": "@jupyter-widgets/controls",
            "_view_module_version": "1.5.0",
            "_view_name": "HTMLView",
            "description": "",
            "description_tooltip": null,
            "layout": "IPY_MODEL_ff5004f0d5574ae6acb2b80b39fcab2a",
            "placeholder": "​",
            "style": "IPY_MODEL_04d67b958b864343a3977609fa85a757",
            "value": " 268M/268M [00:01&lt;00:00, 152MB/s]"
          }
        },
        "42049d04b6ec41089093afb67e1d0fd3": {
          "model_module": "@jupyter-widgets/base",
          "model_name": "LayoutModel",
          "model_module_version": "1.2.0",
          "state": {
            "_model_module": "@jupyter-widgets/base",
            "_model_module_version": "1.2.0",
            "_model_name": "LayoutModel",
            "_view_count": null,
            "_view_module": "@jupyter-widgets/base",
            "_view_module_version": "1.2.0",
            "_view_name": "LayoutView",
            "align_content": null,
            "align_items": null,
            "align_self": null,
            "border": null,
            "bottom": null,
            "display": null,
            "flex": null,
            "flex_flow": null,
            "grid_area": null,
            "grid_auto_columns": null,
            "grid_auto_flow": null,
            "grid_auto_rows": null,
            "grid_column": null,
            "grid_gap": null,
            "grid_row": null,
            "grid_template_areas": null,
            "grid_template_columns": null,
            "grid_template_rows": null,
            "height": null,
            "justify_content": null,
            "justify_items": null,
            "left": null,
            "margin": null,
            "max_height": null,
            "max_width": null,
            "min_height": null,
            "min_width": null,
            "object_fit": null,
            "object_position": null,
            "order": null,
            "overflow": null,
            "overflow_x": null,
            "overflow_y": null,
            "padding": null,
            "right": null,
            "top": null,
            "visibility": null,
            "width": null
          }
        },
        "96fd56662197476ea092f11775fe9856": {
          "model_module": "@jupyter-widgets/base",
          "model_name": "LayoutModel",
          "model_module_version": "1.2.0",
          "state": {
            "_model_module": "@jupyter-widgets/base",
            "_model_module_version": "1.2.0",
            "_model_name": "LayoutModel",
            "_view_count": null,
            "_view_module": "@jupyter-widgets/base",
            "_view_module_version": "1.2.0",
            "_view_name": "LayoutView",
            "align_content": null,
            "align_items": null,
            "align_self": null,
            "border": null,
            "bottom": null,
            "display": null,
            "flex": null,
            "flex_flow": null,
            "grid_area": null,
            "grid_auto_columns": null,
            "grid_auto_flow": null,
            "grid_auto_rows": null,
            "grid_column": null,
            "grid_gap": null,
            "grid_row": null,
            "grid_template_areas": null,
            "grid_template_columns": null,
            "grid_template_rows": null,
            "height": null,
            "justify_content": null,
            "justify_items": null,
            "left": null,
            "margin": null,
            "max_height": null,
            "max_width": null,
            "min_height": null,
            "min_width": null,
            "object_fit": null,
            "object_position": null,
            "order": null,
            "overflow": null,
            "overflow_x": null,
            "overflow_y": null,
            "padding": null,
            "right": null,
            "top": null,
            "visibility": null,
            "width": null
          }
        },
        "1aafec04ba0744e8a2dd06e92babb851": {
          "model_module": "@jupyter-widgets/controls",
          "model_name": "DescriptionStyleModel",
          "model_module_version": "1.5.0",
          "state": {
            "_model_module": "@jupyter-widgets/controls",
            "_model_module_version": "1.5.0",
            "_model_name": "DescriptionStyleModel",
            "_view_count": null,
            "_view_module": "@jupyter-widgets/base",
            "_view_module_version": "1.2.0",
            "_view_name": "StyleView",
            "description_width": ""
          }
        },
        "56d274f5731e4131b91d85d16a23a172": {
          "model_module": "@jupyter-widgets/base",
          "model_name": "LayoutModel",
          "model_module_version": "1.2.0",
          "state": {
            "_model_module": "@jupyter-widgets/base",
            "_model_module_version": "1.2.0",
            "_model_name": "LayoutModel",
            "_view_count": null,
            "_view_module": "@jupyter-widgets/base",
            "_view_module_version": "1.2.0",
            "_view_name": "LayoutView",
            "align_content": null,
            "align_items": null,
            "align_self": null,
            "border": null,
            "bottom": null,
            "display": null,
            "flex": null,
            "flex_flow": null,
            "grid_area": null,
            "grid_auto_columns": null,
            "grid_auto_flow": null,
            "grid_auto_rows": null,
            "grid_column": null,
            "grid_gap": null,
            "grid_row": null,
            "grid_template_areas": null,
            "grid_template_columns": null,
            "grid_template_rows": null,
            "height": null,
            "justify_content": null,
            "justify_items": null,
            "left": null,
            "margin": null,
            "max_height": null,
            "max_width": null,
            "min_height": null,
            "min_width": null,
            "object_fit": null,
            "object_position": null,
            "order": null,
            "overflow": null,
            "overflow_x": null,
            "overflow_y": null,
            "padding": null,
            "right": null,
            "top": null,
            "visibility": null,
            "width": null
          }
        },
        "8c46a0742e744d51ae9d5d3cd7c0ea98": {
          "model_module": "@jupyter-widgets/controls",
          "model_name": "ProgressStyleModel",
          "model_module_version": "1.5.0",
          "state": {
            "_model_module": "@jupyter-widgets/controls",
            "_model_module_version": "1.5.0",
            "_model_name": "ProgressStyleModel",
            "_view_count": null,
            "_view_module": "@jupyter-widgets/base",
            "_view_module_version": "1.2.0",
            "_view_name": "StyleView",
            "bar_color": null,
            "description_width": ""
          }
        },
        "ff5004f0d5574ae6acb2b80b39fcab2a": {
          "model_module": "@jupyter-widgets/base",
          "model_name": "LayoutModel",
          "model_module_version": "1.2.0",
          "state": {
            "_model_module": "@jupyter-widgets/base",
            "_model_module_version": "1.2.0",
            "_model_name": "LayoutModel",
            "_view_count": null,
            "_view_module": "@jupyter-widgets/base",
            "_view_module_version": "1.2.0",
            "_view_name": "LayoutView",
            "align_content": null,
            "align_items": null,
            "align_self": null,
            "border": null,
            "bottom": null,
            "display": null,
            "flex": null,
            "flex_flow": null,
            "grid_area": null,
            "grid_auto_columns": null,
            "grid_auto_flow": null,
            "grid_auto_rows": null,
            "grid_column": null,
            "grid_gap": null,
            "grid_row": null,
            "grid_template_areas": null,
            "grid_template_columns": null,
            "grid_template_rows": null,
            "height": null,
            "justify_content": null,
            "justify_items": null,
            "left": null,
            "margin": null,
            "max_height": null,
            "max_width": null,
            "min_height": null,
            "min_width": null,
            "object_fit": null,
            "object_position": null,
            "order": null,
            "overflow": null,
            "overflow_x": null,
            "overflow_y": null,
            "padding": null,
            "right": null,
            "top": null,
            "visibility": null,
            "width": null
          }
        },
        "04d67b958b864343a3977609fa85a757": {
          "model_module": "@jupyter-widgets/controls",
          "model_name": "DescriptionStyleModel",
          "model_module_version": "1.5.0",
          "state": {
            "_model_module": "@jupyter-widgets/controls",
            "_model_module_version": "1.5.0",
            "_model_name": "DescriptionStyleModel",
            "_view_count": null,
            "_view_module": "@jupyter-widgets/base",
            "_view_module_version": "1.2.0",
            "_view_name": "StyleView",
            "description_width": ""
          }
        },
        "c92e5f5eb5354f1fbbd30923b8d9cd3b": {
          "model_module": "@jupyter-widgets/controls",
          "model_name": "HBoxModel",
          "model_module_version": "1.5.0",
          "state": {
            "_dom_classes": [],
            "_model_module": "@jupyter-widgets/controls",
            "_model_module_version": "1.5.0",
            "_model_name": "HBoxModel",
            "_view_count": null,
            "_view_module": "@jupyter-widgets/controls",
            "_view_module_version": "1.5.0",
            "_view_name": "HBoxView",
            "box_style": "",
            "children": [
              "IPY_MODEL_7d2f65c85574424e9c8276b4d41000ef",
              "IPY_MODEL_74ffbedd05034449bee9681163fb729f",
              "IPY_MODEL_78e67339979943c2bb0f30a2acb9304c"
            ],
            "layout": "IPY_MODEL_09cdc3203a28412b8bbadcb90ff7a3fb"
          }
        },
        "7d2f65c85574424e9c8276b4d41000ef": {
          "model_module": "@jupyter-widgets/controls",
          "model_name": "HTMLModel",
          "model_module_version": "1.5.0",
          "state": {
            "_dom_classes": [],
            "_model_module": "@jupyter-widgets/controls",
            "_model_module_version": "1.5.0",
            "_model_name": "HTMLModel",
            "_view_count": null,
            "_view_module": "@jupyter-widgets/controls",
            "_view_module_version": "1.5.0",
            "_view_name": "HTMLView",
            "description": "",
            "description_tooltip": null,
            "layout": "IPY_MODEL_14e995bac9e44f37af8991a96b18421a",
            "placeholder": "​",
            "style": "IPY_MODEL_f457d9c89b6d4fbe9cf7f4969bab8384",
            "value": "tokenizer_config.json: 100%"
          }
        },
        "74ffbedd05034449bee9681163fb729f": {
          "model_module": "@jupyter-widgets/controls",
          "model_name": "FloatProgressModel",
          "model_module_version": "1.5.0",
          "state": {
            "_dom_classes": [],
            "_model_module": "@jupyter-widgets/controls",
            "_model_module_version": "1.5.0",
            "_model_name": "FloatProgressModel",
            "_view_count": null,
            "_view_module": "@jupyter-widgets/controls",
            "_view_module_version": "1.5.0",
            "_view_name": "ProgressView",
            "bar_style": "success",
            "description": "",
            "description_tooltip": null,
            "layout": "IPY_MODEL_202ccc6e22b7490fbe3c93d4b3868062",
            "max": 48,
            "min": 0,
            "orientation": "horizontal",
            "style": "IPY_MODEL_6d9dc164e5794411978754ecd8b449cf",
            "value": 48
          }
        },
        "78e67339979943c2bb0f30a2acb9304c": {
          "model_module": "@jupyter-widgets/controls",
          "model_name": "HTMLModel",
          "model_module_version": "1.5.0",
          "state": {
            "_dom_classes": [],
            "_model_module": "@jupyter-widgets/controls",
            "_model_module_version": "1.5.0",
            "_model_name": "HTMLModel",
            "_view_count": null,
            "_view_module": "@jupyter-widgets/controls",
            "_view_module_version": "1.5.0",
            "_view_name": "HTMLView",
            "description": "",
            "description_tooltip": null,
            "layout": "IPY_MODEL_4a016bbcf6da4558ba980f7e1c97966d",
            "placeholder": "​",
            "style": "IPY_MODEL_f2915a5fb23341b89811ea2361009f39",
            "value": " 48.0/48.0 [00:00&lt;00:00, 1.64kB/s]"
          }
        },
        "09cdc3203a28412b8bbadcb90ff7a3fb": {
          "model_module": "@jupyter-widgets/base",
          "model_name": "LayoutModel",
          "model_module_version": "1.2.0",
          "state": {
            "_model_module": "@jupyter-widgets/base",
            "_model_module_version": "1.2.0",
            "_model_name": "LayoutModel",
            "_view_count": null,
            "_view_module": "@jupyter-widgets/base",
            "_view_module_version": "1.2.0",
            "_view_name": "LayoutView",
            "align_content": null,
            "align_items": null,
            "align_self": null,
            "border": null,
            "bottom": null,
            "display": null,
            "flex": null,
            "flex_flow": null,
            "grid_area": null,
            "grid_auto_columns": null,
            "grid_auto_flow": null,
            "grid_auto_rows": null,
            "grid_column": null,
            "grid_gap": null,
            "grid_row": null,
            "grid_template_areas": null,
            "grid_template_columns": null,
            "grid_template_rows": null,
            "height": null,
            "justify_content": null,
            "justify_items": null,
            "left": null,
            "margin": null,
            "max_height": null,
            "max_width": null,
            "min_height": null,
            "min_width": null,
            "object_fit": null,
            "object_position": null,
            "order": null,
            "overflow": null,
            "overflow_x": null,
            "overflow_y": null,
            "padding": null,
            "right": null,
            "top": null,
            "visibility": null,
            "width": null
          }
        },
        "14e995bac9e44f37af8991a96b18421a": {
          "model_module": "@jupyter-widgets/base",
          "model_name": "LayoutModel",
          "model_module_version": "1.2.0",
          "state": {
            "_model_module": "@jupyter-widgets/base",
            "_model_module_version": "1.2.0",
            "_model_name": "LayoutModel",
            "_view_count": null,
            "_view_module": "@jupyter-widgets/base",
            "_view_module_version": "1.2.0",
            "_view_name": "LayoutView",
            "align_content": null,
            "align_items": null,
            "align_self": null,
            "border": null,
            "bottom": null,
            "display": null,
            "flex": null,
            "flex_flow": null,
            "grid_area": null,
            "grid_auto_columns": null,
            "grid_auto_flow": null,
            "grid_auto_rows": null,
            "grid_column": null,
            "grid_gap": null,
            "grid_row": null,
            "grid_template_areas": null,
            "grid_template_columns": null,
            "grid_template_rows": null,
            "height": null,
            "justify_content": null,
            "justify_items": null,
            "left": null,
            "margin": null,
            "max_height": null,
            "max_width": null,
            "min_height": null,
            "min_width": null,
            "object_fit": null,
            "object_position": null,
            "order": null,
            "overflow": null,
            "overflow_x": null,
            "overflow_y": null,
            "padding": null,
            "right": null,
            "top": null,
            "visibility": null,
            "width": null
          }
        },
        "f457d9c89b6d4fbe9cf7f4969bab8384": {
          "model_module": "@jupyter-widgets/controls",
          "model_name": "DescriptionStyleModel",
          "model_module_version": "1.5.0",
          "state": {
            "_model_module": "@jupyter-widgets/controls",
            "_model_module_version": "1.5.0",
            "_model_name": "DescriptionStyleModel",
            "_view_count": null,
            "_view_module": "@jupyter-widgets/base",
            "_view_module_version": "1.2.0",
            "_view_name": "StyleView",
            "description_width": ""
          }
        },
        "202ccc6e22b7490fbe3c93d4b3868062": {
          "model_module": "@jupyter-widgets/base",
          "model_name": "LayoutModel",
          "model_module_version": "1.2.0",
          "state": {
            "_model_module": "@jupyter-widgets/base",
            "_model_module_version": "1.2.0",
            "_model_name": "LayoutModel",
            "_view_count": null,
            "_view_module": "@jupyter-widgets/base",
            "_view_module_version": "1.2.0",
            "_view_name": "LayoutView",
            "align_content": null,
            "align_items": null,
            "align_self": null,
            "border": null,
            "bottom": null,
            "display": null,
            "flex": null,
            "flex_flow": null,
            "grid_area": null,
            "grid_auto_columns": null,
            "grid_auto_flow": null,
            "grid_auto_rows": null,
            "grid_column": null,
            "grid_gap": null,
            "grid_row": null,
            "grid_template_areas": null,
            "grid_template_columns": null,
            "grid_template_rows": null,
            "height": null,
            "justify_content": null,
            "justify_items": null,
            "left": null,
            "margin": null,
            "max_height": null,
            "max_width": null,
            "min_height": null,
            "min_width": null,
            "object_fit": null,
            "object_position": null,
            "order": null,
            "overflow": null,
            "overflow_x": null,
            "overflow_y": null,
            "padding": null,
            "right": null,
            "top": null,
            "visibility": null,
            "width": null
          }
        },
        "6d9dc164e5794411978754ecd8b449cf": {
          "model_module": "@jupyter-widgets/controls",
          "model_name": "ProgressStyleModel",
          "model_module_version": "1.5.0",
          "state": {
            "_model_module": "@jupyter-widgets/controls",
            "_model_module_version": "1.5.0",
            "_model_name": "ProgressStyleModel",
            "_view_count": null,
            "_view_module": "@jupyter-widgets/base",
            "_view_module_version": "1.2.0",
            "_view_name": "StyleView",
            "bar_color": null,
            "description_width": ""
          }
        },
        "4a016bbcf6da4558ba980f7e1c97966d": {
          "model_module": "@jupyter-widgets/base",
          "model_name": "LayoutModel",
          "model_module_version": "1.2.0",
          "state": {
            "_model_module": "@jupyter-widgets/base",
            "_model_module_version": "1.2.0",
            "_model_name": "LayoutModel",
            "_view_count": null,
            "_view_module": "@jupyter-widgets/base",
            "_view_module_version": "1.2.0",
            "_view_name": "LayoutView",
            "align_content": null,
            "align_items": null,
            "align_self": null,
            "border": null,
            "bottom": null,
            "display": null,
            "flex": null,
            "flex_flow": null,
            "grid_area": null,
            "grid_auto_columns": null,
            "grid_auto_flow": null,
            "grid_auto_rows": null,
            "grid_column": null,
            "grid_gap": null,
            "grid_row": null,
            "grid_template_areas": null,
            "grid_template_columns": null,
            "grid_template_rows": null,
            "height": null,
            "justify_content": null,
            "justify_items": null,
            "left": null,
            "margin": null,
            "max_height": null,
            "max_width": null,
            "min_height": null,
            "min_width": null,
            "object_fit": null,
            "object_position": null,
            "order": null,
            "overflow": null,
            "overflow_x": null,
            "overflow_y": null,
            "padding": null,
            "right": null,
            "top": null,
            "visibility": null,
            "width": null
          }
        },
        "f2915a5fb23341b89811ea2361009f39": {
          "model_module": "@jupyter-widgets/controls",
          "model_name": "DescriptionStyleModel",
          "model_module_version": "1.5.0",
          "state": {
            "_model_module": "@jupyter-widgets/controls",
            "_model_module_version": "1.5.0",
            "_model_name": "DescriptionStyleModel",
            "_view_count": null,
            "_view_module": "@jupyter-widgets/base",
            "_view_module_version": "1.2.0",
            "_view_name": "StyleView",
            "description_width": ""
          }
        },
        "505b07c6ef1c42ad9c3f76206dc121fa": {
          "model_module": "@jupyter-widgets/controls",
          "model_name": "HBoxModel",
          "model_module_version": "1.5.0",
          "state": {
            "_dom_classes": [],
            "_model_module": "@jupyter-widgets/controls",
            "_model_module_version": "1.5.0",
            "_model_name": "HBoxModel",
            "_view_count": null,
            "_view_module": "@jupyter-widgets/controls",
            "_view_module_version": "1.5.0",
            "_view_name": "HBoxView",
            "box_style": "",
            "children": [
              "IPY_MODEL_4c54afd6d3614bf8b4bbe24ea97c1eb2",
              "IPY_MODEL_5fbfc02ddc284887b00e8acab690cc13",
              "IPY_MODEL_921dd2b3e7d5498ebbafe6def1b01f9b"
            ],
            "layout": "IPY_MODEL_097e3a15eddf4d04a3be2143634dc901"
          }
        },
        "4c54afd6d3614bf8b4bbe24ea97c1eb2": {
          "model_module": "@jupyter-widgets/controls",
          "model_name": "HTMLModel",
          "model_module_version": "1.5.0",
          "state": {
            "_dom_classes": [],
            "_model_module": "@jupyter-widgets/controls",
            "_model_module_version": "1.5.0",
            "_model_name": "HTMLModel",
            "_view_count": null,
            "_view_module": "@jupyter-widgets/controls",
            "_view_module_version": "1.5.0",
            "_view_name": "HTMLView",
            "description": "",
            "description_tooltip": null,
            "layout": "IPY_MODEL_6703c5f7117645ebb47a2cd32c89442b",
            "placeholder": "​",
            "style": "IPY_MODEL_82698446a6e44352bfc0503a14c7aece",
            "value": "vocab.txt: 100%"
          }
        },
        "5fbfc02ddc284887b00e8acab690cc13": {
          "model_module": "@jupyter-widgets/controls",
          "model_name": "FloatProgressModel",
          "model_module_version": "1.5.0",
          "state": {
            "_dom_classes": [],
            "_model_module": "@jupyter-widgets/controls",
            "_model_module_version": "1.5.0",
            "_model_name": "FloatProgressModel",
            "_view_count": null,
            "_view_module": "@jupyter-widgets/controls",
            "_view_module_version": "1.5.0",
            "_view_name": "ProgressView",
            "bar_style": "success",
            "description": "",
            "description_tooltip": null,
            "layout": "IPY_MODEL_094d8b8c64914c25969ec129f2d66e01",
            "max": 231508,
            "min": 0,
            "orientation": "horizontal",
            "style": "IPY_MODEL_6bd48a85339d491bb52b74c4ee61b31b",
            "value": 231508
          }
        },
        "921dd2b3e7d5498ebbafe6def1b01f9b": {
          "model_module": "@jupyter-widgets/controls",
          "model_name": "HTMLModel",
          "model_module_version": "1.5.0",
          "state": {
            "_dom_classes": [],
            "_model_module": "@jupyter-widgets/controls",
            "_model_module_version": "1.5.0",
            "_model_name": "HTMLModel",
            "_view_count": null,
            "_view_module": "@jupyter-widgets/controls",
            "_view_module_version": "1.5.0",
            "_view_name": "HTMLView",
            "description": "",
            "description_tooltip": null,
            "layout": "IPY_MODEL_7c2897ee07e443ba9ea7811082b4f380",
            "placeholder": "​",
            "style": "IPY_MODEL_6c45939584ac43e3892e1f2812431d1e",
            "value": " 232k/232k [00:00&lt;00:00, 3.61MB/s]"
          }
        },
        "097e3a15eddf4d04a3be2143634dc901": {
          "model_module": "@jupyter-widgets/base",
          "model_name": "LayoutModel",
          "model_module_version": "1.2.0",
          "state": {
            "_model_module": "@jupyter-widgets/base",
            "_model_module_version": "1.2.0",
            "_model_name": "LayoutModel",
            "_view_count": null,
            "_view_module": "@jupyter-widgets/base",
            "_view_module_version": "1.2.0",
            "_view_name": "LayoutView",
            "align_content": null,
            "align_items": null,
            "align_self": null,
            "border": null,
            "bottom": null,
            "display": null,
            "flex": null,
            "flex_flow": null,
            "grid_area": null,
            "grid_auto_columns": null,
            "grid_auto_flow": null,
            "grid_auto_rows": null,
            "grid_column": null,
            "grid_gap": null,
            "grid_row": null,
            "grid_template_areas": null,
            "grid_template_columns": null,
            "grid_template_rows": null,
            "height": null,
            "justify_content": null,
            "justify_items": null,
            "left": null,
            "margin": null,
            "max_height": null,
            "max_width": null,
            "min_height": null,
            "min_width": null,
            "object_fit": null,
            "object_position": null,
            "order": null,
            "overflow": null,
            "overflow_x": null,
            "overflow_y": null,
            "padding": null,
            "right": null,
            "top": null,
            "visibility": null,
            "width": null
          }
        },
        "6703c5f7117645ebb47a2cd32c89442b": {
          "model_module": "@jupyter-widgets/base",
          "model_name": "LayoutModel",
          "model_module_version": "1.2.0",
          "state": {
            "_model_module": "@jupyter-widgets/base",
            "_model_module_version": "1.2.0",
            "_model_name": "LayoutModel",
            "_view_count": null,
            "_view_module": "@jupyter-widgets/base",
            "_view_module_version": "1.2.0",
            "_view_name": "LayoutView",
            "align_content": null,
            "align_items": null,
            "align_self": null,
            "border": null,
            "bottom": null,
            "display": null,
            "flex": null,
            "flex_flow": null,
            "grid_area": null,
            "grid_auto_columns": null,
            "grid_auto_flow": null,
            "grid_auto_rows": null,
            "grid_column": null,
            "grid_gap": null,
            "grid_row": null,
            "grid_template_areas": null,
            "grid_template_columns": null,
            "grid_template_rows": null,
            "height": null,
            "justify_content": null,
            "justify_items": null,
            "left": null,
            "margin": null,
            "max_height": null,
            "max_width": null,
            "min_height": null,
            "min_width": null,
            "object_fit": null,
            "object_position": null,
            "order": null,
            "overflow": null,
            "overflow_x": null,
            "overflow_y": null,
            "padding": null,
            "right": null,
            "top": null,
            "visibility": null,
            "width": null
          }
        },
        "82698446a6e44352bfc0503a14c7aece": {
          "model_module": "@jupyter-widgets/controls",
          "model_name": "DescriptionStyleModel",
          "model_module_version": "1.5.0",
          "state": {
            "_model_module": "@jupyter-widgets/controls",
            "_model_module_version": "1.5.0",
            "_model_name": "DescriptionStyleModel",
            "_view_count": null,
            "_view_module": "@jupyter-widgets/base",
            "_view_module_version": "1.2.0",
            "_view_name": "StyleView",
            "description_width": ""
          }
        },
        "094d8b8c64914c25969ec129f2d66e01": {
          "model_module": "@jupyter-widgets/base",
          "model_name": "LayoutModel",
          "model_module_version": "1.2.0",
          "state": {
            "_model_module": "@jupyter-widgets/base",
            "_model_module_version": "1.2.0",
            "_model_name": "LayoutModel",
            "_view_count": null,
            "_view_module": "@jupyter-widgets/base",
            "_view_module_version": "1.2.0",
            "_view_name": "LayoutView",
            "align_content": null,
            "align_items": null,
            "align_self": null,
            "border": null,
            "bottom": null,
            "display": null,
            "flex": null,
            "flex_flow": null,
            "grid_area": null,
            "grid_auto_columns": null,
            "grid_auto_flow": null,
            "grid_auto_rows": null,
            "grid_column": null,
            "grid_gap": null,
            "grid_row": null,
            "grid_template_areas": null,
            "grid_template_columns": null,
            "grid_template_rows": null,
            "height": null,
            "justify_content": null,
            "justify_items": null,
            "left": null,
            "margin": null,
            "max_height": null,
            "max_width": null,
            "min_height": null,
            "min_width": null,
            "object_fit": null,
            "object_position": null,
            "order": null,
            "overflow": null,
            "overflow_x": null,
            "overflow_y": null,
            "padding": null,
            "right": null,
            "top": null,
            "visibility": null,
            "width": null
          }
        },
        "6bd48a85339d491bb52b74c4ee61b31b": {
          "model_module": "@jupyter-widgets/controls",
          "model_name": "ProgressStyleModel",
          "model_module_version": "1.5.0",
          "state": {
            "_model_module": "@jupyter-widgets/controls",
            "_model_module_version": "1.5.0",
            "_model_name": "ProgressStyleModel",
            "_view_count": null,
            "_view_module": "@jupyter-widgets/base",
            "_view_module_version": "1.2.0",
            "_view_name": "StyleView",
            "bar_color": null,
            "description_width": ""
          }
        },
        "7c2897ee07e443ba9ea7811082b4f380": {
          "model_module": "@jupyter-widgets/base",
          "model_name": "LayoutModel",
          "model_module_version": "1.2.0",
          "state": {
            "_model_module": "@jupyter-widgets/base",
            "_model_module_version": "1.2.0",
            "_model_name": "LayoutModel",
            "_view_count": null,
            "_view_module": "@jupyter-widgets/base",
            "_view_module_version": "1.2.0",
            "_view_name": "LayoutView",
            "align_content": null,
            "align_items": null,
            "align_self": null,
            "border": null,
            "bottom": null,
            "display": null,
            "flex": null,
            "flex_flow": null,
            "grid_area": null,
            "grid_auto_columns": null,
            "grid_auto_flow": null,
            "grid_auto_rows": null,
            "grid_column": null,
            "grid_gap": null,
            "grid_row": null,
            "grid_template_areas": null,
            "grid_template_columns": null,
            "grid_template_rows": null,
            "height": null,
            "justify_content": null,
            "justify_items": null,
            "left": null,
            "margin": null,
            "max_height": null,
            "max_width": null,
            "min_height": null,
            "min_width": null,
            "object_fit": null,
            "object_position": null,
            "order": null,
            "overflow": null,
            "overflow_x": null,
            "overflow_y": null,
            "padding": null,
            "right": null,
            "top": null,
            "visibility": null,
            "width": null
          }
        },
        "6c45939584ac43e3892e1f2812431d1e": {
          "model_module": "@jupyter-widgets/controls",
          "model_name": "DescriptionStyleModel",
          "model_module_version": "1.5.0",
          "state": {
            "_model_module": "@jupyter-widgets/controls",
            "_model_module_version": "1.5.0",
            "_model_name": "DescriptionStyleModel",
            "_view_count": null,
            "_view_module": "@jupyter-widgets/base",
            "_view_module_version": "1.2.0",
            "_view_name": "StyleView",
            "description_width": ""
          }
        }
      }
    }
  },
  "nbformat": 4,
  "nbformat_minor": 0
}