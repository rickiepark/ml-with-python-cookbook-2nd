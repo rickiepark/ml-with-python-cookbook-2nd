{
  "cells": [
    {
      "cell_type": "markdown",
      "metadata": {
        "id": "p_hXMIrQ41ji"
      },
      "source": [
        "# 12장. 모델 선택"
      ]
    },
    {
      "cell_type": "markdown",
      "metadata": {
        "id": "h9D20BTA41jo"
      },
      "source": [
        "<table align=\"left\"><tr><td>\n",
        "<a href=\"https://colab.research.google.com/github/rickiepark/ml-with-python-cookbook-2nd/blob/main/ch12.ipynb\" target=\"_parent\"><img src=\"https://colab.research.google.com/assets/colab-badge.svg\" alt=\"코랩에서 실행하기\"/></a>\n",
        "</td></tr></table>"
      ]
    },
    {
      "cell_type": "code",
      "execution_count": 1,
      "metadata": {
        "id": "tUVajcnA41jp",
        "outputId": "374581f1-a530-42d0-8518-e7e4c25414fb",
        "colab": {
          "base_uri": "https://localhost:8080/"
        }
      },
      "outputs": [
        {
          "output_type": "stream",
          "name": "stdout",
          "text": [
            "numpy 1.25.2\n",
            "sklearn 1.2.2\n",
            "scipy 1.11.4\n"
          ]
        }
      ],
      "source": [
        "import numpy as np\n",
        "import sklearn\n",
        "import scipy\n",
        "\n",
        "print('numpy', np.__version__)\n",
        "print('sklearn', sklearn.__version__)\n",
        "print('scipy', scipy.__version__)"
      ]
    },
    {
      "cell_type": "markdown",
      "metadata": {
        "id": "WncBHifc41jr"
      },
      "source": [
        "## 12.1 완전 탐색을 사용해 최선의 모델 선택하기"
      ]
    },
    {
      "cell_type": "code",
      "execution_count": 2,
      "metadata": {
        "id": "F6pwMGYZ41jr",
        "outputId": "dea2f0cb-db01-4e81-f14c-b0c7c6d945dc",
        "colab": {
          "base_uri": "https://localhost:8080/"
        }
      },
      "outputs": [
        {
          "output_type": "stream",
          "name": "stdout",
          "text": [
            "LogisticRegression(C=7.742636826811269, max_iter=500, penalty='l1',\n",
            "                   solver='liblinear')\n"
          ]
        }
      ],
      "source": [
        "# 라이브러리를 임포트합니다.\n",
        "import numpy as np\n",
        "from sklearn import linear_model, datasets\n",
        "from sklearn.model_selection import GridSearchCV\n",
        "\n",
        "# 데이터를 로드합니다.\n",
        "iris = datasets.load_iris()\n",
        "features = iris.data\n",
        "target = iris.target\n",
        "\n",
        "# 로지스틱 회귀 모델을 만듭니다.\n",
        "logistic = linear_model.LogisticRegression(max_iter=500, solver='liblinear')\n",
        "\n",
        "# 페널티(penalty) 하이퍼파라미터 값의 후보를 만듭니다.\n",
        "penalty = ['l1', 'l2']\n",
        "\n",
        "# 규제 하이퍼파라미터 값의 후보 범위를 만듭니다.\n",
        "C = np.logspace(0, 4, 10)\n",
        "\n",
        "# 하이퍼파라미터 후보 딕셔너리를 만듭니다.\n",
        "hyperparameters = dict(C=C, penalty=penalty)\n",
        "\n",
        "# 그리드 서치 객체를 만듭니다.\n",
        "gridsearch = GridSearchCV(logistic, hyperparameters, cv=5, verbose=0)\n",
        "\n",
        "# 그리드 서치를 수행합니다.\n",
        "best_model = gridsearch.fit(features, target)\n",
        "\n",
        "# 최상의 모델을 확인합니다.\n",
        "print(best_model.best_estimator_)"
      ]
    },
    {
      "cell_type": "code",
      "execution_count": 3,
      "metadata": {
        "id": "E7QXJDpz41js",
        "outputId": "41f222b4-efd0-41ca-9b1d-3d9bbbf9bd3f",
        "colab": {
          "base_uri": "https://localhost:8080/"
        }
      },
      "outputs": [
        {
          "output_type": "execute_result",
          "data": {
            "text/plain": [
              "array([1.00000000e+00, 2.78255940e+00, 7.74263683e+00, 2.15443469e+01,\n",
              "       5.99484250e+01, 1.66810054e+02, 4.64158883e+02, 1.29154967e+03,\n",
              "       3.59381366e+03, 1.00000000e+04])"
            ]
          },
          "metadata": {},
          "execution_count": 3
        }
      ],
      "source": [
        "np.logspace(0, 4, 10)"
      ]
    },
    {
      "cell_type": "code",
      "execution_count": 4,
      "metadata": {
        "id": "doIljnba41ju",
        "outputId": "f808867b-b8a6-462c-c9ca-7ef254ad5c38",
        "colab": {
          "base_uri": "https://localhost:8080/"
        }
      },
      "outputs": [
        {
          "output_type": "stream",
          "name": "stdout",
          "text": [
            "가장 좋은 페널티: l1\n",
            "가장 좋은 C 값: 7.742636826811269\n"
          ]
        }
      ],
      "source": [
        "# 최선의 하이퍼파라미터를 확인합니다.\n",
        "print('가장 좋은 페널티:', best_model.best_estimator_.get_params()['penalty'])\n",
        "print('가장 좋은 C 값:', best_model.best_estimator_.get_params()['C'])"
      ]
    },
    {
      "cell_type": "code",
      "execution_count": 5,
      "metadata": {
        "id": "RxgMTzaC41jv",
        "outputId": "900dba90-4fb7-4b8c-b7cd-35ee7915071c",
        "colab": {
          "base_uri": "https://localhost:8080/"
        }
      },
      "outputs": [
        {
          "output_type": "execute_result",
          "data": {
            "text/plain": [
              "array([0, 0, 0, 0, 0, 0, 0, 0, 0, 0, 0, 0, 0, 0, 0, 0, 0, 0, 0, 0, 0, 0,\n",
              "       0, 0, 0, 0, 0, 0, 0, 0, 0, 0, 0, 0, 0, 0, 0, 0, 0, 0, 0, 0, 0, 0,\n",
              "       0, 0, 0, 0, 0, 0, 1, 1, 1, 1, 1, 1, 1, 1, 1, 1, 1, 1, 1, 1, 1, 1,\n",
              "       1, 1, 1, 1, 2, 1, 1, 1, 1, 1, 1, 1, 1, 1, 1, 1, 1, 2, 1, 1, 1, 1,\n",
              "       1, 1, 1, 1, 1, 1, 1, 1, 1, 1, 1, 1, 2, 2, 2, 2, 2, 2, 2, 2, 2, 2,\n",
              "       2, 2, 2, 2, 2, 2, 2, 2, 2, 2, 2, 2, 2, 2, 2, 2, 2, 2, 2, 2, 2, 2,\n",
              "       2, 1, 2, 2, 2, 2, 2, 2, 2, 2, 2, 2, 2, 2, 2, 2, 2, 2])"
            ]
          },
          "metadata": {},
          "execution_count": 5
        }
      ],
      "source": [
        "# 타깃 벡터를 예측합니다.\n",
        "best_model.predict(features)"
      ]
    },
    {
      "cell_type": "markdown",
      "metadata": {
        "id": "2JX4Ahnl41jv"
      },
      "source": [
        "## 12.2 랜덤 서치를 사용하여 최선의 모델 선택하기"
      ]
    },
    {
      "cell_type": "code",
      "execution_count": 6,
      "metadata": {
        "id": "w-dkSVJq41jw",
        "outputId": "ae063950-d377-4809-fc7e-4831aa6ee8a3",
        "colab": {
          "base_uri": "https://localhost:8080/"
        }
      },
      "outputs": [
        {
          "output_type": "stream",
          "name": "stdout",
          "text": [
            "LogisticRegression(C=1.668088018810296, max_iter=500, penalty='l1',\n",
            "                   solver='liblinear')\n"
          ]
        }
      ],
      "source": [
        "# 라이브러리를 임포트합니다.\n",
        "from scipy.stats import uniform\n",
        "from sklearn import linear_model, datasets\n",
        "from sklearn.model_selection import RandomizedSearchCV\n",
        "\n",
        "# 데이터를 로드합니다.\n",
        "iris = datasets.load_iris()\n",
        "features = iris.data\n",
        "target = iris.target\n",
        "\n",
        "# 로지스틱 회귀 모델을 만듭니다.\n",
        "logistic = linear_model.LogisticRegression(max_iter=500, solver='liblinear')\n",
        "\n",
        "# 페널티 하이퍼파라미터 후보를 만듭니다. penalty hyperparameter values\n",
        "penalty = ['l1', 'l2']\n",
        "\n",
        "# 규제 하이퍼파라미터 값의 후보를 위한 분포를 만듭니다.\n",
        "C = uniform(loc=0, scale=4)\n",
        "\n",
        "# 하이퍼파라미터 옵션을 만듭니다.\n",
        "hyperparameters = dict(C=C, penalty=penalty)\n",
        "\n",
        "# 랜덤 서치 객체를 만듭니다.\n",
        "randomizedsearch = RandomizedSearchCV(\n",
        "    logistic, hyperparameters, random_state=1, n_iter=100, cv=5, verbose=0,\n",
        "    n_jobs=-1)\n",
        "\n",
        "# 랜덤 서치를 수행합니다.\n",
        "best_model = randomizedsearch.fit(features, target)\n",
        "\n",
        "# 최상의 모델을 확인합니다.\n",
        "print(best_model.best_estimator_)"
      ]
    },
    {
      "cell_type": "code",
      "execution_count": 7,
      "metadata": {
        "scrolled": true,
        "id": "_6J4UdCk41jw",
        "outputId": "09a95a63-236e-4129-d464-2d00708f0b5f",
        "colab": {
          "base_uri": "https://localhost:8080/"
        }
      },
      "outputs": [
        {
          "output_type": "execute_result",
          "data": {
            "text/plain": [
              "array([2.49922844, 0.97527491, 1.64391256, 2.00654745, 0.40423825,\n",
              "       2.91104572, 3.51727794, 2.85390444, 2.78851204, 0.03281294])"
            ]
          },
          "metadata": {},
          "execution_count": 7
        }
      ],
      "source": [
        "# 0~4 사이의 균등 분포를 정의하고 10개의 값을 샘플링합니다.\n",
        "uniform(loc=0, scale=4).rvs(10)"
      ]
    },
    {
      "cell_type": "code",
      "execution_count": 8,
      "metadata": {
        "id": "wYqTRlkm41jx",
        "outputId": "ff5df79b-a1ac-4ca9-d419-cdda93ff615b",
        "colab": {
          "base_uri": "https://localhost:8080/"
        }
      },
      "outputs": [
        {
          "output_type": "stream",
          "name": "stdout",
          "text": [
            "가장 좋은 페널티: l1\n",
            "가장 좋은 C 값: 1.668088018810296\n"
          ]
        }
      ],
      "source": [
        "# 최선의 하이퍼파라미터를 확인합니다.\n",
        "print('가장 좋은 페널티:', best_model.best_estimator_.get_params()['penalty'])\n",
        "print('가장 좋은 C 값:', best_model.best_estimator_.get_params()['C'])"
      ]
    },
    {
      "cell_type": "code",
      "execution_count": 9,
      "metadata": {
        "id": "2LmqEf1m41jx",
        "outputId": "5af76602-eb8e-4277-bdb1-5738fe077735",
        "colab": {
          "base_uri": "https://localhost:8080/"
        }
      },
      "outputs": [
        {
          "output_type": "execute_result",
          "data": {
            "text/plain": [
              "array([0, 0, 0, 0, 0, 0, 0, 0, 0, 0, 0, 0, 0, 0, 0, 0, 0, 0, 0, 0, 0, 0,\n",
              "       0, 0, 0, 0, 0, 0, 0, 0, 0, 0, 0, 0, 0, 0, 0, 0, 0, 0, 0, 0, 0, 0,\n",
              "       0, 0, 0, 0, 0, 0, 1, 1, 1, 1, 1, 1, 1, 1, 1, 1, 1, 1, 1, 1, 1, 1,\n",
              "       1, 1, 1, 1, 2, 1, 1, 1, 1, 1, 1, 1, 1, 1, 1, 1, 1, 2, 2, 1, 1, 1,\n",
              "       1, 1, 1, 1, 1, 1, 1, 1, 1, 1, 1, 1, 2, 2, 2, 2, 2, 2, 2, 2, 2, 2,\n",
              "       2, 2, 2, 2, 2, 2, 2, 2, 2, 2, 2, 2, 2, 2, 2, 2, 2, 2, 2, 1, 2, 2,\n",
              "       2, 1, 2, 2, 2, 2, 2, 2, 2, 2, 2, 2, 2, 2, 2, 2, 2, 2])"
            ]
          },
          "metadata": {},
          "execution_count": 9
        }
      ],
      "source": [
        "# 타깃 벡터를 예측합니다.\n",
        "best_model.predict(features)"
      ]
    },
    {
      "cell_type": "markdown",
      "metadata": {
        "id": "PGgd4N3d41jx"
      },
      "source": [
        "## 12.3 여러 학습 알고리즘에서 최선의 모델 선택하기"
      ]
    },
    {
      "cell_type": "code",
      "execution_count": 10,
      "metadata": {
        "id": "yOxgdEAY41jy",
        "outputId": "0e51258d-a532-4241-cce3-289d68db2e19",
        "colab": {
          "base_uri": "https://localhost:8080/"
        }
      },
      "outputs": [
        {
          "output_type": "stream",
          "name": "stdout",
          "text": [
            "Pipeline(steps=[('classifier',\n",
            "                 LogisticRegression(C=7.742636826811269, max_iter=500,\n",
            "                                    penalty='l1', solver='liblinear'))])\n"
          ]
        }
      ],
      "source": [
        "# 라이브러리를 임포트합니다.\n",
        "import numpy as np\n",
        "from sklearn import datasets\n",
        "from sklearn.linear_model import LogisticRegression\n",
        "from sklearn.ensemble import RandomForestClassifier\n",
        "from sklearn.model_selection import GridSearchCV\n",
        "from sklearn.pipeline import Pipeline\n",
        "\n",
        "# 랜덤 시드를 설정합니다.\n",
        "np.random.seed(0)\n",
        "\n",
        "# 데이터를 로드합니다.\n",
        "iris = datasets.load_iris()\n",
        "features = iris.data\n",
        "target = iris.target\n",
        "\n",
        "# 파이프라인을 만듭니다.\n",
        "pipe = Pipeline([(\"classifier\", RandomForestClassifier())])\n",
        "\n",
        "# 후보 학습 알고리즘과 하이퍼파라미터로 딕셔너리를 만듭니다.\n",
        "search_space = [{\"classifier\": [LogisticRegression(max_iter=500,\n",
        "                                                   solver='liblinear')],\n",
        "                 \"classifier__penalty\": ['l1', 'l2'],\n",
        "                 \"classifier__C\": np.logspace(0, 4, 10)},\n",
        "                {\"classifier\": [RandomForestClassifier()],\n",
        "                 \"classifier__n_estimators\": [10, 100, 1000],\n",
        "                 \"classifier__max_features\": [1, 2, 3]}]\n",
        "\n",
        "# 그리드 서치 객체를 만듭니다.\n",
        "gridsearch = GridSearchCV(pipe, search_space, cv=5, verbose=0)\n",
        "\n",
        "# 그리드 서치를 수행합니다.\n",
        "best_model = gridsearch.fit(features, target)\n",
        "\n",
        "# 최상의 모델을 확인합니다.\n",
        "print(best_model.best_estimator_)"
      ]
    },
    {
      "cell_type": "code",
      "execution_count": 11,
      "metadata": {
        "id": "39AXqYnf41jy",
        "outputId": "4f58ecab-9841-4f52-a769-606d2f13fa65",
        "colab": {
          "base_uri": "https://localhost:8080/",
          "height": 92
        }
      },
      "outputs": [
        {
          "output_type": "execute_result",
          "data": {
            "text/plain": [
              "LogisticRegression(C=7.742636826811269, max_iter=500, penalty='l1',\n",
              "                   solver='liblinear')"
            ],
            "text/html": [
              "<style>#sk-container-id-1 {color: black;background-color: white;}#sk-container-id-1 pre{padding: 0;}#sk-container-id-1 div.sk-toggleable {background-color: white;}#sk-container-id-1 label.sk-toggleable__label {cursor: pointer;display: block;width: 100%;margin-bottom: 0;padding: 0.3em;box-sizing: border-box;text-align: center;}#sk-container-id-1 label.sk-toggleable__label-arrow:before {content: \"▸\";float: left;margin-right: 0.25em;color: #696969;}#sk-container-id-1 label.sk-toggleable__label-arrow:hover:before {color: black;}#sk-container-id-1 div.sk-estimator:hover label.sk-toggleable__label-arrow:before {color: black;}#sk-container-id-1 div.sk-toggleable__content {max-height: 0;max-width: 0;overflow: hidden;text-align: left;background-color: #f0f8ff;}#sk-container-id-1 div.sk-toggleable__content pre {margin: 0.2em;color: black;border-radius: 0.25em;background-color: #f0f8ff;}#sk-container-id-1 input.sk-toggleable__control:checked~div.sk-toggleable__content {max-height: 200px;max-width: 100%;overflow: auto;}#sk-container-id-1 input.sk-toggleable__control:checked~label.sk-toggleable__label-arrow:before {content: \"▾\";}#sk-container-id-1 div.sk-estimator input.sk-toggleable__control:checked~label.sk-toggleable__label {background-color: #d4ebff;}#sk-container-id-1 div.sk-label input.sk-toggleable__control:checked~label.sk-toggleable__label {background-color: #d4ebff;}#sk-container-id-1 input.sk-hidden--visually {border: 0;clip: rect(1px 1px 1px 1px);clip: rect(1px, 1px, 1px, 1px);height: 1px;margin: -1px;overflow: hidden;padding: 0;position: absolute;width: 1px;}#sk-container-id-1 div.sk-estimator {font-family: monospace;background-color: #f0f8ff;border: 1px dotted black;border-radius: 0.25em;box-sizing: border-box;margin-bottom: 0.5em;}#sk-container-id-1 div.sk-estimator:hover {background-color: #d4ebff;}#sk-container-id-1 div.sk-parallel-item::after {content: \"\";width: 100%;border-bottom: 1px solid gray;flex-grow: 1;}#sk-container-id-1 div.sk-label:hover label.sk-toggleable__label {background-color: #d4ebff;}#sk-container-id-1 div.sk-serial::before {content: \"\";position: absolute;border-left: 1px solid gray;box-sizing: border-box;top: 0;bottom: 0;left: 50%;z-index: 0;}#sk-container-id-1 div.sk-serial {display: flex;flex-direction: column;align-items: center;background-color: white;padding-right: 0.2em;padding-left: 0.2em;position: relative;}#sk-container-id-1 div.sk-item {position: relative;z-index: 1;}#sk-container-id-1 div.sk-parallel {display: flex;align-items: stretch;justify-content: center;background-color: white;position: relative;}#sk-container-id-1 div.sk-item::before, #sk-container-id-1 div.sk-parallel-item::before {content: \"\";position: absolute;border-left: 1px solid gray;box-sizing: border-box;top: 0;bottom: 0;left: 50%;z-index: -1;}#sk-container-id-1 div.sk-parallel-item {display: flex;flex-direction: column;z-index: 1;position: relative;background-color: white;}#sk-container-id-1 div.sk-parallel-item:first-child::after {align-self: flex-end;width: 50%;}#sk-container-id-1 div.sk-parallel-item:last-child::after {align-self: flex-start;width: 50%;}#sk-container-id-1 div.sk-parallel-item:only-child::after {width: 0;}#sk-container-id-1 div.sk-dashed-wrapped {border: 1px dashed gray;margin: 0 0.4em 0.5em 0.4em;box-sizing: border-box;padding-bottom: 0.4em;background-color: white;}#sk-container-id-1 div.sk-label label {font-family: monospace;font-weight: bold;display: inline-block;line-height: 1.2em;}#sk-container-id-1 div.sk-label-container {text-align: center;}#sk-container-id-1 div.sk-container {/* jupyter's `normalize.less` sets `[hidden] { display: none; }` but bootstrap.min.css set `[hidden] { display: none !important; }` so we also need the `!important` here to be able to override the default hidden behavior on the sphinx rendered scikit-learn.org. See: https://github.com/scikit-learn/scikit-learn/issues/21755 */display: inline-block !important;position: relative;}#sk-container-id-1 div.sk-text-repr-fallback {display: none;}</style><div id=\"sk-container-id-1\" class=\"sk-top-container\"><div class=\"sk-text-repr-fallback\"><pre>LogisticRegression(C=7.742636826811269, max_iter=500, penalty=&#x27;l1&#x27;,\n",
              "                   solver=&#x27;liblinear&#x27;)</pre><b>In a Jupyter environment, please rerun this cell to show the HTML representation or trust the notebook. <br />On GitHub, the HTML representation is unable to render, please try loading this page with nbviewer.org.</b></div><div class=\"sk-container\" hidden><div class=\"sk-item\"><div class=\"sk-estimator sk-toggleable\"><input class=\"sk-toggleable__control sk-hidden--visually\" id=\"sk-estimator-id-1\" type=\"checkbox\" checked><label for=\"sk-estimator-id-1\" class=\"sk-toggleable__label sk-toggleable__label-arrow\">LogisticRegression</label><div class=\"sk-toggleable__content\"><pre>LogisticRegression(C=7.742636826811269, max_iter=500, penalty=&#x27;l1&#x27;,\n",
              "                   solver=&#x27;liblinear&#x27;)</pre></div></div></div></div></div>"
            ]
          },
          "metadata": {},
          "execution_count": 11
        }
      ],
      "source": [
        "# 최선의 모델을 확인합니다.\n",
        "best_model.best_estimator_.get_params()[\"classifier\"]"
      ]
    },
    {
      "cell_type": "code",
      "execution_count": 12,
      "metadata": {
        "id": "eHcSd-2J41jz",
        "outputId": "19a6787c-5f15-41df-d223-e05bb8ae0e6a",
        "colab": {
          "base_uri": "https://localhost:8080/"
        }
      },
      "outputs": [
        {
          "output_type": "execute_result",
          "data": {
            "text/plain": [
              "array([0, 0, 0, 0, 0, 0, 0, 0, 0, 0, 0, 0, 0, 0, 0, 0, 0, 0, 0, 0, 0, 0,\n",
              "       0, 0, 0, 0, 0, 0, 0, 0, 0, 0, 0, 0, 0, 0, 0, 0, 0, 0, 0, 0, 0, 0,\n",
              "       0, 0, 0, 0, 0, 0, 1, 1, 1, 1, 1, 1, 1, 1, 1, 1, 1, 1, 1, 1, 1, 1,\n",
              "       1, 1, 1, 1, 2, 1, 1, 1, 1, 1, 1, 1, 1, 1, 1, 1, 1, 2, 1, 1, 1, 1,\n",
              "       1, 1, 1, 1, 1, 1, 1, 1, 1, 1, 1, 1, 2, 2, 2, 2, 2, 2, 2, 2, 2, 2,\n",
              "       2, 2, 2, 2, 2, 2, 2, 2, 2, 2, 2, 2, 2, 2, 2, 2, 2, 2, 2, 2, 2, 2,\n",
              "       2, 1, 2, 2, 2, 2, 2, 2, 2, 2, 2, 2, 2, 2, 2, 2, 2, 2])"
            ]
          },
          "metadata": {},
          "execution_count": 12
        }
      ],
      "source": [
        "# 타깃 벡터를 예측합니다.\n",
        "best_model.predict(features)"
      ]
    },
    {
      "cell_type": "markdown",
      "metadata": {
        "id": "cmeKhUIN41jz"
      },
      "source": [
        "## 12.4 전처리와 함께 최선의 모델 선택하기"
      ]
    },
    {
      "cell_type": "code",
      "execution_count": 13,
      "metadata": {
        "id": "T2U14_bM41jz",
        "outputId": "c9e2538c-85ad-43e6-85a1-af3bfae4db48",
        "colab": {
          "base_uri": "https://localhost:8080/"
        }
      },
      "outputs": [
        {
          "output_type": "stream",
          "name": "stdout",
          "text": [
            "Pipeline(steps=[('preprocess',\n",
            "                 FeatureUnion(transformer_list=[('std', StandardScaler()),\n",
            "                                                ('pca', PCA(n_components=1))])),\n",
            "                ('classifier',\n",
            "                 LogisticRegression(C=7.742636826811269, max_iter=1000,\n",
            "                                    penalty='l1', solver='liblinear'))])\n"
          ]
        }
      ],
      "source": [
        "# 라이브러리를 임포트합니다.\n",
        "import numpy as np\n",
        "from sklearn import datasets\n",
        "from sklearn.linear_model import LogisticRegression\n",
        "from sklearn.model_selection import GridSearchCV\n",
        "from sklearn.pipeline import Pipeline, FeatureUnion\n",
        "from sklearn.decomposition import PCA\n",
        "from sklearn.preprocessing import StandardScaler\n",
        "\n",
        "# 랜덤 시드를 설정합니다.\n",
        "np.random.seed(0)\n",
        "\n",
        "# 데이터를 로드합니다.\n",
        "iris = datasets.load_iris()\n",
        "features = iris.data\n",
        "target = iris.target\n",
        "\n",
        "# StandardScaler와 PCA를 포함한 전처리 객체를 만듭니다.\n",
        "preprocess = FeatureUnion([(\"std\", StandardScaler()), (\"pca\", PCA())])\n",
        "\n",
        "# 파이프라인을 만듭니다.\n",
        "pipe = Pipeline([(\"preprocess\", preprocess),\n",
        "                 (\"classifier\", LogisticRegression(max_iter=1000,\n",
        "                                                   solver='liblinear'))])\n",
        "\n",
        "# 후보 값을 정의합니다.\n",
        "search_space = [{\"preprocess__pca__n_components\": [1, 2, 3],\n",
        "                 \"classifier__penalty\": [\"l1\", \"l2\"],\n",
        "                 \"classifier__C\": np.logspace(0, 4, 10)}]\n",
        "\n",
        "# 그리드 서치 객체를 만듭니다.\n",
        "clf = GridSearchCV(pipe, search_space, cv=5, verbose=0, n_jobs=-1)\n",
        "\n",
        "# 그리드 서치를 수행합니다.\n",
        "best_model = clf.fit(features, target)\n",
        "\n",
        "# 최상의 모델을 확인합니다.\n",
        "print(best_model.best_estimator_)"
      ]
    },
    {
      "cell_type": "code",
      "execution_count": 14,
      "metadata": {
        "id": "T8BzFGcq41jz",
        "outputId": "b92043cc-0196-4c5d-a180-26ada345d01a",
        "colab": {
          "base_uri": "https://localhost:8080/"
        }
      },
      "outputs": [
        {
          "output_type": "execute_result",
          "data": {
            "text/plain": [
              "1"
            ]
          },
          "metadata": {},
          "execution_count": 14
        }
      ],
      "source": [
        "# 최선의 주성분 개수를 확인합니다.\n",
        "best_model.best_estimator_.get_params()['preprocess__pca__n_components']"
      ]
    },
    {
      "cell_type": "markdown",
      "metadata": {
        "id": "3q_bqIkw41j0"
      },
      "source": [
        "### 붙임"
      ]
    },
    {
      "cell_type": "code",
      "execution_count": 15,
      "metadata": {
        "id": "JwZFXBmz41j0",
        "outputId": "ca1775dc-4866-4862-b05a-a615c95b910d",
        "colab": {
          "base_uri": "https://localhost:8080/"
        }
      },
      "outputs": [
        {
          "output_type": "execute_result",
          "data": {
            "text/plain": [
              "0.96"
            ]
          },
          "metadata": {},
          "execution_count": 15
        }
      ],
      "source": [
        "clf.best_score_"
      ]
    },
    {
      "cell_type": "code",
      "execution_count": 16,
      "metadata": {
        "id": "N1jBGq2M41j0",
        "outputId": "0cdc02f4-2b81-4c60-c5db-be2ddab87a10",
        "colab": {
          "base_uri": "https://localhost:8080/"
        }
      },
      "outputs": [
        {
          "output_type": "execute_result",
          "data": {
            "text/plain": [
              "array([[-0.90068117,  1.01900435, -1.34022653, -1.3154443 , -2.68412563]])"
            ]
          },
          "metadata": {},
          "execution_count": 16
        }
      ],
      "source": [
        "clf.best_estimator_.named_steps[\"preprocess\"].transform(features[0:1])"
      ]
    },
    {
      "cell_type": "code",
      "execution_count": 17,
      "metadata": {
        "id": "3pXPe31641j0"
      },
      "outputs": [],
      "source": [
        "pipe = Pipeline([(\"std\", StandardScaler()),\n",
        "                 (\"pca\", PCA()),\n",
        "                 (\"classifier\", LogisticRegression(max_iter=1000,\n",
        "                                                  solver='liblinear'))],\n",
        "                 memory='cache')\n",
        "\n",
        "# 후보 값을 정의합니다.\n",
        "search_space = [{\"pca__n_components\": [1, 2, 3],\n",
        "                 \"classifier__penalty\": [\"l1\", \"l2\"],\n",
        "                 \"classifier__C\": np.logspace(0, 4, 10)}]\n",
        "\n",
        "# 그리드 서치 객체를 만듭니다.\n",
        "clf = GridSearchCV(pipe, search_space, cv=5, verbose=0, n_jobs=-1)\n",
        "\n",
        "# 그리드 서치를 수행합니다.\n",
        "best_model = clf.fit(features, target)"
      ]
    },
    {
      "cell_type": "code",
      "execution_count": 18,
      "metadata": {
        "id": "PkH2LQdu41j1",
        "outputId": "068cfbd3-a989-4ea4-b283-4674c94283aa",
        "colab": {
          "base_uri": "https://localhost:8080/"
        }
      },
      "outputs": [
        {
          "output_type": "execute_result",
          "data": {
            "text/plain": [
              "0.9666666666666668"
            ]
          },
          "metadata": {},
          "execution_count": 18
        }
      ],
      "source": [
        "clf.best_score_"
      ]
    },
    {
      "cell_type": "code",
      "execution_count": 19,
      "metadata": {
        "id": "uOzvyGQi41j1",
        "outputId": "12ba1a58-cede-482c-8a32-b102ca32b236",
        "colab": {
          "base_uri": "https://localhost:8080/"
        }
      },
      "outputs": [
        {
          "output_type": "execute_result",
          "data": {
            "text/plain": [
              "3"
            ]
          },
          "metadata": {},
          "execution_count": 19
        }
      ],
      "source": [
        "# 최선의 주성분 개수를 확인합니다.\n",
        "clf.best_estimator_.get_params()['pca__n_components']"
      ]
    },
    {
      "cell_type": "code",
      "execution_count": 20,
      "metadata": {
        "id": "ZCwJcHY041j1",
        "outputId": "19d08473-c06a-4b61-b55b-07d022b6fb20",
        "colab": {
          "base_uri": "https://localhost:8080/"
        }
      },
      "outputs": [
        {
          "output_type": "execute_result",
          "data": {
            "text/plain": [
              "array([[ 2.64026976,  5.2040413 , -2.48862071]])"
            ]
          },
          "metadata": {},
          "execution_count": 20
        }
      ],
      "source": [
        "clf.best_estimator_.named_steps[\"pca\"].transform(features[0:1])"
      ]
    },
    {
      "cell_type": "markdown",
      "metadata": {
        "id": "Bwh0I2EQ41j1"
      },
      "source": [
        "## 12.5 병렬화로 모델 선택 속도 높이기"
      ]
    },
    {
      "cell_type": "code",
      "execution_count": 21,
      "metadata": {
        "id": "ciIsjePi41j2",
        "outputId": "56fc5396-64c9-4f30-95c1-585114866db8",
        "colab": {
          "base_uri": "https://localhost:8080/"
        }
      },
      "outputs": [
        {
          "output_type": "stream",
          "name": "stdout",
          "text": [
            "Fitting 5 folds for each of 2000 candidates, totalling 10000 fits\n",
            "LogisticRegression(C=5.926151812475554, max_iter=500, penalty='l1',\n",
            "                   solver='liblinear')\n"
          ]
        }
      ],
      "source": [
        "# 라이브러리를 임포트합니다.\n",
        "import numpy as np\n",
        "from sklearn import linear_model, datasets\n",
        "from sklearn.model_selection import GridSearchCV\n",
        "\n",
        "# 데이터를 로드합니다.\n",
        "iris = datasets.load_iris()\n",
        "features = iris.data\n",
        "target = iris.target\n",
        "\n",
        "# 로지스틱 회귀 모델을 만듭니다.\n",
        "logistic = linear_model.LogisticRegression(max_iter=500, solver='liblinear'\n",
        "                                          )\n",
        "\n",
        "# 규제 페널티의 후보를 만듭니다.\n",
        "penalty = [\"l1\", \"l2\"]\n",
        "\n",
        "# C 값의 후보 범위를 만듭니다.\n",
        "C = np.logspace(0, 4, 1000)\n",
        "\n",
        "# 하이퍼파라미터 옵션을 만듭니다.\n",
        "hyperparameters = dict(C=C, penalty=penalty)\n",
        "\n",
        "# 그리드 서치 객체를 만듭니다.\n",
        "gridsearch = GridSearchCV(logistic, hyperparameters, cv=5, n_jobs=-1, verbose=1)\n",
        "\n",
        "# 그리드 서치를 수행합니다.\n",
        "best_model = gridsearch.fit(features, target)\n",
        "\n",
        "# 최상의 모델을 확인합니다.\n",
        "print(best_model.best_estimator_)"
      ]
    },
    {
      "cell_type": "code",
      "execution_count": 22,
      "metadata": {
        "id": "nEVAA7GR41j2",
        "outputId": "5ae84872-9b72-4fcc-e845-7da9baf4e7ea",
        "colab": {
          "base_uri": "https://localhost:8080/"
        }
      },
      "outputs": [
        {
          "output_type": "stream",
          "name": "stdout",
          "text": [
            "Fitting 5 folds for each of 2000 candidates, totalling 10000 fits\n",
            "LogisticRegression(C=5.926151812475554, max_iter=500, penalty='l1',\n",
            "                   solver='liblinear')\n"
          ]
        }
      ],
      "source": [
        "# 하나의 코어만 사용하는 그리드 서치 객체를 만듭니다.\n",
        "clf = GridSearchCV(logistic, hyperparameters, cv=5, n_jobs=1, verbose=1)\n",
        "\n",
        "# 그리드 서치를 수행합니다.\n",
        "best_model = clf.fit(features, target)\n",
        "\n",
        "# 최상의 모델을 확인합니다.\n",
        "print(best_model.best_estimator_)"
      ]
    },
    {
      "cell_type": "markdown",
      "metadata": {
        "id": "vdkMt2Pr41j2"
      },
      "source": [
        "## 12.6 알고리즘에 특화된 기법을 사용하여 모델 선택 수행 속도 높이기"
      ]
    },
    {
      "cell_type": "code",
      "execution_count": 23,
      "metadata": {
        "scrolled": true,
        "id": "uLaWWPfu41j2",
        "outputId": "c98a2542-02f3-4492-cd48-b6164a7d679c",
        "colab": {
          "base_uri": "https://localhost:8080/"
        }
      },
      "outputs": [
        {
          "output_type": "stream",
          "name": "stdout",
          "text": [
            "LogisticRegressionCV(Cs=100, max_iter=1000)\n"
          ]
        }
      ],
      "source": [
        "# 라이브러리를 임포트합니다.\n",
        "from sklearn import linear_model, datasets\n",
        "\n",
        "# 데이터를 로드합니다.\n",
        "iris = datasets.load_iris()\n",
        "features = iris.data\n",
        "target = iris.target\n",
        "\n",
        "# 교차검증 로지스틱 회귀 모델을 만듭니다.\n",
        "logit = linear_model.LogisticRegressionCV(max_iter=1000, Cs=100)\n",
        "\n",
        "# 모델을 훈련합니다.\n",
        "logit.fit(features, target)\n",
        "\n",
        "# 모델을 확인합니다.\n",
        "print(logit)"
      ]
    },
    {
      "cell_type": "markdown",
      "metadata": {
        "id": "iXuLAroT41j3"
      },
      "source": [
        "## 12.7 모델 선택 후 성능 평가"
      ]
    },
    {
      "cell_type": "code",
      "execution_count": 24,
      "metadata": {
        "id": "m8sh3lo141j3",
        "outputId": "a81703e7-701b-401a-daa9-3056cc56bd30",
        "colab": {
          "base_uri": "https://localhost:8080/"
        }
      },
      "outputs": [
        {
          "output_type": "execute_result",
          "data": {
            "text/plain": [
              "0.9733333333333334"
            ]
          },
          "metadata": {},
          "execution_count": 24
        }
      ],
      "source": [
        "# 라이브러리를 임포트합니다.\n",
        "import numpy as np\n",
        "from sklearn import linear_model, datasets\n",
        "from sklearn.model_selection import GridSearchCV, cross_val_score\n",
        "\n",
        "# 데이터를 로드합니다.\n",
        "iris = datasets.load_iris()\n",
        "features = iris.data\n",
        "target = iris.target\n",
        "\n",
        "# 로지스틱 회귀 모델을 만듭니다.\n",
        "logistic = linear_model.LogisticRegression(max_iter=500, solver='liblinear')\n",
        "\n",
        "# Create range of 20 candidate values for C\n",
        "C = np.logspace(0, 4, 20)\n",
        "\n",
        "# 하이퍼파라미터 옵션을 만듭니다.\n",
        "hyperparameters = dict(C=C)\n",
        "\n",
        "# 그리드 서치 객체를 만듭니다.\n",
        "gridsearch = GridSearchCV(logistic, hyperparameters, cv=5, n_jobs=-1, verbose=0)\n",
        "\n",
        "# 중첩 교차검증을 수행하고 평균 점수를 출력합니다.\n",
        "cross_val_score(gridsearch, features, target).mean()"
      ]
    },
    {
      "cell_type": "code",
      "execution_count": 25,
      "metadata": {
        "id": "QUydSIj841j3"
      },
      "outputs": [],
      "source": [
        "gridsearch = GridSearchCV(logistic, hyperparameters, cv=5, verbose=1)"
      ]
    },
    {
      "cell_type": "code",
      "execution_count": 26,
      "metadata": {
        "id": "J2oHFw5g41j3",
        "outputId": "91840196-1ee2-4174-ff19-17a2c031238f",
        "colab": {
          "base_uri": "https://localhost:8080/"
        }
      },
      "outputs": [
        {
          "output_type": "stream",
          "name": "stdout",
          "text": [
            "Fitting 5 folds for each of 20 candidates, totalling 100 fits\n"
          ]
        }
      ],
      "source": [
        "best_model = gridsearch.fit(features, target)"
      ]
    },
    {
      "cell_type": "code",
      "execution_count": 27,
      "metadata": {
        "id": "gYFt1zJY41j4",
        "outputId": "caf5604e-8767-4918-8a5f-a9edbeff20ee",
        "colab": {
          "base_uri": "https://localhost:8080/"
        }
      },
      "outputs": [
        {
          "output_type": "stream",
          "name": "stdout",
          "text": [
            "Fitting 5 folds for each of 20 candidates, totalling 100 fits\n",
            "Fitting 5 folds for each of 20 candidates, totalling 100 fits\n",
            "Fitting 5 folds for each of 20 candidates, totalling 100 fits\n",
            "Fitting 5 folds for each of 20 candidates, totalling 100 fits\n",
            "Fitting 5 folds for each of 20 candidates, totalling 100 fits\n"
          ]
        }
      ],
      "source": [
        "scores = cross_val_score(gridsearch, features, target)"
      ]
    }
  ],
  "metadata": {
    "kernelspec": {
      "display_name": "Python 3 (ipykernel)",
      "language": "python",
      "name": "python3"
    },
    "language_info": {
      "codemirror_mode": {
        "name": "ipython",
        "version": 3
      },
      "file_extension": ".py",
      "mimetype": "text/x-python",
      "name": "python",
      "nbconvert_exporter": "python",
      "pygments_lexer": "ipython3",
      "version": "3.10.13"
    },
    "colab": {
      "provenance": []
    }
  },
  "nbformat": 4,
  "nbformat_minor": 0
}