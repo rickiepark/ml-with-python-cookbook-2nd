{
  "cells": [
    {
      "cell_type": "markdown",
      "metadata": {
        "id": "tzSMNiIOjBTL"
      },
      "source": [
        "# 11장. 모델 평가"
      ]
    },
    {
      "cell_type": "markdown",
      "metadata": {
        "id": "P-WEwWGAjBTO"
      },
      "source": [
        "<table align=\"left\"><tr><td>\n",
        "<a href=\"https://colab.research.google.com/github/rickiepark/ml-with-python-cookbook-2nd/blob/main/ch11.ipynb\" target=\"_parent\"><img src=\"https://colab.research.google.com/assets/colab-badge.svg\" alt=\"코랩에서 실행하기\"/></a>\n",
        "</td></tr></table>"
      ]
    },
    {
      "cell_type": "code",
      "execution_count": 1,
      "metadata": {
        "id": "NEG_jfXNjBTO",
        "outputId": "780cb4df-3f4f-42eb-82db-ad43efe4e4bc",
        "colab": {
          "base_uri": "https://localhost:8080/"
        }
      },
      "outputs": [
        {
          "output_type": "stream",
          "name": "stdout",
          "text": [
            "numpy 1.26.4\n",
            "pandas 2.2.2\n",
            "sklearn 1.6.0\n",
            "matplotlib 3.8.0\n",
            "sns 0.13.2\n"
          ]
        }
      ],
      "source": [
        "import numpy as np\n",
        "import pandas as pd\n",
        "import sklearn\n",
        "import matplotlib\n",
        "import seaborn as sns\n",
        "\n",
        "print('numpy', np.__version__)\n",
        "print('pandas', pd.__version__)\n",
        "print('sklearn', sklearn.__version__)\n",
        "print('matplotlib', matplotlib.__version__)\n",
        "print('sns', sns.__version__)"
      ]
    },
    {
      "cell_type": "markdown",
      "metadata": {
        "id": "Ib1qM22WjBTP"
      },
      "source": [
        "## 11.1 교차검증 모델"
      ]
    },
    {
      "cell_type": "code",
      "execution_count": 2,
      "metadata": {
        "id": "_zFmQxFojBTP",
        "outputId": "af69e8f3-8a5e-42f1-b2d8-fd81442d7b77",
        "colab": {
          "base_uri": "https://localhost:8080/"
        }
      },
      "outputs": [
        {
          "output_type": "execute_result",
          "data": {
            "text/plain": [
              "0.9677329000309502"
            ]
          },
          "metadata": {},
          "execution_count": 2
        }
      ],
      "source": [
        "# 라이브러리를 임포트합니다.\n",
        "from sklearn import datasets\n",
        "from sklearn import metrics\n",
        "from sklearn.model_selection import KFold, cross_val_score\n",
        "from sklearn.pipeline import make_pipeline\n",
        "from sklearn.linear_model import LogisticRegression\n",
        "from sklearn.preprocessing import StandardScaler\n",
        "\n",
        "# 숫자 데이터셋을 로드합니다.\n",
        "digits = datasets.load_digits()\n",
        "\n",
        "# 특성 행렬을 만듭니다.\n",
        "features = digits.data\n",
        "\n",
        "# 타깃 벡터를 만듭니다.\n",
        "target = digits.target\n",
        "\n",
        "# 표준화 객체를 만듭니다.\n",
        "standardizer = StandardScaler()\n",
        "\n",
        "# 로지스틱 회귀 객체를 만듭니다.\n",
        "logit = LogisticRegression()\n",
        "\n",
        "# 표준화한 다음 로지스틱 회귀를 실행하는 파이프라인을 만듭니다.\n",
        "pipeline = make_pipeline(standardizer, logit)\n",
        "\n",
        "# k-폴드 교차검증을 만듭니다.\n",
        "kf = KFold(n_splits=5, shuffle=True, random_state=0)\n",
        "\n",
        "# k-폴드 교차검증을 수행합니다.\n",
        "cv_results = cross_val_score(pipeline, # 파이프라인\n",
        "                             features, # 특성 행렬\n",
        "                             target, # 타깃 벡터\n",
        "                             cv=kf, # 교차 검증 기법\n",
        "                             scoring=\"accuracy\", # 평가 지표\n",
        "                             n_jobs=-1) # 모든 CPU 코어 사용\n",
        "\n",
        "# 평균을 계산합니다.\n",
        "cv_results.mean()"
      ]
    },
    {
      "cell_type": "code",
      "execution_count": 3,
      "metadata": {
        "id": "Q2SOWu02jBTQ",
        "outputId": "3244d052-a458-46e6-92cc-058311459542",
        "colab": {
          "base_uri": "https://localhost:8080/"
        }
      },
      "outputs": [
        {
          "output_type": "execute_result",
          "data": {
            "text/plain": [
              "array([0.96111111, 0.95833333, 0.97771588, 0.96935933, 0.97214485])"
            ]
          },
          "metadata": {},
          "execution_count": 3
        }
      ],
      "source": [
        "# 5개 폴드의 점수를 모두 확인하기\n",
        "cv_results"
      ]
    },
    {
      "cell_type": "code",
      "execution_count": 4,
      "metadata": {
        "id": "koTE8-O_jBTR"
      },
      "outputs": [],
      "source": [
        "# 라이브러리를 임포트합니다.\n",
        "from sklearn.model_selection import train_test_split\n",
        "\n",
        "# 훈련 세트와 테스트 세트를 만듭니다.\n",
        "features_train, features_test, target_train, target_test = train_test_split(\n",
        "    features, target, test_size=0.1, random_state=1)\n",
        "\n",
        "# 훈련 세트로 standardizer의 fit 메서드를 호출합니다.\n",
        "standardizer.fit(features_train)\n",
        "\n",
        "# 훈련 세트와 테스트 세트에 모두 적용합니다.\n",
        "features_train_std = standardizer.transform(features_train)\n",
        "features_test_std = standardizer.transform(features_test)"
      ]
    },
    {
      "cell_type": "code",
      "execution_count": 5,
      "metadata": {
        "id": "Ut6sq7eIjBTR"
      },
      "outputs": [],
      "source": [
        "# 파이프라인을 만듭니다.\n",
        "pipeline = make_pipeline(standardizer, logit)"
      ]
    },
    {
      "cell_type": "code",
      "execution_count": 6,
      "metadata": {
        "id": "PcBRcIw3jBTS"
      },
      "outputs": [],
      "source": [
        "# k-폴드 교차 검증 수행\n",
        "cv_results = cross_val_score(pipeline, # 파이프라인\n",
        "                             features, # 특성 행렬\n",
        "                             target, # 타깃 벡터\n",
        "                             cv=kf, # 교차검증\n",
        "                             scoring=\"accuracy\", # 평가 지표\n",
        "                             n_jobs=-1) # 모든 CPU 코어 사용"
      ]
    },
    {
      "cell_type": "markdown",
      "metadata": {
        "id": "RsoQ5VbxjBTS"
      },
      "source": [
        "### 붙임"
      ]
    },
    {
      "cell_type": "code",
      "execution_count": 7,
      "metadata": {
        "id": "3NTzZzS9jBTS",
        "outputId": "194f418b-82e3-4ba8-c132-13a135ffb5f6",
        "colab": {
          "base_uri": "https://localhost:8080/"
        }
      },
      "outputs": [
        {
          "output_type": "execute_result",
          "data": {
            "text/plain": [
              "0.9622222222222222"
            ]
          },
          "metadata": {},
          "execution_count": 7
        }
      ],
      "source": [
        "from sklearn.model_selection import ShuffleSplit\n",
        "\n",
        "# ShuffleSplit 분할기를 만듭니다.\n",
        "ss = ShuffleSplit(n_splits=10, train_size=0.5, test_size=0.2, random_state=42)\n",
        "\n",
        "# 교차검증을 수행합니다.\n",
        "cv_results = cross_val_score(pipeline, # 파이프라인\n",
        "                             features, # 특성 행렬\n",
        "                             target, # 타깃 벡터\n",
        "                             cv=ss, # 교차 검증 기법\n",
        "                             scoring=\"accuracy\", # 평가 지표\n",
        "                             n_jobs=-1) # 모든 CPU 코어 사용\n",
        "\n",
        "# 평균을 계산합니다.\n",
        "cv_results.mean()"
      ]
    },
    {
      "cell_type": "code",
      "execution_count": 8,
      "metadata": {
        "id": "qjaj-Jr0jBTT",
        "outputId": "fe1878fc-2741-45f4-f88c-d7cd3d44cf69",
        "colab": {
          "base_uri": "https://localhost:8080/"
        }
      },
      "outputs": [
        {
          "output_type": "execute_result",
          "data": {
            "text/plain": [
              "50"
            ]
          },
          "metadata": {},
          "execution_count": 8
        }
      ],
      "source": [
        "from sklearn.model_selection import RepeatedKFold\n",
        "\n",
        "# RepeatedKFold 분할기를 만듭니다.\n",
        "rfk = RepeatedKFold(n_splits=10, n_repeats=5, random_state=42)\n",
        "\n",
        "# 교차검증을 수행합니다.\n",
        "cv_results = cross_val_score(pipeline, # 파이프라인\n",
        "                             features, # 특성 행렬\n",
        "                             target, # 타깃 벡터\n",
        "                             cv=rfk, # 교차 검증 기법\n",
        "                             scoring=\"accuracy\", # 평가 지표\n",
        "                             n_jobs=-1) # 모든 CPU 코어 사용\n",
        "\n",
        "# 검증 점수 개수를 확인합니다.\n",
        "len(cv_results)"
      ]
    },
    {
      "cell_type": "markdown",
      "metadata": {
        "id": "ITYpRM0XjBTT"
      },
      "source": [
        "## 11.2 기본 회귀 모델 만들기"
      ]
    },
    {
      "cell_type": "code",
      "execution_count": 9,
      "metadata": {
        "id": "1N9tdXqFjBTT",
        "outputId": "b32f9a33-3067-4d08-d748-3bac2d9c2de1",
        "colab": {
          "base_uri": "https://localhost:8080/"
        }
      },
      "outputs": [
        {
          "output_type": "execute_result",
          "data": {
            "text/plain": [
              "-0.0480213580840978"
            ]
          },
          "metadata": {},
          "execution_count": 9
        }
      ],
      "source": [
        "# 라이브러리를 임포트합니다.\n",
        "from sklearn.datasets import load_wine\n",
        "from sklearn.dummy import DummyRegressor\n",
        "from sklearn.model_selection import train_test_split\n",
        "\n",
        "# 데이터를 로드합니다.\n",
        "wine = load_wine()\n",
        "\n",
        "# 특성을 만듭니다.\n",
        "features, target = wine.data, wine.target\n",
        "\n",
        "# 흔련 세트와 테스트 세트를 나눕니다.\n",
        "features_train, features_test, target_train, target_test = train_test_split(\n",
        "    features, target, random_state=0)\n",
        "\n",
        "# 더미 회귀 모델을 만듭니다.\n",
        "dummy = DummyRegressor(strategy='mean')\n",
        "\n",
        "# 더미 회귀 모델을 훈련합니다.\n",
        "dummy.fit(features_train, target_train)\n",
        "\n",
        "# R^2 점수를 계산합니다.\n",
        "dummy.score(features_test, target_test)"
      ]
    },
    {
      "cell_type": "code",
      "execution_count": 10,
      "metadata": {
        "id": "Qg7vNwcTjBTT",
        "outputId": "1c1f60e7-31c5-4889-e48c-be3f9852c6c0",
        "colab": {
          "base_uri": "https://localhost:8080/"
        }
      },
      "outputs": [
        {
          "output_type": "execute_result",
          "data": {
            "text/plain": [
              "0.804353263176954"
            ]
          },
          "metadata": {},
          "execution_count": 10
        }
      ],
      "source": [
        "# 라이브러리를 임포트합니다.\n",
        "from sklearn.linear_model import LinearRegression\n",
        "\n",
        "# 간단한 선형 회귀 모델을 훈련합니다.\n",
        "ols = LinearRegression()\n",
        "ols.fit(features_train, target_train)\n",
        "\n",
        "# R^2 점수를 계산합니다.\n",
        "ols.score(features_test, target_test)"
      ]
    },
    {
      "cell_type": "code",
      "execution_count": 11,
      "metadata": {
        "id": "_C5z4t9ajBTT",
        "outputId": "b99ada5f-3aa2-4a9c-a063-5f1cab70f5da",
        "colab": {
          "base_uri": "https://localhost:8080/"
        }
      },
      "outputs": [
        {
          "output_type": "execute_result",
          "data": {
            "text/plain": [
              "-0.06299212598425186"
            ]
          },
          "metadata": {},
          "execution_count": 11
        }
      ],
      "source": [
        "# 모든 샘플에 대해 1로 예측하는 더미 회귀 모델을 만듭니다.\n",
        "clf = DummyRegressor(strategy='constant', constant=1)\n",
        "clf.fit(features_train, target_train)\n",
        "\n",
        "# 점수를 계산합니다.\n",
        "clf.score(features_test, target_test)"
      ]
    },
    {
      "cell_type": "markdown",
      "metadata": {
        "id": "X3aalPayjBTT"
      },
      "source": [
        "### 붙임"
      ]
    },
    {
      "cell_type": "code",
      "execution_count": 12,
      "metadata": {
        "id": "-VNUpLvxjBTU",
        "outputId": "579b5e94-1093-4391-bd71-68260fa70a79",
        "colab": {
          "base_uri": "https://localhost:8080/"
        }
      },
      "outputs": [
        {
          "output_type": "execute_result",
          "data": {
            "text/plain": [
              "array([2., 2., 2., 2., 2., 2., 2., 2., 2., 2., 2., 2., 2., 2., 2., 2., 2.,\n",
              "       2., 2., 2., 2., 2., 2., 2., 2., 2., 2., 2., 2., 2., 2., 2., 2., 2.,\n",
              "       2., 2., 2., 2., 2., 2., 2., 2., 2., 2., 2.])"
            ]
          },
          "metadata": {},
          "execution_count": 12
        }
      ],
      "source": [
        "clf = DummyRegressor(strategy='quantile', quantile=1.0)\n",
        "clf.fit(features_train, target_train)\n",
        "\n",
        "# 훈련 세트 타깃의 최대값으로 예측합니다.\n",
        "clf.predict(features_test)"
      ]
    },
    {
      "cell_type": "code",
      "execution_count": 13,
      "metadata": {
        "id": "QHGsAUShjBTU",
        "outputId": "466e04b2-633d-42e6-970d-c02d94004a02",
        "colab": {
          "base_uri": "https://localhost:8080/"
        }
      },
      "outputs": [
        {
          "output_type": "execute_result",
          "data": {
            "text/plain": [
              "2"
            ]
          },
          "metadata": {},
          "execution_count": 13
        }
      ],
      "source": [
        "import numpy as np\n",
        "# 훈련 세트의 타깃에서 최댓값을 확인합니다.\n",
        "np.max(target_train)"
      ]
    },
    {
      "cell_type": "markdown",
      "metadata": {
        "id": "C47nRgG5jBTU"
      },
      "source": [
        "## 11.3 기본 분류 모델 만들기"
      ]
    },
    {
      "cell_type": "code",
      "execution_count": 14,
      "metadata": {
        "id": "DANY_wGTjBTU",
        "outputId": "66a508ea-ad83-48c1-cfa3-6be860d4b18b",
        "colab": {
          "base_uri": "https://localhost:8080/"
        }
      },
      "outputs": [
        {
          "output_type": "execute_result",
          "data": {
            "text/plain": [
              "0.42105263157894735"
            ]
          },
          "metadata": {},
          "execution_count": 14
        }
      ],
      "source": [
        "# 라이브러리를 임포트합니다.\n",
        "from sklearn.datasets import load_iris\n",
        "from sklearn.dummy import DummyClassifier\n",
        "from sklearn.model_selection import train_test_split\n",
        "\n",
        "# 데이터를 로드합니다.\n",
        "iris = load_iris()\n",
        "\n",
        "# 타깃 벡터와 특성 행렬을 만듭니다.\n",
        "features, target = iris.data, iris.target\n",
        "\n",
        "# 훈련 세트와 테스트 세트로 나눕니다.\n",
        "features_train, features_test, target_train, target_test = train_test_split(\n",
        "features, target, random_state=0)\n",
        "\n",
        "# 더미 분류 모델을 만듭니다.\n",
        "dummy = DummyClassifier(strategy='uniform', random_state=1)\n",
        "\n",
        "# 모델을 훈련합니다.\n",
        "dummy.fit(features_train, target_train)\n",
        "\n",
        "# 정확도 점수를 계산합니다.\n",
        "dummy.score(features_test, target_test)"
      ]
    },
    {
      "cell_type": "code",
      "execution_count": 15,
      "metadata": {
        "id": "a1HxtGsljBTU",
        "outputId": "b6785c00-c76f-41b5-d963-291cc1d7d4d7",
        "colab": {
          "base_uri": "https://localhost:8080/"
        }
      },
      "outputs": [
        {
          "output_type": "execute_result",
          "data": {
            "text/plain": [
              "0.9736842105263158"
            ]
          },
          "metadata": {},
          "execution_count": 15
        }
      ],
      "source": [
        "# 라이브러리를 임포트합니다.\n",
        "from sklearn.ensemble import RandomForestClassifier\n",
        "\n",
        "# 분류 모델을 만듭니다.\n",
        "classifier = RandomForestClassifier()\n",
        "\n",
        "# 모델을 훈련합니다.\n",
        "classifier.fit(features_train, target_train)\n",
        "\n",
        "# 정확도 점수를 계산합니다.\n",
        "classifier.score(features_test, target_test)"
      ]
    },
    {
      "cell_type": "markdown",
      "metadata": {
        "id": "VywbI60fjBTU"
      },
      "source": [
        "### 붙임"
      ]
    },
    {
      "cell_type": "code",
      "execution_count": 16,
      "metadata": {
        "id": "6tccmhZIjBTU",
        "outputId": "93d117c6-b41a-45cb-f20a-bbe1c5a1b54f",
        "colab": {
          "base_uri": "https://localhost:8080/"
        }
      },
      "outputs": [
        {
          "output_type": "execute_result",
          "data": {
            "text/plain": [
              "array([2, 2, 2, 2, 2, 2, 2, 2, 2, 2, 2, 2, 2, 2, 2, 2, 2, 2, 2, 2, 2, 2,\n",
              "       2, 2, 2, 2, 2, 2, 2, 2, 2, 2, 2, 2, 2, 2, 2, 2])"
            ]
          },
          "metadata": {},
          "execution_count": 16
        }
      ],
      "source": [
        "dummy = DummyClassifier(strategy='most_frequent')\n",
        "dummy.fit(features_train, target_train)\n",
        "\n",
        "# 훈련 세트 타깃에서 가장 많은 값으로 예측합니다.\n",
        "dummy.predict(features_test)"
      ]
    },
    {
      "cell_type": "code",
      "execution_count": 17,
      "metadata": {
        "id": "w1XY2uewjBTU",
        "outputId": "f204f8ba-867d-4efc-ec32-e0fbdf402b9a",
        "colab": {
          "base_uri": "https://localhost:8080/"
        }
      },
      "outputs": [
        {
          "output_type": "execute_result",
          "data": {
            "text/plain": [
              "array([37, 34, 41])"
            ]
          },
          "metadata": {},
          "execution_count": 17
        }
      ],
      "source": [
        "# 훈련 세트의 타깃 개수를 확인합니다.\n",
        "np.bincount(target_train)"
      ]
    },
    {
      "cell_type": "markdown",
      "metadata": {
        "id": "wNPIGwmSjBTV"
      },
      "source": [
        "## 11.4 이진 분류기의 예측 평가"
      ]
    },
    {
      "cell_type": "code",
      "execution_count": 18,
      "metadata": {
        "id": "ZgYTd7-IjBTV",
        "outputId": "dfca557d-d453-40ab-abfd-213fe778c1ac",
        "colab": {
          "base_uri": "https://localhost:8080/"
        }
      },
      "outputs": [
        {
          "output_type": "execute_result",
          "data": {
            "text/plain": [
              "array([0.9555, 0.95  , 0.9585, 0.9555, 0.956 ])"
            ]
          },
          "metadata": {},
          "execution_count": 18
        }
      ],
      "source": [
        "# 라이브러리를 임포트합니다.\n",
        "from sklearn.model_selection import cross_val_score\n",
        "from sklearn.linear_model import LogisticRegression\n",
        "from sklearn.datasets import make_classification\n",
        "\n",
        "# 특성 행렬과 타깃 벡터를 만듭니다.\n",
        "X, y = make_classification(n_samples = 10000,\n",
        "                           n_features = 3,\n",
        "                           n_informative = 3,\n",
        "                           n_redundant = 0,\n",
        "                           n_classes = 2,\n",
        "                           random_state = 1)\n",
        "\n",
        "# 로지스틱 회귀 모델을 만듭니다.\n",
        "logit = LogisticRegression()\n",
        "\n",
        "# 정확도를 사용하여 교차검증을 수행합니다.\n",
        "cross_val_score(logit, X, y, scoring=\"accuracy\")"
      ]
    },
    {
      "cell_type": "code",
      "execution_count": 19,
      "metadata": {
        "id": "3hDdIq_djBTV",
        "outputId": "7daafa1a-36b0-4fa3-a913-32bcea957fbd",
        "colab": {
          "base_uri": "https://localhost:8080/"
        }
      },
      "outputs": [
        {
          "output_type": "execute_result",
          "data": {
            "text/plain": [
              "array([0.95963673, 0.94820717, 0.9635996 , 0.96149949, 0.96060606])"
            ]
          },
          "metadata": {},
          "execution_count": 19
        }
      ],
      "source": [
        "# 정밀도를 사용한 교차검증\n",
        "cross_val_score(logit, X, y, scoring=\"precision\")"
      ]
    },
    {
      "cell_type": "code",
      "execution_count": 20,
      "metadata": {
        "id": "0hkxlD9NjBTV",
        "outputId": "737dc550-87f9-4042-d169-e22e849eb158",
        "colab": {
          "base_uri": "https://localhost:8080/"
        }
      },
      "outputs": [
        {
          "output_type": "execute_result",
          "data": {
            "text/plain": [
              "array([0.951, 0.952, 0.953, 0.949, 0.951])"
            ]
          },
          "metadata": {},
          "execution_count": 20
        }
      ],
      "source": [
        "# 재현율을 사용한 교차검증\n",
        "cross_val_score(logit, X, y, scoring=\"recall\")"
      ]
    },
    {
      "cell_type": "code",
      "execution_count": 21,
      "metadata": {
        "id": "VUiicxtPjBTV",
        "outputId": "b20210a5-cbbb-41d2-86a1-801c7aa55930",
        "colab": {
          "base_uri": "https://localhost:8080/"
        }
      },
      "outputs": [
        {
          "output_type": "execute_result",
          "data": {
            "text/plain": [
              "array([0.95529884, 0.9500998 , 0.95827049, 0.95520886, 0.95577889])"
            ]
          },
          "metadata": {},
          "execution_count": 21
        }
      ],
      "source": [
        "# f1 점수를 사용한 교차검증\n",
        "cross_val_score(logit, X, y, scoring=\"f1\")"
      ]
    },
    {
      "cell_type": "code",
      "execution_count": 22,
      "metadata": {
        "id": "-f1J6OibjBTV",
        "outputId": "2f7cc62a-d5c3-4e42-d5fa-7320e127f717",
        "colab": {
          "base_uri": "https://localhost:8080/"
        }
      },
      "outputs": [
        {
          "output_type": "execute_result",
          "data": {
            "text/plain": [
              "0.947"
            ]
          },
          "metadata": {},
          "execution_count": 22
        }
      ],
      "source": [
        "# 라이브러리를 임포트합니다.\n",
        "from sklearn.model_selection import train_test_split\n",
        "from sklearn.metrics import accuracy_score\n",
        "\n",
        "# 훈련 세트와 테스트 세트로 나눕니다.\n",
        "X_train, X_test, y_train, y_test = train_test_split(X,\n",
        "                                                    y,\n",
        "                                                    test_size=0.1,\n",
        "                                                    random_state=1)\n",
        "\n",
        "# 테스트 세트의 예측을 만듭니다.\n",
        "y_hat = logit.fit(X_train, y_train).predict(X_test)\n",
        "\n",
        "# 정확도를 계산합니다.\n",
        "accuracy_score(y_test, y_hat)"
      ]
    },
    {
      "cell_type": "markdown",
      "metadata": {
        "id": "cp0ASlz8jBTV"
      },
      "source": [
        "### 붙임"
      ]
    },
    {
      "cell_type": "code",
      "execution_count": 23,
      "metadata": {
        "id": "9KC-C7vdjBTV",
        "outputId": "7204ddc7-5005-40fc-ea65-af817505b169",
        "colab": {
          "base_uri": "https://localhost:8080/"
        }
      },
      "outputs": [
        {
          "output_type": "execute_result",
          "data": {
            "text/plain": [
              "{'fit_time': array([0.06562972, 0.1121397 , 0.05063534, 0.05619335, 0.04546618]),\n",
              " 'score_time': array([0.02752471, 0.01097226, 0.00659537, 0.01507711, 0.04512835]),\n",
              " 'test_accuracy': array([0.9555, 0.95  , 0.9585, 0.9555, 0.956 ]),\n",
              " 'test_precision': array([0.95963673, 0.94820717, 0.9635996 , 0.96149949, 0.96060606])}"
            ]
          },
          "metadata": {},
          "execution_count": 23
        }
      ],
      "source": [
        "from sklearn.model_selection import cross_validate\n",
        "\n",
        "# 정확도와 정밀도를 사용한 교차검증\n",
        "cross_validate(logit, X, y, scoring=[\"accuracy\", \"precision\"])"
      ]
    },
    {
      "cell_type": "markdown",
      "metadata": {
        "id": "F6Nxjsd-jBTV"
      },
      "source": [
        "## 11.5 이진 분류기 임계값 평가하기"
      ]
    },
    {
      "cell_type": "code",
      "execution_count": 24,
      "metadata": {
        "id": "yuSsATmLjBTW"
      },
      "outputs": [],
      "source": [
        "import matplotlib.pyplot as plt"
      ]
    },
    {
      "cell_type": "code",
      "execution_count": 25,
      "metadata": {
        "id": "HaC-Lso2jBTW",
        "outputId": "902c7696-4bef-48a9-a965-6171e6b5caa0",
        "colab": {
          "base_uri": "https://localhost:8080/",
          "height": 472
        }
      },
      "outputs": [
        {
          "output_type": "display_data",
          "data": {
            "text/plain": [
              "<Figure size 640x480 with 1 Axes>"
            ],
            "image/png": "[encoded data removed]"
          },
          "metadata": {}
        }
      ],
      "source": [
        "# 라이브러리를 임포트합니다.\n",
        "import matplotlib.pyplot as plt\n",
        "from sklearn.datasets import make_classification\n",
        "from sklearn.linear_model import LogisticRegression\n",
        "from sklearn.metrics import roc_curve, roc_auc_score\n",
        "from sklearn.model_selection import train_test_split\n",
        "\n",
        "# 특성 행렬과 타깃 벡터를 만듭니다.\n",
        "features, target = make_classification(n_samples=10000,\n",
        "                                       n_features=10,\n",
        "                                       n_classes=2,\n",
        "                                       n_informative=3,\n",
        "                                       random_state=3)\n",
        "\n",
        "# 훈련 세트와 테스트 세트로 나눕니다.\n",
        "features_train, features_test, target_train, target_test = train_test_split(\n",
        "    features, target, test_size=0.1, random_state=1)\n",
        "\n",
        "# 분류기를 만듭니다.\n",
        "logit = LogisticRegression()\n",
        "\n",
        "# 모델을 훈련합니다.\n",
        "logit.fit(features_train, target_train)\n",
        "\n",
        "# 예측 확률을 계산합니다.\n",
        "target_probabilities = logit.predict_proba(features_test)[:,1]\n",
        "\n",
        "# 진짜 양성 비율과 거짓 양성 비율을 계산합니다.\n",
        "false_positive_rate, true_positive_rate, threshold = roc_curve(\n",
        "  target_test,\n",
        "  target_probabilities\n",
        ")\n",
        "\n",
        "# ROC 곡선을 그립니다.\n",
        "plt.title(\"Receiver Operating Characteristic\")\n",
        "plt.plot(false_positive_rate, true_positive_rate)\n",
        "plt.plot([0, 1], ls=\"--\")\n",
        "plt.plot([0, 0], [1, 0] , c=\".7\"), plt.plot([1, 1] , c=\".7\")\n",
        "plt.ylabel(\"True Positive Rate\")\n",
        "plt.xlabel(\"False Positive Rate\")\n",
        "plt.show()"
      ]
    },
    {
      "cell_type": "code",
      "execution_count": 26,
      "metadata": {
        "id": "SETmn39BjBTW",
        "outputId": "51c667b2-e117-4dab-ea8b-fcdbc9fe5487",
        "colab": {
          "base_uri": "https://localhost:8080/"
        }
      },
      "outputs": [
        {
          "output_type": "execute_result",
          "data": {
            "text/plain": [
              "array([[0.8689235, 0.1310765]])"
            ]
          },
          "metadata": {},
          "execution_count": 26
        }
      ],
      "source": [
        "# 예측 확률을 계산합니다.\n",
        "logit.predict_proba(features_test)[0:1]"
      ]
    },
    {
      "cell_type": "code",
      "execution_count": 27,
      "metadata": {
        "id": "WC70OnBQjBTW",
        "outputId": "5aae65f5-1cda-49a7-c0b7-2bffed3f4e27",
        "colab": {
          "base_uri": "https://localhost:8080/"
        }
      },
      "outputs": [
        {
          "output_type": "execute_result",
          "data": {
            "text/plain": [
              "array([0, 1])"
            ]
          },
          "metadata": {},
          "execution_count": 27
        }
      ],
      "source": [
        "logit.classes_"
      ]
    },
    {
      "cell_type": "code",
      "execution_count": 28,
      "metadata": {
        "id": "hwOPgFfHjBTW",
        "outputId": "6c109053-2f0b-4eaf-9da6-d818470ae25c",
        "colab": {
          "base_uri": "https://localhost:8080/"
        }
      },
      "outputs": [
        {
          "output_type": "stream",
          "name": "stdout",
          "text": [
            "임계값: 0.4981509475208573\n",
            "진짜 양성 비율: 0.8367346938775511\n",
            "거짓 양성 비율: 0.1627450980392157\n"
          ]
        }
      ],
      "source": [
        "print(\"임계값:\", threshold[124])\n",
        "print(\"진짜 양성 비율:\", true_positive_rate[124])\n",
        "print(\"거짓 양성 비율:\", false_positive_rate[124])"
      ]
    },
    {
      "cell_type": "code",
      "execution_count": 29,
      "metadata": {
        "id": "eZTf-EOSjBTa",
        "outputId": "94cb3be6-57b3-40a1-ee9b-489b850c2d46",
        "colab": {
          "base_uri": "https://localhost:8080/"
        }
      },
      "outputs": [
        {
          "output_type": "stream",
          "name": "stdout",
          "text": [
            "임계값: 0.8058635463651345\n",
            "진짜 양성 비율: 0.5653061224489796\n",
            "거짓 양성 비율: 0.052941176470588235\n"
          ]
        }
      ],
      "source": [
        "print(\"임계값:\", threshold[49])\n",
        "print(\"진짜 양성 비율:\", true_positive_rate[49])\n",
        "print(\"거짓 양성 비율:\", false_positive_rate[49])"
      ]
    },
    {
      "cell_type": "code",
      "execution_count": 30,
      "metadata": {
        "id": "wk1polqJjBTa",
        "outputId": "a7aa4539-9f1b-4cda-e40a-1088c969f30f",
        "colab": {
          "base_uri": "https://localhost:8080/"
        }
      },
      "outputs": [
        {
          "output_type": "execute_result",
          "data": {
            "text/plain": [
              "0.9073429371748699"
            ]
          },
          "metadata": {},
          "execution_count": 30
        }
      ],
      "source": [
        "# ROC 곡선 아래 면적을 계산합니다.\n",
        "roc_auc_score(target_test, target_probabilities)"
      ]
    },
    {
      "cell_type": "markdown",
      "metadata": {
        "id": "jGd8Qwp3jBTa"
      },
      "source": [
        "### 붙임"
      ]
    },
    {
      "cell_type": "code",
      "execution_count": 31,
      "metadata": {
        "id": "QAczfWs0jBTa",
        "outputId": "3a394ff8-7bf7-4889-9a48-95b6e8c3d8fc",
        "colab": {
          "base_uri": "https://localhost:8080/",
          "height": 472
        }
      },
      "outputs": [
        {
          "output_type": "display_data",
          "data": {
            "text/plain": [
              "<Figure size 640x480 with 1 Axes>"
            ],
            "image/png": "[encoded data removed]"
          },
          "metadata": {}
        }
      ],
      "source": [
        "from sklearn.metrics import precision_recall_curve\n",
        "\n",
        "# 진짜 양성 비율과 거짓 양성 비율을 계산합니다.\n",
        "precision, recall, threshold = precision_recall_curve(\n",
        "    target_test, target_probabilities)\n",
        "\n",
        "# ROC 곡선을 그립니다.\n",
        "plt.title(\"Precision-Recall Curve\")\n",
        "plt.plot(precision, recall)\n",
        "plt.plot([0, 1], ls=\"--\")\n",
        "plt.plot([1, 1], c=\".7\"), plt.plot([1, 1], [1, 0] , c=\".7\")\n",
        "plt.ylabel(\"Precision\")\n",
        "plt.xlabel(\"Recall\")\n",
        "plt.show()"
      ]
    },
    {
      "cell_type": "code",
      "execution_count": 32,
      "metadata": {
        "id": "TmqbWaKAjBTa",
        "outputId": "66bd5409-a002-4ef0-c8ef-b905ae7801e0",
        "colab": {
          "base_uri": "https://localhost:8080/"
        }
      },
      "outputs": [
        {
          "output_type": "execute_result",
          "data": {
            "text/plain": [
              "0.8984175338032734"
            ]
          },
          "metadata": {},
          "execution_count": 32
        }
      ],
      "source": [
        "from sklearn.metrics import average_precision_score\n",
        "\n",
        "# 평균 정밀도를 계산합니다.\n",
        "average_precision_score(target_test, target_probabilities)"
      ]
    },
    {
      "cell_type": "code",
      "execution_count": 33,
      "metadata": {
        "scrolled": true,
        "id": "MQ4vLrzmjBTa",
        "outputId": "5a958c29-0b0d-45e2-8183-aceb74832605",
        "colab": {
          "base_uri": "https://localhost:8080/"
        }
      },
      "outputs": [
        {
          "output_type": "execute_result",
          "data": {
            "text/plain": [
              "{'fit_time': array([0.05123043, 0.02907825, 0.0394094 , 0.06344128, 0.0981679 ]),\n",
              " 'score_time': array([0.01716113, 0.01604366, 0.02168345, 0.03259397, 0.02361822]),\n",
              " 'test_roc_auc': array([0.9007699, 0.918246 , 0.908816 , 0.915362 , 0.902614 ]),\n",
              " 'test_average_precision': array([0.90028747, 0.90966973, 0.90295699, 0.91135772, 0.88797438])}"
            ]
          },
          "metadata": {},
          "execution_count": 33
        }
      ],
      "source": [
        "cross_validate(logit, features, target, scoring=[\"roc_auc\", \"average_precision\"])"
      ]
    },
    {
      "cell_type": "markdown",
      "metadata": {
        "id": "SvyjnKAMjBTb"
      },
      "source": [
        "## 11.6 다중클래스 분류기 예측 평가하기"
      ]
    },
    {
      "cell_type": "code",
      "execution_count": 34,
      "metadata": {
        "id": "zjWTcjq8jBTb",
        "outputId": "00e89dd9-d441-441a-9aa2-d42b3689ed72",
        "colab": {
          "base_uri": "https://localhost:8080/"
        }
      },
      "outputs": [
        {
          "output_type": "execute_result",
          "data": {
            "text/plain": [
              "array([0.8405, 0.829 , 0.827 , 0.8155, 0.8205])"
            ]
          },
          "metadata": {},
          "execution_count": 34
        }
      ],
      "source": [
        "# 라이브러리를 임포트합니다.\n",
        "from sklearn.model_selection import cross_val_score\n",
        "from sklearn.linear_model import LogisticRegression\n",
        "from sklearn.datasets import make_classification\n",
        "\n",
        "# 특성 행렬과 타깃 벡터를 만듭니다.\n",
        "features, target = make_classification(n_samples = 10000,\n",
        "                           n_features = 3,\n",
        "                           n_informative = 3,\n",
        "                           n_redundant = 0,\n",
        "                           n_classes = 3,\n",
        "                           random_state = 1)\n",
        "\n",
        "# 로지스틱 회귀 모델을 만듭니다.\n",
        "logit = LogisticRegression()\n",
        "\n",
        "# 정확도를 사용하여 교차검증을 수행합니다.\n",
        "cross_val_score(logit, features, target, scoring='accuracy')"
      ]
    },
    {
      "cell_type": "code",
      "execution_count": 35,
      "metadata": {
        "id": "EaB8f1jFjBTb",
        "outputId": "9a5de7c9-124b-4cf9-c2a8-be1b6f591bae",
        "colab": {
          "base_uri": "https://localhost:8080/"
        }
      },
      "outputs": [
        {
          "output_type": "execute_result",
          "data": {
            "text/plain": [
              "array([0.84012014, 0.82895312, 0.82675308, 0.81515121, 0.82042629])"
            ]
          },
          "metadata": {},
          "execution_count": 35
        }
      ],
      "source": [
        "# 마크로 평균 F1 점수를 사용하여 교차검증을 수행합니다.\n",
        "cross_val_score(logit, features, target, scoring='f1_macro')"
      ]
    },
    {
      "cell_type": "markdown",
      "metadata": {
        "id": "3K0v4IL_jBTb"
      },
      "source": [
        "## 11.7 분류기 성능 시각화하기"
      ]
    },
    {
      "cell_type": "code",
      "execution_count": 36,
      "metadata": {
        "id": "gBTOhwVljBTb",
        "outputId": "513fe2fd-caa8-435f-b13b-0b18e2688930",
        "colab": {
          "base_uri": "https://localhost:8080/",
          "height": 506
        }
      },
      "outputs": [
        {
          "output_type": "display_data",
          "data": {
            "text/plain": [
              "<Figure size 640x480 with 1 Axes>"
            ],
            "image/png": "[encoded data removed]"
          },
          "metadata": {}
        }
      ],
      "source": [
        "# 라이브러리를 임포트합니다.\n",
        "import matplotlib.pyplot as plt\n",
        "import seaborn as sns\n",
        "from sklearn import datasets\n",
        "from sklearn.linear_model import LogisticRegression\n",
        "from sklearn.model_selection import train_test_split\n",
        "from sklearn.metrics import confusion_matrix\n",
        "import pandas as pd\n",
        "\n",
        "# 데이터를 로드합니다.\n",
        "iris = datasets.load_iris()\n",
        "\n",
        "# 특성 행렬을 만듭니다.\n",
        "features = iris.data\n",
        "\n",
        "# 타깃 벡터를 만듭니다.\n",
        "target = iris.target\n",
        "\n",
        "# 클래스 이름의 리스트를 만듭니다.\n",
        "class_names = iris.target_names\n",
        "\n",
        "# 훈련 세트와 테스트 세트를 만듭니다.\n",
        "features_train, features_test, target_train, target_test = train_test_split(\n",
        "    features, target, random_state=2)\n",
        "\n",
        "# 로지스틱 회귀 모델을 만듭니다.\n",
        "classifier = LogisticRegression(max_iter=1000)\n",
        "\n",
        "# 모델을 훈련하고 예측 결과를 계산합니다.\n",
        "target_predicted = classifier.fit(features_train,\n",
        "    target_train).predict(features_test)\n",
        "\n",
        "# 오차 행렬을 만듭니다.\n",
        "matrix = confusion_matrix(target_test, target_predicted)\n",
        "\n",
        "# 판다스 데이터프레임을 만듭니다.\n",
        "dataframe = pd.DataFrame(matrix, index=class_names, columns=class_names)\n",
        "\n",
        "# 히트맵을 만듭니다.\n",
        "sns.heatmap(dataframe, annot=True, cbar=None, cmap=\"Blues\")\n",
        "plt.title(\"Confusion Matrix\"), plt.tight_layout()\n",
        "plt.ylabel(\"True Class\"), plt.xlabel(\"Predicted Class\")\n",
        "plt.show()"
      ]
    },
    {
      "cell_type": "markdown",
      "metadata": {
        "id": "WzdZgBiBjBTb"
      },
      "source": [
        "### 붙임"
      ]
    },
    {
      "cell_type": "code",
      "execution_count": 37,
      "metadata": {
        "id": "eMtwjQwbjBTb",
        "outputId": "adc973d6-9f81-4091-cce7-2bbda9509b13",
        "colab": {
          "base_uri": "https://localhost:8080/"
        }
      },
      "outputs": [
        {
          "output_type": "execute_result",
          "data": {
            "text/plain": [
              "array([[16,  0,  0],\n",
              "       [ 0, 10,  1],\n",
              "       [ 0,  0, 11]])"
            ]
          },
          "metadata": {},
          "execution_count": 37
        }
      ],
      "source": [
        "from sklearn.metrics import confusion_matrix\n",
        "\n",
        "confusion_matrix(target_test, target_predicted)"
      ]
    },
    {
      "cell_type": "markdown",
      "metadata": {
        "id": "h0bxpZPbjBTb"
      },
      "source": [
        "## 11.8 회귀 모델 평가하기"
      ]
    },
    {
      "cell_type": "code",
      "execution_count": 38,
      "metadata": {
        "id": "zDoAkXWTjBTc",
        "outputId": "6d591e00-84d6-477a-8f67-9604312337af",
        "colab": {
          "base_uri": "https://localhost:8080/"
        }
      },
      "outputs": [
        {
          "output_type": "execute_result",
          "data": {
            "text/plain": [
              "array([-1974.65337976, -2004.54137625, -3935.19355723, -1060.04361386,\n",
              "       -1598.74104702])"
            ]
          },
          "metadata": {},
          "execution_count": 38
        }
      ],
      "source": [
        "# 라이브러리를 임포트합니다.\n",
        "from sklearn.datasets import make_regression\n",
        "from sklearn.model_selection import cross_val_score\n",
        "from sklearn.linear_model import LinearRegression\n",
        "\n",
        "# 특성 행렬과 타깃 벡터를 만듭니다.\n",
        "features, target = make_regression(n_samples = 100,\n",
        "                                   n_features = 3,\n",
        "                                   n_informative = 3,\n",
        "                                   n_targets = 1,\n",
        "                                   noise = 50,\n",
        "                                   coef = False,\n",
        "                                   random_state = 1)\n",
        "\n",
        "# 선형 회귀 모델을 만듭니다.\n",
        "ols = LinearRegression()\n",
        "\n",
        "# 음의 MSE를 사용한 교차검증을 수행합니다.\n",
        "cross_val_score(ols, features, target, scoring='neg_mean_squared_error')"
      ]
    },
    {
      "cell_type": "code",
      "execution_count": 39,
      "metadata": {
        "id": "iR25c0OfjBTc",
        "outputId": "ee95319d-b4b2-4970-fca7-2ee5ccc2091c",
        "colab": {
          "base_uri": "https://localhost:8080/"
        }
      },
      "outputs": [
        {
          "output_type": "execute_result",
          "data": {
            "text/plain": [
              "array([0.8622399 , 0.85838075, 0.74723548, 0.91354743, 0.84469331])"
            ]
          },
          "metadata": {},
          "execution_count": 39
        }
      ],
      "source": [
        "# R^2를 사용한 교차검증을 수행합니다.\n",
        "cross_val_score(ols, features, target, scoring='r2')"
      ]
    },
    {
      "cell_type": "markdown",
      "metadata": {
        "id": "JR9ozA3DjBTc"
      },
      "source": [
        "## 11.9 군집 모델 평가"
      ]
    },
    {
      "cell_type": "code",
      "execution_count": 40,
      "metadata": {
        "id": "NMMpb6v6jBTc",
        "outputId": "15a83d7a-8b43-4537-d8ab-1734c81ecfda",
        "colab": {
          "base_uri": "https://localhost:8080/"
        }
      },
      "outputs": [
        {
          "output_type": "execute_result",
          "data": {
            "text/plain": [
              "0.8916265564072141"
            ]
          },
          "metadata": {},
          "execution_count": 40
        }
      ],
      "source": [
        "import numpy as np\n",
        "from sklearn.metrics import silhouette_score\n",
        "from sklearn import datasets\n",
        "from sklearn.cluster import KMeans\n",
        "from sklearn.datasets import make_blobs\n",
        "\n",
        "# 특성 행렬을 생성합니다.\n",
        "features, _ = make_blobs(n_samples = 1000,\n",
        "                         n_features = 10,\n",
        "                         centers = 2,\n",
        "                         cluster_std = 0.5,\n",
        "                         shuffle = True,\n",
        "                         random_state = 1)\n",
        "\n",
        "# k-평균을 사용하여 데이터를 클러스터링하고 클래스를 예측합니다.\n",
        "model = KMeans(n_clusters=2, random_state=1).fit(features)\n",
        "\n",
        "# 예측된 클래스\n",
        "target_predicted = model.labels_\n",
        "\n",
        "# 모델을 평가합니다.\n",
        "silhouette_score(features, target_predicted)"
      ]
    },
    {
      "cell_type": "markdown",
      "metadata": {
        "id": "WoC7atNpjBTc"
      },
      "source": [
        "## 11.10 사용자 정의 평가 지표 만들기"
      ]
    },
    {
      "cell_type": "code",
      "execution_count": 41,
      "metadata": {
        "id": "YZ2P2FZojBTc",
        "outputId": "2e3917ff-811d-4eef-e0b5-d10b64409951",
        "colab": {
          "base_uri": "https://localhost:8080/"
        }
      },
      "outputs": [
        {
          "output_type": "execute_result",
          "data": {
            "text/plain": [
              "0.9997906102882058"
            ]
          },
          "metadata": {},
          "execution_count": 41
        }
      ],
      "source": [
        "# 라이브러리를 임포트합니다.\n",
        "from sklearn.metrics import make_scorer, r2_score\n",
        "from sklearn.model_selection import train_test_split\n",
        "from sklearn.linear_model import Ridge\n",
        "from sklearn.datasets import make_regression\n",
        "\n",
        "# 특성 행렬과 타깃 벡터를 만듭니다.\n",
        "features, target = make_regression(n_samples = 100,\n",
        "                                   n_features = 3,\n",
        "                                   random_state = 1)\n",
        "\n",
        "# 훈련 세트와 테스트 세트를 만듭니다.\n",
        "features_train, features_test, target_train, target_test = train_test_split(\n",
        "     features, target, test_size=0.10, random_state=1)\n",
        "\n",
        "# 사용자 정의 지표를 만듭니다.\n",
        "def custom_metric(target_test, target_predicted):\n",
        "    # R^2 점수를 계산합니다.\n",
        "    r2 = r2_score(target_test, target_predicted)\n",
        "    # R^2 점수를 반환합니다.\n",
        "    return r2\n",
        "\n",
        "# 높은 점수가 좋은 것을 나타내는 스코어 함수를 만듭니다.\n",
        "score = make_scorer(custom_metric, greater_is_better=True)\n",
        "\n",
        "# 릿지(ridge) 회귀 모델을 만듭니다.\n",
        "classifier = Ridge()\n",
        "\n",
        "# 릿지 회귀 모델을 훈련합니다.\n",
        "model = classifier.fit(features_train, target_train)\n",
        "\n",
        "# 사용자 정의 스코어 함수를 적용합니다.\n",
        "score(model, features_test, target_test)"
      ]
    },
    {
      "cell_type": "code",
      "execution_count": 42,
      "metadata": {
        "id": "BLGV-GfojBTc",
        "outputId": "249bbb9a-f397-47e2-b92d-39d623bb1098",
        "colab": {
          "base_uri": "https://localhost:8080/"
        }
      },
      "outputs": [
        {
          "output_type": "execute_result",
          "data": {
            "text/plain": [
              "0.9997906102882058"
            ]
          },
          "metadata": {},
          "execution_count": 42
        }
      ],
      "source": [
        "# 예측\n",
        "target_predicted = model.predict(features_test)\n",
        "\n",
        "# R^2 점수를 계산합니다.\n",
        "r2_score(target_test, target_predicted)"
      ]
    },
    {
      "cell_type": "markdown",
      "metadata": {
        "id": "O9ti4xTGjBTd"
      },
      "source": [
        "## 11.11 훈련 세트 크기에 따른 영향을 시각화하기"
      ]
    },
    {
      "cell_type": "code",
      "execution_count": 43,
      "metadata": {
        "id": "dy3IDKT-jBTd",
        "outputId": "ce4dcc64-c713-4907-aebb-302cc3dabb0d",
        "colab": {
          "base_uri": "https://localhost:8080/",
          "height": 487
        }
      },
      "outputs": [
        {
          "output_type": "display_data",
          "data": {
            "text/plain": [
              "<Figure size 640x480 with 1 Axes>"
            ],
            "image/png": "[encoded data removed]"
          },
          "metadata": {}
        }
      ],
      "source": [
        "# 라이브러리를 임포트합니다.\n",
        "import numpy as np\n",
        "import matplotlib.pyplot as plt\n",
        "from sklearn.ensemble import RandomForestClassifier\n",
        "from sklearn.datasets import load_digits\n",
        "from sklearn.model_selection import learning_curve\n",
        "\n",
        "# 데이터를 로드합니다.\n",
        "digits = load_digits()\n",
        "\n",
        "# 특성 행렬과 타깃 벡터를 만듭니다.\n",
        "features, target = digits.data, digits.target\n",
        "\n",
        "# 다양한 훈련 세트 크기에서 교차검증 훈련 점수와 테스트 점수를 계산합니다.\n",
        "train_sizes, train_scores, test_scores = learning_curve(# 분류기\n",
        "                                                        RandomForestClassifier(),\n",
        "                                                        # 특성 행렬\n",
        "                                                        features,\n",
        "                                                        # 타깃 벡터\n",
        "                                                        target,\n",
        "                                                        # 폴드 수\n",
        "                                                        cv=10,\n",
        "                                                        # 성능 지표\n",
        "                                                        scoring='accuracy',\n",
        "                                                        # 모든 코어 사용\n",
        "                                                        n_jobs=-1,\n",
        "                                                        # 50개의 훈련 세트 크기\n",
        "                                                       train_sizes=np.linspace(\n",
        "                                                       0.01,\n",
        "                                                       1.0,\n",
        "                                                       50))\n",
        "\n",
        "# 훈련 세트 점수의 평균과 표준 편차를 계산합니다.\n",
        "train_mean = np.mean(train_scores, axis=1)\n",
        "train_std = np.std(train_scores, axis=1)\n",
        "\n",
        "# 테스트 세트 점수의 평균과 표준 편차를 계산합니다.\n",
        "test_mean = np.mean(test_scores, axis=1)\n",
        "test_std = np.std(test_scores, axis=1)\n",
        "\n",
        "# 그래프를 그립니다.\n",
        "plt.plot(train_sizes, train_mean, '--', color=\"#111111\",  label=\"Training score\")\n",
        "plt.plot(train_sizes, test_mean, color=\"#111111\", label=\"Cross-validation score\")\n",
        "\n",
        "# 표준 편차 영역을 그립니다.\n",
        "plt.fill_between(train_sizes, train_mean - train_std,\n",
        "                 train_mean + train_std, color=\"#DDDDDD\")\n",
        "plt.fill_between(train_sizes, test_mean - test_std,\n",
        "                 test_mean + test_std, color=\"#DDDDDD\")\n",
        "\n",
        "# 그래프를 출력합니다.\n",
        "plt.title(\"Learning Curve\")\n",
        "plt.xlabel(\"Training Set Size\"), plt.ylabel(\"Accuracy Score\"),\n",
        "plt.legend(loc=\"best\")\n",
        "plt.tight_layout()\n",
        "plt.show()"
      ]
    },
    {
      "cell_type": "markdown",
      "metadata": {
        "id": "hvgtSzmvjBTd"
      },
      "source": [
        "## 11.12 평가 지표 리포트 만들기"
      ]
    },
    {
      "cell_type": "code",
      "execution_count": 44,
      "metadata": {
        "id": "rWrDSaoGjBTd",
        "outputId": "11633da3-b813-4fc7-94b1-40b9a0d6f0bc",
        "colab": {
          "base_uri": "https://localhost:8080/"
        }
      },
      "outputs": [
        {
          "output_type": "stream",
          "name": "stdout",
          "text": [
            "              precision    recall  f1-score   support\n",
            "\n",
            "      setosa       1.00      1.00      1.00        16\n",
            "  versicolor       1.00      0.91      0.95        11\n",
            "   virginica       0.92      1.00      0.96        11\n",
            "\n",
            "    accuracy                           0.97        38\n",
            "   macro avg       0.97      0.97      0.97        38\n",
            "weighted avg       0.98      0.97      0.97        38\n",
            "\n"
          ]
        }
      ],
      "source": [
        "# 라이브러리를 임포트합니다.\n",
        "from sklearn import datasets\n",
        "from sklearn.linear_model import LogisticRegression\n",
        "from sklearn.model_selection import train_test_split\n",
        "from sklearn.metrics import classification_report\n",
        "\n",
        "# 데이터를 로드합니다.\n",
        "iris = datasets.load_iris()\n",
        "\n",
        "# 특성 행렬을 만듭니다.\n",
        "features = iris.data\n",
        "\n",
        "# 타깃 벡터를 만듭니다.\n",
        "target = iris.target\n",
        "\n",
        "# 타깃 클래스 이름의 리스트를 만듭니다.\n",
        "class_names = iris.target_names\n",
        "\n",
        "# 훈련 세트와 테스트 세트를 만듭니다.\n",
        "features_train, features_test, target_train, target_test = train_test_split(\n",
        "    features, target, random_state=2)\n",
        "\n",
        "# 로지스틱 회귀 모델을 만듭니다.\n",
        "classifier = LogisticRegression()\n",
        "\n",
        "# 모델을 훈련하고 예측을 만듭니다.\n",
        "model = classifier.fit(features_train, target_train)\n",
        "target_predicted = model.predict(features_test)\n",
        "\n",
        "# 분류 리포트를 만듭니다.\n",
        "print(classification_report(target_test,\n",
        "                            target_predicted,\n",
        "                            target_names=class_names))"
      ]
    },
    {
      "cell_type": "markdown",
      "metadata": {
        "id": "Fhzz2cbfjBTd"
      },
      "source": [
        "### 붙임"
      ]
    },
    {
      "cell_type": "code",
      "execution_count": 45,
      "metadata": {
        "id": "GLhQBBzgjBTd",
        "outputId": "3c7cd1cb-8a88-4fe7-83fc-bfa06ce6653d",
        "colab": {
          "base_uri": "https://localhost:8080/"
        }
      },
      "outputs": [
        {
          "output_type": "stream",
          "name": "stdout",
          "text": [
            "              precision    recall  f1-score   support\n",
            "\n",
            "           0       1.00      1.00      1.00        16\n",
            "           1       1.00      0.91      0.95        11\n",
            "           2       0.92      1.00      0.96        11\n",
            "           3       0.00      0.00      0.00         0\n",
            "\n",
            "    accuracy                           0.97        38\n",
            "   macro avg       0.73      0.73      0.73        38\n",
            "weighted avg       0.98      0.97      0.97        38\n",
            "\n"
          ]
        }
      ],
      "source": [
        "# 분류 리포트를 만듭니다.\n",
        "print(classification_report(target_test,\n",
        "                            target_predicted,\n",
        "                            labels=[0,1,2,3],\n",
        "                            zero_division=0))"
      ]
    },
    {
      "cell_type": "markdown",
      "metadata": {
        "id": "dZnq2UV4jBTd"
      },
      "source": [
        "## 11.13 하이퍼파라미터 값의 영향을 시각화하기"
      ]
    },
    {
      "cell_type": "code",
      "execution_count": 46,
      "metadata": {
        "id": "dE7kyyoyjBTd",
        "outputId": "3b9be0a4-be24-4134-81a1-beac02bfd9f2",
        "colab": {
          "base_uri": "https://localhost:8080/",
          "height": 487
        }
      },
      "outputs": [
        {
          "output_type": "display_data",
          "data": {
            "text/plain": [
              "<Figure size 640x480 with 1 Axes>"
            ],
            "image/png": "[encoded data removed]"
          },
          "metadata": {}
        }
      ],
      "source": [
        "# 라이브러리를 임포트합니다.\n",
        "import matplotlib.pyplot as plt\n",
        "import numpy as np\n",
        "from sklearn.datasets import load_digits\n",
        "from sklearn.ensemble import RandomForestClassifier\n",
        "from sklearn.model_selection import validation_curve\n",
        "\n",
        "# 데이터를 로드합니다.\n",
        "digits = load_digits()\n",
        "\n",
        "# 특성 행렬과 타깃 벡터를 만듭니다.\n",
        "features, target = digits.data, digits.target\n",
        "\n",
        "# 파라미터 값의 범위를 만듭니다.\n",
        "param_range = np.arange(1, 250, 2)\n",
        "\n",
        "# 파라미터 값의 범위를 사용하여 훈련 세트와 테스트 세트의 정확도를 계산합니다.\n",
        "train_scores, test_scores = validation_curve(\n",
        "    # 분류기\n",
        "    RandomForestClassifier(),\n",
        "    # 특성 행렬\n",
        "    features,\n",
        "    # 타깃 벡터\n",
        "    target,\n",
        "    # 조사할 하이퍼파라미터\n",
        "    param_name=\"n_estimators\",\n",
        "    # 하이퍼파라미터 값의 범위\n",
        "    param_range=param_range,\n",
        "    # 폴드 수\n",
        "    cv=3,\n",
        "    # 성능 지표\n",
        "    scoring=\"accuracy\",\n",
        "    # 모든 코어 사용\n",
        "    n_jobs=-1)\n",
        "\n",
        "# 훈련 세트 점수의 평균과 표준 편차를 계산합니다.\n",
        "train_mean = np.mean(train_scores, axis=1)\n",
        "train_std = np.std(train_scores, axis=1)\n",
        "\n",
        "# 테스트 세트 점수의 평균과 표준 편차를 계산합니다.\n",
        "test_mean = np.mean(test_scores, axis=1)\n",
        "test_std = np.std(test_scores, axis=1)\n",
        "\n",
        "# 훈련 세트와 테스트 세트의 평균 정확도 점수를 그래프로 그립니다.\n",
        "plt.plot(param_range, train_mean, label=\"Training score\", color=\"black\")\n",
        "plt.plot(param_range, test_mean, label=\"Cross-validation score\", color=\"dimgrey\")\n",
        "\n",
        "# 훈련 세트와 테스트 세트의 정확도에 대한 표준 편차를 그래프로 그립니다.\n",
        "plt.fill_between(param_range, train_mean - train_std,\n",
        "                 train_mean + train_std, color=\"gray\")\n",
        "plt.fill_between(param_range, test_mean - test_std,\n",
        "                 test_mean + test_std, color=\"gainsboro\")\n",
        "\n",
        "# 그래프를 출력합니다.\n",
        "plt.title(\"Validation Curve With Random Forest\")\n",
        "plt.xlabel(\"Number Of Trees\")\n",
        "plt.ylabel(\"Accuracy Score\")\n",
        "plt.tight_layout()\n",
        "plt.legend(loc=\"best\")\n",
        "plt.show()"
      ]
    }
  ],
  "metadata": {
    "kernelspec": {
      "display_name": "Python 3 (ipykernel)",
      "language": "python",
      "name": "python3"
    },
    "language_info": {
      "codemirror_mode": {
        "name": "ipython",
        "version": 3
      },
      "file_extension": ".py",
      "mimetype": "text/x-python",
      "name": "python",
      "nbconvert_exporter": "python",
      "pygments_lexer": "ipython3",
      "version": "3.10.13"
    },
    "colab": {
      "provenance": []
    }
  },
  "nbformat": 4,
  "nbformat_minor": 0
}