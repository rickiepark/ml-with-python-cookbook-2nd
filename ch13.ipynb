{
  "cells": [
    {
      "cell_type": "markdown",
      "metadata": {
        "id": "GLWD7pe2KpVx"
      },
      "source": [
        "# 13장. 선형 회귀"
      ]
    },
    {
      "cell_type": "markdown",
      "metadata": {
        "id": "VRgyQ7AtKpV1"
      },
      "source": [
        "<table align=\"left\"><tr><td>\n",
        "<a href=\"https://colab.research.google.com/github/rickiepark/ml-with-python-cookbook-2nd/blob/main/ch13.ipynb\" target=\"_parent\"><img src=\"https://colab.research.google.com/assets/colab-badge.svg\" alt=\"코랩에서 실행하기\"/></a>\n",
        "</td></tr></table>"
      ]
    },
    {
      "cell_type": "code",
      "execution_count": 1,
      "metadata": {
        "id": "wC9anPBbKpV2",
        "outputId": "feadeb4b-a70f-446f-b350-6d996a45668f",
        "colab": {
          "base_uri": "https://localhost:8080/"
        }
      },
      "outputs": [
        {
          "output_type": "stream",
          "name": "stdout",
          "text": [
            "numpy 1.25.2\n",
            "sklearn 1.2.2\n"
          ]
        }
      ],
      "source": [
        "import numpy as np\n",
        "import sklearn\n",
        "\n",
        "print('numpy', np.__version__)\n",
        "print('sklearn', sklearn.__version__)"
      ]
    },
    {
      "cell_type": "markdown",
      "metadata": {
        "id": "FvLwLcZXKpV4"
      },
      "source": [
        "## 13.1 직선 학습하기"
      ]
    },
    {
      "cell_type": "code",
      "execution_count": 2,
      "metadata": {
        "id": "916a02fcKpV4"
      },
      "outputs": [],
      "source": [
        "# 라이브러리를 임포트합니다.\n",
        "from sklearn.linear_model import LinearRegression\n",
        "from sklearn.datasets import make_regression\n",
        "\n",
        "# 특성 행렬과 타깃 벡터를 만듭니다.\n",
        "features, target = make_regression(n_samples = 100,\n",
        "                                   n_features = 3,\n",
        "                                   n_informative = 2,\n",
        "                                   n_targets = 1,\n",
        "                                   noise = 0.2,\n",
        "                                   coef = False,\n",
        "                                   random_state = 1)\n",
        "\n",
        "# 선형 회귀 모델을 만듭니다.\n",
        "regression = LinearRegression()\n",
        "\n",
        "# 선형 회귀 모델을 훈련합니다.\n",
        "model = regression.fit(features, target)"
      ]
    },
    {
      "cell_type": "code",
      "execution_count": 3,
      "metadata": {
        "id": "4tvRDYytKpV5",
        "outputId": "fb21e23d-65d5-48b0-d630-f045bab8cbef",
        "colab": {
          "base_uri": "https://localhost:8080/"
        }
      },
      "outputs": [
        {
          "output_type": "execute_result",
          "data": {
            "text/plain": [
              "-0.009650118178816669"
            ]
          },
          "metadata": {},
          "execution_count": 3
        }
      ],
      "source": [
        "# 편향을 확인합니다.\n",
        "model.intercept_"
      ]
    },
    {
      "cell_type": "code",
      "execution_count": 4,
      "metadata": {
        "id": "WJdKhoakKpV6",
        "outputId": "8f1c9024-edf2-4e3f-b9e4-9ea2e9826d94",
        "colab": {
          "base_uri": "https://localhost:8080/"
        }
      },
      "outputs": [
        {
          "output_type": "execute_result",
          "data": {
            "text/plain": [
              "array([1.95531234e-02, 4.42087450e+01, 5.81494563e+01])"
            ]
          },
          "metadata": {},
          "execution_count": 4
        }
      ],
      "source": [
        "# 특성의 계수를 확인합니다.\n",
        "model.coef_"
      ]
    },
    {
      "cell_type": "code",
      "execution_count": 5,
      "metadata": {
        "id": "OmS2urEnKpV7",
        "outputId": "b1430f5c-1a11-4216-e5f3-044ee0f268c8",
        "colab": {
          "base_uri": "https://localhost:8080/"
        }
      },
      "outputs": [
        {
          "output_type": "execute_result",
          "data": {
            "text/plain": [
              "-20.870747595269407"
            ]
          },
          "metadata": {},
          "execution_count": 5
        }
      ],
      "source": [
        "# 타깃 벡터의 첫 번째 값\n",
        "target[0]"
      ]
    },
    {
      "cell_type": "code",
      "execution_count": 6,
      "metadata": {
        "id": "xD3QyHWuKpV7",
        "outputId": "8cbb964a-b559-4ac3-b7e8-538fe25cc298",
        "colab": {
          "base_uri": "https://localhost:8080/"
        }
      },
      "outputs": [
        {
          "output_type": "execute_result",
          "data": {
            "text/plain": [
              "-20.861927709296808"
            ]
          },
          "metadata": {},
          "execution_count": 6
        }
      ],
      "source": [
        "# 첫 번째 샘플의 타깃 값을 예측합니다.\n",
        "model.predict(features)[0]"
      ]
    },
    {
      "cell_type": "code",
      "execution_count": 7,
      "metadata": {
        "id": "b0wECG5DKpV8",
        "outputId": "f6a8410f-01b4-497b-bd0f-49d69d17bf42",
        "colab": {
          "base_uri": "https://localhost:8080/"
        }
      },
      "outputs": [
        {
          "output_type": "stream",
          "name": "stdout",
          "text": [
            "0.9999901732607787\n"
          ]
        }
      ],
      "source": [
        "# 훈련 데이터에 대한 모델의 점수를 출력합니다.\n",
        "print(model.score(features, target))"
      ]
    },
    {
      "cell_type": "markdown",
      "metadata": {
        "id": "Oz4KGhBQKpV8"
      },
      "source": [
        "### 옮긴이 붙임"
      ]
    },
    {
      "cell_type": "code",
      "execution_count": 8,
      "metadata": {
        "id": "DNq8gxvWKpV9",
        "outputId": "59b42012-4859-49d4-e222-d1b29ec1e57a",
        "colab": {
          "base_uri": "https://localhost:8080/"
        }
      },
      "outputs": [
        {
          "output_type": "execute_result",
          "data": {
            "text/plain": [
              "True"
            ]
          },
          "metadata": {},
          "execution_count": 8
        }
      ],
      "source": [
        "regression is model"
      ]
    },
    {
      "cell_type": "code",
      "execution_count": 9,
      "metadata": {
        "id": "RK0yUdHnKpV9",
        "outputId": "2a360446-3ab2-406e-cec4-3a9a5e53c55a",
        "colab": {
          "base_uri": "https://localhost:8080/"
        }
      },
      "outputs": [
        {
          "output_type": "execute_result",
          "data": {
            "text/plain": [
              "-20.861927709296808"
            ]
          },
          "metadata": {},
          "execution_count": 9
        }
      ],
      "source": [
        "LinearRegression().fit(features, target).predict(features)[0]"
      ]
    },
    {
      "cell_type": "markdown",
      "metadata": {
        "id": "RELQt0wAKpV-"
      },
      "source": [
        "## 13.2 교차 특성 다루기"
      ]
    },
    {
      "cell_type": "code",
      "execution_count": 10,
      "metadata": {
        "id": "4yylWcqMKpV-"
      },
      "outputs": [],
      "source": [
        "# 라이브러리를 임포트합니다.\n",
        "from sklearn.linear_model import LinearRegression\n",
        "from sklearn.preprocessing import PolynomialFeatures\n",
        "from sklearn.datasets import make_regression\n",
        "\n",
        "# Generate features matrix, target vector\n",
        "features, target = make_regression(n_samples = 100,\n",
        "                                   n_features = 2,\n",
        "                                   n_informative = 2,\n",
        "                                   n_targets = 1,\n",
        "                                   noise = 0.2,\n",
        "                                   coef = False,\n",
        "                                   random_state = 1)\n",
        "\n",
        "# 교차 항을 만듭니다.\n",
        "interaction = PolynomialFeatures(\n",
        "    degree=3, include_bias=False, interaction_only=True)\n",
        "features_interaction = interaction.fit_transform(features)\n",
        "\n",
        "# 선형 회귀 모델을 만듭니다.\n",
        "regression = LinearRegression()\n",
        "\n",
        "# 선형 회귀 모델을 훈련합니다.\n",
        "model = regression.fit(features_interaction, target)"
      ]
    },
    {
      "cell_type": "code",
      "execution_count": 11,
      "metadata": {
        "id": "EOL7fEMuKpV_",
        "outputId": "fc8bdd70-c649-45fd-d82b-9b93152ccb1f",
        "colab": {
          "base_uri": "https://localhost:8080/"
        }
      },
      "outputs": [
        {
          "output_type": "execute_result",
          "data": {
            "text/plain": [
              "array([0.0465673 , 0.80186103])"
            ]
          },
          "metadata": {},
          "execution_count": 11
        }
      ],
      "source": [
        "# 첫 번째 샘플의 특성 값을 확인합니다.\n",
        "features[0]"
      ]
    },
    {
      "cell_type": "code",
      "execution_count": 12,
      "metadata": {
        "id": "aco5u0fgKpV_"
      },
      "outputs": [],
      "source": [
        "# 라이브러리를 임포트합니다.\n",
        "import numpy as np\n",
        "\n",
        "# 각 샘플에서 첫 번째와 두 번째 특성을 곱합니다.\n",
        "interaction_term = np.multiply(features[:, 0], features[:, 1])"
      ]
    },
    {
      "cell_type": "code",
      "execution_count": 13,
      "metadata": {
        "id": "KxtUCnJvKpV_",
        "outputId": "6d8b0370-a578-4c07-8667-48bfee4fcd17",
        "colab": {
          "base_uri": "https://localhost:8080/"
        }
      },
      "outputs": [
        {
          "output_type": "execute_result",
          "data": {
            "text/plain": [
              "0.037340501965846186"
            ]
          },
          "metadata": {},
          "execution_count": 13
        }
      ],
      "source": [
        "# 첫 번째 샘플의 교차 항을 확인합니다.\n",
        "interaction_term[0]"
      ]
    },
    {
      "cell_type": "code",
      "execution_count": 14,
      "metadata": {
        "id": "lIwBMrK-KpWA",
        "outputId": "2ac63f98-6a3a-4ab4-b640-a43ff1d2b777",
        "colab": {
          "base_uri": "https://localhost:8080/"
        }
      },
      "outputs": [
        {
          "output_type": "execute_result",
          "data": {
            "text/plain": [
              "array([0.0465673 , 0.80186103, 0.0373405 ])"
            ]
          },
          "metadata": {},
          "execution_count": 14
        }
      ],
      "source": [
        "# 첫 번째 샘플의 값을 확인합니다.\n",
        "features_interaction[0]"
      ]
    },
    {
      "cell_type": "markdown",
      "metadata": {
        "id": "mQXVqWrGKpWA"
      },
      "source": [
        "## 13.3 비선형 관계를 학습하기"
      ]
    },
    {
      "cell_type": "code",
      "execution_count": 15,
      "metadata": {
        "id": "_ZBiOvxGKpWA"
      },
      "outputs": [],
      "source": [
        "# 라이브러리를 임포트합니다.\n",
        "from sklearn.linear_model import LinearRegression\n",
        "from sklearn.preprocessing import PolynomialFeatures\n",
        "from sklearn.datasets import make_regression\n",
        "\n",
        "# 특성 행렬과 타깃 벡터를 만듭니다.\n",
        "features, target = make_regression(n_samples = 100,\n",
        "                                   n_features = 3,\n",
        "                                   n_informative = 2,\n",
        "                                   n_targets = 1,\n",
        "                                   noise = 0.2,\n",
        "                                   coef = False,\n",
        "                                   random_state = 1)\n",
        "\n",
        "# 다항 특성 x^2와 x^3를 만듭니다.\n",
        "polynomial = PolynomialFeatures(degree=3, include_bias=False)\n",
        "features_polynomial = polynomial.fit_transform(features)\n",
        "\n",
        "# 선형 회귀 모델을 만듭니다.\n",
        "regression = LinearRegression()\n",
        "\n",
        "# 선형 회귀 모델을 훈련합니다.\n",
        "model = regression.fit(features_polynomial, target)"
      ]
    },
    {
      "cell_type": "code",
      "execution_count": 16,
      "metadata": {
        "id": "fpS1DFT7KpWB",
        "outputId": "f27e4bd6-ad31-43e1-e900-29099951b06e",
        "colab": {
          "base_uri": "https://localhost:8080/"
        }
      },
      "outputs": [
        {
          "output_type": "execute_result",
          "data": {
            "text/plain": [
              "array([ 0.58591043,  0.78477065, -0.95542526])"
            ]
          },
          "metadata": {},
          "execution_count": 16
        }
      ],
      "source": [
        "# 첫 번째 샘플을 확인합니다.\n",
        "features[0]"
      ]
    },
    {
      "cell_type": "code",
      "execution_count": 17,
      "metadata": {
        "id": "PHiKc4L0KpWB",
        "outputId": "d42e84ef-2155-4af9-889b-1bf885ae6fbc",
        "colab": {
          "base_uri": "https://localhost:8080/"
        }
      },
      "outputs": [
        {
          "output_type": "execute_result",
          "data": {
            "text/plain": [
              "array([0.34329103, 0.61586497, 0.91283743])"
            ]
          },
          "metadata": {},
          "execution_count": 17
        }
      ],
      "source": [
        "# 첫 번째 샘플을 x^2로 거듭제곱합니다.\n",
        "features[0]**2"
      ]
    },
    {
      "cell_type": "code",
      "execution_count": 18,
      "metadata": {
        "id": "ZBmv0H5rKpWC",
        "outputId": "93270b49-6ff9-4216-bee6-62f25e8eaca2",
        "colab": {
          "base_uri": "https://localhost:8080/"
        }
      },
      "outputs": [
        {
          "output_type": "execute_result",
          "data": {
            "text/plain": [
              "array([ 0.2011378 ,  0.48331276, -0.87214794])"
            ]
          },
          "metadata": {},
          "execution_count": 18
        }
      ],
      "source": [
        "# 첫 번째 샘플을 x^2로 세제곱합니다.\n",
        "features[0]**3"
      ]
    },
    {
      "cell_type": "code",
      "execution_count": 19,
      "metadata": {
        "id": "i7Jo0OEgKpWC",
        "outputId": "380f29b0-42fe-46cf-9b1b-d413d01f3972",
        "colab": {
          "base_uri": "https://localhost:8080/"
        }
      },
      "outputs": [
        {
          "output_type": "execute_result",
          "data": {
            "text/plain": [
              "array([ 0.58591043,  0.78477065, -0.95542526,  0.34329103,  0.45980531,\n",
              "       -0.55979363,  0.61586497, -0.74978971,  0.91283743,  0.2011378 ,\n",
              "        0.26940473, -0.32798893,  0.36084171, -0.43930961,  0.53484097,\n",
              "        0.48331276, -0.58841296,  0.71636803, -0.87214794])"
            ]
          },
          "metadata": {},
          "execution_count": 19
        }
      ],
      "source": [
        "# 첫 번째 샘플의 x, x^2,x^3 값을 확인합니다.\n",
        "features_polynomial[0]"
      ]
    },
    {
      "cell_type": "markdown",
      "metadata": {
        "id": "OA-D1KOeKpWC"
      },
      "source": [
        "## 13.4 규제로 분산을 줄이기"
      ]
    },
    {
      "cell_type": "code",
      "execution_count": 20,
      "metadata": {
        "id": "ae1hhy3GKpWC"
      },
      "outputs": [],
      "source": [
        "# 라이브러리를 임포트합니다.\n",
        "from sklearn.linear_model import Ridge\n",
        "from sklearn.preprocessing import StandardScaler\n",
        "from sklearn.datasets import make_regression\n",
        "\n",
        "# 특성 행렬과 타깃 벡터를 만듭니다.\n",
        "features, target = make_regression(n_samples = 100,\n",
        "                                   n_features = 3,\n",
        "                                   n_informative = 2,\n",
        "                                   n_targets = 1,\n",
        "                                   noise = 0.2,\n",
        "                                   coef = False,\n",
        "                                   random_state = 1)\n",
        "\n",
        "# 특성을 표준화합니다.\n",
        "scaler = StandardScaler()\n",
        "features_standardized = scaler.fit_transform(features)\n",
        "\n",
        "# alpha 값을 지정한 릿지 회귀를 만듭니다.\n",
        "regression = Ridge(alpha=0.5)\n",
        "\n",
        "# 선형 회귀 모델을 훈련합니다.\n",
        "model = regression.fit(features_standardized, target)"
      ]
    },
    {
      "cell_type": "code",
      "execution_count": 21,
      "metadata": {
        "id": "VNHoAysYKpWD",
        "outputId": "b25caf08-59ae-4469-869e-ee68246dc01c",
        "colab": {
          "base_uri": "https://localhost:8080/"
        }
      },
      "outputs": [
        {
          "output_type": "execute_result",
          "data": {
            "text/plain": [
              "array([1.29223201e-02, 4.40972291e+01, 5.38979372e+01])"
            ]
          },
          "metadata": {},
          "execution_count": 21
        }
      ],
      "source": [
        "# 라이브러리를 임포트합니다.\n",
        "from sklearn.linear_model import RidgeCV\n",
        "\n",
        "# 세 개의 alpha 값에 대한 릿지 회귀를 만듭니다.\n",
        "regr_cv = RidgeCV(alphas=[0.1, 1.0, 10.0])\n",
        "\n",
        "# 선형 회귀 모델을 훈련합니다.\n",
        "model_cv = regr_cv.fit(features_standardized, target)\n",
        "\n",
        "# 계수를 확인합니다.\n",
        "model_cv.coef_"
      ]
    },
    {
      "cell_type": "code",
      "execution_count": 22,
      "metadata": {
        "id": "Y-FMvQxDKpWD",
        "outputId": "b3fef67c-12ba-4812-ff97-aae176abafff",
        "colab": {
          "base_uri": "https://localhost:8080/"
        }
      },
      "outputs": [
        {
          "output_type": "execute_result",
          "data": {
            "text/plain": [
              "0.1"
            ]
          },
          "metadata": {},
          "execution_count": 22
        }
      ],
      "source": [
        "# alpha 값을 확인합니다.\n",
        "model_cv.alpha_"
      ]
    },
    {
      "cell_type": "markdown",
      "metadata": {
        "id": "OYeAjPXTKpWD"
      },
      "source": [
        "### 옮긴이 붙임"
      ]
    },
    {
      "cell_type": "code",
      "execution_count": 23,
      "metadata": {
        "id": "v8-RcRR4KpWD",
        "outputId": "958fde0b-d363-4d50-8026-f38c1b74d990",
        "colab": {
          "base_uri": "https://localhost:8080/"
        }
      },
      "outputs": [
        {
          "output_type": "execute_result",
          "data": {
            "text/plain": [
              "0.1"
            ]
          },
          "metadata": {},
          "execution_count": 23
        }
      ],
      "source": [
        "# 5-폴드 교차검증을 사용하여 릿지 회귀를 만듭니다.\n",
        "regr_cv = RidgeCV(alphas=[0.1, 1.0, 10.0], cv=5)\n",
        "\n",
        "# 선형 회귀 모델을 훈련합니다.\n",
        "model_cv = regr_cv.fit(features_standardized, target)\n",
        "\n",
        "# alpha 값을 확인합니다.\n",
        "model_cv.alpha_"
      ]
    },
    {
      "cell_type": "markdown",
      "metadata": {
        "id": "uOqzFYADKpWE"
      },
      "source": [
        "## 13.5 라쏘 회귀로 특성 줄이기"
      ]
    },
    {
      "cell_type": "code",
      "execution_count": 24,
      "metadata": {
        "id": "QI9wxXnnKpWE"
      },
      "outputs": [],
      "source": [
        "# 라이브러리를 임포트합니다.\n",
        "from sklearn.linear_model import Lasso\n",
        "from sklearn.preprocessing import StandardScaler\n",
        "from sklearn.datasets import make_regression\n",
        "\n",
        "# 특성 행렬과 타깃 벡터를 만듭니다.\n",
        "features, target = make_regression(n_samples = 100,\n",
        "                                   n_features = 3,\n",
        "                                   n_informative = 2,\n",
        "                                   n_targets = 1,\n",
        "                                   noise = 0.2,\n",
        "                                   coef = False,\n",
        "                                   random_state = 1)\n",
        "\n",
        "# 특성을 표준화합니다.\n",
        "scaler = StandardScaler()\n",
        "features_standardized = scaler.fit_transform(features)\n",
        "\n",
        "# alpha 값을 지정한 라쏘 회귀를 만듭니다.\n",
        "regression = Lasso(alpha=0.5)\n",
        "\n",
        "# 선형 회귀 모델을 훈련합니다.\n",
        "model = regression.fit(features_standardized, target)"
      ]
    },
    {
      "cell_type": "code",
      "execution_count": 25,
      "metadata": {
        "id": "eVFi255WKpWE",
        "outputId": "cd27f0e5-cee5-4138-c6eb-da362ebd0cde",
        "colab": {
          "base_uri": "https://localhost:8080/"
        }
      },
      "outputs": [
        {
          "output_type": "execute_result",
          "data": {
            "text/plain": [
              "array([-0.        , 43.58618393, 53.39523724])"
            ]
          },
          "metadata": {},
          "execution_count": 25
        }
      ],
      "source": [
        "# 계수를 확인합니다.\n",
        "model.coef_"
      ]
    },
    {
      "cell_type": "code",
      "execution_count": 26,
      "metadata": {
        "id": "A99KJGCLKpWE",
        "outputId": "b134b99b-38d4-4355-d1cf-dd90b93067e4",
        "colab": {
          "base_uri": "https://localhost:8080/"
        }
      },
      "outputs": [
        {
          "output_type": "execute_result",
          "data": {
            "text/plain": [
              "array([-0.        , 32.92181899, 42.73086731])"
            ]
          },
          "metadata": {},
          "execution_count": 26
        }
      ],
      "source": [
        "# 큰 alpha 값을 지정한 라쏘 회귀를 만듭니다.\n",
        "regression_a10 = Lasso(alpha=10)\n",
        "model_a10 = regression_a10.fit(features_standardized, target)\n",
        "model_a10.coef_"
      ]
    },
    {
      "cell_type": "markdown",
      "metadata": {
        "id": "uAqV8DGUKpWF"
      },
      "source": [
        "### 옮긴이 붙임"
      ]
    },
    {
      "cell_type": "code",
      "execution_count": 27,
      "metadata": {
        "id": "q2tpWPkoKpWF",
        "outputId": "41c24941-6681-497a-8c97-fc09f12d4ee7",
        "colab": {
          "base_uri": "https://localhost:8080/"
        }
      },
      "outputs": [
        {
          "output_type": "execute_result",
          "data": {
            "text/plain": [
              "array([ 0.        , 44.03520465, 53.84426278])"
            ]
          },
          "metadata": {},
          "execution_count": 27
        }
      ],
      "source": [
        "# 라이브러리를 임포트합니다.\n",
        "from sklearn.linear_model import LassoCV\n",
        "\n",
        "# 세 개의 alpha 값에 대한 라쏘 회귀를 만듭니다.\n",
        "lasso_cv = LassoCV(alphas=[0.1, 1.0, 10.0], cv=5)\n",
        "\n",
        "# 선형 회귀 모델을 훈련합니다.\n",
        "model_cv = lasso_cv.fit(features_standardized, target)\n",
        "\n",
        "# 계수를 확인합니다.\n",
        "model_cv.coef_"
      ]
    },
    {
      "cell_type": "code",
      "execution_count": 28,
      "metadata": {
        "id": "bgb-23_IKpWF",
        "outputId": "7a5fb0dd-096d-4d2e-ea52-3d70baf0a45e",
        "colab": {
          "base_uri": "https://localhost:8080/"
        }
      },
      "outputs": [
        {
          "output_type": "execute_result",
          "data": {
            "text/plain": [
              "0.1"
            ]
          },
          "metadata": {},
          "execution_count": 28
        }
      ],
      "source": [
        "# alpha 값을 확인합니다.\n",
        "model_cv.alpha_"
      ]
    },
    {
      "cell_type": "code",
      "execution_count": 29,
      "metadata": {
        "id": "9Wiwhp0RKpWF",
        "outputId": "747d3a75-452a-40ed-ef4f-21890ce00958",
        "colab": {
          "base_uri": "https://localhost:8080/"
        }
      },
      "outputs": [
        {
          "output_type": "execute_result",
          "data": {
            "text/plain": [
              "0.049136356423491775"
            ]
          },
          "metadata": {},
          "execution_count": 29
        }
      ],
      "source": [
        "# 1000개의 alpha 값을 탐색하는 라쏘 회귀를 만듭니다.\n",
        "lasso_cv = LassoCV(n_alphas=1000, cv=5)\n",
        "\n",
        "# 선형 회귀 모델을 훈련합니다.\n",
        "model_cv = lasso_cv.fit(features_standardized, target)\n",
        "\n",
        "# 계수를 확인합니다.\n",
        "model_cv.alpha_"
      ]
    },
    {
      "cell_type": "code",
      "execution_count": 30,
      "metadata": {
        "id": "q1lATKSTKpWL",
        "outputId": "d7a6a23a-c014-4bf7-93c4-dd07bb3fe687",
        "colab": {
          "base_uri": "https://localhost:8080/"
        }
      },
      "outputs": [
        {
          "output_type": "execute_result",
          "data": {
            "text/plain": [
              "array([49.13635642, 48.7977667 , 48.46151014, 48.12757067, 47.79593231,\n",
              "       47.46657921, 47.13949562, 46.8146659 , 46.49207453, 46.17170608,\n",
              "       45.85354523, 45.53757676, 45.22378558, 44.91215668, 44.60267515,\n",
              "       44.29532621, 43.99009515, 43.68696738, 43.38592841, 43.08696385,\n",
              "       42.7900594 , 42.49520086, 42.20237414, 41.91156523, 41.62276024,\n",
              "       41.33594534, 41.05110684, 40.76823111, 40.48730462, 40.20831395,\n",
              "       39.93124575, 39.65608678, 39.38282388, 39.11144398, 38.84193412,\n",
              "       38.57428139, 38.30847302, 38.04449628, 37.78233855, 37.52198731,\n",
              "       37.2634301 , 37.00665457, 36.75164842, 36.49839948, 36.24689563,\n",
              "       35.99712484, 35.74907518, 35.50273479, 35.25809189, 35.01513477,\n",
              "       34.77385183, 34.53423152, 34.29626239, 34.05993307, 33.82523225,\n",
              "       33.59214871, 33.36067131, 33.13078897, 32.90249071, 32.67576562,\n",
              "       32.45060284, 32.22699162, 32.00492127, 31.78438116, 31.56536076,\n",
              "       31.34784958, 31.13183723, 30.91731339, 30.70426779, 30.49269025,\n",
              "       30.28257065, 30.07389895, 29.86666517, 29.6608594 , 29.45647179,\n",
              "       29.25349259, 29.05191208, 28.85172062, 28.65290865, 28.45546665,\n",
              "       28.25938519, 28.06465489, 27.87126645, 27.6792106 , 27.48847818,\n",
              "       27.29906007, 27.1109472 , 26.92413058, 26.73860128, 26.55435042,\n",
              "       26.37136921, 26.18964889, 26.00918077, 25.82995622, 25.65196668,\n",
              "       25.47520363, 25.29965862, 25.12532326, 24.95218922, 24.78024821,\n",
              "       24.60949201, 24.43991246, 24.27150146, 24.10425095, 23.93815292,\n",
              "       23.77319945, 23.60938265, 23.44669468, 23.28512776, 23.12467416,\n",
              "       22.96532623, 22.80707633, 22.6499169 , 22.49384043, 22.33883946,\n",
              "       22.18490657, 22.0320344 , 21.88021565, 21.72944305, 21.5797094 ,\n",
              "       21.43100754, 21.28333035, 21.13667078, 20.99102182, 20.84637649,\n",
              "       20.70272789, 20.56006915, 20.41839344, 20.277694  , 20.13796409,\n",
              "       19.99919703, 19.86138619, 19.72452498, 19.58860685, 19.45362532,\n",
              "       19.31957391, 19.18644623, 19.05423591, 18.92293663, 18.7925421 ,\n",
              "       18.66304611, 18.53444244, 18.40672496, 18.27988756, 18.15392417,\n",
              "       18.02882877, 17.90459538, 17.78121806, 17.65869091, 17.53700807,\n",
              "       17.41616373, 17.29615211, 17.17696746, 17.05860409, 16.94105635,\n",
              "       16.8243186 , 16.70838527, 16.59325082, 16.47890974, 16.36535656,\n",
              "       16.25258586, 16.14059223, 16.02937034, 15.91891486, 15.8092205 ,\n",
              "       15.70028203, 15.59209423, 15.48465194, 15.37795001, 15.27198335,\n",
              "       15.16674688, 15.06223558, 14.95844445, 14.85536852, 14.75300287,\n",
              "       14.6513426 , 14.55038286, 14.45011881, 14.35054566, 14.25165865,\n",
              "       14.15345306, 14.05592418, 13.95906736, 13.86287795, 13.76735138,\n",
              "       13.67248306, 13.57826845, 13.48470307, 13.39178243, 13.29950208,\n",
              "       13.20785763, 13.11684467, 13.02645888, 12.93669591, 12.84755149,\n",
              "       12.75902134, 12.67110124, 12.58378698, 12.49707438, 12.41095931,\n",
              "       12.32543764, 12.24050529, 12.15615818, 12.0723923 , 11.98920364,\n",
              "       11.90658821, 11.82454207, 11.74306129, 11.66214199, 11.58178028,\n",
              "       11.50197234, 11.42271433, 11.34400248, 11.26583302, 11.1882022 ,\n",
              "       11.11110633, 11.03454171, 10.95850469, 10.88299162, 10.8079989 ,\n",
              "       10.73352294, 10.65956018, 10.58610708, 10.51316014, 10.44071586,\n",
              "       10.36877078, 10.29732146, 10.22636449, 10.15589646, 10.08591402,\n",
              "       10.01641382,  9.94739253,  9.87884685,  9.81077351,  9.74316925,\n",
              "        9.67603083,  9.60935506,  9.54313874,  9.4773787 ,  9.4120718 ,\n",
              "        9.34721492,  9.28280496,  9.21883884,  9.15531349,  9.09222588,\n",
              "        9.029573  ,  8.96735185,  8.90555946,  8.84419286,  8.78324914,\n",
              "        8.72272536,  8.66261864,  8.60292611,  8.5436449 ,  8.4847722 ,\n",
              "        8.42630517,  8.36824103,  8.310577  ,  8.25331032,  8.19643825,\n",
              "        8.13995809,  8.08386711,  8.02816265,  7.97284204,  7.91790263,\n",
              "        7.8633418 ,  7.80915693,  7.75534545,  7.70190477,  7.64883234,\n",
              "        7.59612563,  7.5437821 ,  7.49179927,  7.44017464,  7.38890574,\n",
              "        7.33799013,  7.28742538,  7.23720905,  7.18733875,  7.13781211,\n",
              "        7.08862674,  7.0397803 ,  6.99127045,  6.94309487,  6.89525126,\n",
              "        6.84773734,  6.80055082,  6.75368946,  6.70715101,  6.66093325,\n",
              "        6.61503397,  6.56945097,  6.52418207,  6.47922512,  6.43457795,\n",
              "        6.39023844,  6.34620447,  6.30247392,  6.25904472,  6.21591478,\n",
              "        6.17308204,  6.13054445,  6.08829998,  6.04634661,  6.00468233,\n",
              "        5.96330515,  5.9222131 ,  5.8814042 ,  5.84087651,  5.80062809,\n",
              "        5.76065702,  5.72096137,  5.68153927,  5.64238881,  5.60350813,\n",
              "        5.56489537,  5.52654869,  5.48846624,  5.45064622,  5.4130868 ,\n",
              "        5.3757862 ,  5.33874264,  5.30195433,  5.26541952,  5.22913647,\n",
              "        5.19310344,  5.15731871,  5.12178056,  5.0864873 ,  5.05143724,\n",
              "        5.0166287 ,  4.98206002,  4.94772955,  4.91363564,  4.87977667,\n",
              "        4.84615101,  4.81275707,  4.77959323,  4.74665792,  4.71394956,\n",
              "        4.68146659,  4.64920745,  4.61717061,  4.58535452,  4.55375768,\n",
              "        4.52237856,  4.49121567,  4.46026752,  4.42953262,  4.39900951,\n",
              "        4.36869674,  4.33859284,  4.30869638,  4.27900594,  4.24952009,\n",
              "        4.22023741,  4.19115652,  4.16227602,  4.13359453,  4.10511068,\n",
              "        4.07682311,  4.04873046,  4.0208314 ,  3.99312458,  3.96560868,\n",
              "        3.93828239,  3.9111444 ,  3.88419341,  3.85742814,  3.8308473 ,\n",
              "        3.80444963,  3.77823386,  3.75219873,  3.72634301,  3.70066546,\n",
              "        3.67516484,  3.64983995,  3.62468956,  3.59971248,  3.57490752,\n",
              "        3.55027348,  3.52580919,  3.50151348,  3.47738518,  3.45342315,\n",
              "        3.42962624,  3.40599331,  3.38252322,  3.35921487,  3.33606713,\n",
              "        3.3130789 ,  3.29024907,  3.26757656,  3.24506028,  3.22269916,\n",
              "        3.20049213,  3.17843812,  3.15653608,  3.13478496,  3.11318372,\n",
              "        3.09173134,  3.07042678,  3.04926903,  3.02825707,  3.0073899 ,\n",
              "        2.98666652,  2.96608594,  2.94564718,  2.92534926,  2.90519121,\n",
              "        2.88517206,  2.86529086,  2.84554667,  2.82593852,  2.80646549,\n",
              "        2.78712664,  2.76792106,  2.74884782,  2.72990601,  2.71109472,\n",
              "        2.69241306,  2.67386013,  2.65543504,  2.63713692,  2.61896489,\n",
              "        2.60091808,  2.58299562,  2.56519667,  2.54752036,  2.52996586,\n",
              "        2.51253233,  2.49521892,  2.47802482,  2.4609492 ,  2.44399125,\n",
              "        2.42715015,  2.41042509,  2.39381529,  2.37731995,  2.36093826,\n",
              "        2.34466947,  2.32851278,  2.31246742,  2.29653262,  2.28070763,\n",
              "        2.26499169,  2.24938404,  2.23388395,  2.21849066,  2.20320344,\n",
              "        2.18802156,  2.17294431,  2.15797094,  2.14310075,  2.12833304,\n",
              "        2.11366708,  2.09910218,  2.08463765,  2.07027279,  2.05600692,\n",
              "        2.04183934,  2.0277694 ,  2.01379641,  1.9999197 ,  1.98613862,\n",
              "        1.9724525 ,  1.95886069,  1.94536253,  1.93195739,  1.91864462,\n",
              "        1.90542359,  1.89229366,  1.87925421,  1.86630461,  1.85344424,\n",
              "        1.8406725 ,  1.82798876,  1.81539242,  1.80288288,  1.79045954,\n",
              "        1.77812181,  1.76586909,  1.75370081,  1.74161637,  1.72961521,\n",
              "        1.71769675,  1.70586041,  1.69410563,  1.68243186,  1.67083853,\n",
              "        1.65932508,  1.64789097,  1.63653566,  1.62525859,  1.61405922,\n",
              "        1.60293703,  1.59189149,  1.58092205,  1.5700282 ,  1.55920942,\n",
              "        1.54846519,  1.537795  ,  1.52719833,  1.51667469,  1.50622356,\n",
              "        1.49584444,  1.48553685,  1.47530029,  1.46513426,  1.45503829,\n",
              "        1.44501188,  1.43505457,  1.42516587,  1.41534531,  1.40559242,\n",
              "        1.39590674,  1.3862878 ,  1.37673514,  1.36724831,  1.35782685,\n",
              "        1.34847031,  1.33917824,  1.32995021,  1.32078576,  1.31168447,\n",
              "        1.30264589,  1.29366959,  1.28475515,  1.27590213,  1.26711012,\n",
              "        1.2583787 ,  1.24970744,  1.24109593,  1.23254376,  1.22405053,\n",
              "        1.21561582,  1.20723923,  1.19892036,  1.19065882,  1.18245421,\n",
              "        1.17430613,  1.1662142 ,  1.15817803,  1.15019723,  1.14227143,\n",
              "        1.13440025,  1.1265833 ,  1.11882022,  1.11111063,  1.10345417,\n",
              "        1.09585047,  1.08829916,  1.08079989,  1.07335229,  1.06595602,\n",
              "        1.05861071,  1.05131601,  1.04407159,  1.03687708,  1.02973215,\n",
              "        1.02263645,  1.01558965,  1.0085914 ,  1.00164138,  0.99473925,\n",
              "        0.98788468,  0.98107735,  0.97431692,  0.96760308,  0.96093551,\n",
              "        0.95431387,  0.94773787,  0.94120718,  0.93472149,  0.9282805 ,\n",
              "        0.92188388,  0.91553135,  0.90922259,  0.9029573 ,  0.89673519,\n",
              "        0.89055595,  0.88441929,  0.87832491,  0.87227254,  0.86626186,\n",
              "        0.86029261,  0.85436449,  0.84847722,  0.84263052,  0.8368241 ,\n",
              "        0.8310577 ,  0.82533103,  0.81964383,  0.81399581,  0.80838671,\n",
              "        0.80281626,  0.7972842 ,  0.79179026,  0.78633418,  0.78091569,\n",
              "        0.77553455,  0.77019048,  0.76488323,  0.75961256,  0.75437821,\n",
              "        0.74917993,  0.74401746,  0.73889057,  0.73379901,  0.72874254,\n",
              "        0.7237209 ,  0.71873388,  0.71378121,  0.70886267,  0.70397803,\n",
              "        0.69912704,  0.69430949,  0.68952513,  0.68477373,  0.68005508,\n",
              "        0.67536895,  0.6707151 ,  0.66609332,  0.6615034 ,  0.6569451 ,\n",
              "        0.65241821,  0.64792251,  0.6434578 ,  0.63902384,  0.63462045,\n",
              "        0.63024739,  0.62590447,  0.62159148,  0.6173082 ,  0.61305444,\n",
              "        0.60883   ,  0.60463466,  0.60046823,  0.59633052,  0.59222131,\n",
              "        0.58814042,  0.58408765,  0.58006281,  0.5760657 ,  0.57209614,\n",
              "        0.56815393,  0.56423888,  0.56035081,  0.55648954,  0.55265487,\n",
              "        0.54884662,  0.54506462,  0.54130868,  0.53757862,  0.53387426,\n",
              "        0.53019543,  0.52654195,  0.52291365,  0.51931034,  0.51573187,\n",
              "        0.51217806,  0.50864873,  0.50514372,  0.50166287,  0.498206  ,\n",
              "        0.49477295,  0.49136356,  0.48797767,  0.4846151 ,  0.48127571,\n",
              "        0.47795932,  0.47466579,  0.47139496,  0.46814666,  0.46492075,\n",
              "        0.46171706,  0.45853545,  0.45537577,  0.45223786,  0.44912157,\n",
              "        0.44602675,  0.44295326,  0.43990095,  0.43686967,  0.43385928,\n",
              "        0.43086964,  0.42790059,  0.42495201,  0.42202374,  0.41911565,\n",
              "        0.4162276 ,  0.41335945,  0.41051107,  0.40768231,  0.40487305,\n",
              "        0.40208314,  0.39931246,  0.39656087,  0.39382824,  0.39111444,\n",
              "        0.38841934,  0.38574281,  0.38308473,  0.38044496,  0.37782339,\n",
              "        0.37521987,  0.3726343 ,  0.37006655,  0.36751648,  0.36498399,\n",
              "        0.36246896,  0.35997125,  0.35749075,  0.35502735,  0.35258092,\n",
              "        0.35015135,  0.34773852,  0.34534232,  0.34296262,  0.34059933,\n",
              "        0.33825232,  0.33592149,  0.33360671,  0.33130789,  0.32902491,\n",
              "        0.32675766,  0.32450603,  0.32226992,  0.32004921,  0.31784381,\n",
              "        0.31565361,  0.3134785 ,  0.31131837,  0.30917313,  0.30704268,\n",
              "        0.3049269 ,  0.30282571,  0.30073899,  0.29866665,  0.29660859,\n",
              "        0.29456472,  0.29253493,  0.29051912,  0.28851721,  0.28652909,\n",
              "        0.28455467,  0.28259385,  0.28064655,  0.27871266,  0.27679211,\n",
              "        0.27488478,  0.2729906 ,  0.27110947,  0.26924131,  0.26738601,\n",
              "        0.2655435 ,  0.26371369,  0.26189649,  0.26009181,  0.25829956,\n",
              "        0.25651967,  0.25475204,  0.25299659,  0.25125323,  0.24952189,\n",
              "        0.24780248,  0.24609492,  0.24439912,  0.24271501,  0.24104251,\n",
              "        0.23938153,  0.23773199,  0.23609383,  0.23446695,  0.23285128,\n",
              "        0.23124674,  0.22965326,  0.22807076,  0.22649917,  0.2249384 ,\n",
              "        0.22338839,  0.22184907,  0.22032034,  0.21880216,  0.21729443,\n",
              "        0.21579709,  0.21431008,  0.2128333 ,  0.21136671,  0.20991022,\n",
              "        0.20846376,  0.20702728,  0.20560069,  0.20418393,  0.20277694,\n",
              "        0.20137964,  0.19999197,  0.19861386,  0.19724525,  0.19588607,\n",
              "        0.19453625,  0.19319574,  0.19186446,  0.19054236,  0.18922937,\n",
              "        0.18792542,  0.18663046,  0.18534442,  0.18406725,  0.18279888,\n",
              "        0.18153924,  0.18028829,  0.17904595,  0.17781218,  0.17658691,\n",
              "        0.17537008,  0.17416164,  0.17296152,  0.17176967,  0.17058604,\n",
              "        0.16941056,  0.16824319,  0.16708385,  0.16593251,  0.1647891 ,\n",
              "        0.16365357,  0.16252586,  0.16140592,  0.1602937 ,  0.15918915,\n",
              "        0.15809221,  0.15700282,  0.15592094,  0.15484652,  0.1537795 ,\n",
              "        0.15271983,  0.15166747,  0.15062236,  0.14958444,  0.14855369,\n",
              "        0.14753003,  0.14651343,  0.14550383,  0.14450119,  0.14350546,\n",
              "        0.14251659,  0.14153453,  0.14055924,  0.13959067,  0.13862878,\n",
              "        0.13767351,  0.13672483,  0.13578268,  0.13484703,  0.13391782,\n",
              "        0.13299502,  0.13207858,  0.13116845,  0.13026459,  0.12936696,\n",
              "        0.12847551,  0.12759021,  0.12671101,  0.12583787,  0.12497074,\n",
              "        0.12410959,  0.12325438,  0.12240505,  0.12156158,  0.12072392,\n",
              "        0.11989204,  0.11906588,  0.11824542,  0.11743061,  0.11662142,\n",
              "        0.1158178 ,  0.11501972,  0.11422714,  0.11344002,  0.11265833,\n",
              "        0.11188202,  0.11111106,  0.11034542,  0.10958505,  0.10882992,\n",
              "        0.10807999,  0.10733523,  0.1065956 ,  0.10586107,  0.1051316 ,\n",
              "        0.10440716,  0.10368771,  0.10297321,  0.10226364,  0.10155896,\n",
              "        0.10085914,  0.10016414,  0.09947393,  0.09878847,  0.09810774,\n",
              "        0.09743169,  0.09676031,  0.09609355,  0.09543139,  0.09477379,\n",
              "        0.09412072,  0.09347215,  0.09282805,  0.09218839,  0.09155313,\n",
              "        0.09092226,  0.09029573,  0.08967352,  0.08905559,  0.08844193,\n",
              "        0.08783249,  0.08722725,  0.08662619,  0.08602926,  0.08543645,\n",
              "        0.08484772,  0.08426305,  0.08368241,  0.08310577,  0.0825331 ,\n",
              "        0.08196438,  0.08139958,  0.08083867,  0.08028163,  0.07972842,\n",
              "        0.07917903,  0.07863342,  0.07809157,  0.07755345,  0.07701905,\n",
              "        0.07648832,  0.07596126,  0.07543782,  0.07491799,  0.07440175,\n",
              "        0.07388906,  0.0733799 ,  0.07287425,  0.07237209,  0.07187339,\n",
              "        0.07137812,  0.07088627,  0.0703978 ,  0.0699127 ,  0.06943095,\n",
              "        0.06895251,  0.06847737,  0.06800551,  0.06753689,  0.06707151,\n",
              "        0.06660933,  0.06615034,  0.06569451,  0.06524182,  0.06479225,\n",
              "        0.06434578,  0.06390238,  0.06346204,  0.06302474,  0.06259045,\n",
              "        0.06215915,  0.06173082,  0.06130544,  0.060883  ,  0.06046347,\n",
              "        0.06004682,  0.05963305,  0.05922213,  0.05881404,  0.05840877,\n",
              "        0.05800628,  0.05760657,  0.05720961,  0.05681539,  0.05642389,\n",
              "        0.05603508,  0.05564895,  0.05526549,  0.05488466,  0.05450646,\n",
              "        0.05413087,  0.05375786,  0.05338743,  0.05301954,  0.0526542 ,\n",
              "        0.05229136,  0.05193103,  0.05157319,  0.05121781,  0.05086487,\n",
              "        0.05051437,  0.05016629,  0.0498206 ,  0.0494773 ,  0.04913636])"
            ]
          },
          "metadata": {},
          "execution_count": 30
        }
      ],
      "source": [
        "lasso_cv.alphas_"
      ]
    }
  ],
  "metadata": {
    "kernelspec": {
      "display_name": "Python 3 (ipykernel)",
      "language": "python",
      "name": "python3"
    },
    "language_info": {
      "codemirror_mode": {
        "name": "ipython",
        "version": 3
      },
      "file_extension": ".py",
      "mimetype": "text/x-python",
      "name": "python",
      "nbconvert_exporter": "python",
      "pygments_lexer": "ipython3",
      "version": "3.10.13"
    },
    "colab": {
      "provenance": []
    }
  },
  "nbformat": 4,
  "nbformat_minor": 0
}