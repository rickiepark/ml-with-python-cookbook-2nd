{
  "cells": [
    {
      "cell_type": "markdown",
      "metadata": {
        "id": "Fn_xrKXD2aL8"
      },
      "source": [
        "# 3장 데이터 랭글링"
      ]
    },
    {
      "cell_type": "markdown",
      "metadata": {
        "id": "ppNQupOe2aMT"
      },
      "source": [
        "<table align=\"left\"><tr><td>\n",
        "<a href=\"https://colab.research.google.com/github/rickiepark/ml-with-python-cookbook-2nd/blob/main/ch03.ipynb\" target=\"_parent\"><img src=\"https://colab.research.google.com/assets/colab-badge.svg\" alt=\"코랩에서 실행하기\"/></a>\n",
        "</td></tr></table>"
      ]
    },
    {
      "cell_type": "code",
      "source": [
        "import numpy as np\n",
        "import pandas as pd\n",
        "\n",
        "print('numpy', np.__version__)\n",
        "print('pandas', pd.__version__)"
      ],
      "metadata": {
        "id": "Xn1iEFY_3_CM"
      },
      "execution_count": null,
      "outputs": []
    },
    {
      "cell_type": "markdown",
      "metadata": {
        "id": "z2O_GiVG2aMU"
      },
      "source": [
        "## 3.0 소개"
      ]
    },
    {
      "cell_type": "code",
      "execution_count": null,
      "metadata": {
        "id": "BFYQJrtp2aMV",
        "outputId": "70dda94e-bd9c-4766-cf82-9d29d72e07e7"
      },
      "outputs": [
        {
          "data": {
            "text/html": [
              "<div>\n",
              "<style scoped>\n",
              "    .dataframe tbody tr th:only-of-type {\n",
              "        vertical-align: middle;\n",
              "    }\n",
              "\n",
              "    .dataframe tbody tr th {\n",
              "        vertical-align: top;\n",
              "    }\n",
              "\n",
              "    .dataframe thead th {\n",
              "        text-align: right;\n",
              "    }\n",
              "</style>\n",
              "<table border=\"1\" class=\"dataframe\">\n",
              "  <thead>\n",
              "    <tr style=\"text-align: right;\">\n",
              "      <th></th>\n",
              "      <th>Name</th>\n",
              "      <th>PClass</th>\n",
              "      <th>Age</th>\n",
              "      <th>Sex</th>\n",
              "      <th>Survived</th>\n",
              "      <th>SexCode</th>\n",
              "    </tr>\n",
              "  </thead>\n",
              "  <tbody>\n",
              "    <tr>\n",
              "      <th>0</th>\n",
              "      <td>Allen, Miss Elisabeth Walton</td>\n",
              "      <td>1st</td>\n",
              "      <td>29.00</td>\n",
              "      <td>female</td>\n",
              "      <td>1</td>\n",
              "      <td>1</td>\n",
              "    </tr>\n",
              "    <tr>\n",
              "      <th>1</th>\n",
              "      <td>Allison, Miss Helen Loraine</td>\n",
              "      <td>1st</td>\n",
              "      <td>2.00</td>\n",
              "      <td>female</td>\n",
              "      <td>0</td>\n",
              "      <td>1</td>\n",
              "    </tr>\n",
              "    <tr>\n",
              "      <th>2</th>\n",
              "      <td>Allison, Mr Hudson Joshua Creighton</td>\n",
              "      <td>1st</td>\n",
              "      <td>30.00</td>\n",
              "      <td>male</td>\n",
              "      <td>0</td>\n",
              "      <td>0</td>\n",
              "    </tr>\n",
              "    <tr>\n",
              "      <th>3</th>\n",
              "      <td>Allison, Mrs Hudson JC (Bessie Waldo Daniels)</td>\n",
              "      <td>1st</td>\n",
              "      <td>25.00</td>\n",
              "      <td>female</td>\n",
              "      <td>0</td>\n",
              "      <td>1</td>\n",
              "    </tr>\n",
              "    <tr>\n",
              "      <th>4</th>\n",
              "      <td>Allison, Master Hudson Trevor</td>\n",
              "      <td>1st</td>\n",
              "      <td>0.92</td>\n",
              "      <td>male</td>\n",
              "      <td>1</td>\n",
              "      <td>0</td>\n",
              "    </tr>\n",
              "  </tbody>\n",
              "</table>\n",
              "</div>"
            ],
            "text/plain": [
              "                                            Name PClass    Age     Sex  \\\n",
              "0                   Allen, Miss Elisabeth Walton    1st  29.00  female   \n",
              "1                    Allison, Miss Helen Loraine    1st   2.00  female   \n",
              "2            Allison, Mr Hudson Joshua Creighton    1st  30.00    male   \n",
              "3  Allison, Mrs Hudson JC (Bessie Waldo Daniels)    1st  25.00  female   \n",
              "4                  Allison, Master Hudson Trevor    1st   0.92    male   \n",
              "\n",
              "   Survived  SexCode  \n",
              "0         1        1  \n",
              "1         0        1  \n",
              "2         0        0  \n",
              "3         0        1  \n",
              "4         1        0  "
            ]
          },
          "execution_count": 1,
          "metadata": {},
          "output_type": "execute_result"
        }
      ],
      "source": [
        "# 라이브러리를 임포트합니다.\n",
        "import pandas as pd\n",
        "\n",
        "# 데이터 URL\n",
        "url = 'https://bit.ly/3Tb15qr'\n",
        "\n",
        "# 데이터프레임으로 데이터를 적재합니다.\n",
        "dataframe = pd.read_csv(url)\n",
        "\n",
        "# 처음 다섯 개의 행을 출력합니다.\n",
        "dataframe.head(5)"
      ]
    },
    {
      "cell_type": "markdown",
      "metadata": {
        "id": "-TDk6eCu2aMY"
      },
      "source": [
        "## 3.1 데이터프레임 만들기"
      ]
    },
    {
      "cell_type": "code",
      "execution_count": null,
      "metadata": {
        "id": "Q_QGMUS22aMY",
        "outputId": "4bdcefbc-ad4a-454b-bdad-f54ffdc980f0"
      },
      "outputs": [
        {
          "data": {
            "text/html": [
              "<div>\n",
              "<style scoped>\n",
              "    .dataframe tbody tr th:only-of-type {\n",
              "        vertical-align: middle;\n",
              "    }\n",
              "\n",
              "    .dataframe tbody tr th {\n",
              "        vertical-align: top;\n",
              "    }\n",
              "\n",
              "    .dataframe thead th {\n",
              "        text-align: right;\n",
              "    }\n",
              "</style>\n",
              "<table border=\"1\" class=\"dataframe\">\n",
              "  <thead>\n",
              "    <tr style=\"text-align: right;\">\n",
              "      <th></th>\n",
              "      <th>Name</th>\n",
              "      <th>Age</th>\n",
              "      <th>Driver</th>\n",
              "    </tr>\n",
              "  </thead>\n",
              "  <tbody>\n",
              "    <tr>\n",
              "      <th>0</th>\n",
              "      <td>Jacky Jackson</td>\n",
              "      <td>38</td>\n",
              "      <td>True</td>\n",
              "    </tr>\n",
              "    <tr>\n",
              "      <th>1</th>\n",
              "      <td>Steven Stevenson</td>\n",
              "      <td>25</td>\n",
              "      <td>False</td>\n",
              "    </tr>\n",
              "  </tbody>\n",
              "</table>\n",
              "</div>"
            ],
            "text/plain": [
              "               Name  Age  Driver\n",
              "0     Jacky Jackson   38    True\n",
              "1  Steven Stevenson   25   False"
            ]
          },
          "execution_count": 2,
          "metadata": {},
          "output_type": "execute_result"
        }
      ],
      "source": [
        "# 라이브러리를 임포트합니다.\n",
        "import pandas as pd\n",
        "\n",
        "# 데이터프레임을 만듭니다.\n",
        "dataframe = pd.DataFrame()\n",
        "\n",
        "# 열을 추가합니다.\n",
        "dataframe['Name'] = ['Jacky Jackson', 'Steven Stevenson']\n",
        "dataframe['Age'] = [38, 25]\n",
        "dataframe['Driver'] = [True, False]\n",
        "\n",
        "# 데이터프레임을 확인합니다.\n",
        "dataframe"
      ]
    },
    {
      "cell_type": "code",
      "execution_count": null,
      "metadata": {
        "id": "a9QZ8RFA2aMZ",
        "outputId": "07e52a84-5631-4cad-c98f-37e9b8e0878c"
      },
      "outputs": [
        {
          "data": {
            "text/html": [
              "<div>\n",
              "<style scoped>\n",
              "    .dataframe tbody tr th:only-of-type {\n",
              "        vertical-align: middle;\n",
              "    }\n",
              "\n",
              "    .dataframe tbody tr th {\n",
              "        vertical-align: top;\n",
              "    }\n",
              "\n",
              "    .dataframe thead th {\n",
              "        text-align: right;\n",
              "    }\n",
              "</style>\n",
              "<table border=\"1\" class=\"dataframe\">\n",
              "  <thead>\n",
              "    <tr style=\"text-align: right;\">\n",
              "      <th></th>\n",
              "      <th>Name</th>\n",
              "      <th>Age</th>\n",
              "      <th>Driver</th>\n",
              "    </tr>\n",
              "  </thead>\n",
              "  <tbody>\n",
              "    <tr>\n",
              "      <th>0</th>\n",
              "      <td>Jacky Jackson</td>\n",
              "      <td>38</td>\n",
              "      <td>True</td>\n",
              "    </tr>\n",
              "    <tr>\n",
              "      <th>1</th>\n",
              "      <td>Steven Stevenson</td>\n",
              "      <td>25</td>\n",
              "      <td>False</td>\n",
              "    </tr>\n",
              "    <tr>\n",
              "      <th>2</th>\n",
              "      <td>Molly Mooney</td>\n",
              "      <td>40</td>\n",
              "      <td>True</td>\n",
              "    </tr>\n",
              "  </tbody>\n",
              "</table>\n",
              "</div>"
            ],
            "text/plain": [
              "               Name  Age  Driver\n",
              "0     Jacky Jackson   38    True\n",
              "1  Steven Stevenson   25   False\n",
              "2      Molly Mooney   40    True"
            ]
          },
          "execution_count": 3,
          "metadata": {},
          "output_type": "execute_result"
        }
      ],
      "source": [
        "# 열을 만듭니다.\n",
        "new_person = pd.Series(['Molly Mooney', 40, True], index=['Name','Age','Driver'])\n",
        "\n",
        "# 열을 추가합니다.\n",
        "dataframe.append(new_person, ignore_index=True)"
      ]
    },
    {
      "cell_type": "markdown",
      "metadata": {
        "id": "DDyr5F-A2aMZ"
      },
      "source": [
        "### 붙임"
      ]
    },
    {
      "cell_type": "code",
      "execution_count": null,
      "metadata": {
        "id": "IVyP34KG2aMZ",
        "outputId": "638a0a29-8fe4-420a-fdfe-0211de7c35d3"
      },
      "outputs": [
        {
          "data": {
            "text/html": [
              "<div>\n",
              "<style scoped>\n",
              "    .dataframe tbody tr th:only-of-type {\n",
              "        vertical-align: middle;\n",
              "    }\n",
              "\n",
              "    .dataframe tbody tr th {\n",
              "        vertical-align: top;\n",
              "    }\n",
              "\n",
              "    .dataframe thead th {\n",
              "        text-align: right;\n",
              "    }\n",
              "</style>\n",
              "<table border=\"1\" class=\"dataframe\">\n",
              "  <thead>\n",
              "    <tr style=\"text-align: right;\">\n",
              "      <th></th>\n",
              "      <th>Name</th>\n",
              "      <th>Age</th>\n",
              "      <th>Driver</th>\n",
              "    </tr>\n",
              "  </thead>\n",
              "  <tbody>\n",
              "    <tr>\n",
              "      <th>0</th>\n",
              "      <td>Jacky Jackson</td>\n",
              "      <td>38</td>\n",
              "      <td>True</td>\n",
              "    </tr>\n",
              "    <tr>\n",
              "      <th>1</th>\n",
              "      <td>Steven Stevenson</td>\n",
              "      <td>25</td>\n",
              "      <td>False</td>\n",
              "    </tr>\n",
              "  </tbody>\n",
              "</table>\n",
              "</div>"
            ],
            "text/plain": [
              "               Name Age Driver\n",
              "0     Jacky Jackson  38   True\n",
              "1  Steven Stevenson  25  False"
            ]
          },
          "execution_count": 4,
          "metadata": {},
          "output_type": "execute_result"
        }
      ],
      "source": [
        "import numpy as np\n",
        "\n",
        "data = [ ['Jacky Jackson', 38, True], ['Steven Stevenson', 25, False] ]\n",
        "\n",
        "matrix = np.array(data)\n",
        "pd.DataFrame(matrix, columns=['Name', 'Age', 'Driver'])"
      ]
    },
    {
      "cell_type": "code",
      "execution_count": null,
      "metadata": {
        "id": "BQ_qElgs2aMa",
        "outputId": "0fe1564f-58bb-4833-a79b-08c07f7d0080"
      },
      "outputs": [
        {
          "data": {
            "text/html": [
              "<div>\n",
              "<style scoped>\n",
              "    .dataframe tbody tr th:only-of-type {\n",
              "        vertical-align: middle;\n",
              "    }\n",
              "\n",
              "    .dataframe tbody tr th {\n",
              "        vertical-align: top;\n",
              "    }\n",
              "\n",
              "    .dataframe thead th {\n",
              "        text-align: right;\n",
              "    }\n",
              "</style>\n",
              "<table border=\"1\" class=\"dataframe\">\n",
              "  <thead>\n",
              "    <tr style=\"text-align: right;\">\n",
              "      <th></th>\n",
              "      <th>Name</th>\n",
              "      <th>Age</th>\n",
              "      <th>Driver</th>\n",
              "    </tr>\n",
              "  </thead>\n",
              "  <tbody>\n",
              "    <tr>\n",
              "      <th>0</th>\n",
              "      <td>Jacky Jackson</td>\n",
              "      <td>38</td>\n",
              "      <td>True</td>\n",
              "    </tr>\n",
              "    <tr>\n",
              "      <th>1</th>\n",
              "      <td>Steven Stevenson</td>\n",
              "      <td>25</td>\n",
              "      <td>False</td>\n",
              "    </tr>\n",
              "  </tbody>\n",
              "</table>\n",
              "</div>"
            ],
            "text/plain": [
              "               Name  Age  Driver\n",
              "0     Jacky Jackson   38    True\n",
              "1  Steven Stevenson   25   False"
            ]
          },
          "execution_count": 5,
          "metadata": {},
          "output_type": "execute_result"
        }
      ],
      "source": [
        "pd.DataFrame(data, columns=['Name', 'Age', 'Driver'])"
      ]
    },
    {
      "cell_type": "code",
      "execution_count": null,
      "metadata": {
        "id": "53iXXnX62aMa",
        "outputId": "230379e5-2738-48b7-c146-4d80f8512bed"
      },
      "outputs": [
        {
          "data": {
            "text/html": [
              "<div>\n",
              "<style scoped>\n",
              "    .dataframe tbody tr th:only-of-type {\n",
              "        vertical-align: middle;\n",
              "    }\n",
              "\n",
              "    .dataframe tbody tr th {\n",
              "        vertical-align: top;\n",
              "    }\n",
              "\n",
              "    .dataframe thead th {\n",
              "        text-align: right;\n",
              "    }\n",
              "</style>\n",
              "<table border=\"1\" class=\"dataframe\">\n",
              "  <thead>\n",
              "    <tr style=\"text-align: right;\">\n",
              "      <th></th>\n",
              "      <th>Name</th>\n",
              "      <th>Age</th>\n",
              "      <th>Driver</th>\n",
              "    </tr>\n",
              "  </thead>\n",
              "  <tbody>\n",
              "    <tr>\n",
              "      <th>0</th>\n",
              "      <td>Jacky Jackson</td>\n",
              "      <td>38</td>\n",
              "      <td>True</td>\n",
              "    </tr>\n",
              "    <tr>\n",
              "      <th>1</th>\n",
              "      <td>Steven Stevenson</td>\n",
              "      <td>25</td>\n",
              "      <td>False</td>\n",
              "    </tr>\n",
              "  </tbody>\n",
              "</table>\n",
              "</div>"
            ],
            "text/plain": [
              "               Name  Age  Driver\n",
              "0     Jacky Jackson   38    True\n",
              "1  Steven Stevenson   25   False"
            ]
          },
          "execution_count": 6,
          "metadata": {},
          "output_type": "execute_result"
        }
      ],
      "source": [
        "data = {'Name': ['Jacky Jackson', 'Steven Stevenson'],\n",
        "        'Age': [38, 25],\n",
        "        'Driver': [True, False]}\n",
        "pd.DataFrame(data)"
      ]
    },
    {
      "cell_type": "code",
      "execution_count": null,
      "metadata": {
        "id": "Zvs8DZnH2aMb",
        "outputId": "0cee76b4-5343-44c2-85ce-98d95e0b0cd0"
      },
      "outputs": [
        {
          "data": {
            "text/html": [
              "<div>\n",
              "<style scoped>\n",
              "    .dataframe tbody tr th:only-of-type {\n",
              "        vertical-align: middle;\n",
              "    }\n",
              "\n",
              "    .dataframe tbody tr th {\n",
              "        vertical-align: top;\n",
              "    }\n",
              "\n",
              "    .dataframe thead th {\n",
              "        text-align: right;\n",
              "    }\n",
              "</style>\n",
              "<table border=\"1\" class=\"dataframe\">\n",
              "  <thead>\n",
              "    <tr style=\"text-align: right;\">\n",
              "      <th></th>\n",
              "      <th>Name</th>\n",
              "      <th>Age</th>\n",
              "      <th>Driver</th>\n",
              "    </tr>\n",
              "  </thead>\n",
              "  <tbody>\n",
              "    <tr>\n",
              "      <th>row1</th>\n",
              "      <td>Jacky Jackson</td>\n",
              "      <td>38</td>\n",
              "      <td>True</td>\n",
              "    </tr>\n",
              "    <tr>\n",
              "      <th>row2</th>\n",
              "      <td>Steven Stevenson</td>\n",
              "      <td>25</td>\n",
              "      <td>False</td>\n",
              "    </tr>\n",
              "  </tbody>\n",
              "</table>\n",
              "</div>"
            ],
            "text/plain": [
              "                  Name  Age  Driver\n",
              "row1     Jacky Jackson   38    True\n",
              "row2  Steven Stevenson   25   False"
            ]
          },
          "execution_count": 7,
          "metadata": {},
          "output_type": "execute_result"
        }
      ],
      "source": [
        "data = [ {'Name': 'Jacky Jackson', 'Age': 38, 'Driver': True},\n",
        "         {'Name': 'Steven Stevenson', 'Age': 25, 'Driver': False} ]\n",
        "pd.DataFrame(data, index=['row1', 'row2'])"
      ]
    },
    {
      "cell_type": "markdown",
      "metadata": {
        "id": "aras1mtl2aMc"
      },
      "source": [
        "## 3.2 데이터 설명하기"
      ]
    },
    {
      "cell_type": "code",
      "execution_count": null,
      "metadata": {
        "id": "Y0DSIZgD2aMc",
        "outputId": "90522a70-fc98-459a-e160-07b22e34b117"
      },
      "outputs": [
        {
          "data": {
            "text/html": [
              "<div>\n",
              "<style scoped>\n",
              "    .dataframe tbody tr th:only-of-type {\n",
              "        vertical-align: middle;\n",
              "    }\n",
              "\n",
              "    .dataframe tbody tr th {\n",
              "        vertical-align: top;\n",
              "    }\n",
              "\n",
              "    .dataframe thead th {\n",
              "        text-align: right;\n",
              "    }\n",
              "</style>\n",
              "<table border=\"1\" class=\"dataframe\">\n",
              "  <thead>\n",
              "    <tr style=\"text-align: right;\">\n",
              "      <th></th>\n",
              "      <th>Name</th>\n",
              "      <th>PClass</th>\n",
              "      <th>Age</th>\n",
              "      <th>Sex</th>\n",
              "      <th>Survived</th>\n",
              "      <th>SexCode</th>\n",
              "    </tr>\n",
              "  </thead>\n",
              "  <tbody>\n",
              "    <tr>\n",
              "      <th>0</th>\n",
              "      <td>Allen, Miss Elisabeth Walton</td>\n",
              "      <td>1st</td>\n",
              "      <td>29.0</td>\n",
              "      <td>female</td>\n",
              "      <td>1</td>\n",
              "      <td>1</td>\n",
              "    </tr>\n",
              "    <tr>\n",
              "      <th>1</th>\n",
              "      <td>Allison, Miss Helen Loraine</td>\n",
              "      <td>1st</td>\n",
              "      <td>2.0</td>\n",
              "      <td>female</td>\n",
              "      <td>0</td>\n",
              "      <td>1</td>\n",
              "    </tr>\n",
              "  </tbody>\n",
              "</table>\n",
              "</div>"
            ],
            "text/plain": [
              "                           Name PClass   Age     Sex  Survived  SexCode\n",
              "0  Allen, Miss Elisabeth Walton    1st  29.0  female         1        1\n",
              "1   Allison, Miss Helen Loraine    1st   2.0  female         0        1"
            ]
          },
          "execution_count": 8,
          "metadata": {},
          "output_type": "execute_result"
        }
      ],
      "source": [
        "# 라이브러리를 임포트합니다.\n",
        "import pandas as pd\n",
        "\n",
        "# 데이터 URL\n",
        "url = 'https://bit.ly/3Tb15qr'\n",
        "\n",
        "# 데이터를 적재합니다.\n",
        "dataframe = pd.read_csv(url)\n",
        "\n",
        "# 두 개의 행을 확인합니다.\n",
        "dataframe.head(2)"
      ]
    },
    {
      "cell_type": "code",
      "execution_count": null,
      "metadata": {
        "id": "5xpTlDwy2aMc",
        "outputId": "b935ca3a-4499-4a86-9156-004a78f1a607"
      },
      "outputs": [
        {
          "data": {
            "text/plain": [
              "(1313, 6)"
            ]
          },
          "execution_count": 9,
          "metadata": {},
          "output_type": "execute_result"
        }
      ],
      "source": [
        "# 차원을 확인합니다.\n",
        "dataframe.shape"
      ]
    },
    {
      "cell_type": "code",
      "execution_count": null,
      "metadata": {
        "id": "jZaE6--T2aMd",
        "outputId": "8348e435-7c2c-4cf7-880b-6ad10cf0eafa"
      },
      "outputs": [
        {
          "data": {
            "text/html": [
              "<div>\n",
              "<style scoped>\n",
              "    .dataframe tbody tr th:only-of-type {\n",
              "        vertical-align: middle;\n",
              "    }\n",
              "\n",
              "    .dataframe tbody tr th {\n",
              "        vertical-align: top;\n",
              "    }\n",
              "\n",
              "    .dataframe thead th {\n",
              "        text-align: right;\n",
              "    }\n",
              "</style>\n",
              "<table border=\"1\" class=\"dataframe\">\n",
              "  <thead>\n",
              "    <tr style=\"text-align: right;\">\n",
              "      <th></th>\n",
              "      <th>Age</th>\n",
              "      <th>Survived</th>\n",
              "      <th>SexCode</th>\n",
              "    </tr>\n",
              "  </thead>\n",
              "  <tbody>\n",
              "    <tr>\n",
              "      <th>count</th>\n",
              "      <td>756.000000</td>\n",
              "      <td>1313.000000</td>\n",
              "      <td>1313.000000</td>\n",
              "    </tr>\n",
              "    <tr>\n",
              "      <th>mean</th>\n",
              "      <td>30.397989</td>\n",
              "      <td>0.342727</td>\n",
              "      <td>0.351866</td>\n",
              "    </tr>\n",
              "    <tr>\n",
              "      <th>std</th>\n",
              "      <td>14.259049</td>\n",
              "      <td>0.474802</td>\n",
              "      <td>0.477734</td>\n",
              "    </tr>\n",
              "    <tr>\n",
              "      <th>min</th>\n",
              "      <td>0.170000</td>\n",
              "      <td>0.000000</td>\n",
              "      <td>0.000000</td>\n",
              "    </tr>\n",
              "    <tr>\n",
              "      <th>25%</th>\n",
              "      <td>21.000000</td>\n",
              "      <td>0.000000</td>\n",
              "      <td>0.000000</td>\n",
              "    </tr>\n",
              "    <tr>\n",
              "      <th>50%</th>\n",
              "      <td>28.000000</td>\n",
              "      <td>0.000000</td>\n",
              "      <td>0.000000</td>\n",
              "    </tr>\n",
              "    <tr>\n",
              "      <th>75%</th>\n",
              "      <td>39.000000</td>\n",
              "      <td>1.000000</td>\n",
              "      <td>1.000000</td>\n",
              "    </tr>\n",
              "    <tr>\n",
              "      <th>max</th>\n",
              "      <td>71.000000</td>\n",
              "      <td>1.000000</td>\n",
              "      <td>1.000000</td>\n",
              "    </tr>\n",
              "  </tbody>\n",
              "</table>\n",
              "</div>"
            ],
            "text/plain": [
              "              Age     Survived      SexCode\n",
              "count  756.000000  1313.000000  1313.000000\n",
              "mean    30.397989     0.342727     0.351866\n",
              "std     14.259049     0.474802     0.477734\n",
              "min      0.170000     0.000000     0.000000\n",
              "25%     21.000000     0.000000     0.000000\n",
              "50%     28.000000     0.000000     0.000000\n",
              "75%     39.000000     1.000000     1.000000\n",
              "max     71.000000     1.000000     1.000000"
            ]
          },
          "execution_count": 10,
          "metadata": {},
          "output_type": "execute_result"
        }
      ],
      "source": [
        "# 통곗값을 확인합니다.\n",
        "dataframe.describe()"
      ]
    },
    {
      "cell_type": "markdown",
      "metadata": {
        "id": "FNzjlZnB2aMd"
      },
      "source": [
        "## 3.3 데이터프레임 탐색하기"
      ]
    },
    {
      "cell_type": "code",
      "execution_count": null,
      "metadata": {
        "id": "zih2u16Q2aMd",
        "outputId": "7151c672-1be4-4314-e7dc-06e61df0f491"
      },
      "outputs": [
        {
          "data": {
            "text/plain": [
              "Name        Allen, Miss Elisabeth Walton\n",
              "PClass                               1st\n",
              "Age                                 29.0\n",
              "Sex                               female\n",
              "Survived                               1\n",
              "SexCode                                1\n",
              "Name: 0, dtype: object"
            ]
          },
          "execution_count": 11,
          "metadata": {},
          "output_type": "execute_result"
        }
      ],
      "source": [
        "# 라이브러리를 임포트합니다.\n",
        "import pandas as pd\n",
        "\n",
        "# 데이터 URL\n",
        "url = 'https://bit.ly/3Tb15qr'\n",
        "\n",
        "# 데이터를 적재합니다.\n",
        "dataframe = pd.read_csv(url)\n",
        "\n",
        "# 첫 번째 행을 선택합니다.\n",
        "dataframe.iloc[0]"
      ]
    },
    {
      "cell_type": "code",
      "execution_count": null,
      "metadata": {
        "id": "KDOQB7kQ2aMd",
        "outputId": "dca7c428-403c-4510-cb18-96c31f1e7d92"
      },
      "outputs": [
        {
          "data": {
            "text/html": [
              "<div>\n",
              "<style scoped>\n",
              "    .dataframe tbody tr th:only-of-type {\n",
              "        vertical-align: middle;\n",
              "    }\n",
              "\n",
              "    .dataframe tbody tr th {\n",
              "        vertical-align: top;\n",
              "    }\n",
              "\n",
              "    .dataframe thead th {\n",
              "        text-align: right;\n",
              "    }\n",
              "</style>\n",
              "<table border=\"1\" class=\"dataframe\">\n",
              "  <thead>\n",
              "    <tr style=\"text-align: right;\">\n",
              "      <th></th>\n",
              "      <th>Name</th>\n",
              "      <th>PClass</th>\n",
              "      <th>Age</th>\n",
              "      <th>Sex</th>\n",
              "      <th>Survived</th>\n",
              "      <th>SexCode</th>\n",
              "    </tr>\n",
              "  </thead>\n",
              "  <tbody>\n",
              "    <tr>\n",
              "      <th>1</th>\n",
              "      <td>Allison, Miss Helen Loraine</td>\n",
              "      <td>1st</td>\n",
              "      <td>2.0</td>\n",
              "      <td>female</td>\n",
              "      <td>0</td>\n",
              "      <td>1</td>\n",
              "    </tr>\n",
              "    <tr>\n",
              "      <th>2</th>\n",
              "      <td>Allison, Mr Hudson Joshua Creighton</td>\n",
              "      <td>1st</td>\n",
              "      <td>30.0</td>\n",
              "      <td>male</td>\n",
              "      <td>0</td>\n",
              "      <td>0</td>\n",
              "    </tr>\n",
              "    <tr>\n",
              "      <th>3</th>\n",
              "      <td>Allison, Mrs Hudson JC (Bessie Waldo Daniels)</td>\n",
              "      <td>1st</td>\n",
              "      <td>25.0</td>\n",
              "      <td>female</td>\n",
              "      <td>0</td>\n",
              "      <td>1</td>\n",
              "    </tr>\n",
              "  </tbody>\n",
              "</table>\n",
              "</div>"
            ],
            "text/plain": [
              "                                            Name PClass   Age     Sex  \\\n",
              "1                    Allison, Miss Helen Loraine    1st   2.0  female   \n",
              "2            Allison, Mr Hudson Joshua Creighton    1st  30.0    male   \n",
              "3  Allison, Mrs Hudson JC (Bessie Waldo Daniels)    1st  25.0  female   \n",
              "\n",
              "   Survived  SexCode  \n",
              "1         0        1  \n",
              "2         0        0  \n",
              "3         0        1  "
            ]
          },
          "execution_count": 12,
          "metadata": {},
          "output_type": "execute_result"
        }
      ],
      "source": [
        "# 세 개의 행을 선택합니다.\n",
        "dataframe.iloc[1:4]"
      ]
    },
    {
      "cell_type": "code",
      "execution_count": null,
      "metadata": {
        "id": "0WF2_UUQ2aMg",
        "outputId": "ce053196-c967-4299-8e25-751d4fe01fa2"
      },
      "outputs": [
        {
          "data": {
            "text/html": [
              "<div>\n",
              "<style scoped>\n",
              "    .dataframe tbody tr th:only-of-type {\n",
              "        vertical-align: middle;\n",
              "    }\n",
              "\n",
              "    .dataframe tbody tr th {\n",
              "        vertical-align: top;\n",
              "    }\n",
              "\n",
              "    .dataframe thead th {\n",
              "        text-align: right;\n",
              "    }\n",
              "</style>\n",
              "<table border=\"1\" class=\"dataframe\">\n",
              "  <thead>\n",
              "    <tr style=\"text-align: right;\">\n",
              "      <th></th>\n",
              "      <th>Name</th>\n",
              "      <th>PClass</th>\n",
              "      <th>Age</th>\n",
              "      <th>Sex</th>\n",
              "      <th>Survived</th>\n",
              "      <th>SexCode</th>\n",
              "    </tr>\n",
              "  </thead>\n",
              "  <tbody>\n",
              "    <tr>\n",
              "      <th>0</th>\n",
              "      <td>Allen, Miss Elisabeth Walton</td>\n",
              "      <td>1st</td>\n",
              "      <td>29.0</td>\n",
              "      <td>female</td>\n",
              "      <td>1</td>\n",
              "      <td>1</td>\n",
              "    </tr>\n",
              "    <tr>\n",
              "      <th>1</th>\n",
              "      <td>Allison, Miss Helen Loraine</td>\n",
              "      <td>1st</td>\n",
              "      <td>2.0</td>\n",
              "      <td>female</td>\n",
              "      <td>0</td>\n",
              "      <td>1</td>\n",
              "    </tr>\n",
              "    <tr>\n",
              "      <th>2</th>\n",
              "      <td>Allison, Mr Hudson Joshua Creighton</td>\n",
              "      <td>1st</td>\n",
              "      <td>30.0</td>\n",
              "      <td>male</td>\n",
              "      <td>0</td>\n",
              "      <td>0</td>\n",
              "    </tr>\n",
              "    <tr>\n",
              "      <th>3</th>\n",
              "      <td>Allison, Mrs Hudson JC (Bessie Waldo Daniels)</td>\n",
              "      <td>1st</td>\n",
              "      <td>25.0</td>\n",
              "      <td>female</td>\n",
              "      <td>0</td>\n",
              "      <td>1</td>\n",
              "    </tr>\n",
              "  </tbody>\n",
              "</table>\n",
              "</div>"
            ],
            "text/plain": [
              "                                            Name PClass   Age     Sex  \\\n",
              "0                   Allen, Miss Elisabeth Walton    1st  29.0  female   \n",
              "1                    Allison, Miss Helen Loraine    1st   2.0  female   \n",
              "2            Allison, Mr Hudson Joshua Creighton    1st  30.0    male   \n",
              "3  Allison, Mrs Hudson JC (Bessie Waldo Daniels)    1st  25.0  female   \n",
              "\n",
              "   Survived  SexCode  \n",
              "0         1        1  \n",
              "1         0        1  \n",
              "2         0        0  \n",
              "3         0        1  "
            ]
          },
          "execution_count": 13,
          "metadata": {},
          "output_type": "execute_result"
        }
      ],
      "source": [
        "# 네 개의 행을 선택합니다.\n",
        "dataframe.iloc[:4]"
      ]
    },
    {
      "cell_type": "code",
      "execution_count": null,
      "metadata": {
        "id": "YTrsFuq72aMg",
        "outputId": "0613a6d0-3bec-47af-a9ec-9debf9139132"
      },
      "outputs": [
        {
          "data": {
            "text/plain": [
              "Name        Allen, Miss Elisabeth Walton\n",
              "PClass                               1st\n",
              "Age                                 29.0\n",
              "Sex                               female\n",
              "Survived                               1\n",
              "SexCode                                1\n",
              "Name: Allen, Miss Elisabeth Walton, dtype: object"
            ]
          },
          "execution_count": 14,
          "metadata": {},
          "output_type": "execute_result"
        }
      ],
      "source": [
        "# 인덱스를 설정합니다.\n",
        "dataframe = dataframe.set_index(dataframe['Name'])\n",
        "\n",
        "# 행을 확인합니다.\n",
        "dataframe.loc['Allen, Miss Elisabeth Walton']"
      ]
    },
    {
      "cell_type": "markdown",
      "metadata": {
        "id": "ASQlFm4Q2aMh"
      },
      "source": [
        "### 붙임"
      ]
    },
    {
      "cell_type": "code",
      "execution_count": null,
      "metadata": {
        "id": "kz_x9eLr2aMh",
        "outputId": "d5a452bb-8ed9-4c26-d11d-1260c7a8edaf"
      },
      "outputs": [
        {
          "data": {
            "text/html": [
              "<div>\n",
              "<style scoped>\n",
              "    .dataframe tbody tr th:only-of-type {\n",
              "        vertical-align: middle;\n",
              "    }\n",
              "\n",
              "    .dataframe tbody tr th {\n",
              "        vertical-align: top;\n",
              "    }\n",
              "\n",
              "    .dataframe thead th {\n",
              "        text-align: right;\n",
              "    }\n",
              "</style>\n",
              "<table border=\"1\" class=\"dataframe\">\n",
              "  <thead>\n",
              "    <tr style=\"text-align: right;\">\n",
              "      <th></th>\n",
              "      <th>Age</th>\n",
              "      <th>Sex</th>\n",
              "    </tr>\n",
              "    <tr>\n",
              "      <th>Name</th>\n",
              "      <th></th>\n",
              "      <th></th>\n",
              "    </tr>\n",
              "  </thead>\n",
              "  <tbody>\n",
              "    <tr>\n",
              "      <th>Allen, Miss Elisabeth Walton</th>\n",
              "      <td>29.0</td>\n",
              "      <td>female</td>\n",
              "    </tr>\n",
              "    <tr>\n",
              "      <th>Allison, Miss Helen Loraine</th>\n",
              "      <td>2.0</td>\n",
              "      <td>female</td>\n",
              "    </tr>\n",
              "  </tbody>\n",
              "</table>\n",
              "</div>"
            ],
            "text/plain": [
              "                               Age     Sex\n",
              "Name                                      \n",
              "Allen, Miss Elisabeth Walton  29.0  female\n",
              "Allison, Miss Helen Loraine    2.0  female"
            ]
          },
          "execution_count": 15,
          "metadata": {},
          "output_type": "execute_result"
        }
      ],
      "source": [
        "# 'Allison, Miss Helen Loraine' 이전까지 Age 열과 Sex 열만 선택합니다.\n",
        "dataframe.loc[:'Allison, Miss Helen Loraine', 'Age':'Sex']"
      ]
    },
    {
      "cell_type": "code",
      "execution_count": null,
      "metadata": {
        "id": "Hpe51NwA2aMh",
        "outputId": "703b272e-0cfa-4ea0-e339-6252c071ec13"
      },
      "outputs": [
        {
          "data": {
            "text/html": [
              "<div>\n",
              "<style scoped>\n",
              "    .dataframe tbody tr th:only-of-type {\n",
              "        vertical-align: middle;\n",
              "    }\n",
              "\n",
              "    .dataframe tbody tr th {\n",
              "        vertical-align: top;\n",
              "    }\n",
              "\n",
              "    .dataframe thead th {\n",
              "        text-align: right;\n",
              "    }\n",
              "</style>\n",
              "<table border=\"1\" class=\"dataframe\">\n",
              "  <thead>\n",
              "    <tr style=\"text-align: right;\">\n",
              "      <th></th>\n",
              "      <th>Name</th>\n",
              "      <th>PClass</th>\n",
              "      <th>Age</th>\n",
              "      <th>Sex</th>\n",
              "      <th>Survived</th>\n",
              "      <th>SexCode</th>\n",
              "    </tr>\n",
              "    <tr>\n",
              "      <th>Name</th>\n",
              "      <th></th>\n",
              "      <th></th>\n",
              "      <th></th>\n",
              "      <th></th>\n",
              "      <th></th>\n",
              "      <th></th>\n",
              "    </tr>\n",
              "  </thead>\n",
              "  <tbody>\n",
              "    <tr>\n",
              "      <th>Allen, Miss Elisabeth Walton</th>\n",
              "      <td>Allen, Miss Elisabeth Walton</td>\n",
              "      <td>1st</td>\n",
              "      <td>29.0</td>\n",
              "      <td>female</td>\n",
              "      <td>1</td>\n",
              "      <td>1</td>\n",
              "    </tr>\n",
              "    <tr>\n",
              "      <th>Allison, Miss Helen Loraine</th>\n",
              "      <td>Allison, Miss Helen Loraine</td>\n",
              "      <td>1st</td>\n",
              "      <td>2.0</td>\n",
              "      <td>female</td>\n",
              "      <td>0</td>\n",
              "      <td>1</td>\n",
              "    </tr>\n",
              "  </tbody>\n",
              "</table>\n",
              "</div>"
            ],
            "text/plain": [
              "                                                      Name PClass   Age  \\\n",
              "Name                                                                      \n",
              "Allen, Miss Elisabeth Walton  Allen, Miss Elisabeth Walton    1st  29.0   \n",
              "Allison, Miss Helen Loraine    Allison, Miss Helen Loraine    1st   2.0   \n",
              "\n",
              "                                 Sex  Survived  SexCode  \n",
              "Name                                                     \n",
              "Allen, Miss Elisabeth Walton  female         1        1  \n",
              "Allison, Miss Helen Loraine   female         0        1  "
            ]
          },
          "execution_count": 16,
          "metadata": {},
          "output_type": "execute_result"
        }
      ],
      "source": [
        "# dataframe[:2]와 동일합니다.\n",
        "dataframe[:'Allison, Miss Helen Loraine']"
      ]
    },
    {
      "cell_type": "code",
      "execution_count": null,
      "metadata": {
        "id": "XuHYmU7w2aMh",
        "outputId": "5952a211-0595-4895-fb35-c62d70d7a909"
      },
      "outputs": [
        {
          "data": {
            "text/html": [
              "<div>\n",
              "<style scoped>\n",
              "    .dataframe tbody tr th:only-of-type {\n",
              "        vertical-align: middle;\n",
              "    }\n",
              "\n",
              "    .dataframe tbody tr th {\n",
              "        vertical-align: top;\n",
              "    }\n",
              "\n",
              "    .dataframe thead th {\n",
              "        text-align: right;\n",
              "    }\n",
              "</style>\n",
              "<table border=\"1\" class=\"dataframe\">\n",
              "  <thead>\n",
              "    <tr style=\"text-align: right;\">\n",
              "      <th></th>\n",
              "      <th>Age</th>\n",
              "      <th>Sex</th>\n",
              "    </tr>\n",
              "    <tr>\n",
              "      <th>Name</th>\n",
              "      <th></th>\n",
              "      <th></th>\n",
              "    </tr>\n",
              "  </thead>\n",
              "  <tbody>\n",
              "    <tr>\n",
              "      <th>Allen, Miss Elisabeth Walton</th>\n",
              "      <td>29.0</td>\n",
              "      <td>female</td>\n",
              "    </tr>\n",
              "    <tr>\n",
              "      <th>Allison, Miss Helen Loraine</th>\n",
              "      <td>2.0</td>\n",
              "      <td>female</td>\n",
              "    </tr>\n",
              "  </tbody>\n",
              "</table>\n",
              "</div>"
            ],
            "text/plain": [
              "                               Age     Sex\n",
              "Name                                      \n",
              "Allen, Miss Elisabeth Walton  29.0  female\n",
              "Allison, Miss Helen Loraine    2.0  female"
            ]
          },
          "execution_count": 17,
          "metadata": {},
          "output_type": "execute_result"
        }
      ],
      "source": [
        "dataframe[['Age', 'Sex']].head(2)"
      ]
    },
    {
      "cell_type": "markdown",
      "metadata": {
        "id": "YI_kkUoj2aMi"
      },
      "source": [
        "## 3.4 조건에 따라 행을 선택하기"
      ]
    },
    {
      "cell_type": "code",
      "execution_count": null,
      "metadata": {
        "id": "PFm15cVT2aMi",
        "outputId": "b7f0fadc-521b-41ed-c59e-563f8c53d598"
      },
      "outputs": [
        {
          "data": {
            "text/html": [
              "<div>\n",
              "<style scoped>\n",
              "    .dataframe tbody tr th:only-of-type {\n",
              "        vertical-align: middle;\n",
              "    }\n",
              "\n",
              "    .dataframe tbody tr th {\n",
              "        vertical-align: top;\n",
              "    }\n",
              "\n",
              "    .dataframe thead th {\n",
              "        text-align: right;\n",
              "    }\n",
              "</style>\n",
              "<table border=\"1\" class=\"dataframe\">\n",
              "  <thead>\n",
              "    <tr style=\"text-align: right;\">\n",
              "      <th></th>\n",
              "      <th>Name</th>\n",
              "      <th>PClass</th>\n",
              "      <th>Age</th>\n",
              "      <th>Sex</th>\n",
              "      <th>Survived</th>\n",
              "      <th>SexCode</th>\n",
              "    </tr>\n",
              "  </thead>\n",
              "  <tbody>\n",
              "    <tr>\n",
              "      <th>0</th>\n",
              "      <td>Allen, Miss Elisabeth Walton</td>\n",
              "      <td>1st</td>\n",
              "      <td>29.0</td>\n",
              "      <td>female</td>\n",
              "      <td>1</td>\n",
              "      <td>1</td>\n",
              "    </tr>\n",
              "    <tr>\n",
              "      <th>1</th>\n",
              "      <td>Allison, Miss Helen Loraine</td>\n",
              "      <td>1st</td>\n",
              "      <td>2.0</td>\n",
              "      <td>female</td>\n",
              "      <td>0</td>\n",
              "      <td>1</td>\n",
              "    </tr>\n",
              "  </tbody>\n",
              "</table>\n",
              "</div>"
            ],
            "text/plain": [
              "                           Name PClass   Age     Sex  Survived  SexCode\n",
              "0  Allen, Miss Elisabeth Walton    1st  29.0  female         1        1\n",
              "1   Allison, Miss Helen Loraine    1st   2.0  female         0        1"
            ]
          },
          "execution_count": 18,
          "metadata": {},
          "output_type": "execute_result"
        }
      ],
      "source": [
        "# 라이브러리를 임포트합니다.\n",
        "import pandas as pd\n",
        "\n",
        "# 데이터 URL\n",
        "url = 'https://bit.ly/3Tb15qr'\n",
        "\n",
        "# 데이터를 적재합니다.\n",
        "dataframe = pd.read_csv(url)\n",
        "\n",
        "# ‘sex’ 열이 ‘female’인 행 중 처음 두 개를 출력합니다.\n",
        "dataframe[dataframe['Sex'] == 'female'].head(2)"
      ]
    },
    {
      "cell_type": "code",
      "execution_count": null,
      "metadata": {
        "id": "UkgIhgy82aMi",
        "outputId": "3a1670e6-74da-411a-e295-bd8e23cd26f4"
      },
      "outputs": [
        {
          "data": {
            "text/html": [
              "<div>\n",
              "<style scoped>\n",
              "    .dataframe tbody tr th:only-of-type {\n",
              "        vertical-align: middle;\n",
              "    }\n",
              "\n",
              "    .dataframe tbody tr th {\n",
              "        vertical-align: top;\n",
              "    }\n",
              "\n",
              "    .dataframe thead th {\n",
              "        text-align: right;\n",
              "    }\n",
              "</style>\n",
              "<table border=\"1\" class=\"dataframe\">\n",
              "  <thead>\n",
              "    <tr style=\"text-align: right;\">\n",
              "      <th></th>\n",
              "      <th>Name</th>\n",
              "      <th>PClass</th>\n",
              "      <th>Age</th>\n",
              "      <th>Sex</th>\n",
              "      <th>Survived</th>\n",
              "      <th>SexCode</th>\n",
              "    </tr>\n",
              "  </thead>\n",
              "  <tbody>\n",
              "    <tr>\n",
              "      <th>73</th>\n",
              "      <td>Crosby, Mrs Edward Gifford (Catherine Elizabet...</td>\n",
              "      <td>1st</td>\n",
              "      <td>69.0</td>\n",
              "      <td>female</td>\n",
              "      <td>1</td>\n",
              "      <td>1</td>\n",
              "    </tr>\n",
              "  </tbody>\n",
              "</table>\n",
              "</div>"
            ],
            "text/plain": [
              "                                                 Name PClass   Age     Sex  \\\n",
              "73  Crosby, Mrs Edward Gifford (Catherine Elizabet...    1st  69.0  female   \n",
              "\n",
              "    Survived  SexCode  \n",
              "73         1        1  "
            ]
          },
          "execution_count": 19,
          "metadata": {},
          "output_type": "execute_result"
        }
      ],
      "source": [
        "# 행을 필터링합니다.\n",
        "dataframe[(dataframe['Sex'] == 'female') & (dataframe['Age'] >= 65)]"
      ]
    },
    {
      "cell_type": "markdown",
      "metadata": {
        "id": "_U3rHBv22aMi"
      },
      "source": [
        "## 3.5 값 치환"
      ]
    },
    {
      "cell_type": "code",
      "execution_count": null,
      "metadata": {
        "id": "PnVTMTda2aMj",
        "outputId": "ff7e2ba2-04bc-4de8-e30f-cba0f5dfcfd4"
      },
      "outputs": [
        {
          "data": {
            "text/plain": [
              "0    Woman\n",
              "1    Woman\n",
              "Name: Sex, dtype: object"
            ]
          },
          "execution_count": 20,
          "metadata": {},
          "output_type": "execute_result"
        }
      ],
      "source": [
        "# 라이브러리를 임포트합니다.\n",
        "import pandas as pd\n",
        "\n",
        "# 데이터 URL\n",
        "url = 'https://bit.ly/3Tb15qr'\n",
        "\n",
        "# 데이터를 적재합니다.\n",
        "dataframe = pd.read_csv(url)\n",
        "\n",
        "# 값을 치환하고 두 개의 행을 출력합니다.\n",
        "dataframe['Sex'].replace(\"female\", \"Woman\").head(2)"
      ]
    },
    {
      "cell_type": "code",
      "execution_count": null,
      "metadata": {
        "id": "YzOnzGUq2aMj",
        "outputId": "4ae51166-5e7a-4a15-c3c2-92f1dc4dc11d"
      },
      "outputs": [
        {
          "data": {
            "text/plain": [
              "0    Woman\n",
              "1    Woman\n",
              "2      Man\n",
              "3    Woman\n",
              "4      Man\n",
              "Name: Sex, dtype: object"
            ]
          },
          "execution_count": 21,
          "metadata": {},
          "output_type": "execute_result"
        }
      ],
      "source": [
        "# \"female\"과 \"male을 \"Woman\"과 \"Man\"으로 치환합니다.\n",
        "dataframe['Sex'].replace([\"female\", \"male\"], [\"Woman\", \"Man\"]).head(5)"
      ]
    },
    {
      "cell_type": "code",
      "execution_count": null,
      "metadata": {
        "id": "fnzz9ofo2aMl",
        "outputId": "aabe7815-9634-49c6-aede-d132f8acd4c3"
      },
      "outputs": [
        {
          "data": {
            "text/html": [
              "<div>\n",
              "<style scoped>\n",
              "    .dataframe tbody tr th:only-of-type {\n",
              "        vertical-align: middle;\n",
              "    }\n",
              "\n",
              "    .dataframe tbody tr th {\n",
              "        vertical-align: top;\n",
              "    }\n",
              "\n",
              "    .dataframe thead th {\n",
              "        text-align: right;\n",
              "    }\n",
              "</style>\n",
              "<table border=\"1\" class=\"dataframe\">\n",
              "  <thead>\n",
              "    <tr style=\"text-align: right;\">\n",
              "      <th></th>\n",
              "      <th>Name</th>\n",
              "      <th>PClass</th>\n",
              "      <th>Age</th>\n",
              "      <th>Sex</th>\n",
              "      <th>Survived</th>\n",
              "      <th>SexCode</th>\n",
              "    </tr>\n",
              "  </thead>\n",
              "  <tbody>\n",
              "    <tr>\n",
              "      <th>0</th>\n",
              "      <td>Allen, Miss Elisabeth Walton</td>\n",
              "      <td>1st</td>\n",
              "      <td>29.0</td>\n",
              "      <td>female</td>\n",
              "      <td>One</td>\n",
              "      <td>One</td>\n",
              "    </tr>\n",
              "    <tr>\n",
              "      <th>1</th>\n",
              "      <td>Allison, Miss Helen Loraine</td>\n",
              "      <td>1st</td>\n",
              "      <td>2.0</td>\n",
              "      <td>female</td>\n",
              "      <td>0</td>\n",
              "      <td>One</td>\n",
              "    </tr>\n",
              "  </tbody>\n",
              "</table>\n",
              "</div>"
            ],
            "text/plain": [
              "                           Name PClass   Age     Sex Survived SexCode\n",
              "0  Allen, Miss Elisabeth Walton    1st  29.0  female      One     One\n",
              "1   Allison, Miss Helen Loraine    1st   2.0  female        0     One"
            ]
          },
          "execution_count": 22,
          "metadata": {},
          "output_type": "execute_result"
        }
      ],
      "source": [
        "# 값을 치환하고 두 개의 행을 출력합니다.\n",
        "dataframe.replace(1, \"One\").head(2)"
      ]
    },
    {
      "cell_type": "code",
      "execution_count": null,
      "metadata": {
        "id": "CnWVUtL12aMl",
        "outputId": "36a1e786-6663-40a5-946e-2e60a8a7c728"
      },
      "outputs": [
        {
          "data": {
            "text/html": [
              "<div>\n",
              "<style scoped>\n",
              "    .dataframe tbody tr th:only-of-type {\n",
              "        vertical-align: middle;\n",
              "    }\n",
              "\n",
              "    .dataframe tbody tr th {\n",
              "        vertical-align: top;\n",
              "    }\n",
              "\n",
              "    .dataframe thead th {\n",
              "        text-align: right;\n",
              "    }\n",
              "</style>\n",
              "<table border=\"1\" class=\"dataframe\">\n",
              "  <thead>\n",
              "    <tr style=\"text-align: right;\">\n",
              "      <th></th>\n",
              "      <th>Name</th>\n",
              "      <th>PClass</th>\n",
              "      <th>Age</th>\n",
              "      <th>Sex</th>\n",
              "      <th>Survived</th>\n",
              "      <th>SexCode</th>\n",
              "    </tr>\n",
              "  </thead>\n",
              "  <tbody>\n",
              "    <tr>\n",
              "      <th>0</th>\n",
              "      <td>Allen, Miss Elisabeth Walton</td>\n",
              "      <td>First</td>\n",
              "      <td>29.0</td>\n",
              "      <td>female</td>\n",
              "      <td>1</td>\n",
              "      <td>1</td>\n",
              "    </tr>\n",
              "    <tr>\n",
              "      <th>1</th>\n",
              "      <td>Allison, Miss Helen Loraine</td>\n",
              "      <td>First</td>\n",
              "      <td>2.0</td>\n",
              "      <td>female</td>\n",
              "      <td>0</td>\n",
              "      <td>1</td>\n",
              "    </tr>\n",
              "  </tbody>\n",
              "</table>\n",
              "</div>"
            ],
            "text/plain": [
              "                           Name PClass   Age     Sex  Survived  SexCode\n",
              "0  Allen, Miss Elisabeth Walton  First  29.0  female         1        1\n",
              "1   Allison, Miss Helen Loraine  First   2.0  female         0        1"
            ]
          },
          "execution_count": 23,
          "metadata": {},
          "output_type": "execute_result"
        }
      ],
      "source": [
        "# 값을 치환하고 두 개의 행을 출력합니다.\n",
        "dataframe.replace(r\"1st\", \"First\", regex=True).head(2)"
      ]
    },
    {
      "cell_type": "markdown",
      "metadata": {
        "id": "3eNF_XMy2aMl"
      },
      "source": [
        "### 붙임"
      ]
    },
    {
      "cell_type": "code",
      "execution_count": null,
      "metadata": {
        "id": "S3Mohue02aMn",
        "outputId": "781ba708-1705-48b9-969b-0bd4d029b6a1"
      },
      "outputs": [
        {
          "data": {
            "text/html": [
              "<div>\n",
              "<style scoped>\n",
              "    .dataframe tbody tr th:only-of-type {\n",
              "        vertical-align: middle;\n",
              "    }\n",
              "\n",
              "    .dataframe tbody tr th {\n",
              "        vertical-align: top;\n",
              "    }\n",
              "\n",
              "    .dataframe thead th {\n",
              "        text-align: right;\n",
              "    }\n",
              "</style>\n",
              "<table border=\"1\" class=\"dataframe\">\n",
              "  <thead>\n",
              "    <tr style=\"text-align: right;\">\n",
              "      <th></th>\n",
              "      <th>Name</th>\n",
              "      <th>PClass</th>\n",
              "      <th>Age</th>\n",
              "      <th>Sex</th>\n",
              "      <th>Survived</th>\n",
              "      <th>SexCode</th>\n",
              "    </tr>\n",
              "  </thead>\n",
              "  <tbody>\n",
              "    <tr>\n",
              "      <th>0</th>\n",
              "      <td>Allen, Miss Elisabeth Walton</td>\n",
              "      <td>1st</td>\n",
              "      <td>29.0</td>\n",
              "      <td>person</td>\n",
              "      <td>1</td>\n",
              "      <td>1</td>\n",
              "    </tr>\n",
              "    <tr>\n",
              "      <th>1</th>\n",
              "      <td>Allison, Miss Helen Loraine</td>\n",
              "      <td>1st</td>\n",
              "      <td>2.0</td>\n",
              "      <td>person</td>\n",
              "      <td>0</td>\n",
              "      <td>1</td>\n",
              "    </tr>\n",
              "    <tr>\n",
              "      <th>2</th>\n",
              "      <td>Allison, Mr Hudson Joshua Creighton</td>\n",
              "      <td>1st</td>\n",
              "      <td>30.0</td>\n",
              "      <td>person</td>\n",
              "      <td>0</td>\n",
              "      <td>0</td>\n",
              "    </tr>\n",
              "  </tbody>\n",
              "</table>\n",
              "</div>"
            ],
            "text/plain": [
              "                                  Name PClass   Age     Sex  Survived  SexCode\n",
              "0         Allen, Miss Elisabeth Walton    1st  29.0  person         1        1\n",
              "1          Allison, Miss Helen Loraine    1st   2.0  person         0        1\n",
              "2  Allison, Mr Hudson Joshua Creighton    1st  30.0  person         0        0"
            ]
          },
          "execution_count": 24,
          "metadata": {},
          "output_type": "execute_result"
        }
      ],
      "source": [
        "# female과 male을 person으로 바꿉니다.\n",
        "dataframe.replace([\"female\", \"male\"], \"person\").head(3)"
      ]
    },
    {
      "cell_type": "code",
      "execution_count": null,
      "metadata": {
        "id": "0bWKvw2Q2aMn",
        "outputId": "796eae96-0f78-4d1c-f90d-9ca5f68b714b"
      },
      "outputs": [
        {
          "data": {
            "text/html": [
              "<div>\n",
              "<style scoped>\n",
              "    .dataframe tbody tr th:only-of-type {\n",
              "        vertical-align: middle;\n",
              "    }\n",
              "\n",
              "    .dataframe tbody tr th {\n",
              "        vertical-align: top;\n",
              "    }\n",
              "\n",
              "    .dataframe thead th {\n",
              "        text-align: right;\n",
              "    }\n",
              "</style>\n",
              "<table border=\"1\" class=\"dataframe\">\n",
              "  <thead>\n",
              "    <tr style=\"text-align: right;\">\n",
              "      <th></th>\n",
              "      <th>Name</th>\n",
              "      <th>PClass</th>\n",
              "      <th>Age</th>\n",
              "      <th>Sex</th>\n",
              "      <th>Survived</th>\n",
              "      <th>SexCode</th>\n",
              "    </tr>\n",
              "  </thead>\n",
              "  <tbody>\n",
              "    <tr>\n",
              "      <th>0</th>\n",
              "      <td>Allen, Miss Elisabeth Walton</td>\n",
              "      <td>1st</td>\n",
              "      <td>29.0</td>\n",
              "      <td>1</td>\n",
              "      <td>1</td>\n",
              "      <td>1</td>\n",
              "    </tr>\n",
              "    <tr>\n",
              "      <th>1</th>\n",
              "      <td>Allison, Miss Helen Loraine</td>\n",
              "      <td>1st</td>\n",
              "      <td>2.0</td>\n",
              "      <td>1</td>\n",
              "      <td>0</td>\n",
              "      <td>1</td>\n",
              "    </tr>\n",
              "    <tr>\n",
              "      <th>2</th>\n",
              "      <td>Allison, Mr Hudson Joshua Creighton</td>\n",
              "      <td>1st</td>\n",
              "      <td>30.0</td>\n",
              "      <td>0</td>\n",
              "      <td>0</td>\n",
              "      <td>0</td>\n",
              "    </tr>\n",
              "  </tbody>\n",
              "</table>\n",
              "</div>"
            ],
            "text/plain": [
              "                                  Name PClass   Age  Sex  Survived  SexCode\n",
              "0         Allen, Miss Elisabeth Walton    1st  29.0    1         1        1\n",
              "1          Allison, Miss Helen Loraine    1st   2.0    1         0        1\n",
              "2  Allison, Mr Hudson Joshua Creighton    1st  30.0    0         0        0"
            ]
          },
          "execution_count": 25,
          "metadata": {},
          "output_type": "execute_result"
        }
      ],
      "source": [
        "# female을 1로 바꾸고 male을 0으로 바꿉니다.\n",
        "dataframe.replace({\"female\": 1, \"male\": 0}).head(3)"
      ]
    },
    {
      "cell_type": "markdown",
      "metadata": {
        "id": "CkUWFJd_2aMo"
      },
      "source": [
        "## 3.6 열 이름 바꾸기"
      ]
    },
    {
      "cell_type": "code",
      "execution_count": null,
      "metadata": {
        "id": "vOTDWxbH2aMo",
        "outputId": "ceff73f6-6e47-4a4e-e619-581917f6e9b6"
      },
      "outputs": [
        {
          "data": {
            "text/html": [
              "<div>\n",
              "<style scoped>\n",
              "    .dataframe tbody tr th:only-of-type {\n",
              "        vertical-align: middle;\n",
              "    }\n",
              "\n",
              "    .dataframe tbody tr th {\n",
              "        vertical-align: top;\n",
              "    }\n",
              "\n",
              "    .dataframe thead th {\n",
              "        text-align: right;\n",
              "    }\n",
              "</style>\n",
              "<table border=\"1\" class=\"dataframe\">\n",
              "  <thead>\n",
              "    <tr style=\"text-align: right;\">\n",
              "      <th></th>\n",
              "      <th>Name</th>\n",
              "      <th>Passenger Class</th>\n",
              "      <th>Age</th>\n",
              "      <th>Sex</th>\n",
              "      <th>Survived</th>\n",
              "      <th>SexCode</th>\n",
              "    </tr>\n",
              "  </thead>\n",
              "  <tbody>\n",
              "    <tr>\n",
              "      <th>0</th>\n",
              "      <td>Allen, Miss Elisabeth Walton</td>\n",
              "      <td>1st</td>\n",
              "      <td>29.0</td>\n",
              "      <td>female</td>\n",
              "      <td>1</td>\n",
              "      <td>1</td>\n",
              "    </tr>\n",
              "    <tr>\n",
              "      <th>1</th>\n",
              "      <td>Allison, Miss Helen Loraine</td>\n",
              "      <td>1st</td>\n",
              "      <td>2.0</td>\n",
              "      <td>female</td>\n",
              "      <td>0</td>\n",
              "      <td>1</td>\n",
              "    </tr>\n",
              "  </tbody>\n",
              "</table>\n",
              "</div>"
            ],
            "text/plain": [
              "                           Name Passenger Class   Age     Sex  Survived  \\\n",
              "0  Allen, Miss Elisabeth Walton             1st  29.0  female         1   \n",
              "1   Allison, Miss Helen Loraine             1st   2.0  female         0   \n",
              "\n",
              "   SexCode  \n",
              "0        1  \n",
              "1        1  "
            ]
          },
          "execution_count": 26,
          "metadata": {},
          "output_type": "execute_result"
        }
      ],
      "source": [
        "# 라이브러리를 임포트합니다.\n",
        "import pandas as pd\n",
        "\n",
        "# 데이터 URL\n",
        "url = 'https://bit.ly/3Tb15qr'\n",
        "\n",
        "# 데이터를 적재합니다.\n",
        "dataframe = pd.read_csv(url)\n",
        "\n",
        "# 열 이름을 바꾸고 두 개의 행을 출력합니다.\n",
        "dataframe.rename(columns={'PClass': 'Passenger Class'}).head(2)"
      ]
    },
    {
      "cell_type": "code",
      "execution_count": null,
      "metadata": {
        "id": "ybYfidXw2aMq",
        "outputId": "5536dfad-9ef1-496b-c57b-bb8325b7e872"
      },
      "outputs": [
        {
          "data": {
            "text/html": [
              "<div>\n",
              "<style scoped>\n",
              "    .dataframe tbody tr th:only-of-type {\n",
              "        vertical-align: middle;\n",
              "    }\n",
              "\n",
              "    .dataframe tbody tr th {\n",
              "        vertical-align: top;\n",
              "    }\n",
              "\n",
              "    .dataframe thead th {\n",
              "        text-align: right;\n",
              "    }\n",
              "</style>\n",
              "<table border=\"1\" class=\"dataframe\">\n",
              "  <thead>\n",
              "    <tr style=\"text-align: right;\">\n",
              "      <th></th>\n",
              "      <th>Name</th>\n",
              "      <th>Passenger Class</th>\n",
              "      <th>Age</th>\n",
              "      <th>Gender</th>\n",
              "      <th>Survived</th>\n",
              "      <th>SexCode</th>\n",
              "    </tr>\n",
              "  </thead>\n",
              "  <tbody>\n",
              "    <tr>\n",
              "      <th>0</th>\n",
              "      <td>Allen, Miss Elisabeth Walton</td>\n",
              "      <td>1st</td>\n",
              "      <td>29.0</td>\n",
              "      <td>female</td>\n",
              "      <td>1</td>\n",
              "      <td>1</td>\n",
              "    </tr>\n",
              "    <tr>\n",
              "      <th>1</th>\n",
              "      <td>Allison, Miss Helen Loraine</td>\n",
              "      <td>1st</td>\n",
              "      <td>2.0</td>\n",
              "      <td>female</td>\n",
              "      <td>0</td>\n",
              "      <td>1</td>\n",
              "    </tr>\n",
              "  </tbody>\n",
              "</table>\n",
              "</div>"
            ],
            "text/plain": [
              "                           Name Passenger Class   Age  Gender  Survived  \\\n",
              "0  Allen, Miss Elisabeth Walton             1st  29.0  female         1   \n",
              "1   Allison, Miss Helen Loraine             1st   2.0  female         0   \n",
              "\n",
              "   SexCode  \n",
              "0        1  \n",
              "1        1  "
            ]
          },
          "execution_count": 27,
          "metadata": {},
          "output_type": "execute_result"
        }
      ],
      "source": [
        "# 열 이름을 바꾸고 두 개의 행을 출력합니다.\n",
        "dataframe.rename(columns={'PClass': 'Passenger Class', 'Sex': 'Gender'}).head(2)"
      ]
    },
    {
      "cell_type": "code",
      "execution_count": null,
      "metadata": {
        "id": "9O6Hi3in2aMr",
        "outputId": "0558f485-a088-40f4-af81-f805560e6980"
      },
      "outputs": [
        {
          "data": {
            "text/plain": [
              "defaultdict(str,\n",
              "            {'Name': '',\n",
              "             'PClass': '',\n",
              "             'Age': '',\n",
              "             'Sex': '',\n",
              "             'Survived': '',\n",
              "             'SexCode': ''})"
            ]
          },
          "execution_count": 28,
          "metadata": {},
          "output_type": "execute_result"
        }
      ],
      "source": [
        "# 라이브러리를 임포트합니다.\n",
        "import collections\n",
        "\n",
        "# 딕셔너리를 만듭니다.\n",
        "column_names = collections.defaultdict(str)\n",
        "\n",
        "# 키를 만듭니다.\n",
        "for name in dataframe.columns:\n",
        "    column_names[name]\n",
        "\n",
        "# 딕셔너리를 출력합니다.\n",
        "column_names"
      ]
    },
    {
      "cell_type": "markdown",
      "metadata": {
        "id": "vIwISuph2aMr"
      },
      "source": [
        "### 붙임"
      ]
    },
    {
      "cell_type": "code",
      "execution_count": null,
      "metadata": {
        "id": "y7FAgRgL2aMs",
        "outputId": "9bf1d505-bdad-4c13-8d91-62dd2a4f632a"
      },
      "outputs": [
        {
          "data": {
            "text/html": [
              "<div>\n",
              "<style scoped>\n",
              "    .dataframe tbody tr th:only-of-type {\n",
              "        vertical-align: middle;\n",
              "    }\n",
              "\n",
              "    .dataframe tbody tr th {\n",
              "        vertical-align: top;\n",
              "    }\n",
              "\n",
              "    .dataframe thead th {\n",
              "        text-align: right;\n",
              "    }\n",
              "</style>\n",
              "<table border=\"1\" class=\"dataframe\">\n",
              "  <thead>\n",
              "    <tr style=\"text-align: right;\">\n",
              "      <th></th>\n",
              "      <th>Name</th>\n",
              "      <th>PClass</th>\n",
              "      <th>Age</th>\n",
              "      <th>Sex</th>\n",
              "      <th>Survived</th>\n",
              "      <th>SexCode</th>\n",
              "    </tr>\n",
              "  </thead>\n",
              "  <tbody>\n",
              "    <tr>\n",
              "      <th>-1</th>\n",
              "      <td>Allen, Miss Elisabeth Walton</td>\n",
              "      <td>1st</td>\n",
              "      <td>29.0</td>\n",
              "      <td>female</td>\n",
              "      <td>1</td>\n",
              "      <td>1</td>\n",
              "    </tr>\n",
              "    <tr>\n",
              "      <th>1</th>\n",
              "      <td>Allison, Miss Helen Loraine</td>\n",
              "      <td>1st</td>\n",
              "      <td>2.0</td>\n",
              "      <td>female</td>\n",
              "      <td>0</td>\n",
              "      <td>1</td>\n",
              "    </tr>\n",
              "  </tbody>\n",
              "</table>\n",
              "</div>"
            ],
            "text/plain": [
              "                            Name PClass   Age     Sex  Survived  SexCode\n",
              "-1  Allen, Miss Elisabeth Walton    1st  29.0  female         1        1\n",
              " 1   Allison, Miss Helen Loraine    1st   2.0  female         0        1"
            ]
          },
          "execution_count": 29,
          "metadata": {},
          "output_type": "execute_result"
        }
      ],
      "source": [
        "# 인덱스 0을 -1로 바꿉니다.\n",
        "dataframe.rename(index={0:-1}).head(2)"
      ]
    },
    {
      "cell_type": "code",
      "execution_count": null,
      "metadata": {
        "id": "OFZJMcs62aMs",
        "outputId": "7dcb3e92-0292-4edc-bddc-c4312c84ef3a"
      },
      "outputs": [
        {
          "data": {
            "text/html": [
              "<div>\n",
              "<style scoped>\n",
              "    .dataframe tbody tr th:only-of-type {\n",
              "        vertical-align: middle;\n",
              "    }\n",
              "\n",
              "    .dataframe tbody tr th {\n",
              "        vertical-align: top;\n",
              "    }\n",
              "\n",
              "    .dataframe thead th {\n",
              "        text-align: right;\n",
              "    }\n",
              "</style>\n",
              "<table border=\"1\" class=\"dataframe\">\n",
              "  <thead>\n",
              "    <tr style=\"text-align: right;\">\n",
              "      <th></th>\n",
              "      <th>name</th>\n",
              "      <th>pclass</th>\n",
              "      <th>age</th>\n",
              "      <th>sex</th>\n",
              "      <th>survived</th>\n",
              "      <th>sexcode</th>\n",
              "    </tr>\n",
              "  </thead>\n",
              "  <tbody>\n",
              "    <tr>\n",
              "      <th>0</th>\n",
              "      <td>Allen, Miss Elisabeth Walton</td>\n",
              "      <td>1st</td>\n",
              "      <td>29.0</td>\n",
              "      <td>female</td>\n",
              "      <td>1</td>\n",
              "      <td>1</td>\n",
              "    </tr>\n",
              "    <tr>\n",
              "      <th>1</th>\n",
              "      <td>Allison, Miss Helen Loraine</td>\n",
              "      <td>1st</td>\n",
              "      <td>2.0</td>\n",
              "      <td>female</td>\n",
              "      <td>0</td>\n",
              "      <td>1</td>\n",
              "    </tr>\n",
              "  </tbody>\n",
              "</table>\n",
              "</div>"
            ],
            "text/plain": [
              "                           name pclass   age     sex  survived  sexcode\n",
              "0  Allen, Miss Elisabeth Walton    1st  29.0  female         1        1\n",
              "1   Allison, Miss Helen Loraine    1st   2.0  female         0        1"
            ]
          },
          "execution_count": 30,
          "metadata": {},
          "output_type": "execute_result"
        }
      ],
      "source": [
        "# 열 이름을 소문자로 바꿉니다.\n",
        "dataframe.rename(str.lower, axis='columns').head(2)"
      ]
    },
    {
      "cell_type": "markdown",
      "metadata": {
        "id": "5hfNF_VW2aMu"
      },
      "source": [
        "## 3.7 최솟값, 최댓값, 합, 평균 계산 및 개수 세기"
      ]
    },
    {
      "cell_type": "code",
      "execution_count": null,
      "metadata": {
        "id": "PrQYqUVO2aMv",
        "outputId": "5c577e44-4ebb-448c-a768-ee742254fb34"
      },
      "outputs": [
        {
          "name": "stdout",
          "output_type": "stream",
          "text": [
            "최댓값: 71.0\n",
            "최솟값: 0.17\n",
            "평균: 30.397989417989418\n",
            "합: 22980.88\n",
            "카운트: 756\n"
          ]
        }
      ],
      "source": [
        "# 라이브러리를 임포트합니다.\n",
        "import pandas as pd\n",
        "\n",
        "# 데이터 URL\n",
        "url = 'https://bit.ly/3Tb15qr'\n",
        "\n",
        "# 데이터를 적재합니다.\n",
        "dataframe = pd.read_csv(url)\n",
        "\n",
        "# 통곗값을 계산합니다.\n",
        "print('최댓값:', dataframe['Age'].max())\n",
        "print('최솟값:', dataframe['Age'].min())\n",
        "print('평균:', dataframe['Age'].mean())\n",
        "print('합:', dataframe['Age'].sum())\n",
        "print('카운트:', dataframe['Age'].count())"
      ]
    },
    {
      "cell_type": "code",
      "execution_count": null,
      "metadata": {
        "id": "eUtOX3j42aMv",
        "outputId": "bef9eee4-90a5-455f-8c29-e9c7f5b262ce"
      },
      "outputs": [
        {
          "data": {
            "text/plain": [
              "Name        1313\n",
              "PClass      1313\n",
              "Age          756\n",
              "Sex         1313\n",
              "Survived    1313\n",
              "SexCode     1313\n",
              "dtype: int64"
            ]
          },
          "execution_count": 32,
          "metadata": {},
          "output_type": "execute_result"
        }
      ],
      "source": [
        "# 카운트를 출력합니다.\n",
        "dataframe.count()"
      ]
    },
    {
      "cell_type": "markdown",
      "metadata": {
        "id": "AlI0rZVu2aMv"
      },
      "source": [
        "### 붙임"
      ]
    },
    {
      "cell_type": "code",
      "execution_count": null,
      "metadata": {
        "id": "ZEALgl7n2aMw",
        "outputId": "9f2b8f73-76aa-4b5e-e55c-773ef82cd81c"
      },
      "outputs": [
        {
          "data": {
            "text/html": [
              "<div>\n",
              "<style scoped>\n",
              "    .dataframe tbody tr th:only-of-type {\n",
              "        vertical-align: middle;\n",
              "    }\n",
              "\n",
              "    .dataframe tbody tr th {\n",
              "        vertical-align: top;\n",
              "    }\n",
              "\n",
              "    .dataframe thead th {\n",
              "        text-align: right;\n",
              "    }\n",
              "</style>\n",
              "<table border=\"1\" class=\"dataframe\">\n",
              "  <thead>\n",
              "    <tr style=\"text-align: right;\">\n",
              "      <th></th>\n",
              "      <th>Age</th>\n",
              "      <th>Survived</th>\n",
              "      <th>SexCode</th>\n",
              "    </tr>\n",
              "  </thead>\n",
              "  <tbody>\n",
              "    <tr>\n",
              "      <th>Age</th>\n",
              "      <td>203.320470</td>\n",
              "      <td>-0.430491</td>\n",
              "      <td>-0.382054</td>\n",
              "    </tr>\n",
              "    <tr>\n",
              "      <th>Survived</th>\n",
              "      <td>-0.430491</td>\n",
              "      <td>0.225437</td>\n",
              "      <td>0.114070</td>\n",
              "    </tr>\n",
              "    <tr>\n",
              "      <th>SexCode</th>\n",
              "      <td>-0.382054</td>\n",
              "      <td>0.114070</td>\n",
              "      <td>0.228230</td>\n",
              "    </tr>\n",
              "  </tbody>\n",
              "</table>\n",
              "</div>"
            ],
            "text/plain": [
              "                 Age  Survived   SexCode\n",
              "Age       203.320470 -0.430491 -0.382054\n",
              "Survived   -0.430491  0.225437  0.114070\n",
              "SexCode    -0.382054  0.114070  0.228230"
            ]
          },
          "execution_count": 33,
          "metadata": {},
          "output_type": "execute_result"
        }
      ],
      "source": [
        "# 수치형 열의 공분산을 계산합니다.\n",
        "dataframe.cov()"
      ]
    },
    {
      "cell_type": "code",
      "execution_count": null,
      "metadata": {
        "id": "L-wDr-7s2aMw",
        "outputId": "122538cb-7881-40f8-ab38-6118349807f3"
      },
      "outputs": [
        {
          "data": {
            "text/html": [
              "<div>\n",
              "<style scoped>\n",
              "    .dataframe tbody tr th:only-of-type {\n",
              "        vertical-align: middle;\n",
              "    }\n",
              "\n",
              "    .dataframe tbody tr th {\n",
              "        vertical-align: top;\n",
              "    }\n",
              "\n",
              "    .dataframe thead th {\n",
              "        text-align: right;\n",
              "    }\n",
              "</style>\n",
              "<table border=\"1\" class=\"dataframe\">\n",
              "  <thead>\n",
              "    <tr style=\"text-align: right;\">\n",
              "      <th></th>\n",
              "      <th>Age</th>\n",
              "      <th>Survived</th>\n",
              "      <th>SexCode</th>\n",
              "    </tr>\n",
              "  </thead>\n",
              "  <tbody>\n",
              "    <tr>\n",
              "      <th>Age</th>\n",
              "      <td>1.000000</td>\n",
              "      <td>-0.061254</td>\n",
              "      <td>-0.055138</td>\n",
              "    </tr>\n",
              "    <tr>\n",
              "      <th>Survived</th>\n",
              "      <td>-0.061254</td>\n",
              "      <td>1.000000</td>\n",
              "      <td>0.502891</td>\n",
              "    </tr>\n",
              "    <tr>\n",
              "      <th>SexCode</th>\n",
              "      <td>-0.055138</td>\n",
              "      <td>0.502891</td>\n",
              "      <td>1.000000</td>\n",
              "    </tr>\n",
              "  </tbody>\n",
              "</table>\n",
              "</div>"
            ],
            "text/plain": [
              "               Age  Survived   SexCode\n",
              "Age       1.000000 -0.061254 -0.055138\n",
              "Survived -0.061254  1.000000  0.502891\n",
              "SexCode  -0.055138  0.502891  1.000000"
            ]
          },
          "execution_count": 34,
          "metadata": {},
          "output_type": "execute_result"
        }
      ],
      "source": [
        "# 수치형 열의 상관계수를 계산합니다.\n",
        "dataframe.corr()"
      ]
    },
    {
      "cell_type": "markdown",
      "metadata": {
        "id": "eTGHMyXk2aMw"
      },
      "source": [
        "## 3.8 고유한 값 찾기"
      ]
    },
    {
      "cell_type": "code",
      "execution_count": null,
      "metadata": {
        "id": "rSdLRsnI2aMx",
        "outputId": "8536ff86-c086-4ae6-cb97-fb8625c17db3"
      },
      "outputs": [
        {
          "data": {
            "text/plain": [
              "array(['female', 'male'], dtype=object)"
            ]
          },
          "execution_count": 35,
          "metadata": {},
          "output_type": "execute_result"
        }
      ],
      "source": [
        "# 라이브러리를 임포트합니다.\n",
        "import pandas as pd\n",
        "\n",
        "# 데이터 URL\n",
        "url = 'https://bit.ly/3Tb15qr'\n",
        "\n",
        "# 데이터를 적재합니다.\n",
        "dataframe = pd.read_csv(url)\n",
        "\n",
        "# 고유한 값을 찾습니다.\n",
        "dataframe['Sex'].unique()"
      ]
    },
    {
      "cell_type": "code",
      "execution_count": null,
      "metadata": {
        "id": "5t2lqTse2aMx",
        "outputId": "62015e3d-dd26-476d-be7d-409ba3a1ea30"
      },
      "outputs": [
        {
          "data": {
            "text/plain": [
              "male      851\n",
              "female    462\n",
              "Name: Sex, dtype: int64"
            ]
          },
          "execution_count": 36,
          "metadata": {},
          "output_type": "execute_result"
        }
      ],
      "source": [
        "# 카운트를 출력합니다.\n",
        "dataframe['Sex'].value_counts()"
      ]
    },
    {
      "cell_type": "code",
      "execution_count": null,
      "metadata": {
        "id": "JJ9WGx0S2aM0",
        "outputId": "4dfd5c32-5a3d-4bab-eb85-bc0dd4889474"
      },
      "outputs": [
        {
          "data": {
            "text/plain": [
              "3rd    711\n",
              "1st    322\n",
              "2nd    279\n",
              "*        1\n",
              "Name: PClass, dtype: int64"
            ]
          },
          "execution_count": 37,
          "metadata": {},
          "output_type": "execute_result"
        }
      ],
      "source": [
        "# 카운트를 출력합니다.\n",
        "dataframe['PClass'].value_counts()"
      ]
    },
    {
      "cell_type": "code",
      "execution_count": null,
      "metadata": {
        "id": "4mcWGWcV2aM0",
        "outputId": "895d0db3-7113-4f01-d476-3fca71ae9481"
      },
      "outputs": [
        {
          "data": {
            "text/plain": [
              "4"
            ]
          },
          "execution_count": 38,
          "metadata": {},
          "output_type": "execute_result"
        }
      ],
      "source": [
        "# 고유한 값의 개수를 출력합니다.\n",
        "dataframe['PClass'].nunique()"
      ]
    },
    {
      "cell_type": "markdown",
      "metadata": {
        "id": "mi-klubu2aM0"
      },
      "source": [
        "### 붙임"
      ]
    },
    {
      "cell_type": "code",
      "execution_count": null,
      "metadata": {
        "id": "y7KsHHVj2aM1",
        "outputId": "a7523fe3-db7f-40a7-c2fd-d7473ca2d545"
      },
      "outputs": [
        {
          "data": {
            "text/plain": [
              "Name        1310\n",
              "PClass         4\n",
              "Age           75\n",
              "Sex            2\n",
              "Survived       2\n",
              "SexCode        2\n",
              "dtype: int64"
            ]
          },
          "execution_count": 39,
          "metadata": {},
          "output_type": "execute_result"
        }
      ],
      "source": [
        "dataframe.nunique()"
      ]
    },
    {
      "cell_type": "markdown",
      "metadata": {
        "id": "XiAhKnKh2aM1"
      },
      "source": [
        "## 3.9 누락된 값 다루기"
      ]
    },
    {
      "cell_type": "code",
      "execution_count": null,
      "metadata": {
        "id": "65AZ0Bir2aM2",
        "outputId": "f10776a4-b4a0-420f-a206-98812af097ba"
      },
      "outputs": [
        {
          "data": {
            "text/html": [
              "<div>\n",
              "<style scoped>\n",
              "    .dataframe tbody tr th:only-of-type {\n",
              "        vertical-align: middle;\n",
              "    }\n",
              "\n",
              "    .dataframe tbody tr th {\n",
              "        vertical-align: top;\n",
              "    }\n",
              "\n",
              "    .dataframe thead th {\n",
              "        text-align: right;\n",
              "    }\n",
              "</style>\n",
              "<table border=\"1\" class=\"dataframe\">\n",
              "  <thead>\n",
              "    <tr style=\"text-align: right;\">\n",
              "      <th></th>\n",
              "      <th>Name</th>\n",
              "      <th>PClass</th>\n",
              "      <th>Age</th>\n",
              "      <th>Sex</th>\n",
              "      <th>Survived</th>\n",
              "      <th>SexCode</th>\n",
              "    </tr>\n",
              "  </thead>\n",
              "  <tbody>\n",
              "    <tr>\n",
              "      <th>12</th>\n",
              "      <td>Aubert, Mrs Leontine Pauline</td>\n",
              "      <td>1st</td>\n",
              "      <td>NaN</td>\n",
              "      <td>female</td>\n",
              "      <td>1</td>\n",
              "      <td>1</td>\n",
              "    </tr>\n",
              "    <tr>\n",
              "      <th>13</th>\n",
              "      <td>Barkworth, Mr Algernon H</td>\n",
              "      <td>1st</td>\n",
              "      <td>NaN</td>\n",
              "      <td>male</td>\n",
              "      <td>1</td>\n",
              "      <td>0</td>\n",
              "    </tr>\n",
              "  </tbody>\n",
              "</table>\n",
              "</div>"
            ],
            "text/plain": [
              "                            Name PClass  Age     Sex  Survived  SexCode\n",
              "12  Aubert, Mrs Leontine Pauline    1st  NaN  female         1        1\n",
              "13      Barkworth, Mr Algernon H    1st  NaN    male         1        0"
            ]
          },
          "execution_count": 40,
          "metadata": {},
          "output_type": "execute_result"
        }
      ],
      "source": [
        "# 라이브러리를 임포트합니다.\n",
        "import pandas as pd\n",
        "\n",
        "# 데이터 URL\n",
        "url = 'https://bit.ly/3Tb15qr'\n",
        "\n",
        "# 데이터를 적재합니다.\n",
        "dataframe = pd.read_csv(url)\n",
        "\n",
        "## 누락된 값을 선택하고 두 개의 행을 출력합니다.\n",
        "dataframe[dataframe['Age'].isnull()].head(2)"
      ]
    },
    {
      "cell_type": "code",
      "execution_count": null,
      "metadata": {
        "scrolled": false,
        "id": "3Y6Bl2w72aND",
        "outputId": "37732955-86fa-4541-a03d-ea11834cda5b"
      },
      "outputs": [
        {
          "ename": "NameError",
          "evalue": "name 'NaN' is not defined",
          "output_type": "error",
          "traceback": [
            "\u001b[0;31m---------------------------------------------------------------------------\u001b[0m",
            "\u001b[0;31mNameError\u001b[0m                                 Traceback (most recent call last)",
            "\u001b[0;32m/tmp/ipykernel_3011/1642636547.py\u001b[0m in \u001b[0;36m<module>\u001b[0;34m\u001b[0m\n\u001b[1;32m      1\u001b[0m \u001b[0;31m# NaN으로 값을 바꾸려고 합니다.\u001b[0m\u001b[0;34m\u001b[0m\u001b[0;34m\u001b[0m\u001b[0;34m\u001b[0m\u001b[0m\n\u001b[0;32m----> 2\u001b[0;31m \u001b[0mdataframe\u001b[0m\u001b[0;34m[\u001b[0m\u001b[0;34m'Sex'\u001b[0m\u001b[0;34m]\u001b[0m \u001b[0;34m=\u001b[0m \u001b[0mdataframe\u001b[0m\u001b[0;34m[\u001b[0m\u001b[0;34m'Sex'\u001b[0m\u001b[0;34m]\u001b[0m\u001b[0;34m.\u001b[0m\u001b[0mreplace\u001b[0m\u001b[0;34m(\u001b[0m\u001b[0;34m'male'\u001b[0m\u001b[0;34m,\u001b[0m \u001b[0mNaN\u001b[0m\u001b[0;34m)\u001b[0m\u001b[0;34m\u001b[0m\u001b[0;34m\u001b[0m\u001b[0m\n\u001b[0m",
            "\u001b[0;31mNameError\u001b[0m: name 'NaN' is not defined"
          ]
        }
      ],
      "source": [
        "# NaN으로 값을 바꾸려고 합니다.\n",
        "dataframe['Sex'] = dataframe['Sex'].replace('male', NaN)"
      ]
    },
    {
      "cell_type": "code",
      "execution_count": null,
      "metadata": {
        "id": "KAY6xwZn2aNE"
      },
      "outputs": [],
      "source": [
        "# 라이브러리를 임포트합니다.\n",
        "import numpy as np\n",
        "\n",
        "# NaN으로 값을 바꿉니다.\n",
        "dataframe['Sex'] = dataframe['Sex'].replace('male', np.nan)"
      ]
    },
    {
      "cell_type": "code",
      "execution_count": null,
      "metadata": {
        "id": "23ZjtWkF2aNE"
      },
      "outputs": [],
      "source": [
        "# 데이터를 적재하고 누란된 값을 설정합니다.\n",
        "dataframe = pd.read_csv(url, na_values=[np.nan, 'NONE', -999])"
      ]
    },
    {
      "cell_type": "markdown",
      "metadata": {
        "id": "AoJQp1os2aNG"
      },
      "source": [
        "### 붙임"
      ]
    },
    {
      "cell_type": "code",
      "execution_count": null,
      "metadata": {
        "id": "cH9FGYsX2aNG",
        "outputId": "2e310e42-1ac2-44c3-9d73-4a10923d37f9"
      },
      "outputs": [
        {
          "data": {
            "text/html": [
              "<div>\n",
              "<style scoped>\n",
              "    .dataframe tbody tr th:only-of-type {\n",
              "        vertical-align: middle;\n",
              "    }\n",
              "\n",
              "    .dataframe tbody tr th {\n",
              "        vertical-align: top;\n",
              "    }\n",
              "\n",
              "    .dataframe thead th {\n",
              "        text-align: right;\n",
              "    }\n",
              "</style>\n",
              "<table border=\"1\" class=\"dataframe\">\n",
              "  <thead>\n",
              "    <tr style=\"text-align: right;\">\n",
              "      <th></th>\n",
              "      <th>Name</th>\n",
              "      <th>PClass</th>\n",
              "      <th>Age</th>\n",
              "      <th>Sex</th>\n",
              "      <th>Survived</th>\n",
              "      <th>SexCode</th>\n",
              "    </tr>\n",
              "  </thead>\n",
              "  <tbody>\n",
              "    <tr>\n",
              "      <th>12</th>\n",
              "      <td>Aubert, Mrs Leontine Pauline</td>\n",
              "      <td>1st</td>\n",
              "      <td></td>\n",
              "      <td>NaN</td>\n",
              "      <td>1</td>\n",
              "      <td>1</td>\n",
              "    </tr>\n",
              "    <tr>\n",
              "      <th>13</th>\n",
              "      <td>Barkworth, Mr Algernon H</td>\n",
              "      <td>1st</td>\n",
              "      <td></td>\n",
              "      <td>male</td>\n",
              "      <td>1</td>\n",
              "      <td>0</td>\n",
              "    </tr>\n",
              "  </tbody>\n",
              "</table>\n",
              "</div>"
            ],
            "text/plain": [
              "                            Name PClass Age   Sex  Survived  SexCode\n",
              "12  Aubert, Mrs Leontine Pauline    1st       NaN         1        1\n",
              "13      Barkworth, Mr Algernon H    1st      male         1        0"
            ]
          },
          "execution_count": 44,
          "metadata": {},
          "output_type": "execute_result"
        }
      ],
      "source": [
        "dataframe = pd.read_csv(url, na_values=['female'],\n",
        "                        keep_default_na=False)\n",
        "dataframe[12:14]"
      ]
    },
    {
      "cell_type": "code",
      "execution_count": null,
      "metadata": {
        "id": "hdgMZydg2aNG",
        "outputId": "40cbc107-1b1c-46d7-93f4-03ea63472602"
      },
      "outputs": [
        {
          "data": {
            "text/html": [
              "<div>\n",
              "<style scoped>\n",
              "    .dataframe tbody tr th:only-of-type {\n",
              "        vertical-align: middle;\n",
              "    }\n",
              "\n",
              "    .dataframe tbody tr th {\n",
              "        vertical-align: top;\n",
              "    }\n",
              "\n",
              "    .dataframe thead th {\n",
              "        text-align: right;\n",
              "    }\n",
              "</style>\n",
              "<table border=\"1\" class=\"dataframe\">\n",
              "  <thead>\n",
              "    <tr style=\"text-align: right;\">\n",
              "      <th></th>\n",
              "      <th>Name</th>\n",
              "      <th>PClass</th>\n",
              "      <th>Age</th>\n",
              "      <th>Sex</th>\n",
              "      <th>Survived</th>\n",
              "      <th>SexCode</th>\n",
              "    </tr>\n",
              "  </thead>\n",
              "  <tbody>\n",
              "    <tr>\n",
              "      <th>12</th>\n",
              "      <td>Aubert, Mrs Leontine Pauline</td>\n",
              "      <td>1st</td>\n",
              "      <td></td>\n",
              "      <td>female</td>\n",
              "      <td>1</td>\n",
              "      <td>1</td>\n",
              "    </tr>\n",
              "    <tr>\n",
              "      <th>13</th>\n",
              "      <td>Barkworth, Mr Algernon H</td>\n",
              "      <td>1st</td>\n",
              "      <td></td>\n",
              "      <td>male</td>\n",
              "      <td>1</td>\n",
              "      <td>0</td>\n",
              "    </tr>\n",
              "  </tbody>\n",
              "</table>\n",
              "</div>"
            ],
            "text/plain": [
              "                            Name PClass Age     Sex  Survived  SexCode\n",
              "12  Aubert, Mrs Leontine Pauline    1st      female         1        1\n",
              "13      Barkworth, Mr Algernon H    1st        male         1        0"
            ]
          },
          "execution_count": 45,
          "metadata": {},
          "output_type": "execute_result"
        }
      ],
      "source": [
        "dataframe = pd.read_csv(url, na_filter=False)\n",
        "dataframe[12:14]"
      ]
    },
    {
      "cell_type": "markdown",
      "metadata": {
        "id": "uQTv6myn2aNH"
      },
      "source": [
        "## 3.10 열 삭제"
      ]
    },
    {
      "cell_type": "code",
      "execution_count": null,
      "metadata": {
        "id": "VyCqCR_O2aNH",
        "outputId": "247bc083-0b68-44a1-9cbb-66f81045db1f"
      },
      "outputs": [
        {
          "data": {
            "text/html": [
              "<div>\n",
              "<style scoped>\n",
              "    .dataframe tbody tr th:only-of-type {\n",
              "        vertical-align: middle;\n",
              "    }\n",
              "\n",
              "    .dataframe tbody tr th {\n",
              "        vertical-align: top;\n",
              "    }\n",
              "\n",
              "    .dataframe thead th {\n",
              "        text-align: right;\n",
              "    }\n",
              "</style>\n",
              "<table border=\"1\" class=\"dataframe\">\n",
              "  <thead>\n",
              "    <tr style=\"text-align: right;\">\n",
              "      <th></th>\n",
              "      <th>Name</th>\n",
              "      <th>PClass</th>\n",
              "      <th>Sex</th>\n",
              "      <th>Survived</th>\n",
              "      <th>SexCode</th>\n",
              "    </tr>\n",
              "  </thead>\n",
              "  <tbody>\n",
              "    <tr>\n",
              "      <th>0</th>\n",
              "      <td>Allen, Miss Elisabeth Walton</td>\n",
              "      <td>1st</td>\n",
              "      <td>female</td>\n",
              "      <td>1</td>\n",
              "      <td>1</td>\n",
              "    </tr>\n",
              "    <tr>\n",
              "      <th>1</th>\n",
              "      <td>Allison, Miss Helen Loraine</td>\n",
              "      <td>1st</td>\n",
              "      <td>female</td>\n",
              "      <td>0</td>\n",
              "      <td>1</td>\n",
              "    </tr>\n",
              "  </tbody>\n",
              "</table>\n",
              "</div>"
            ],
            "text/plain": [
              "                           Name PClass     Sex  Survived  SexCode\n",
              "0  Allen, Miss Elisabeth Walton    1st  female         1        1\n",
              "1   Allison, Miss Helen Loraine    1st  female         0        1"
            ]
          },
          "execution_count": 46,
          "metadata": {},
          "output_type": "execute_result"
        }
      ],
      "source": [
        "# 라이브러리를 임포트합니다.\n",
        "import pandas as pd\n",
        "\n",
        "# 데이터 URL\n",
        "url = 'https://bit.ly/3Tb15qr'\n",
        "\n",
        "# 데이터를 적재합니다.\n",
        "dataframe = pd.read_csv(url)\n",
        "\n",
        "# 열을 삭제합니다.\n",
        "dataframe.drop('Age', axis=1).head(2)"
      ]
    },
    {
      "cell_type": "code",
      "execution_count": null,
      "metadata": {
        "id": "o2B9vcLf2aNH",
        "outputId": "9b2efcbc-9cb9-40ee-93f3-6f0149572ca8"
      },
      "outputs": [
        {
          "data": {
            "text/html": [
              "<div>\n",
              "<style scoped>\n",
              "    .dataframe tbody tr th:only-of-type {\n",
              "        vertical-align: middle;\n",
              "    }\n",
              "\n",
              "    .dataframe tbody tr th {\n",
              "        vertical-align: top;\n",
              "    }\n",
              "\n",
              "    .dataframe thead th {\n",
              "        text-align: right;\n",
              "    }\n",
              "</style>\n",
              "<table border=\"1\" class=\"dataframe\">\n",
              "  <thead>\n",
              "    <tr style=\"text-align: right;\">\n",
              "      <th></th>\n",
              "      <th>Name</th>\n",
              "      <th>PClass</th>\n",
              "      <th>Survived</th>\n",
              "      <th>SexCode</th>\n",
              "    </tr>\n",
              "  </thead>\n",
              "  <tbody>\n",
              "    <tr>\n",
              "      <th>0</th>\n",
              "      <td>Allen, Miss Elisabeth Walton</td>\n",
              "      <td>1st</td>\n",
              "      <td>1</td>\n",
              "      <td>1</td>\n",
              "    </tr>\n",
              "    <tr>\n",
              "      <th>1</th>\n",
              "      <td>Allison, Miss Helen Loraine</td>\n",
              "      <td>1st</td>\n",
              "      <td>0</td>\n",
              "      <td>1</td>\n",
              "    </tr>\n",
              "  </tbody>\n",
              "</table>\n",
              "</div>"
            ],
            "text/plain": [
              "                           Name PClass  Survived  SexCode\n",
              "0  Allen, Miss Elisabeth Walton    1st         1        1\n",
              "1   Allison, Miss Helen Loraine    1st         0        1"
            ]
          },
          "execution_count": 47,
          "metadata": {},
          "output_type": "execute_result"
        }
      ],
      "source": [
        "# 열을 삭제합니다.\n",
        "dataframe.drop(['Age', 'Sex'], axis=1).head(2)"
      ]
    },
    {
      "cell_type": "code",
      "execution_count": null,
      "metadata": {
        "id": "ZopvrUnZ2aNJ",
        "outputId": "032d06a8-bdc1-4c77-80a8-39a446d6eb12"
      },
      "outputs": [
        {
          "data": {
            "text/html": [
              "<div>\n",
              "<style scoped>\n",
              "    .dataframe tbody tr th:only-of-type {\n",
              "        vertical-align: middle;\n",
              "    }\n",
              "\n",
              "    .dataframe tbody tr th {\n",
              "        vertical-align: top;\n",
              "    }\n",
              "\n",
              "    .dataframe thead th {\n",
              "        text-align: right;\n",
              "    }\n",
              "</style>\n",
              "<table border=\"1\" class=\"dataframe\">\n",
              "  <thead>\n",
              "    <tr style=\"text-align: right;\">\n",
              "      <th></th>\n",
              "      <th>Name</th>\n",
              "      <th>Age</th>\n",
              "      <th>Sex</th>\n",
              "      <th>Survived</th>\n",
              "      <th>SexCode</th>\n",
              "    </tr>\n",
              "  </thead>\n",
              "  <tbody>\n",
              "    <tr>\n",
              "      <th>0</th>\n",
              "      <td>Allen, Miss Elisabeth Walton</td>\n",
              "      <td>29.0</td>\n",
              "      <td>female</td>\n",
              "      <td>1</td>\n",
              "      <td>1</td>\n",
              "    </tr>\n",
              "    <tr>\n",
              "      <th>1</th>\n",
              "      <td>Allison, Miss Helen Loraine</td>\n",
              "      <td>2.0</td>\n",
              "      <td>female</td>\n",
              "      <td>0</td>\n",
              "      <td>1</td>\n",
              "    </tr>\n",
              "  </tbody>\n",
              "</table>\n",
              "</div>"
            ],
            "text/plain": [
              "                           Name   Age     Sex  Survived  SexCode\n",
              "0  Allen, Miss Elisabeth Walton  29.0  female         1        1\n",
              "1   Allison, Miss Helen Loraine   2.0  female         0        1"
            ]
          },
          "execution_count": 48,
          "metadata": {},
          "output_type": "execute_result"
        }
      ],
      "source": [
        "# PClass 열을 삭제합니다.\n",
        "dataframe.drop(dataframe.columns[1], axis=1).head(2)"
      ]
    },
    {
      "cell_type": "code",
      "execution_count": null,
      "metadata": {
        "id": "XJ1cYu7L2aNL",
        "outputId": "537ec3de-623c-45ca-b590-7ca8bec8de60"
      },
      "outputs": [
        {
          "data": {
            "text/html": [
              "<div>\n",
              "<style scoped>\n",
              "    .dataframe tbody tr th:only-of-type {\n",
              "        vertical-align: middle;\n",
              "    }\n",
              "\n",
              "    .dataframe tbody tr th {\n",
              "        vertical-align: top;\n",
              "    }\n",
              "\n",
              "    .dataframe thead th {\n",
              "        text-align: right;\n",
              "    }\n",
              "</style>\n",
              "<table border=\"1\" class=\"dataframe\">\n",
              "  <thead>\n",
              "    <tr style=\"text-align: right;\">\n",
              "      <th></th>\n",
              "      <th>Name</th>\n",
              "      <th>PClass</th>\n",
              "      <th>Age</th>\n",
              "      <th>Sex</th>\n",
              "      <th>Survived</th>\n",
              "      <th>SexCode</th>\n",
              "    </tr>\n",
              "  </thead>\n",
              "  <tbody>\n",
              "    <tr>\n",
              "      <th>0</th>\n",
              "      <td>Allen, Miss Elisabeth Walton</td>\n",
              "      <td>1st</td>\n",
              "      <td>29.0</td>\n",
              "      <td>female</td>\n",
              "      <td>1</td>\n",
              "      <td>1</td>\n",
              "    </tr>\n",
              "    <tr>\n",
              "      <th>1</th>\n",
              "      <td>Allison, Miss Helen Loraine</td>\n",
              "      <td>1st</td>\n",
              "      <td>2.0</td>\n",
              "      <td>female</td>\n",
              "      <td>0</td>\n",
              "      <td>1</td>\n",
              "    </tr>\n",
              "  </tbody>\n",
              "</table>\n",
              "</div>"
            ],
            "text/plain": [
              "                           Name PClass   Age     Sex  Survived  SexCode\n",
              "0  Allen, Miss Elisabeth Walton    1st  29.0  female         1        1\n",
              "1   Allison, Miss Helen Loraine    1st   2.0  female         0        1"
            ]
          },
          "execution_count": 49,
          "metadata": {},
          "output_type": "execute_result"
        }
      ],
      "source": [
        "dataframe.head(2)"
      ]
    },
    {
      "cell_type": "markdown",
      "metadata": {
        "id": "EeDPX8eu2aNL"
      },
      "source": [
        "## 3.11 행 삭제"
      ]
    },
    {
      "cell_type": "code",
      "execution_count": null,
      "metadata": {
        "id": "ibS5-3ln2aNM",
        "outputId": "ed4cd4fb-cb89-4cd2-d54c-9275d445e681"
      },
      "outputs": [
        {
          "data": {
            "text/html": [
              "<div>\n",
              "<style scoped>\n",
              "    .dataframe tbody tr th:only-of-type {\n",
              "        vertical-align: middle;\n",
              "    }\n",
              "\n",
              "    .dataframe tbody tr th {\n",
              "        vertical-align: top;\n",
              "    }\n",
              "\n",
              "    .dataframe thead th {\n",
              "        text-align: right;\n",
              "    }\n",
              "</style>\n",
              "<table border=\"1\" class=\"dataframe\">\n",
              "  <thead>\n",
              "    <tr style=\"text-align: right;\">\n",
              "      <th></th>\n",
              "      <th>Name</th>\n",
              "      <th>PClass</th>\n",
              "      <th>Age</th>\n",
              "      <th>Sex</th>\n",
              "      <th>Survived</th>\n",
              "      <th>SexCode</th>\n",
              "    </tr>\n",
              "  </thead>\n",
              "  <tbody>\n",
              "    <tr>\n",
              "      <th>0</th>\n",
              "      <td>Allen, Miss Elisabeth Walton</td>\n",
              "      <td>1st</td>\n",
              "      <td>29.0</td>\n",
              "      <td>female</td>\n",
              "      <td>1</td>\n",
              "      <td>1</td>\n",
              "    </tr>\n",
              "    <tr>\n",
              "      <th>1</th>\n",
              "      <td>Allison, Miss Helen Loraine</td>\n",
              "      <td>1st</td>\n",
              "      <td>2.0</td>\n",
              "      <td>female</td>\n",
              "      <td>0</td>\n",
              "      <td>1</td>\n",
              "    </tr>\n",
              "  </tbody>\n",
              "</table>\n",
              "</div>"
            ],
            "text/plain": [
              "                           Name PClass   Age     Sex  Survived  SexCode\n",
              "0  Allen, Miss Elisabeth Walton    1st  29.0  female         1        1\n",
              "1   Allison, Miss Helen Loraine    1st   2.0  female         0        1"
            ]
          },
          "execution_count": 50,
          "metadata": {},
          "output_type": "execute_result"
        }
      ],
      "source": [
        "# 라이브러리를 임포트합니다.\n",
        "import pandas as pd\n",
        "\n",
        "# 데이터 URL\n",
        "url = 'https://bit.ly/3Tb15qr'\n",
        "\n",
        "# 데이터를 적재합니다.\n",
        "dataframe = pd.read_csv(url)\n",
        "\n",
        "# 행을 삭제하고 처음 두 개의 행을 출력합니다.\n",
        "dataframe[dataframe['Sex'] != 'male'].head(2)"
      ]
    },
    {
      "cell_type": "code",
      "execution_count": null,
      "metadata": {
        "id": "W8hFnEB_2aNM",
        "outputId": "9634cc08-4776-4cf5-e2bd-a9548f74c461"
      },
      "outputs": [
        {
          "data": {
            "text/html": [
              "<div>\n",
              "<style scoped>\n",
              "    .dataframe tbody tr th:only-of-type {\n",
              "        vertical-align: middle;\n",
              "    }\n",
              "\n",
              "    .dataframe tbody tr th {\n",
              "        vertical-align: top;\n",
              "    }\n",
              "\n",
              "    .dataframe thead th {\n",
              "        text-align: right;\n",
              "    }\n",
              "</style>\n",
              "<table border=\"1\" class=\"dataframe\">\n",
              "  <thead>\n",
              "    <tr style=\"text-align: right;\">\n",
              "      <th></th>\n",
              "      <th>Name</th>\n",
              "      <th>PClass</th>\n",
              "      <th>Age</th>\n",
              "      <th>Sex</th>\n",
              "      <th>Survived</th>\n",
              "      <th>SexCode</th>\n",
              "    </tr>\n",
              "  </thead>\n",
              "  <tbody>\n",
              "    <tr>\n",
              "      <th>0</th>\n",
              "      <td>Allen, Miss Elisabeth Walton</td>\n",
              "      <td>1st</td>\n",
              "      <td>29.0</td>\n",
              "      <td>female</td>\n",
              "      <td>1</td>\n",
              "      <td>1</td>\n",
              "    </tr>\n",
              "    <tr>\n",
              "      <th>2</th>\n",
              "      <td>Allison, Mr Hudson Joshua Creighton</td>\n",
              "      <td>1st</td>\n",
              "      <td>30.0</td>\n",
              "      <td>male</td>\n",
              "      <td>0</td>\n",
              "      <td>0</td>\n",
              "    </tr>\n",
              "  </tbody>\n",
              "</table>\n",
              "</div>"
            ],
            "text/plain": [
              "                                  Name PClass   Age     Sex  Survived  SexCode\n",
              "0         Allen, Miss Elisabeth Walton    1st  29.0  female         1        1\n",
              "2  Allison, Mr Hudson Joshua Creighton    1st  30.0    male         0        0"
            ]
          },
          "execution_count": 51,
          "metadata": {},
          "output_type": "execute_result"
        }
      ],
      "source": [
        "# 행을 삭제하고 처음 두 개의 행을 출력합니다.\n",
        "dataframe[dataframe['Name'] != 'Allison, Miss Helen Loraine'].head(2)"
      ]
    },
    {
      "cell_type": "code",
      "execution_count": null,
      "metadata": {
        "id": "hVQ5BaV62aNM",
        "outputId": "9670d878-091f-493c-b62c-45be59b135d5"
      },
      "outputs": [
        {
          "data": {
            "text/html": [
              "<div>\n",
              "<style scoped>\n",
              "    .dataframe tbody tr th:only-of-type {\n",
              "        vertical-align: middle;\n",
              "    }\n",
              "\n",
              "    .dataframe tbody tr th {\n",
              "        vertical-align: top;\n",
              "    }\n",
              "\n",
              "    .dataframe thead th {\n",
              "        text-align: right;\n",
              "    }\n",
              "</style>\n",
              "<table border=\"1\" class=\"dataframe\">\n",
              "  <thead>\n",
              "    <tr style=\"text-align: right;\">\n",
              "      <th></th>\n",
              "      <th>Name</th>\n",
              "      <th>PClass</th>\n",
              "      <th>Age</th>\n",
              "      <th>Sex</th>\n",
              "      <th>Survived</th>\n",
              "      <th>SexCode</th>\n",
              "    </tr>\n",
              "  </thead>\n",
              "  <tbody>\n",
              "    <tr>\n",
              "      <th>1</th>\n",
              "      <td>Allison, Miss Helen Loraine</td>\n",
              "      <td>1st</td>\n",
              "      <td>2.0</td>\n",
              "      <td>female</td>\n",
              "      <td>0</td>\n",
              "      <td>1</td>\n",
              "    </tr>\n",
              "    <tr>\n",
              "      <th>2</th>\n",
              "      <td>Allison, Mr Hudson Joshua Creighton</td>\n",
              "      <td>1st</td>\n",
              "      <td>30.0</td>\n",
              "      <td>male</td>\n",
              "      <td>0</td>\n",
              "      <td>0</td>\n",
              "    </tr>\n",
              "  </tbody>\n",
              "</table>\n",
              "</div>"
            ],
            "text/plain": [
              "                                  Name PClass   Age     Sex  Survived  SexCode\n",
              "1          Allison, Miss Helen Loraine    1st   2.0  female         0        1\n",
              "2  Allison, Mr Hudson Joshua Creighton    1st  30.0    male         0        0"
            ]
          },
          "execution_count": 52,
          "metadata": {},
          "output_type": "execute_result"
        }
      ],
      "source": [
        "# 행을 삭제하고 처음 두 개의 행을 출력합니다.\n",
        "dataframe[dataframe.index != 0].head(2)"
      ]
    },
    {
      "cell_type": "markdown",
      "metadata": {
        "id": "1UHlMbFH2aNN"
      },
      "source": [
        "## 3.12 중복된 행 삭제"
      ]
    },
    {
      "cell_type": "code",
      "execution_count": null,
      "metadata": {
        "id": "CaJIHvzB2aNN",
        "outputId": "bb090d1e-ef37-4dea-b488-c51e7cc0d3bb"
      },
      "outputs": [
        {
          "data": {
            "text/html": [
              "<div>\n",
              "<style scoped>\n",
              "    .dataframe tbody tr th:only-of-type {\n",
              "        vertical-align: middle;\n",
              "    }\n",
              "\n",
              "    .dataframe tbody tr th {\n",
              "        vertical-align: top;\n",
              "    }\n",
              "\n",
              "    .dataframe thead th {\n",
              "        text-align: right;\n",
              "    }\n",
              "</style>\n",
              "<table border=\"1\" class=\"dataframe\">\n",
              "  <thead>\n",
              "    <tr style=\"text-align: right;\">\n",
              "      <th></th>\n",
              "      <th>Name</th>\n",
              "      <th>PClass</th>\n",
              "      <th>Age</th>\n",
              "      <th>Sex</th>\n",
              "      <th>Survived</th>\n",
              "      <th>SexCode</th>\n",
              "    </tr>\n",
              "  </thead>\n",
              "  <tbody>\n",
              "    <tr>\n",
              "      <th>0</th>\n",
              "      <td>Allen, Miss Elisabeth Walton</td>\n",
              "      <td>1st</td>\n",
              "      <td>29.0</td>\n",
              "      <td>female</td>\n",
              "      <td>1</td>\n",
              "      <td>1</td>\n",
              "    </tr>\n",
              "    <tr>\n",
              "      <th>1</th>\n",
              "      <td>Allison, Miss Helen Loraine</td>\n",
              "      <td>1st</td>\n",
              "      <td>2.0</td>\n",
              "      <td>female</td>\n",
              "      <td>0</td>\n",
              "      <td>1</td>\n",
              "    </tr>\n",
              "  </tbody>\n",
              "</table>\n",
              "</div>"
            ],
            "text/plain": [
              "                           Name PClass   Age     Sex  Survived  SexCode\n",
              "0  Allen, Miss Elisabeth Walton    1st  29.0  female         1        1\n",
              "1   Allison, Miss Helen Loraine    1st   2.0  female         0        1"
            ]
          },
          "execution_count": 53,
          "metadata": {},
          "output_type": "execute_result"
        }
      ],
      "source": [
        "# 라이브러리를 임포트합니다.\n",
        "import pandas as pd\n",
        "\n",
        "# 데이터 URL\n",
        "url = 'https://bit.ly/3Tb15qr'\n",
        "\n",
        "# 데이터를 적재합니다.\n",
        "dataframe = pd.read_csv(url)\n",
        "\n",
        "# 중복 행을 삭제하고 처음 두 개의 행을 출력합니다.\n",
        "dataframe.drop_duplicates().head(2)"
      ]
    },
    {
      "cell_type": "code",
      "execution_count": null,
      "metadata": {
        "id": "D5h3fg472aNQ",
        "outputId": "a412d804-5b81-401b-f5df-267705918081"
      },
      "outputs": [
        {
          "name": "stdout",
          "output_type": "stream",
          "text": [
            "원본 데이터프레임 행의 수: 1313\n",
            "중복 삭제 후 행의 수: 1313\n"
          ]
        }
      ],
      "source": [
        "# 행의 개수를 출력합니다.\n",
        "print(\"원본 데이터프레임 행의 수:\", len(dataframe))\n",
        "print(\"중복 삭제 후 행의 수:\", len(dataframe.drop_duplicates()))"
      ]
    },
    {
      "cell_type": "code",
      "execution_count": null,
      "metadata": {
        "id": "ebpbOXLt2aNR",
        "outputId": "ad39e26d-a04c-478b-b193-d94e7b08af69"
      },
      "outputs": [
        {
          "data": {
            "text/html": [
              "<div>\n",
              "<style scoped>\n",
              "    .dataframe tbody tr th:only-of-type {\n",
              "        vertical-align: middle;\n",
              "    }\n",
              "\n",
              "    .dataframe tbody tr th {\n",
              "        vertical-align: top;\n",
              "    }\n",
              "\n",
              "    .dataframe thead th {\n",
              "        text-align: right;\n",
              "    }\n",
              "</style>\n",
              "<table border=\"1\" class=\"dataframe\">\n",
              "  <thead>\n",
              "    <tr style=\"text-align: right;\">\n",
              "      <th></th>\n",
              "      <th>Name</th>\n",
              "      <th>PClass</th>\n",
              "      <th>Age</th>\n",
              "      <th>Sex</th>\n",
              "      <th>Survived</th>\n",
              "      <th>SexCode</th>\n",
              "    </tr>\n",
              "  </thead>\n",
              "  <tbody>\n",
              "    <tr>\n",
              "      <th>0</th>\n",
              "      <td>Allen, Miss Elisabeth Walton</td>\n",
              "      <td>1st</td>\n",
              "      <td>29.0</td>\n",
              "      <td>female</td>\n",
              "      <td>1</td>\n",
              "      <td>1</td>\n",
              "    </tr>\n",
              "    <tr>\n",
              "      <th>2</th>\n",
              "      <td>Allison, Mr Hudson Joshua Creighton</td>\n",
              "      <td>1st</td>\n",
              "      <td>30.0</td>\n",
              "      <td>male</td>\n",
              "      <td>0</td>\n",
              "      <td>0</td>\n",
              "    </tr>\n",
              "  </tbody>\n",
              "</table>\n",
              "</div>"
            ],
            "text/plain": [
              "                                  Name PClass   Age     Sex  Survived  SexCode\n",
              "0         Allen, Miss Elisabeth Walton    1st  29.0  female         1        1\n",
              "2  Allison, Mr Hudson Joshua Creighton    1st  30.0    male         0        0"
            ]
          },
          "execution_count": 55,
          "metadata": {},
          "output_type": "execute_result"
        }
      ],
      "source": [
        "# 중복된 행을 삭제합니다.\n",
        "dataframe.drop_duplicates(subset=['Sex'])"
      ]
    },
    {
      "cell_type": "code",
      "execution_count": null,
      "metadata": {
        "id": "P9C4byvC2aNU",
        "outputId": "c394c621-c5f2-47e7-92a5-40074fc098d2"
      },
      "outputs": [
        {
          "data": {
            "text/html": [
              "<div>\n",
              "<style scoped>\n",
              "    .dataframe tbody tr th:only-of-type {\n",
              "        vertical-align: middle;\n",
              "    }\n",
              "\n",
              "    .dataframe tbody tr th {\n",
              "        vertical-align: top;\n",
              "    }\n",
              "\n",
              "    .dataframe thead th {\n",
              "        text-align: right;\n",
              "    }\n",
              "</style>\n",
              "<table border=\"1\" class=\"dataframe\">\n",
              "  <thead>\n",
              "    <tr style=\"text-align: right;\">\n",
              "      <th></th>\n",
              "      <th>Name</th>\n",
              "      <th>PClass</th>\n",
              "      <th>Age</th>\n",
              "      <th>Sex</th>\n",
              "      <th>Survived</th>\n",
              "      <th>SexCode</th>\n",
              "    </tr>\n",
              "  </thead>\n",
              "  <tbody>\n",
              "    <tr>\n",
              "      <th>1307</th>\n",
              "      <td>Zabour, Miss Tamini</td>\n",
              "      <td>3rd</td>\n",
              "      <td>NaN</td>\n",
              "      <td>female</td>\n",
              "      <td>0</td>\n",
              "      <td>1</td>\n",
              "    </tr>\n",
              "    <tr>\n",
              "      <th>1312</th>\n",
              "      <td>Zimmerman, Leo</td>\n",
              "      <td>3rd</td>\n",
              "      <td>29.0</td>\n",
              "      <td>male</td>\n",
              "      <td>0</td>\n",
              "      <td>0</td>\n",
              "    </tr>\n",
              "  </tbody>\n",
              "</table>\n",
              "</div>"
            ],
            "text/plain": [
              "                     Name PClass   Age     Sex  Survived  SexCode\n",
              "1307  Zabour, Miss Tamini    3rd   NaN  female         0        1\n",
              "1312       Zimmerman, Leo    3rd  29.0    male         0        0"
            ]
          },
          "execution_count": 56,
          "metadata": {},
          "output_type": "execute_result"
        }
      ],
      "source": [
        "# 중복된 행을 삭제합니다.\n",
        "dataframe.drop_duplicates(subset=['Sex'], keep='last')"
      ]
    },
    {
      "cell_type": "markdown",
      "metadata": {
        "id": "XYsriUvs2aNU"
      },
      "source": [
        "## 3.13 값에 따라 행을 그룹핑하기"
      ]
    },
    {
      "cell_type": "code",
      "execution_count": null,
      "metadata": {
        "id": "h1LlcEkY2aNV",
        "outputId": "c5065c4a-5585-4eb6-f58b-68d9da991ffc"
      },
      "outputs": [
        {
          "data": {
            "text/html": [
              "<div>\n",
              "<style scoped>\n",
              "    .dataframe tbody tr th:only-of-type {\n",
              "        vertical-align: middle;\n",
              "    }\n",
              "\n",
              "    .dataframe tbody tr th {\n",
              "        vertical-align: top;\n",
              "    }\n",
              "\n",
              "    .dataframe thead th {\n",
              "        text-align: right;\n",
              "    }\n",
              "</style>\n",
              "<table border=\"1\" class=\"dataframe\">\n",
              "  <thead>\n",
              "    <tr style=\"text-align: right;\">\n",
              "      <th></th>\n",
              "      <th>Age</th>\n",
              "      <th>Survived</th>\n",
              "      <th>SexCode</th>\n",
              "    </tr>\n",
              "    <tr>\n",
              "      <th>Sex</th>\n",
              "      <th></th>\n",
              "      <th></th>\n",
              "      <th></th>\n",
              "    </tr>\n",
              "  </thead>\n",
              "  <tbody>\n",
              "    <tr>\n",
              "      <th>female</th>\n",
              "      <td>29.396424</td>\n",
              "      <td>0.666667</td>\n",
              "      <td>1.0</td>\n",
              "    </tr>\n",
              "    <tr>\n",
              "      <th>male</th>\n",
              "      <td>31.014338</td>\n",
              "      <td>0.166863</td>\n",
              "      <td>0.0</td>\n",
              "    </tr>\n",
              "  </tbody>\n",
              "</table>\n",
              "</div>"
            ],
            "text/plain": [
              "              Age  Survived  SexCode\n",
              "Sex                                 \n",
              "female  29.396424  0.666667      1.0\n",
              "male    31.014338  0.166863      0.0"
            ]
          },
          "execution_count": 57,
          "metadata": {},
          "output_type": "execute_result"
        }
      ],
      "source": [
        "# 라이브러리를 임포트합니다.\n",
        "import pandas as pd\n",
        "\n",
        "# 데이터 URL\n",
        "url = 'https://bit.ly/3Tb15qr'\n",
        "\n",
        "# 데이터를 적재합니다.\n",
        "dataframe = pd.read_csv(url)\n",
        "\n",
        "# ‘Sex’ 열의 값으로 행을 그룹핑하고 평균을 계산합니다.\n",
        "dataframe.groupby('Sex').mean()"
      ]
    },
    {
      "cell_type": "code",
      "execution_count": null,
      "metadata": {
        "id": "rvygrVwt2aNV",
        "outputId": "7f072c9e-1460-4ede-b2c5-325ddd1610c9"
      },
      "outputs": [
        {
          "data": {
            "text/plain": [
              "<pandas.core.groupby.generic.DataFrameGroupBy object at 0x7f9eb4e6ccc0>"
            ]
          },
          "execution_count": 58,
          "metadata": {},
          "output_type": "execute_result"
        }
      ],
      "source": [
        "# 행을 그룹핑합니다.\n",
        "dataframe.groupby('Sex')"
      ]
    },
    {
      "cell_type": "code",
      "execution_count": null,
      "metadata": {
        "id": "Uwulfvtc2aNV",
        "outputId": "6685501c-eebe-46d9-db8a-79f65b290e46"
      },
      "outputs": [
        {
          "data": {
            "text/plain": [
              "Survived\n",
              "0    863\n",
              "1    450\n",
              "Name: Name, dtype: int64"
            ]
          },
          "execution_count": 59,
          "metadata": {},
          "output_type": "execute_result"
        }
      ],
      "source": [
        "# 행을 그룹핑하고 카운팅합니다.\n",
        "dataframe.groupby('Survived')['Name'].count()"
      ]
    },
    {
      "cell_type": "code",
      "execution_count": null,
      "metadata": {
        "id": "MvX2_6b02aNW",
        "outputId": "08fed51d-34ca-4d55-cc3c-2e61fe3a121e"
      },
      "outputs": [
        {
          "data": {
            "text/plain": [
              "Sex     Survived\n",
              "female  0           24.901408\n",
              "        1           30.867143\n",
              "male    0           32.320780\n",
              "        1           25.951875\n",
              "Name: Age, dtype: float64"
            ]
          },
          "execution_count": 60,
          "metadata": {},
          "output_type": "execute_result"
        }
      ],
      "source": [
        "# 행을 그룹핑한 다음 평균을 계산합니다.\n",
        "dataframe.groupby(['Sex','Survived'])['Age'].mean()"
      ]
    },
    {
      "cell_type": "markdown",
      "metadata": {
        "id": "z4amdmD52aNW"
      },
      "source": [
        "## 3.14 시간에 따라 행을 그룹핑하기"
      ]
    },
    {
      "cell_type": "code",
      "execution_count": null,
      "metadata": {
        "id": "kqOhtdoy2aNW",
        "outputId": "4c6cebda-6dc4-4c94-8583-27d87321db4c"
      },
      "outputs": [
        {
          "data": {
            "text/html": [
              "<div>\n",
              "<style scoped>\n",
              "    .dataframe tbody tr th:only-of-type {\n",
              "        vertical-align: middle;\n",
              "    }\n",
              "\n",
              "    .dataframe tbody tr th {\n",
              "        vertical-align: top;\n",
              "    }\n",
              "\n",
              "    .dataframe thead th {\n",
              "        text-align: right;\n",
              "    }\n",
              "</style>\n",
              "<table border=\"1\" class=\"dataframe\">\n",
              "  <thead>\n",
              "    <tr style=\"text-align: right;\">\n",
              "      <th></th>\n",
              "      <th>Sale_Amount</th>\n",
              "    </tr>\n",
              "  </thead>\n",
              "  <tbody>\n",
              "    <tr>\n",
              "      <th>2017-06-11</th>\n",
              "      <td>87017</td>\n",
              "    </tr>\n",
              "    <tr>\n",
              "      <th>2017-06-18</th>\n",
              "      <td>100675</td>\n",
              "    </tr>\n",
              "    <tr>\n",
              "      <th>2017-06-25</th>\n",
              "      <td>100564</td>\n",
              "    </tr>\n",
              "    <tr>\n",
              "      <th>2017-07-02</th>\n",
              "      <td>101688</td>\n",
              "    </tr>\n",
              "    <tr>\n",
              "      <th>2017-07-09</th>\n",
              "      <td>101044</td>\n",
              "    </tr>\n",
              "    <tr>\n",
              "      <th>2017-07-16</th>\n",
              "      <td>10270</td>\n",
              "    </tr>\n",
              "  </tbody>\n",
              "</table>\n",
              "</div>"
            ],
            "text/plain": [
              "            Sale_Amount\n",
              "2017-06-11        87017\n",
              "2017-06-18       100675\n",
              "2017-06-25       100564\n",
              "2017-07-02       101688\n",
              "2017-07-09       101044\n",
              "2017-07-16        10270"
            ]
          },
          "execution_count": 61,
          "metadata": {},
          "output_type": "execute_result"
        }
      ],
      "source": [
        "# 라이브러리를 임포트합니다.\n",
        "import pandas as pd\n",
        "import numpy as np\n",
        "\n",
        "# 날짜 범위를 만듭니다.\n",
        "time_index = pd.date_range('06/06/2017', periods=100000, freq='30S')\n",
        "\n",
        "# 데이터프레임을 만듭니다.\n",
        "dataframe = pd.DataFrame(index=time_index)\n",
        "\n",
        "# 난수 값으로 열을 만듭니다.\n",
        "dataframe['Sale_Amount'] = np.random.randint(1, 10, 100000)\n",
        "\n",
        "# 주 단위로 행을 그룹핑한 다음 합을 계산합니다.\n",
        "dataframe.resample('W').sum()"
      ]
    },
    {
      "cell_type": "code",
      "execution_count": null,
      "metadata": {
        "id": "EBoDOseF2aNY",
        "outputId": "49a940f1-f9a9-4915-9f29-9954998a623d"
      },
      "outputs": [
        {
          "data": {
            "text/html": [
              "<div>\n",
              "<style scoped>\n",
              "    .dataframe tbody tr th:only-of-type {\n",
              "        vertical-align: middle;\n",
              "    }\n",
              "\n",
              "    .dataframe tbody tr th {\n",
              "        vertical-align: top;\n",
              "    }\n",
              "\n",
              "    .dataframe thead th {\n",
              "        text-align: right;\n",
              "    }\n",
              "</style>\n",
              "<table border=\"1\" class=\"dataframe\">\n",
              "  <thead>\n",
              "    <tr style=\"text-align: right;\">\n",
              "      <th></th>\n",
              "      <th>Sale_Amount</th>\n",
              "    </tr>\n",
              "  </thead>\n",
              "  <tbody>\n",
              "    <tr>\n",
              "      <th>2017-06-06 00:00:00</th>\n",
              "      <td>1</td>\n",
              "    </tr>\n",
              "    <tr>\n",
              "      <th>2017-06-06 00:00:30</th>\n",
              "      <td>7</td>\n",
              "    </tr>\n",
              "    <tr>\n",
              "      <th>2017-06-06 00:01:00</th>\n",
              "      <td>3</td>\n",
              "    </tr>\n",
              "  </tbody>\n",
              "</table>\n",
              "</div>"
            ],
            "text/plain": [
              "                     Sale_Amount\n",
              "2017-06-06 00:00:00            1\n",
              "2017-06-06 00:00:30            7\n",
              "2017-06-06 00:01:00            3"
            ]
          },
          "execution_count": 62,
          "metadata": {},
          "output_type": "execute_result"
        }
      ],
      "source": [
        "# 세개의 행을 출력합니다.\n",
        "dataframe.head(3)"
      ]
    },
    {
      "cell_type": "code",
      "execution_count": null,
      "metadata": {
        "id": "cpH_OVFH2aNZ",
        "outputId": "0f6b4165-9cca-48e2-a88d-23124c1f86f0"
      },
      "outputs": [
        {
          "data": {
            "text/html": [
              "<div>\n",
              "<style scoped>\n",
              "    .dataframe tbody tr th:only-of-type {\n",
              "        vertical-align: middle;\n",
              "    }\n",
              "\n",
              "    .dataframe tbody tr th {\n",
              "        vertical-align: top;\n",
              "    }\n",
              "\n",
              "    .dataframe thead th {\n",
              "        text-align: right;\n",
              "    }\n",
              "</style>\n",
              "<table border=\"1\" class=\"dataframe\">\n",
              "  <thead>\n",
              "    <tr style=\"text-align: right;\">\n",
              "      <th></th>\n",
              "      <th>Sale_Amount</th>\n",
              "    </tr>\n",
              "  </thead>\n",
              "  <tbody>\n",
              "    <tr>\n",
              "      <th>2017-06-11</th>\n",
              "      <td>5.035706</td>\n",
              "    </tr>\n",
              "    <tr>\n",
              "      <th>2017-06-25</th>\n",
              "      <td>4.991047</td>\n",
              "    </tr>\n",
              "    <tr>\n",
              "      <th>2017-07-09</th>\n",
              "      <td>5.028075</td>\n",
              "    </tr>\n",
              "    <tr>\n",
              "      <th>2017-07-23</th>\n",
              "      <td>4.937500</td>\n",
              "    </tr>\n",
              "  </tbody>\n",
              "</table>\n",
              "</div>"
            ],
            "text/plain": [
              "            Sale_Amount\n",
              "2017-06-11     5.035706\n",
              "2017-06-25     4.991047\n",
              "2017-07-09     5.028075\n",
              "2017-07-23     4.937500"
            ]
          },
          "execution_count": 63,
          "metadata": {},
          "output_type": "execute_result"
        }
      ],
      "source": [
        "# 2주 단위로 그룹핑하고 평균을 계산합니다.\n",
        "dataframe.resample('2W').mean()"
      ]
    },
    {
      "cell_type": "code",
      "execution_count": null,
      "metadata": {
        "id": "DS1xJXka2aNa",
        "outputId": "6f059786-f2d2-4de7-dfd6-e7c1954b18f0"
      },
      "outputs": [
        {
          "data": {
            "text/html": [
              "<div>\n",
              "<style scoped>\n",
              "    .dataframe tbody tr th:only-of-type {\n",
              "        vertical-align: middle;\n",
              "    }\n",
              "\n",
              "    .dataframe tbody tr th {\n",
              "        vertical-align: top;\n",
              "    }\n",
              "\n",
              "    .dataframe thead th {\n",
              "        text-align: right;\n",
              "    }\n",
              "</style>\n",
              "<table border=\"1\" class=\"dataframe\">\n",
              "  <thead>\n",
              "    <tr style=\"text-align: right;\">\n",
              "      <th></th>\n",
              "      <th>Sale_Amount</th>\n",
              "    </tr>\n",
              "  </thead>\n",
              "  <tbody>\n",
              "    <tr>\n",
              "      <th>2017-06-30</th>\n",
              "      <td>72000</td>\n",
              "    </tr>\n",
              "    <tr>\n",
              "      <th>2017-07-31</th>\n",
              "      <td>28000</td>\n",
              "    </tr>\n",
              "  </tbody>\n",
              "</table>\n",
              "</div>"
            ],
            "text/plain": [
              "            Sale_Amount\n",
              "2017-06-30        72000\n",
              "2017-07-31        28000"
            ]
          },
          "execution_count": 64,
          "metadata": {},
          "output_type": "execute_result"
        }
      ],
      "source": [
        "# 한 달 간격으로 그룹핑하고 행을 카운트합니다.\n",
        "dataframe.resample('M').count()"
      ]
    },
    {
      "cell_type": "code",
      "execution_count": null,
      "metadata": {
        "id": "fP2zThc22aNa",
        "outputId": "955035d6-8e50-46a7-c0c2-dc8fa1a70dbe"
      },
      "outputs": [
        {
          "data": {
            "text/html": [
              "<div>\n",
              "<style scoped>\n",
              "    .dataframe tbody tr th:only-of-type {\n",
              "        vertical-align: middle;\n",
              "    }\n",
              "\n",
              "    .dataframe tbody tr th {\n",
              "        vertical-align: top;\n",
              "    }\n",
              "\n",
              "    .dataframe thead th {\n",
              "        text-align: right;\n",
              "    }\n",
              "</style>\n",
              "<table border=\"1\" class=\"dataframe\">\n",
              "  <thead>\n",
              "    <tr style=\"text-align: right;\">\n",
              "      <th></th>\n",
              "      <th>Sale_Amount</th>\n",
              "    </tr>\n",
              "  </thead>\n",
              "  <tbody>\n",
              "    <tr>\n",
              "      <th>2017-05-31</th>\n",
              "      <td>72000</td>\n",
              "    </tr>\n",
              "    <tr>\n",
              "      <th>2017-06-30</th>\n",
              "      <td>28000</td>\n",
              "    </tr>\n",
              "  </tbody>\n",
              "</table>\n",
              "</div>"
            ],
            "text/plain": [
              "            Sale_Amount\n",
              "2017-05-31        72000\n",
              "2017-06-30        28000"
            ]
          },
          "execution_count": 65,
          "metadata": {},
          "output_type": "execute_result"
        }
      ],
      "source": [
        "# 월 간격으로 그룹핑하고 행을 카운트합니다.\n",
        "dataframe.resample('M', label='left').count()"
      ]
    },
    {
      "cell_type": "markdown",
      "metadata": {
        "id": "CP4VA_4g2aNa"
      },
      "source": [
        "### 붙임"
      ]
    },
    {
      "cell_type": "code",
      "execution_count": null,
      "metadata": {
        "id": "XVKnpcVn2aNa",
        "outputId": "7ef6911d-6931-48c8-a599-c770f1c839ff"
      },
      "outputs": [
        {
          "data": {
            "text/html": [
              "<div>\n",
              "<style scoped>\n",
              "    .dataframe tbody tr th:only-of-type {\n",
              "        vertical-align: middle;\n",
              "    }\n",
              "\n",
              "    .dataframe tbody tr th {\n",
              "        vertical-align: top;\n",
              "    }\n",
              "\n",
              "    .dataframe thead th {\n",
              "        text-align: right;\n",
              "    }\n",
              "</style>\n",
              "<table border=\"1\" class=\"dataframe\">\n",
              "  <thead>\n",
              "    <tr style=\"text-align: right;\">\n",
              "      <th></th>\n",
              "      <th>Sale_Amount</th>\n",
              "    </tr>\n",
              "  </thead>\n",
              "  <tbody>\n",
              "    <tr>\n",
              "      <th>2017-06-01</th>\n",
              "      <td>72000</td>\n",
              "    </tr>\n",
              "    <tr>\n",
              "      <th>2017-07-01</th>\n",
              "      <td>28000</td>\n",
              "    </tr>\n",
              "  </tbody>\n",
              "</table>\n",
              "</div>"
            ],
            "text/plain": [
              "            Sale_Amount\n",
              "2017-06-01        72000\n",
              "2017-07-01        28000"
            ]
          },
          "execution_count": 66,
          "metadata": {},
          "output_type": "execute_result"
        }
      ],
      "source": [
        "dataframe.resample('MS').count()"
      ]
    },
    {
      "cell_type": "markdown",
      "metadata": {
        "id": "GM3kvR322aNb"
      },
      "source": [
        "## 3.15 열 원소를 순회하기"
      ]
    },
    {
      "cell_type": "code",
      "execution_count": null,
      "metadata": {
        "id": "T-zjpDWB2aNc",
        "outputId": "68e48c00-a947-43aa-8831-836c05547bea"
      },
      "outputs": [
        {
          "name": "stdout",
          "output_type": "stream",
          "text": [
            "ALLEN, MISS ELISABETH WALTON\n",
            "ALLISON, MISS HELEN LORAINE\n"
          ]
        }
      ],
      "source": [
        "# 라이브러리를 임포트합니다.\n",
        "import pandas as pd\n",
        "\n",
        "# 데이터 URL\n",
        "url = 'https://bit.ly/3Tb15qr'\n",
        "\n",
        "# 데이터를 적재합니다.\n",
        "dataframe = pd.read_csv(url)\n",
        "\n",
        "# 처음 두 이름을 대문자로 바꾸어 출력합니다.\n",
        "for name in dataframe['Name'][0:2]:\n",
        "    print(name.upper())"
      ]
    },
    {
      "cell_type": "code",
      "execution_count": null,
      "metadata": {
        "id": "-T9zEX142aNd",
        "outputId": "aa95ff0f-6c9f-42ca-bcab-3b3dfa4083fc"
      },
      "outputs": [
        {
          "data": {
            "text/plain": [
              "['ALLEN, MISS ELISABETH WALTON', 'ALLISON, MISS HELEN LORAINE']"
            ]
          },
          "execution_count": 68,
          "metadata": {},
          "output_type": "execute_result"
        }
      ],
      "source": [
        "# 처음 두 이름을 대문자로 바꾸어 출력합니다.\n",
        "[name.upper() for name in dataframe['Name'][0:2]]"
      ]
    },
    {
      "cell_type": "markdown",
      "metadata": {
        "id": "y_V3MbiJ2aNe"
      },
      "source": [
        "## 3.16 모든 열 원소에 함수 적용하기"
      ]
    },
    {
      "cell_type": "code",
      "execution_count": null,
      "metadata": {
        "id": "Q2oSUsHD2aNf",
        "outputId": "dbfc1e85-84ee-41c0-c0ea-cc9910ee1637"
      },
      "outputs": [
        {
          "data": {
            "text/plain": [
              "0    ALLEN, MISS ELISABETH WALTON\n",
              "1     ALLISON, MISS HELEN LORAINE\n",
              "Name: Name, dtype: object"
            ]
          },
          "execution_count": 69,
          "metadata": {},
          "output_type": "execute_result"
        }
      ],
      "source": [
        "# 라이브러리를 임포트합니다.\n",
        "import pandas as pd\n",
        "\n",
        "# 데이터 URL\n",
        "url = 'https://bit.ly/3Tb15qr'\n",
        "\n",
        "# 데이터를 적재합니다.\n",
        "dataframe = pd.read_csv(url)\n",
        "\n",
        "# 함수를 만듭니다.\n",
        "def uppercase(x):\n",
        "    return x.upper()\n",
        "\n",
        "# 함수를 적용하고 두 개의 행을 출력합니다.\n",
        "dataframe['Name'].apply(uppercase)[0:2]"
      ]
    },
    {
      "cell_type": "markdown",
      "metadata": {
        "id": "DeS-klkQ2aNf"
      },
      "source": [
        "### 붙임"
      ]
    },
    {
      "cell_type": "code",
      "execution_count": null,
      "metadata": {
        "id": "FnvT_aAJ2aNg",
        "outputId": "d1525338-f7b4-4b27-fd55-e1f9bb2e7c75"
      },
      "outputs": [
        {
          "data": {
            "text/plain": [
              "0    Live\n",
              "1    Dead\n",
              "2    Dead\n",
              "3    Dead\n",
              "4    Live\n",
              "Name: Survived, dtype: object"
            ]
          },
          "execution_count": 70,
          "metadata": {},
          "output_type": "execute_result"
        }
      ],
      "source": [
        "# Survived 열의 1을 Live로, 0을 Dead로 바꿉니다.\n",
        "dataframe['Survived'].map({1:'Live', 0:'Dead'})[:5]"
      ]
    },
    {
      "cell_type": "code",
      "execution_count": null,
      "metadata": {
        "id": "oQN4X6c12aNl",
        "outputId": "7f6cd951-e3b3-4673-acdc-d91fac2983ba"
      },
      "outputs": [
        {
          "data": {
            "text/plain": [
              "0     True\n",
              "1     True\n",
              "2    False\n",
              "3     True\n",
              "4     True\n",
              "Name: Age, dtype: bool"
            ]
          },
          "execution_count": 71,
          "metadata": {},
          "output_type": "execute_result"
        }
      ],
      "source": [
        "# 함수의 매개변수(age)를 apply 메서드를 호출할 때 전달할 수 있습니다.\n",
        "dataframe['Age'].apply(lambda x, age: x < age, age=30)[:5]"
      ]
    },
    {
      "cell_type": "code",
      "execution_count": null,
      "metadata": {
        "id": "FXJhrq6Y2aNn",
        "outputId": "669c55df-da0a-4ca7-f5e6-3250caac027b"
      },
      "outputs": [
        {
          "data": {
            "text/plain": [
              "Name        del Carlo, Mrs Sebastiano (Argenia Genovese)\n",
              "PClass                                               3rd\n",
              "Age                                                 71.0\n",
              "Sex                                                 male\n",
              "Survived                                               1\n",
              "SexCode                                                1\n",
              "dtype: object"
            ]
          },
          "execution_count": 72,
          "metadata": {},
          "output_type": "execute_result"
        }
      ],
      "source": [
        "# 각 열에서 가장 큰 값을 뽑습니다.\n",
        "dataframe.apply(lambda x: max(x))"
      ]
    },
    {
      "cell_type": "code",
      "execution_count": null,
      "metadata": {
        "id": "Fvrf3_NX2aNo",
        "outputId": "4c83e983-86a0-4eb2-d9cc-b44f3f5bd6f7"
      },
      "outputs": [
        {
          "data": {
            "text/html": [
              "<div>\n",
              "<style scoped>\n",
              "    .dataframe tbody tr th:only-of-type {\n",
              "        vertical-align: middle;\n",
              "    }\n",
              "\n",
              "    .dataframe tbody tr th {\n",
              "        vertical-align: top;\n",
              "    }\n",
              "\n",
              "    .dataframe thead th {\n",
              "        text-align: right;\n",
              "    }\n",
              "</style>\n",
              "<table border=\"1\" class=\"dataframe\">\n",
              "  <thead>\n",
              "    <tr style=\"text-align: right;\">\n",
              "      <th></th>\n",
              "      <th>Name</th>\n",
              "      <th>PClass</th>\n",
              "      <th>Age</th>\n",
              "      <th>Sex</th>\n",
              "      <th>Survived</th>\n",
              "      <th>SexCode</th>\n",
              "    </tr>\n",
              "  </thead>\n",
              "  <tbody>\n",
              "    <tr>\n",
              "      <th>0</th>\n",
              "      <td>Allen, Miss Elisabet</td>\n",
              "      <td>1st</td>\n",
              "      <td>29.00</td>\n",
              "      <td>female</td>\n",
              "      <td>1</td>\n",
              "      <td>1</td>\n",
              "    </tr>\n",
              "    <tr>\n",
              "      <th>1</th>\n",
              "      <td>Allison, Miss Helen</td>\n",
              "      <td>1st</td>\n",
              "      <td>2.00</td>\n",
              "      <td>female</td>\n",
              "      <td>0</td>\n",
              "      <td>1</td>\n",
              "    </tr>\n",
              "    <tr>\n",
              "      <th>2</th>\n",
              "      <td>Allison, Mr Hudson J</td>\n",
              "      <td>1st</td>\n",
              "      <td>30.00</td>\n",
              "      <td>male</td>\n",
              "      <td>0</td>\n",
              "      <td>0</td>\n",
              "    </tr>\n",
              "    <tr>\n",
              "      <th>3</th>\n",
              "      <td>Allison, Mrs Hudson</td>\n",
              "      <td>1st</td>\n",
              "      <td>25.00</td>\n",
              "      <td>female</td>\n",
              "      <td>0</td>\n",
              "      <td>1</td>\n",
              "    </tr>\n",
              "    <tr>\n",
              "      <th>4</th>\n",
              "      <td>Allison, Master Huds</td>\n",
              "      <td>1st</td>\n",
              "      <td>0.92</td>\n",
              "      <td>male</td>\n",
              "      <td>1</td>\n",
              "      <td>0</td>\n",
              "    </tr>\n",
              "  </tbody>\n",
              "</table>\n",
              "</div>"
            ],
            "text/plain": [
              "                   Name PClass    Age     Sex  Survived  SexCode\n",
              "0  Allen, Miss Elisabet    1st  29.00  female         1        1\n",
              "1  Allison, Miss Helen     1st   2.00  female         0        1\n",
              "2  Allison, Mr Hudson J    1st  30.00    male         0        0\n",
              "3  Allison, Mrs Hudson     1st  25.00  female         0        1\n",
              "4  Allison, Master Huds    1st   0.92    male         1        0"
            ]
          },
          "execution_count": 73,
          "metadata": {},
          "output_type": "execute_result"
        }
      ],
      "source": [
        "def truncate_string(x):\n",
        "    if type(x) == str:\n",
        "        return x[:20]\n",
        "    return x\n",
        "\n",
        "# 문자열의 길이를 최대 20자로 줄입니다.\n",
        "dataframe.applymap(truncate_string)[:5]"
      ]
    },
    {
      "cell_type": "markdown",
      "metadata": {
        "id": "w5w1ruDs2aNs"
      },
      "source": [
        "## 3.17 그룹에 함수 적용하기"
      ]
    },
    {
      "cell_type": "code",
      "execution_count": null,
      "metadata": {
        "id": "cJOjhhLa2aNt",
        "outputId": "07ca04ff-d25b-42e5-f4e9-6c08503062e0"
      },
      "outputs": [
        {
          "data": {
            "text/html": [
              "<div>\n",
              "<style scoped>\n",
              "    .dataframe tbody tr th:only-of-type {\n",
              "        vertical-align: middle;\n",
              "    }\n",
              "\n",
              "    .dataframe tbody tr th {\n",
              "        vertical-align: top;\n",
              "    }\n",
              "\n",
              "    .dataframe thead th {\n",
              "        text-align: right;\n",
              "    }\n",
              "</style>\n",
              "<table border=\"1\" class=\"dataframe\">\n",
              "  <thead>\n",
              "    <tr style=\"text-align: right;\">\n",
              "      <th></th>\n",
              "      <th>Name</th>\n",
              "      <th>PClass</th>\n",
              "      <th>Age</th>\n",
              "      <th>Sex</th>\n",
              "      <th>Survived</th>\n",
              "      <th>SexCode</th>\n",
              "    </tr>\n",
              "    <tr>\n",
              "      <th>Sex</th>\n",
              "      <th></th>\n",
              "      <th></th>\n",
              "      <th></th>\n",
              "      <th></th>\n",
              "      <th></th>\n",
              "      <th></th>\n",
              "    </tr>\n",
              "  </thead>\n",
              "  <tbody>\n",
              "    <tr>\n",
              "      <th>female</th>\n",
              "      <td>462</td>\n",
              "      <td>462</td>\n",
              "      <td>288</td>\n",
              "      <td>462</td>\n",
              "      <td>462</td>\n",
              "      <td>462</td>\n",
              "    </tr>\n",
              "    <tr>\n",
              "      <th>male</th>\n",
              "      <td>851</td>\n",
              "      <td>851</td>\n",
              "      <td>468</td>\n",
              "      <td>851</td>\n",
              "      <td>851</td>\n",
              "      <td>851</td>\n",
              "    </tr>\n",
              "  </tbody>\n",
              "</table>\n",
              "</div>"
            ],
            "text/plain": [
              "        Name  PClass  Age  Sex  Survived  SexCode\n",
              "Sex                                              \n",
              "female   462     462  288  462       462      462\n",
              "male     851     851  468  851       851      851"
            ]
          },
          "execution_count": 74,
          "metadata": {},
          "output_type": "execute_result"
        }
      ],
      "source": [
        "# 라이브러리를 임포트합니다.\n",
        "import pandas as pd\n",
        "\n",
        "# 데이터 URL\n",
        "url = 'https://bit.ly/3Tb15qr'\n",
        "\n",
        "# 데이터를 적재합니다.\n",
        "dataframe = pd.read_csv(url)\n",
        "\n",
        "# 행을 그룹핑한 다음 함수를 적용합니다.\n",
        "dataframe.groupby('Sex').apply(lambda x: x.count())"
      ]
    },
    {
      "cell_type": "markdown",
      "metadata": {
        "id": "5RRzPB-V2aNu"
      },
      "source": [
        "## 3.18 데이터프레임 연결"
      ]
    },
    {
      "cell_type": "code",
      "execution_count": null,
      "metadata": {
        "id": "ZAZXfCCG2aNv",
        "outputId": "e80a67ba-d76a-4439-d4e4-2fab671e4875"
      },
      "outputs": [
        {
          "data": {
            "text/html": [
              "<div>\n",
              "<style scoped>\n",
              "    .dataframe tbody tr th:only-of-type {\n",
              "        vertical-align: middle;\n",
              "    }\n",
              "\n",
              "    .dataframe tbody tr th {\n",
              "        vertical-align: top;\n",
              "    }\n",
              "\n",
              "    .dataframe thead th {\n",
              "        text-align: right;\n",
              "    }\n",
              "</style>\n",
              "<table border=\"1\" class=\"dataframe\">\n",
              "  <thead>\n",
              "    <tr style=\"text-align: right;\">\n",
              "      <th></th>\n",
              "      <th>id</th>\n",
              "      <th>first</th>\n",
              "      <th>last</th>\n",
              "    </tr>\n",
              "  </thead>\n",
              "  <tbody>\n",
              "    <tr>\n",
              "      <th>0</th>\n",
              "      <td>1</td>\n",
              "      <td>Alex</td>\n",
              "      <td>Anderson</td>\n",
              "    </tr>\n",
              "    <tr>\n",
              "      <th>1</th>\n",
              "      <td>2</td>\n",
              "      <td>Amy</td>\n",
              "      <td>Ackerman</td>\n",
              "    </tr>\n",
              "    <tr>\n",
              "      <th>2</th>\n",
              "      <td>3</td>\n",
              "      <td>Allen</td>\n",
              "      <td>Ali</td>\n",
              "    </tr>\n",
              "    <tr>\n",
              "      <th>0</th>\n",
              "      <td>4</td>\n",
              "      <td>Billy</td>\n",
              "      <td>Bonder</td>\n",
              "    </tr>\n",
              "    <tr>\n",
              "      <th>1</th>\n",
              "      <td>5</td>\n",
              "      <td>Brian</td>\n",
              "      <td>Black</td>\n",
              "    </tr>\n",
              "    <tr>\n",
              "      <th>2</th>\n",
              "      <td>6</td>\n",
              "      <td>Bran</td>\n",
              "      <td>Balwner</td>\n",
              "    </tr>\n",
              "  </tbody>\n",
              "</table>\n",
              "</div>"
            ],
            "text/plain": [
              "  id  first      last\n",
              "0  1   Alex  Anderson\n",
              "1  2    Amy  Ackerman\n",
              "2  3  Allen       Ali\n",
              "0  4  Billy    Bonder\n",
              "1  5  Brian     Black\n",
              "2  6   Bran   Balwner"
            ]
          },
          "execution_count": 75,
          "metadata": {},
          "output_type": "execute_result"
        }
      ],
      "source": [
        "# 라이브러리를 임포트합니다.\n",
        "import pandas as pd\n",
        "\n",
        "# 데이터프레임을 만듭니다.\n",
        "data_a = {'id': ['1', '2', '3'],\n",
        "          'first': ['Alex', 'Amy', 'Allen'],\n",
        "          'last': ['Anderson', 'Ackerman', 'Ali']}\n",
        "dataframe_a = pd.DataFrame(data_a, columns = ['id', 'first', 'last'])\n",
        "\n",
        "# 데이터프레임을 만듭니다.\n",
        "data_b = {'id': ['4', '5', '6'],\n",
        "          'first': ['Billy', 'Brian', 'Bran'],\n",
        "          'last': ['Bonder', 'Black', 'Balwner']}\n",
        "dataframe_b = pd.DataFrame(data_b, columns = ['id', 'first', 'last'])\n",
        "\n",
        "# 행 방향으로 데이터프레임을 연결합니다.\n",
        "pd.concat([dataframe_a, dataframe_b], axis=0)"
      ]
    },
    {
      "cell_type": "code",
      "execution_count": null,
      "metadata": {
        "id": "3PTi8J032aNw",
        "outputId": "62c81576-1c4e-4c9e-a45d-8757320e5318"
      },
      "outputs": [
        {
          "data": {
            "text/html": [
              "<div>\n",
              "<style scoped>\n",
              "    .dataframe tbody tr th:only-of-type {\n",
              "        vertical-align: middle;\n",
              "    }\n",
              "\n",
              "    .dataframe tbody tr th {\n",
              "        vertical-align: top;\n",
              "    }\n",
              "\n",
              "    .dataframe thead th {\n",
              "        text-align: right;\n",
              "    }\n",
              "</style>\n",
              "<table border=\"1\" class=\"dataframe\">\n",
              "  <thead>\n",
              "    <tr style=\"text-align: right;\">\n",
              "      <th></th>\n",
              "      <th>id</th>\n",
              "      <th>first</th>\n",
              "      <th>last</th>\n",
              "      <th>id</th>\n",
              "      <th>first</th>\n",
              "      <th>last</th>\n",
              "    </tr>\n",
              "  </thead>\n",
              "  <tbody>\n",
              "    <tr>\n",
              "      <th>0</th>\n",
              "      <td>1</td>\n",
              "      <td>Alex</td>\n",
              "      <td>Anderson</td>\n",
              "      <td>4</td>\n",
              "      <td>Billy</td>\n",
              "      <td>Bonder</td>\n",
              "    </tr>\n",
              "    <tr>\n",
              "      <th>1</th>\n",
              "      <td>2</td>\n",
              "      <td>Amy</td>\n",
              "      <td>Ackerman</td>\n",
              "      <td>5</td>\n",
              "      <td>Brian</td>\n",
              "      <td>Black</td>\n",
              "    </tr>\n",
              "    <tr>\n",
              "      <th>2</th>\n",
              "      <td>3</td>\n",
              "      <td>Allen</td>\n",
              "      <td>Ali</td>\n",
              "      <td>6</td>\n",
              "      <td>Bran</td>\n",
              "      <td>Balwner</td>\n",
              "    </tr>\n",
              "  </tbody>\n",
              "</table>\n",
              "</div>"
            ],
            "text/plain": [
              "  id  first      last id  first     last\n",
              "0  1   Alex  Anderson  4  Billy   Bonder\n",
              "1  2    Amy  Ackerman  5  Brian    Black\n",
              "2  3  Allen       Ali  6   Bran  Balwner"
            ]
          },
          "execution_count": 76,
          "metadata": {},
          "output_type": "execute_result"
        }
      ],
      "source": [
        "# 열 방향으로 데이터프레임을 연결합니다.\n",
        "pd.concat([dataframe_a, dataframe_b], axis=1)"
      ]
    },
    {
      "cell_type": "code",
      "execution_count": null,
      "metadata": {
        "id": "cRCb_aDT2aNx",
        "outputId": "b01ce918-a2c7-4db1-a2de-26b00f1f4cef"
      },
      "outputs": [
        {
          "data": {
            "text/html": [
              "<div>\n",
              "<style scoped>\n",
              "    .dataframe tbody tr th:only-of-type {\n",
              "        vertical-align: middle;\n",
              "    }\n",
              "\n",
              "    .dataframe tbody tr th {\n",
              "        vertical-align: top;\n",
              "    }\n",
              "\n",
              "    .dataframe thead th {\n",
              "        text-align: right;\n",
              "    }\n",
              "</style>\n",
              "<table border=\"1\" class=\"dataframe\">\n",
              "  <thead>\n",
              "    <tr style=\"text-align: right;\">\n",
              "      <th></th>\n",
              "      <th>id</th>\n",
              "      <th>first</th>\n",
              "      <th>last</th>\n",
              "    </tr>\n",
              "  </thead>\n",
              "  <tbody>\n",
              "    <tr>\n",
              "      <th>0</th>\n",
              "      <td>1</td>\n",
              "      <td>Alex</td>\n",
              "      <td>Anderson</td>\n",
              "    </tr>\n",
              "    <tr>\n",
              "      <th>1</th>\n",
              "      <td>2</td>\n",
              "      <td>Amy</td>\n",
              "      <td>Ackerman</td>\n",
              "    </tr>\n",
              "    <tr>\n",
              "      <th>2</th>\n",
              "      <td>3</td>\n",
              "      <td>Allen</td>\n",
              "      <td>Ali</td>\n",
              "    </tr>\n",
              "    <tr>\n",
              "      <th>3</th>\n",
              "      <td>10</td>\n",
              "      <td>Chris</td>\n",
              "      <td>Chillon</td>\n",
              "    </tr>\n",
              "  </tbody>\n",
              "</table>\n",
              "</div>"
            ],
            "text/plain": [
              "   id  first      last\n",
              "0   1   Alex  Anderson\n",
              "1   2    Amy  Ackerman\n",
              "2   3  Allen       Ali\n",
              "3  10  Chris   Chillon"
            ]
          },
          "execution_count": 77,
          "metadata": {},
          "output_type": "execute_result"
        }
      ],
      "source": [
        "# 행을 만듭니다.\n",
        "row = pd.Series([10, 'Chris', 'Chillon'], index=['id', 'first', 'last'])\n",
        "\n",
        "# 행을 추가합니다.\n",
        "dataframe_a.append(row, ignore_index=True)"
      ]
    },
    {
      "cell_type": "markdown",
      "metadata": {
        "id": "DE4asb752aNy"
      },
      "source": [
        "## 3.19 데이터프레임 병합"
      ]
    },
    {
      "cell_type": "code",
      "execution_count": null,
      "metadata": {
        "id": "9WGM7cHB2aN2",
        "outputId": "1107cb63-8d0f-4965-b29e-35b6417aac65"
      },
      "outputs": [
        {
          "data": {
            "text/html": [
              "<div>\n",
              "<style scoped>\n",
              "    .dataframe tbody tr th:only-of-type {\n",
              "        vertical-align: middle;\n",
              "    }\n",
              "\n",
              "    .dataframe tbody tr th {\n",
              "        vertical-align: top;\n",
              "    }\n",
              "\n",
              "    .dataframe thead th {\n",
              "        text-align: right;\n",
              "    }\n",
              "</style>\n",
              "<table border=\"1\" class=\"dataframe\">\n",
              "  <thead>\n",
              "    <tr style=\"text-align: right;\">\n",
              "      <th></th>\n",
              "      <th>employee_id</th>\n",
              "      <th>name</th>\n",
              "      <th>total_sales</th>\n",
              "    </tr>\n",
              "  </thead>\n",
              "  <tbody>\n",
              "    <tr>\n",
              "      <th>0</th>\n",
              "      <td>3</td>\n",
              "      <td>Alice Bees</td>\n",
              "      <td>23456</td>\n",
              "    </tr>\n",
              "    <tr>\n",
              "      <th>1</th>\n",
              "      <td>4</td>\n",
              "      <td>Tim Horton</td>\n",
              "      <td>2512</td>\n",
              "    </tr>\n",
              "  </tbody>\n",
              "</table>\n",
              "</div>"
            ],
            "text/plain": [
              "  employee_id        name  total_sales\n",
              "0           3  Alice Bees        23456\n",
              "1           4  Tim Horton         2512"
            ]
          },
          "execution_count": 78,
          "metadata": {},
          "output_type": "execute_result"
        }
      ],
      "source": [
        "# 라이브러리를 임포트합니다.\n",
        "import pandas as pd\n",
        "\n",
        "# 데이터프레임을 만듭니다.\n",
        "employee_data = {'employee_id': ['1', '2', '3', '4'],\n",
        "                 'name': ['Amy Jones', 'Allen Keys', 'Alice Bees',\n",
        "                 'Tim Horton']}\n",
        "dataframe_employees = pd.DataFrame(employee_data, columns = ['employee_id',\n",
        "                                                              'name'])\n",
        "\n",
        "# 데이터프레임을 만듭니다.\n",
        "sales_data = {'employee_id': ['3', '4', '5', '6'],\n",
        "              'total_sales': [23456, 2512, 2345, 1455]}\n",
        "dataframe_sales = pd.DataFrame(sales_data, columns = ['employee_id',\n",
        "                                                      'total_sales'])\n",
        "\n",
        "# 데이터프레임을 병합합니다.\n",
        "pd.merge(dataframe_employees, dataframe_sales, on='employee_id')"
      ]
    },
    {
      "cell_type": "code",
      "execution_count": null,
      "metadata": {
        "id": "AUY139G-2aN4",
        "outputId": "ac84e2fd-047e-4f30-ad2f-ebd5fe6e5cf0"
      },
      "outputs": [
        {
          "data": {
            "text/html": [
              "<div>\n",
              "<style scoped>\n",
              "    .dataframe tbody tr th:only-of-type {\n",
              "        vertical-align: middle;\n",
              "    }\n",
              "\n",
              "    .dataframe tbody tr th {\n",
              "        vertical-align: top;\n",
              "    }\n",
              "\n",
              "    .dataframe thead th {\n",
              "        text-align: right;\n",
              "    }\n",
              "</style>\n",
              "<table border=\"1\" class=\"dataframe\">\n",
              "  <thead>\n",
              "    <tr style=\"text-align: right;\">\n",
              "      <th></th>\n",
              "      <th>employee_id</th>\n",
              "      <th>name</th>\n",
              "      <th>total_sales</th>\n",
              "    </tr>\n",
              "  </thead>\n",
              "  <tbody>\n",
              "    <tr>\n",
              "      <th>0</th>\n",
              "      <td>1</td>\n",
              "      <td>Amy Jones</td>\n",
              "      <td>NaN</td>\n",
              "    </tr>\n",
              "    <tr>\n",
              "      <th>1</th>\n",
              "      <td>2</td>\n",
              "      <td>Allen Keys</td>\n",
              "      <td>NaN</td>\n",
              "    </tr>\n",
              "    <tr>\n",
              "      <th>2</th>\n",
              "      <td>3</td>\n",
              "      <td>Alice Bees</td>\n",
              "      <td>23456.0</td>\n",
              "    </tr>\n",
              "    <tr>\n",
              "      <th>3</th>\n",
              "      <td>4</td>\n",
              "      <td>Tim Horton</td>\n",
              "      <td>2512.0</td>\n",
              "    </tr>\n",
              "    <tr>\n",
              "      <th>4</th>\n",
              "      <td>5</td>\n",
              "      <td>NaN</td>\n",
              "      <td>2345.0</td>\n",
              "    </tr>\n",
              "    <tr>\n",
              "      <th>5</th>\n",
              "      <td>6</td>\n",
              "      <td>NaN</td>\n",
              "      <td>1455.0</td>\n",
              "    </tr>\n",
              "  </tbody>\n",
              "</table>\n",
              "</div>"
            ],
            "text/plain": [
              "  employee_id        name  total_sales\n",
              "0           1   Amy Jones          NaN\n",
              "1           2  Allen Keys          NaN\n",
              "2           3  Alice Bees      23456.0\n",
              "3           4  Tim Horton       2512.0\n",
              "4           5         NaN       2345.0\n",
              "5           6         NaN       1455.0"
            ]
          },
          "execution_count": 79,
          "metadata": {},
          "output_type": "execute_result"
        }
      ],
      "source": [
        "# 데이터프레임을 병합합니다.\n",
        "pd.merge(dataframe_employees, dataframe_sales, on='employee_id', how='outer')"
      ]
    },
    {
      "cell_type": "code",
      "execution_count": null,
      "metadata": {
        "id": "u2IBhL7l2aN5",
        "outputId": "64807751-830a-4600-d697-097c4a530b68"
      },
      "outputs": [
        {
          "data": {
            "text/html": [
              "<div>\n",
              "<style scoped>\n",
              "    .dataframe tbody tr th:only-of-type {\n",
              "        vertical-align: middle;\n",
              "    }\n",
              "\n",
              "    .dataframe tbody tr th {\n",
              "        vertical-align: top;\n",
              "    }\n",
              "\n",
              "    .dataframe thead th {\n",
              "        text-align: right;\n",
              "    }\n",
              "</style>\n",
              "<table border=\"1\" class=\"dataframe\">\n",
              "  <thead>\n",
              "    <tr style=\"text-align: right;\">\n",
              "      <th></th>\n",
              "      <th>employee_id</th>\n",
              "      <th>name</th>\n",
              "      <th>total_sales</th>\n",
              "    </tr>\n",
              "  </thead>\n",
              "  <tbody>\n",
              "    <tr>\n",
              "      <th>0</th>\n",
              "      <td>1</td>\n",
              "      <td>Amy Jones</td>\n",
              "      <td>NaN</td>\n",
              "    </tr>\n",
              "    <tr>\n",
              "      <th>1</th>\n",
              "      <td>2</td>\n",
              "      <td>Allen Keys</td>\n",
              "      <td>NaN</td>\n",
              "    </tr>\n",
              "    <tr>\n",
              "      <th>2</th>\n",
              "      <td>3</td>\n",
              "      <td>Alice Bees</td>\n",
              "      <td>23456.0</td>\n",
              "    </tr>\n",
              "    <tr>\n",
              "      <th>3</th>\n",
              "      <td>4</td>\n",
              "      <td>Tim Horton</td>\n",
              "      <td>2512.0</td>\n",
              "    </tr>\n",
              "  </tbody>\n",
              "</table>\n",
              "</div>"
            ],
            "text/plain": [
              "  employee_id        name  total_sales\n",
              "0           1   Amy Jones          NaN\n",
              "1           2  Allen Keys          NaN\n",
              "2           3  Alice Bees      23456.0\n",
              "3           4  Tim Horton       2512.0"
            ]
          },
          "execution_count": 80,
          "metadata": {},
          "output_type": "execute_result"
        }
      ],
      "source": [
        "# 데이터프레임을 병합합니다.\n",
        "pd.merge(dataframe_employees, dataframe_sales, on='employee_id', how='left')"
      ]
    },
    {
      "cell_type": "code",
      "execution_count": null,
      "metadata": {
        "id": "4XVBV5Qo2aN6",
        "outputId": "94e0eb81-3aec-4c77-b60d-f383dc86d8f4"
      },
      "outputs": [
        {
          "data": {
            "text/html": [
              "<div>\n",
              "<style scoped>\n",
              "    .dataframe tbody tr th:only-of-type {\n",
              "        vertical-align: middle;\n",
              "    }\n",
              "\n",
              "    .dataframe tbody tr th {\n",
              "        vertical-align: top;\n",
              "    }\n",
              "\n",
              "    .dataframe thead th {\n",
              "        text-align: right;\n",
              "    }\n",
              "</style>\n",
              "<table border=\"1\" class=\"dataframe\">\n",
              "  <thead>\n",
              "    <tr style=\"text-align: right;\">\n",
              "      <th></th>\n",
              "      <th>employee_id</th>\n",
              "      <th>name</th>\n",
              "      <th>total_sales</th>\n",
              "    </tr>\n",
              "  </thead>\n",
              "  <tbody>\n",
              "    <tr>\n",
              "      <th>0</th>\n",
              "      <td>3</td>\n",
              "      <td>Alice Bees</td>\n",
              "      <td>23456</td>\n",
              "    </tr>\n",
              "    <tr>\n",
              "      <th>1</th>\n",
              "      <td>4</td>\n",
              "      <td>Tim Horton</td>\n",
              "      <td>2512</td>\n",
              "    </tr>\n",
              "  </tbody>\n",
              "</table>\n",
              "</div>"
            ],
            "text/plain": [
              "  employee_id        name  total_sales\n",
              "0           3  Alice Bees        23456\n",
              "1           4  Tim Horton         2512"
            ]
          },
          "execution_count": 81,
          "metadata": {},
          "output_type": "execute_result"
        }
      ],
      "source": [
        "# 데이터프레임을 병합합니다.\n",
        "pd.merge(dataframe_employees,\n",
        "         dataframe_sales,\n",
        "         left_on='employee_id',\n",
        "         right_on='employee_id')"
      ]
    }
  ],
  "metadata": {
    "kernelspec": {
      "display_name": "Python 3 (ipykernel)",
      "language": "python",
      "name": "python3"
    },
    "language_info": {
      "codemirror_mode": {
        "name": "ipython",
        "version": 3
      },
      "file_extension": ".py",
      "mimetype": "text/x-python",
      "name": "python",
      "nbconvert_exporter": "python",
      "pygments_lexer": "ipython3",
      "version": "3.7.3"
    },
    "colab": {
      "provenance": []
    }
  },
  "nbformat": 4,
  "nbformat_minor": 0
}