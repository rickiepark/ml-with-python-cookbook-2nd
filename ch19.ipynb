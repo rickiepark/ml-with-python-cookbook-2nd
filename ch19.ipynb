{
  "cells": [
    {
      "cell_type": "markdown",
      "metadata": {
        "id": "r_F-f2f-0xdJ"
      },
      "source": [
        "# 19장. 군집"
      ]
    },
    {
      "cell_type": "markdown",
      "metadata": {
        "id": "fgPnt1Iy0xdS"
      },
      "source": [
        "<table align=\"left\"><tr><td>\n",
        "<a href=\"https://colab.research.google.com/github/rickiepark/ml-with-python-cookbook-2nd/blob/main/ch19.ipynb\" target=\"_parent\"><img src=\"https://colab.research.google.com/assets/colab-badge.svg\" alt=\"코랩에서 실행하기\"/></a>\n",
        "</td></tr></table>"
      ]
    },
    {
      "cell_type": "code",
      "execution_count": 1,
      "metadata": {
        "id": "t2XjZ6xn0xdU",
        "outputId": "0e4db59e-bdea-4859-d52a-030b11c76dc5",
        "colab": {
          "base_uri": "https://localhost:8080/"
        }
      },
      "outputs": [
        {
          "output_type": "stream",
          "name": "stdout",
          "text": [
            "sklearn 1.2.2\n",
            "matplotlib 3.7.1\n"
          ]
        }
      ],
      "source": [
        "import sklearn\n",
        "import matplotlib\n",
        "\n",
        "print('sklearn', sklearn.__version__)\n",
        "print('matplotlib', matplotlib.__version__)"
      ]
    },
    {
      "cell_type": "markdown",
      "metadata": {
        "id": "hlV3kz7J0xdZ"
      },
      "source": [
        "## 19.1 K-평균을 사용한 군집"
      ]
    },
    {
      "cell_type": "code",
      "execution_count": 2,
      "metadata": {
        "id": "EfBFZp-x0xdb"
      },
      "outputs": [],
      "source": [
        "# 라이브러리를 임포트합니다.\n",
        "from sklearn import datasets\n",
        "from sklearn.preprocessing import StandardScaler\n",
        "from sklearn.cluster import KMeans\n",
        "\n",
        "# 데이터를 로드합니다.\n",
        "iris = datasets.load_iris()\n",
        "features = iris.data\n",
        "\n",
        "# 특성을 표준화합니다.\n",
        "scaler = StandardScaler()\n",
        "features_std = scaler.fit_transform(features)\n",
        "\n",
        "# k-평균 객체를 만듭니다.\n",
        "cluster = KMeans(n_clusters=3, random_state=0, n_init=\"auto\")\n",
        "\n",
        "# 모델을 훈련합니다.\n",
        "model = cluster.fit(features_std)"
      ]
    },
    {
      "cell_type": "code",
      "execution_count": 3,
      "metadata": {
        "id": "RgKe0Dy60xdc",
        "outputId": "942a21a1-08d2-475f-a0d0-8da98cfa7539",
        "colab": {
          "base_uri": "https://localhost:8080/"
        }
      },
      "outputs": [
        {
          "output_type": "execute_result",
          "data": {
            "text/plain": [
              "array([0, 0, 0, 0, 0, 0, 0, 0, 0, 0, 0, 0, 0, 0, 0, 0, 0, 0, 0, 0, 0, 0,\n",
              "       0, 0, 0, 0, 0, 0, 0, 0, 0, 0, 0, 0, 0, 0, 0, 0, 0, 0, 0, 0, 0, 0,\n",
              "       0, 0, 0, 0, 0, 0, 2, 2, 2, 1, 1, 1, 2, 1, 1, 1, 1, 1, 1, 1, 1, 2,\n",
              "       1, 1, 1, 1, 2, 1, 1, 1, 1, 2, 2, 2, 1, 1, 1, 1, 1, 1, 1, 2, 2, 1,\n",
              "       1, 1, 1, 1, 1, 1, 1, 1, 1, 1, 1, 1, 2, 1, 2, 2, 2, 2, 1, 2, 1, 2,\n",
              "       2, 1, 2, 1, 1, 2, 2, 2, 2, 1, 2, 1, 2, 1, 2, 2, 1, 1, 2, 2, 2, 2,\n",
              "       2, 1, 1, 2, 2, 2, 1, 2, 2, 2, 1, 2, 2, 2, 1, 2, 2, 1], dtype=int32)"
            ]
          },
          "metadata": {},
          "execution_count": 3
        }
      ],
      "source": [
        "# 예측 클래스를 확인합니다.\n",
        "model.labels_"
      ]
    },
    {
      "cell_type": "code",
      "execution_count": 4,
      "metadata": {
        "id": "AfbLKlPo0xdf",
        "outputId": "8ebe5082-48b9-44b6-9991-57e35160b7e6",
        "colab": {
          "base_uri": "https://localhost:8080/"
        }
      },
      "outputs": [
        {
          "output_type": "execute_result",
          "data": {
            "text/plain": [
              "array([0, 0, 0, 0, 0, 0, 0, 0, 0, 0, 0, 0, 0, 0, 0, 0, 0, 0, 0, 0, 0, 0,\n",
              "       0, 0, 0, 0, 0, 0, 0, 0, 0, 0, 0, 0, 0, 0, 0, 0, 0, 0, 0, 0, 0, 0,\n",
              "       0, 0, 0, 0, 0, 0, 1, 1, 1, 1, 1, 1, 1, 1, 1, 1, 1, 1, 1, 1, 1, 1,\n",
              "       1, 1, 1, 1, 1, 1, 1, 1, 1, 1, 1, 1, 1, 1, 1, 1, 1, 1, 1, 1, 1, 1,\n",
              "       1, 1, 1, 1, 1, 1, 1, 1, 1, 1, 1, 1, 2, 2, 2, 2, 2, 2, 2, 2, 2, 2,\n",
              "       2, 2, 2, 2, 2, 2, 2, 2, 2, 2, 2, 2, 2, 2, 2, 2, 2, 2, 2, 2, 2, 2,\n",
              "       2, 2, 2, 2, 2, 2, 2, 2, 2, 2, 2, 2, 2, 2, 2, 2, 2, 2])"
            ]
          },
          "metadata": {},
          "execution_count": 4
        }
      ],
      "source": [
        "# 진짜 클래스를 확인합니다.\n",
        "iris.target"
      ]
    },
    {
      "cell_type": "code",
      "execution_count": 5,
      "metadata": {
        "id": "but1ztdm0xdh",
        "outputId": "0cdec814-a7ea-4e1d-d3d8-0df8134be7b6",
        "colab": {
          "base_uri": "https://localhost:8080/"
        }
      },
      "outputs": [
        {
          "output_type": "execute_result",
          "data": {
            "text/plain": [
              "array([2], dtype=int32)"
            ]
          },
          "metadata": {},
          "execution_count": 5
        }
      ],
      "source": [
        "# 새로운 샘플을 만듭니다.\n",
        "new_observation = [[0.8, 0.8, 0.8, 0.8]]\n",
        "\n",
        "# 샘플의 클러스터를 예측합니다.\n",
        "model.predict(new_observation)"
      ]
    },
    {
      "cell_type": "code",
      "execution_count": 6,
      "metadata": {
        "id": "K6aTPa4o0xdi",
        "outputId": "e1607f3f-539d-4bb8-d9fd-129a6eab9283",
        "colab": {
          "base_uri": "https://localhost:8080/"
        }
      },
      "outputs": [
        {
          "output_type": "execute_result",
          "data": {
            "text/plain": [
              "array([[-1.01457897,  0.85326268, -1.30498732, -1.25489349],\n",
              "       [-0.01139555, -0.87600831,  0.37707573,  0.31115341],\n",
              "       [ 1.16743407,  0.14530299,  1.00302557,  1.0300019 ]])"
            ]
          },
          "metadata": {},
          "execution_count": 6
        }
      ],
      "source": [
        "model.cluster_centers_"
      ]
    },
    {
      "cell_type": "markdown",
      "metadata": {
        "id": "SGnTv-7K0xdj"
      },
      "source": [
        "### 붙임"
      ]
    },
    {
      "cell_type": "code",
      "execution_count": 7,
      "metadata": {
        "id": "AE2IhAxO0xdj",
        "outputId": "90484d23-9c91-4d9d-db1d-7feb06a68367",
        "colab": {
          "base_uri": "https://localhost:8080/"
        }
      },
      "outputs": [
        {
          "output_type": "execute_result",
          "data": {
            "text/plain": [
              "140.0327527742865"
            ]
          },
          "metadata": {},
          "execution_count": 7
        }
      ],
      "source": [
        "model.inertia_"
      ]
    },
    {
      "cell_type": "code",
      "execution_count": 8,
      "metadata": {
        "id": "128EtosK0xdj",
        "outputId": "a3291ab9-c31c-44a2-d3d9-af185b9816c2",
        "colab": {
          "base_uri": "https://localhost:8080/"
        }
      },
      "outputs": [
        {
          "output_type": "execute_result",
          "data": {
            "text/plain": [
              "-140.0327527742865"
            ]
          },
          "metadata": {},
          "execution_count": 8
        }
      ],
      "source": [
        "model.score(features_std)"
      ]
    },
    {
      "cell_type": "code",
      "execution_count": 9,
      "metadata": {
        "id": "p7CbH-Kw0xdk",
        "outputId": "f81d1113-75fb-4506-a312-44141ee74453",
        "colab": {
          "base_uri": "https://localhost:8080/"
        }
      },
      "outputs": [
        {
          "output_type": "execute_result",
          "data": {
            "text/plain": [
              "array([[3.45674596, 1.97109171, 0.81102172]])"
            ]
          },
          "metadata": {},
          "execution_count": 9
        }
      ],
      "source": [
        "model.transform(new_observation)"
      ]
    },
    {
      "cell_type": "code",
      "execution_count": 10,
      "metadata": {
        "id": "froR4Ri_0xdl"
      },
      "outputs": [],
      "source": [
        "inertia = []\n",
        "for n in range(1, 10):\n",
        "    kmeans = KMeans(n_clusters=n, random_state=0, n_init=\"auto\")\n",
        "    inertia.append(kmeans.fit(features_std).inertia_)"
      ]
    },
    {
      "cell_type": "code",
      "execution_count": 11,
      "metadata": {
        "id": "AE44R8Rt0xdm"
      },
      "outputs": [],
      "source": [
        "import matplotlib.pyplot as plt"
      ]
    },
    {
      "cell_type": "code",
      "execution_count": 12,
      "metadata": {
        "id": "CiWBIW-Q0xdm",
        "outputId": "09d2328a-f912-4643-e576-6fe3041b8669",
        "colab": {
          "base_uri": "https://localhost:8080/",
          "height": 430
        }
      },
      "outputs": [
        {
          "output_type": "display_data",
          "data": {
            "text/plain": [
              "<Figure size 640x480 with 1 Axes>"
            ],
            "image/png": "[encoded data removed]"
          },
          "metadata": {}
        }
      ],
      "source": [
        "plt.plot(range(1, 10), inertia)\n",
        "plt.show()"
      ]
    },
    {
      "cell_type": "markdown",
      "metadata": {
        "id": "n7hMA0PB0xdn"
      },
      "source": [
        "## 19.2 K-평균 군집 속도 향상하기"
      ]
    },
    {
      "cell_type": "code",
      "execution_count": 13,
      "metadata": {
        "id": "65IUUfOc0xdn"
      },
      "outputs": [],
      "source": [
        "# 라이브러리를 임포트합니다.\n",
        "from sklearn import datasets\n",
        "from sklearn.preprocessing import StandardScaler\n",
        "from sklearn.cluster import MiniBatchKMeans\n",
        "\n",
        "# 데이터를 로드합니다.\n",
        "iris = datasets.load_iris()\n",
        "features = iris.data\n",
        "\n",
        "# 특성을 표준화합니다.\n",
        "scaler = StandardScaler()\n",
        "features_std = scaler.fit_transform(features)\n",
        "\n",
        "# k-평균 객체를 만듭니다.\n",
        "cluster = MiniBatchKMeans(n_clusters=3, random_state=0, batch_size=100,\n",
        "                          n_init=\"auto\")\n",
        "\n",
        "# 모델을 훈련합니다.\n",
        "model = cluster.fit(features_std)"
      ]
    },
    {
      "cell_type": "markdown",
      "metadata": {
        "id": "pb6vXiWu0xdn"
      },
      "source": [
        "### 붙임"
      ]
    },
    {
      "cell_type": "code",
      "execution_count": 25,
      "metadata": {
        "id": "_rm2y9Z50xdn"
      },
      "outputs": [],
      "source": [
        "mb_kmeans = MiniBatchKMeans(n_init=\"auto\")\n",
        "\n",
        "for i in range(3):\n",
        "    mb_kmeans.partial_fit(features_std[i*50:(i+1)*50])"
      ]
    },
    {
      "cell_type": "markdown",
      "metadata": {
        "id": "21tMvMFl0xdr"
      },
      "source": [
        "## 19.3 평균이동을 사용한 군집"
      ]
    },
    {
      "cell_type": "code",
      "execution_count": 15,
      "metadata": {
        "id": "LooqufuY0xdr"
      },
      "outputs": [],
      "source": [
        "# 라이브러리를 임포트합니다.\n",
        "from sklearn import datasets\n",
        "from sklearn.preprocessing import StandardScaler\n",
        "from sklearn.cluster import MeanShift\n",
        "\n",
        "# 데이터를 로드합니다.\n",
        "iris = datasets.load_iris()\n",
        "features = iris.data\n",
        "\n",
        "# 특성을 표준화합니다.\n",
        "scaler = StandardScaler()\n",
        "features_std = scaler.fit_transform(features)\n",
        "\n",
        "# meanshift 객체를 만듭니다.\n",
        "cluster = MeanShift(n_jobs=-1)\n",
        "\n",
        "# 모델을 훈련합니다.\n",
        "model = cluster.fit(features_std)"
      ]
    },
    {
      "cell_type": "markdown",
      "metadata": {
        "id": "YU_y5KcS0xds"
      },
      "source": [
        "### 붙임"
      ]
    },
    {
      "cell_type": "code",
      "execution_count": 16,
      "metadata": {
        "id": "kdPS44ZF0xds",
        "outputId": "a7b4750e-3978-4e83-f625-82537c26c8e1",
        "colab": {
          "base_uri": "https://localhost:8080/"
        }
      },
      "outputs": [
        {
          "output_type": "execute_result",
          "data": {
            "text/plain": [
              "array([1, 1, 1, 1, 1, 1, 1, 1, 1, 1, 1, 1, 1, 1, 1, 1, 1, 1, 1, 1, 1, 1,\n",
              "       1, 1, 1, 1, 1, 1, 1, 1, 1, 1, 1, 1, 1, 1, 1, 1, 1, 1, 1, 1, 1, 1,\n",
              "       1, 1, 1, 1, 1, 1, 0, 0, 0, 0, 0, 0, 0, 0, 0, 0, 0, 0, 0, 0, 0, 0,\n",
              "       0, 0, 0, 0, 0, 0, 0, 0, 0, 0, 0, 0, 0, 0, 0, 0, 0, 0, 0, 0, 0, 0,\n",
              "       0, 0, 0, 0, 0, 0, 0, 0, 0, 0, 0, 0, 0, 0, 0, 0, 0, 0, 0, 0, 0, 0,\n",
              "       0, 0, 0, 0, 0, 0, 0, 0, 0, 0, 0, 0, 0, 0, 0, 0, 0, 0, 0, 0, 0, 0,\n",
              "       0, 0, 0, 0, 0, 0, 0, 0, 0, 0, 0, 0, 0, 0, 0, 0, 0, 0])"
            ]
          },
          "metadata": {},
          "execution_count": 16
        }
      ],
      "source": [
        "model.labels_"
      ]
    },
    {
      "cell_type": "code",
      "execution_count": 17,
      "metadata": {
        "id": "siyaeilm0xds",
        "outputId": "f7169f3b-a36d-4b4e-e743-1a7c2a9ae478",
        "colab": {
          "base_uri": "https://localhost:8080/"
        }
      },
      "outputs": [
        {
          "output_type": "execute_result",
          "data": {
            "text/plain": [
              "array([[ 0.50161528, -0.32287436,  0.65393539,  0.65261739],\n",
              "       [-1.05954571,  0.75811468, -1.2998088 , -1.25401594]])"
            ]
          },
          "metadata": {},
          "execution_count": 17
        }
      ],
      "source": [
        "model.cluster_centers_"
      ]
    },
    {
      "cell_type": "markdown",
      "metadata": {
        "id": "kl2HHdyF0xds"
      },
      "source": [
        "## 19.4 DBSCAN을 사용한 군집"
      ]
    },
    {
      "cell_type": "code",
      "execution_count": 18,
      "metadata": {
        "id": "YI8zeGcF0xdt"
      },
      "outputs": [],
      "source": [
        "# 라이브러리를 임포트합니다.\n",
        "from sklearn import datasets\n",
        "from sklearn.preprocessing import StandardScaler\n",
        "from sklearn.cluster import DBSCAN\n",
        "\n",
        "# 데이터를 로드합니다.\n",
        "iris = datasets.load_iris()\n",
        "features = iris.data\n",
        "\n",
        "# 특성을 표준화합니다.\n",
        "scaler = StandardScaler()\n",
        "features_std = scaler.fit_transform(features)\n",
        "\n",
        "# DBSCAN 객체를 만듭니다.\n",
        "cluster = DBSCAN(n_jobs=-1)\n",
        "\n",
        "# 모델을 훈련합니다.\n",
        "model = cluster.fit(features_std)"
      ]
    },
    {
      "cell_type": "code",
      "execution_count": 19,
      "metadata": {
        "id": "vjDogpu20xdt",
        "outputId": "a3628ea9-1651-4f26-a226-dc5ab6033736",
        "colab": {
          "base_uri": "https://localhost:8080/"
        }
      },
      "outputs": [
        {
          "output_type": "execute_result",
          "data": {
            "text/plain": [
              "array([ 0,  0,  0,  0,  0,  0,  0,  0,  0,  0,  0,  0,  0,  0, -1, -1,  0,\n",
              "        0,  0,  0,  0,  0,  0,  0,  0,  0,  0,  0,  0,  0,  0,  0, -1, -1,\n",
              "        0,  0,  0,  0,  0,  0,  0, -1,  0,  0,  0,  0,  0,  0,  0,  0,  1,\n",
              "        1,  1,  1,  1,  1, -1, -1,  1, -1, -1,  1, -1,  1,  1,  1,  1,  1,\n",
              "       -1,  1,  1,  1, -1,  1,  1,  1,  1,  1,  1,  1,  1,  1,  1,  1,  1,\n",
              "       -1,  1, -1,  1,  1,  1,  1,  1, -1,  1,  1,  1,  1, -1,  1, -1,  1,\n",
              "        1,  1,  1, -1, -1, -1, -1, -1,  1,  1,  1,  1, -1,  1,  1, -1, -1,\n",
              "       -1,  1,  1, -1,  1,  1, -1,  1,  1,  1, -1, -1, -1,  1,  1,  1, -1,\n",
              "       -1,  1,  1,  1,  1,  1,  1,  1,  1,  1,  1,  1, -1,  1])"
            ]
          },
          "metadata": {},
          "execution_count": 19
        }
      ],
      "source": [
        "# 클러스터 소속을 확인합니다.\n",
        "model.labels_"
      ]
    },
    {
      "cell_type": "markdown",
      "metadata": {
        "id": "7sxu23d_0xdu"
      },
      "source": [
        "### 붙임"
      ]
    },
    {
      "cell_type": "code",
      "execution_count": 20,
      "metadata": {
        "id": "e0wc8FSh0xdu",
        "outputId": "541bfff9-44b7-4a36-bc62-65a995bd7e2a",
        "colab": {
          "base_uri": "https://localhost:8080/"
        }
      },
      "outputs": [
        {
          "output_type": "execute_result",
          "data": {
            "text/plain": [
              "array([  0,   1,   2,   3,   4,   5,   6,   7,   9,  10,  11,  12,  17,\n",
              "        19,  20,  21,  23,  24,  25,  26,  27,  28,  29,  30,  31,  34,\n",
              "        35,  36,  37,  38,  39,  40,  42,  43,  44,  45,  46,  47,  48,\n",
              "        49,  52,  54,  55,  58,  61,  63,  64,  65,  66,  67,  69,  71,\n",
              "        73,  74,  75,  77,  78,  79,  80,  81,  82,  83,  86,  88,  89,\n",
              "        90,  91,  92,  94,  95,  96,  97,  99, 101, 103, 104, 110, 111,\n",
              "       112, 116, 120, 123, 126, 133, 137, 138, 139, 140, 141, 142, 143,\n",
              "       145, 147])"
            ]
          },
          "metadata": {},
          "execution_count": 20
        }
      ],
      "source": [
        "model.core_sample_indices_"
      ]
    },
    {
      "cell_type": "code",
      "execution_count": 21,
      "metadata": {
        "id": "PyZpyMGH0xdv",
        "outputId": "f613e0de-7f60-494d-b0ac-8d437ef41268",
        "colab": {
          "base_uri": "https://localhost:8080/"
        }
      },
      "outputs": [
        {
          "output_type": "execute_result",
          "data": {
            "text/plain": [
              "array([ 0,  0,  0,  0,  0,  0,  0,  0,  0,  0,  0,  0,  0,  0, -1, -1,  0,\n",
              "        0,  0,  0,  0,  0,  0,  0,  0,  0,  0,  0,  0,  0,  0,  0, -1, -1,\n",
              "        0,  0,  0,  0,  0,  0,  0, -1,  0,  0,  0,  0,  0,  0,  0,  0,  1,\n",
              "        1,  1,  1,  1,  1, -1, -1,  1, -1, -1,  1, -1,  1,  1,  1,  1,  1,\n",
              "       -1,  1,  1,  1, -1,  1,  1,  1,  1,  1,  1,  1,  1,  1,  1,  1,  1,\n",
              "       -1,  1, -1,  1,  1,  1,  1,  1, -1,  1,  1,  1,  1, -1,  1, -1,  1,\n",
              "        1,  1,  1, -1, -1, -1, -1, -1,  1,  1,  1,  1, -1,  1,  1, -1, -1,\n",
              "       -1,  1,  1, -1,  1,  1, -1,  1,  1,  1, -1, -1, -1,  1,  1,  1, -1,\n",
              "       -1,  1,  1,  1,  1,  1,  1,  1,  1,  1,  1,  1, -1,  1])"
            ]
          },
          "metadata": {},
          "execution_count": 21
        }
      ],
      "source": [
        "cluster.fit_predict(features_std)"
      ]
    },
    {
      "cell_type": "markdown",
      "metadata": {
        "id": "Oa5efG_L0xdv"
      },
      "source": [
        "## 19.5 계층적 병합을 사용한 군집"
      ]
    },
    {
      "cell_type": "code",
      "execution_count": 22,
      "metadata": {
        "id": "A5z9UJTy0xdv"
      },
      "outputs": [],
      "source": [
        "# 라이브러리를 임포트합니다.\n",
        "from sklearn import datasets\n",
        "from sklearn.preprocessing import StandardScaler\n",
        "from sklearn.cluster import AgglomerativeClustering\n",
        "\n",
        "# 데이터를 로드합니다.\n",
        "iris = datasets.load_iris()\n",
        "features = iris.data\n",
        "\n",
        "# 특성을 표준화합니다.\n",
        "scaler = StandardScaler()\n",
        "features_std = scaler.fit_transform(features)\n",
        "\n",
        "# 병합 군집 객체를 만듭니다.\n",
        "cluster = AgglomerativeClustering(n_clusters=3)\n",
        "\n",
        "# 모델을 훈련합니다.\n",
        "model = cluster.fit(features_std)"
      ]
    },
    {
      "cell_type": "code",
      "execution_count": 23,
      "metadata": {
        "scrolled": true,
        "id": "MqouxS_D0xdx",
        "outputId": "5d0c3117-9d94-4fee-df42-6775b4d7e9c5",
        "colab": {
          "base_uri": "https://localhost:8080/"
        }
      },
      "outputs": [
        {
          "output_type": "execute_result",
          "data": {
            "text/plain": [
              "array([1, 1, 1, 1, 1, 1, 1, 1, 1, 1, 1, 1, 1, 1, 1, 1, 1, 1, 1, 1, 1, 1,\n",
              "       1, 1, 1, 1, 1, 1, 1, 1, 1, 1, 1, 1, 1, 1, 1, 1, 1, 1, 1, 2, 1, 1,\n",
              "       1, 1, 1, 1, 1, 1, 0, 0, 0, 2, 0, 2, 0, 2, 0, 2, 2, 0, 2, 0, 2, 0,\n",
              "       2, 2, 2, 2, 0, 0, 0, 0, 0, 0, 0, 0, 0, 2, 2, 2, 2, 0, 2, 0, 0, 2,\n",
              "       2, 2, 2, 0, 2, 2, 2, 2, 2, 0, 2, 2, 0, 0, 0, 0, 0, 0, 2, 0, 0, 0,\n",
              "       0, 0, 0, 0, 0, 0, 0, 0, 0, 2, 0, 0, 0, 0, 0, 0, 0, 0, 0, 0, 0, 0,\n",
              "       0, 0, 0, 0, 0, 0, 0, 0, 0, 0, 0, 0, 0, 0, 0, 0, 0, 0])"
            ]
          },
          "metadata": {},
          "execution_count": 23
        }
      ],
      "source": [
        "# 클러스터 소속을 확인합니다.\n",
        "model.labels_"
      ]
    },
    {
      "cell_type": "markdown",
      "metadata": {
        "id": "JZG0iEzs0xdx"
      },
      "source": [
        "### 붙임"
      ]
    },
    {
      "cell_type": "code",
      "execution_count": 24,
      "metadata": {
        "id": "PEzLf0i80xdx",
        "outputId": "f9e76719-6608-4735-e7c5-639d0cc65bce",
        "colab": {
          "base_uri": "https://localhost:8080/"
        }
      },
      "outputs": [
        {
          "output_type": "execute_result",
          "data": {
            "text/plain": [
              "array([1, 1, 1, 1, 1, 1, 1, 1, 1, 1, 1, 1, 1, 1, 1, 1, 1, 1, 1, 1, 1, 1,\n",
              "       1, 1, 1, 1, 1, 1, 1, 1, 1, 1, 1, 1, 1, 1, 1, 1, 1, 1, 1, 2, 1, 1,\n",
              "       1, 1, 1, 1, 1, 1, 0, 0, 0, 2, 0, 2, 0, 2, 0, 2, 2, 0, 2, 0, 2, 0,\n",
              "       2, 2, 2, 2, 0, 0, 0, 0, 0, 0, 0, 0, 0, 2, 2, 2, 2, 0, 2, 0, 0, 2,\n",
              "       2, 2, 2, 0, 2, 2, 2, 2, 2, 0, 2, 2, 0, 0, 0, 0, 0, 0, 2, 0, 0, 0,\n",
              "       0, 0, 0, 0, 0, 0, 0, 0, 0, 2, 0, 0, 0, 0, 0, 0, 0, 0, 0, 0, 0, 0,\n",
              "       0, 0, 0, 0, 0, 0, 0, 0, 0, 0, 0, 0, 0, 0, 0, 0, 0, 0])"
            ]
          },
          "metadata": {},
          "execution_count": 24
        }
      ],
      "source": [
        "cluster.fit_predict(features_std)"
      ]
    }
  ],
  "metadata": {
    "kernelspec": {
      "display_name": "Python 3 (ipykernel)",
      "language": "python",
      "name": "python3"
    },
    "language_info": {
      "codemirror_mode": {
        "name": "ipython",
        "version": 3
      },
      "file_extension": ".py",
      "mimetype": "text/x-python",
      "name": "python",
      "nbconvert_exporter": "python",
      "pygments_lexer": "ipython3",
      "version": "3.10.13"
    },
    "colab": {
      "provenance": []
    }
  },
  "nbformat": 4,
  "nbformat_minor": 0
}