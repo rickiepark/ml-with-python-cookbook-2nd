{
  "cells": [
    {
      "cell_type": "markdown",
      "metadata": {
        "id": "LmXRZYcLyyUj"
      },
      "source": [
        "# 15장. K-최근접 이웃"
      ]
    },
    {
      "cell_type": "markdown",
      "metadata": {
        "id": "7Ypf4p3lyyUs"
      },
      "source": [
        "<table align=\"left\"><tr><td>\n",
        "<a href=\"https://colab.research.google.com/github/rickiepark/ml-with-python-cookbook-2nd/blob/main/ch15.ipynb\" target=\"_parent\"><img src=\"https://colab.research.google.com/assets/colab-badge.svg\" alt=\"코랩에서 실행하기\"/></a>\n",
        "</td></tr></table>"
      ]
    },
    {
      "cell_type": "code",
      "source": [
        "# 코랩을 사용하는 경우 다음 명령을 실행하세요.\n",
        "!pip install faiss-cpu"
      ],
      "metadata": {
        "colab": {
          "base_uri": "https://localhost:8080/"
        },
        "id": "xeYinli-0k2C",
        "outputId": "56438b51-b6ca-44f6-e988-236fa1ef1b95"
      },
      "execution_count": 1,
      "outputs": [
        {
          "output_type": "stream",
          "name": "stdout",
          "text": [
            "Requirement already satisfied: faiss-cpu in /usr/local/lib/python3.10/dist-packages (1.8.0)\n",
            "Requirement already satisfied: numpy in /usr/local/lib/python3.10/dist-packages (from faiss-cpu) (1.25.2)\n"
          ]
        }
      ]
    },
    {
      "cell_type": "code",
      "execution_count": 2,
      "metadata": {
        "colab": {
          "base_uri": "https://localhost:8080/"
        },
        "id": "uBIKsbo1yyUt",
        "outputId": "cafc4657-9428-4978-859e-383ddb3f0e4e"
      },
      "outputs": [
        {
          "output_type": "stream",
          "name": "stdout",
          "text": [
            "numpy 1.25.2\n",
            "sklearn 1.2.2\n",
            "faiss 1.8.0\n"
          ]
        }
      ],
      "source": [
        "import numpy as np\n",
        "import sklearn\n",
        "import faiss\n",
        "\n",
        "print('numpy', np.__version__)\n",
        "print('sklearn', sklearn.__version__)\n",
        "print('faiss', faiss.__version__)"
      ]
    },
    {
      "cell_type": "markdown",
      "metadata": {
        "id": "A7vaR99GyyUx"
      },
      "source": [
        "## 15.1 샘플의 최근접 이웃 찾기"
      ]
    },
    {
      "cell_type": "code",
      "execution_count": 3,
      "metadata": {
        "colab": {
          "base_uri": "https://localhost:8080/"
        },
        "id": "hOSTtfnuyyUx",
        "outputId": "68b8673e-1762-4c96-b5ff-f26472c9609f"
      },
      "outputs": [
        {
          "output_type": "execute_result",
          "data": {
            "text/plain": [
              "array([[[1.03800476, 0.55861082, 1.10378283, 1.18556721],\n",
              "        [0.79566902, 0.32841405, 0.76275827, 1.05393502]]])"
            ]
          },
          "metadata": {},
          "execution_count": 3
        }
      ],
      "source": [
        "# 라이브러리를 임포트합니다.\n",
        "from sklearn import datasets\n",
        "from sklearn.neighbors import NearestNeighbors\n",
        "from sklearn.preprocessing import StandardScaler\n",
        "\n",
        "# 데이터를 로드합니다.\n",
        "iris = datasets.load_iris()\n",
        "features = iris.data\n",
        "\n",
        "# 표준화 객체를 만듭니다.\n",
        "standardizer = StandardScaler()\n",
        "\n",
        "# 특성을 표준화합니다.\n",
        "features_standardized = standardizer.fit_transform(features)\n",
        "\n",
        "# k=2인 최근접 이웃 모델을 만듭니다.\n",
        "nearest_neighbors = NearestNeighbors(n_neighbors=2).fit(features_standardized)\n",
        "\n",
        "# 새로운 샘플을 만듭니다.\n",
        "new_observation = [ 1,  1,  1,  1]\n",
        "\n",
        "# 이 샘플과 가장 가까운 이웃의 인덱스와 거리를 찾습니다.\n",
        "distances, indices = nearest_neighbors.kneighbors([new_observation])\n",
        "\n",
        "# 최근접 이웃을 확인합니다.\n",
        "features_standardized[indices]"
      ]
    },
    {
      "cell_type": "code",
      "execution_count": 4,
      "metadata": {
        "id": "6MTHh1PByyU0"
      },
      "outputs": [],
      "source": [
        "nearestneighbors_euclidean = NearestNeighbors(\n",
        "    n_neighbors=2, metric='euclidean').fit(features_standardized)"
      ]
    },
    {
      "cell_type": "code",
      "execution_count": 5,
      "metadata": {
        "colab": {
          "base_uri": "https://localhost:8080/"
        },
        "id": "1bjRFexByyU1",
        "outputId": "d0eeedcc-baf9-4fd2-e2a7-8e7bbc954791"
      },
      "outputs": [
        {
          "output_type": "execute_result",
          "data": {
            "text/plain": [
              "array([[0.49140089, 0.74294782]])"
            ]
          },
          "metadata": {},
          "execution_count": 5
        }
      ],
      "source": [
        "# 거리를 확인합니다.\n",
        "distances"
      ]
    },
    {
      "cell_type": "code",
      "execution_count": 6,
      "metadata": {
        "colab": {
          "base_uri": "https://localhost:8080/"
        },
        "id": "5Y1b2yH2yyU1",
        "outputId": "10242943-69a8-4878-fc4c-5ef3c4b12d61"
      },
      "outputs": [
        {
          "output_type": "execute_result",
          "data": {
            "text/plain": [
              "array([0., 0., 0., 0., 0., 0., 0., 0., 0., 0., 0., 0., 0., 0., 0., 0., 0.,\n",
              "       1., 0., 0., 0., 0., 0., 0., 0., 0., 0., 1., 0., 0., 0., 0., 0., 0.,\n",
              "       0., 0., 0., 0., 0., 0., 0., 0., 0., 0., 0., 0., 0., 0., 0., 0., 0.,\n",
              "       0., 0., 0., 0., 0., 0., 0., 0., 0., 0., 0., 0., 0., 0., 0., 0., 0.,\n",
              "       0., 0., 0., 0., 0., 0., 0., 0., 0., 0., 0., 0., 0., 0., 0., 0., 0.,\n",
              "       0., 0., 0., 0., 0., 0., 0., 0., 0., 0., 0., 0., 0., 0., 0., 0., 0.,\n",
              "       0., 0., 0., 0., 0., 0., 0., 0., 0., 0., 0., 0., 0., 0., 0., 0., 0.,\n",
              "       0., 0., 0., 0., 0., 0., 0., 0., 0., 0., 0., 0., 0., 0., 0., 0., 0.,\n",
              "       0., 0., 0., 0., 0., 0., 0., 0., 0., 0., 0., 0., 0., 0.])"
            ]
          },
          "metadata": {},
          "execution_count": 6
        }
      ],
      "source": [
        "# 유클리디안 거리를 기반으로 각 샘플에 대해 (자기 자신을 포함한) 세 개의 최근접 이웃을 찾습니다.\n",
        "nearestneighbors_euclidean = NearestNeighbors(\n",
        "    n_neighbors=3, metric=\"euclidean\").fit(features_standardized)\n",
        "\n",
        "# 각 샘플의 (자기 자신을 포함한) 3개의 최근접 이웃을 나타내는 리스트의 리스트\n",
        "nearest_neighbors_with_self = nearestneighbors_euclidean.kneighbors_graph(\n",
        "    features_standardized).toarray()\n",
        "\n",
        "# 최근접 이웃 중에서 1로 표시된 자기 자신을 제외시킵니다.\n",
        "for i, x in enumerate(nearest_neighbors_with_self):\n",
        "    x[i] = 0\n",
        "\n",
        "# 첫 번째 샘플에 대한 두 개의 최근접 이웃을 확인합니다.\n",
        "nearest_neighbors_with_self[0]"
      ]
    },
    {
      "cell_type": "markdown",
      "metadata": {
        "id": "Q4XPwV5eyyU2"
      },
      "source": [
        "### 붙임"
      ]
    },
    {
      "cell_type": "code",
      "execution_count": 7,
      "metadata": {
        "colab": {
          "base_uri": "https://localhost:8080/"
        },
        "id": "V-HfgKgryyU3",
        "outputId": "944b8904-65c1-42c4-debf-44b144f135ee"
      },
      "outputs": [
        {
          "output_type": "execute_result",
          "data": {
            "text/plain": [
              "array([[[1.03800476, 0.55861082, 1.10378283, 1.18556721],\n",
              "        [0.79566902, 0.32841405, 0.76275827, 1.05393502],\n",
              "        [0.4321654 , 0.78880759, 0.93327055, 1.44883158],\n",
              "        [0.55333328, 0.78880759, 1.0469454 , 1.58046376],\n",
              "        [1.03800476, 0.55861082, 1.10378283, 1.71209594]]])"
            ]
          },
          "metadata": {},
          "execution_count": 7
        }
      ],
      "source": [
        "# 이 샘플과 가장 가까운 이웃의 다섯개의 인덱스를 찾습니다.\n",
        "indices = nearest_neighbors.kneighbors(\n",
        "    [new_observation], n_neighbors=5, return_distance=False)\n",
        "\n",
        "# 최근접 이웃을 확인합니다.\n",
        "features_standardized[indices]"
      ]
    },
    {
      "cell_type": "code",
      "execution_count": 8,
      "metadata": {
        "colab": {
          "base_uri": "https://localhost:8080/"
        },
        "id": "PTHxCUkZyyU5",
        "outputId": "f20d210d-9fe3-416a-9851-81652fdbb09a"
      },
      "outputs": [
        {
          "output_type": "execute_result",
          "data": {
            "text/plain": [
              "array([[1.03800476, 0.55861082, 1.10378283, 1.18556721]])"
            ]
          },
          "metadata": {},
          "execution_count": 8
        }
      ],
      "source": [
        "# 반경 0.5 안에 있는 모든 샘플의 인덱스를 찾습니다.\n",
        "indices = nearest_neighbors.radius_neighbors(\n",
        "    [new_observation], radius=0.5, return_distance=False)\n",
        "\n",
        "# 반경 내의 이웃을 확인합니다.\n",
        "features_standardized[indices[0]]"
      ]
    },
    {
      "cell_type": "code",
      "execution_count": 9,
      "metadata": {
        "colab": {
          "base_uri": "https://localhost:8080/"
        },
        "id": "yByMkJC-yyU6",
        "outputId": "3320ecfc-c075-471a-a2b9-2f64b2d9a80f"
      },
      "outputs": [
        {
          "output_type": "execute_result",
          "data": {
            "text/plain": [
              "array([0., 0., 0., 0., 0., 0., 0., 0., 0., 0., 0., 0., 0., 0., 0., 0., 0.,\n",
              "       0., 0., 0., 0., 0., 0., 0., 0., 0., 0., 0., 0., 0., 0., 0., 0., 0.,\n",
              "       0., 0., 0., 0., 0., 0., 0., 0., 0., 0., 0., 0., 0., 0., 0., 0., 0.,\n",
              "       0., 0., 0., 0., 0., 0., 0., 0., 0., 0., 0., 0., 0., 0., 0., 0., 0.,\n",
              "       0., 0., 0., 0., 0., 0., 0., 0., 0., 0., 0., 0., 0., 0., 0., 0., 0.,\n",
              "       0., 0., 0., 0., 0., 0., 0., 0., 0., 0., 0., 0., 0., 0., 0., 0., 0.,\n",
              "       0., 0., 0., 0., 0., 0., 0., 0., 0., 0., 0., 0., 0., 0., 0., 0., 0.,\n",
              "       0., 0., 0., 0., 0., 1., 0., 0., 0., 0., 0., 0., 0., 0., 0., 0., 0.,\n",
              "       0., 0., 0., 0., 0., 0., 0., 0., 0., 0., 0., 0., 0., 0.])"
            ]
          },
          "metadata": {},
          "execution_count": 9
        }
      ],
      "source": [
        "# 반경 내의 이웃을 나타내는 리스트의 리스트\n",
        "nearest_neighbors_with_self = nearest_neighbors.radius_neighbors_graph(\n",
        "    [new_observation], radius=0.5).toarray()\n",
        "\n",
        "# 첫 번째 샘플에 대한 반경 내의 이웃을 확인합니다.\n",
        "nearest_neighbors_with_self[0]"
      ]
    },
    {
      "cell_type": "markdown",
      "metadata": {
        "id": "D2LtXaCqyyU7"
      },
      "source": [
        "## 15.2 K-최근접 이웃 분류기 만들기"
      ]
    },
    {
      "cell_type": "code",
      "execution_count": 10,
      "metadata": {
        "colab": {
          "base_uri": "https://localhost:8080/"
        },
        "id": "GxY_O9K1yyU7",
        "outputId": "82027c15-7a5e-4830-d278-8dd0d0cf1144"
      },
      "outputs": [
        {
          "output_type": "execute_result",
          "data": {
            "text/plain": [
              "array([1, 2])"
            ]
          },
          "metadata": {},
          "execution_count": 10
        }
      ],
      "source": [
        "# 라이브러리를 임포트합니다.\n",
        "from sklearn.neighbors import KNeighborsClassifier\n",
        "from sklearn.preprocessing import StandardScaler\n",
        "from sklearn import datasets\n",
        "\n",
        "# 데이터를 로드합니다.\n",
        "iris = datasets.load_iris()\n",
        "X = iris.data\n",
        "y = iris.target\n",
        "\n",
        "# 표준화 객체를 만듭니다.\n",
        "standardizer = StandardScaler()\n",
        "\n",
        "# 특성을 표준화합니다.\n",
        "X_std = standardizer.fit_transform(X)\n",
        "\n",
        "# 5개의 이웃을 사용한 KNN 분류기를 훈련합니다.\n",
        "knn = KNeighborsClassifier(n_neighbors=5, n_jobs=-1).fit(X_std, y)\n",
        "\n",
        "# 두 개의 샘플을 만듭니다.\n",
        "new_observations = [[ 0.75,  0.75,  0.75,  0.75],\n",
        "                    [ 1,  1,  1,  1]]\n",
        "\n",
        "# 두 샘플의 클래스를 예측합니다.\n",
        "knn.predict(new_observations)"
      ]
    },
    {
      "cell_type": "code",
      "execution_count": 11,
      "metadata": {
        "colab": {
          "base_uri": "https://localhost:8080/"
        },
        "id": "MRaU1llByyU9",
        "outputId": "24633cff-5cae-4626-8776-fa375d53a660"
      },
      "outputs": [
        {
          "output_type": "execute_result",
          "data": {
            "text/plain": [
              "array([[0. , 0.6, 0.4],\n",
              "       [0. , 0. , 1. ]])"
            ]
          },
          "metadata": {},
          "execution_count": 11
        }
      ],
      "source": [
        "# 각 샘플이 세 클래스에 속할 확률을 확인합니다.\n",
        "knn.predict_proba(new_observations)"
      ]
    },
    {
      "cell_type": "markdown",
      "metadata": {
        "id": "CbWF18HOyyU-"
      },
      "source": [
        "### 붙임"
      ]
    },
    {
      "cell_type": "code",
      "execution_count": 12,
      "metadata": {
        "id": "PSwDTx99yyU-"
      },
      "outputs": [],
      "source": [
        "# 라이브러리를 임포트합니다.\n",
        "from sklearn.neighbors import KNeighborsRegressor\n",
        "from sklearn import datasets\n",
        "\n",
        "# 데이터를 로드합니다.\n",
        "diabetes = datasets.load_diabetes()\n",
        "features = diabetes.data\n",
        "target = diabetes.target\n",
        "\n",
        "# 최근접 회귀 모델을 만듭니다.\n",
        "knn_regressor = KNeighborsRegressor(n_neighbors=10)\n",
        "\n",
        "# 모델을 훈련합니다.\n",
        "model = knn_regressor.fit(features, target)"
      ]
    },
    {
      "cell_type": "code",
      "execution_count": 13,
      "metadata": {
        "colab": {
          "base_uri": "https://localhost:8080/"
        },
        "id": "lunTWG7CyyU_",
        "outputId": "746a03ad-6207-4b1e-b4f3-56073012a6b7"
      },
      "outputs": [
        {
          "output_type": "execute_result",
          "data": {
            "text/plain": [
              "191.8"
            ]
          },
          "metadata": {},
          "execution_count": 13
        }
      ],
      "source": [
        "# 첫 번째 샘플의 타깃 값을 예측합니다.\n",
        "model.predict(features[0:1])[0]"
      ]
    },
    {
      "cell_type": "code",
      "execution_count": 14,
      "metadata": {
        "colab": {
          "base_uri": "https://localhost:8080/"
        },
        "id": "-VcndX_XyyU_",
        "outputId": "98c91988-c2ec-45c8-803e-6cd782839de5"
      },
      "outputs": [
        {
          "output_type": "execute_result",
          "data": {
            "text/plain": [
              "191.8"
            ]
          },
          "metadata": {},
          "execution_count": 14
        }
      ],
      "source": [
        "import numpy as np\n",
        "\n",
        "indices = model.kneighbors(features[0:1], return_distance=False)\n",
        "np.mean(target[indices])"
      ]
    },
    {
      "cell_type": "markdown",
      "metadata": {
        "id": "N8958BBEyyU_"
      },
      "source": [
        "## 15.3 최선의 이웃 개수 결정하기"
      ]
    },
    {
      "cell_type": "code",
      "execution_count": 15,
      "metadata": {
        "id": "w2Q1xBunyyU_"
      },
      "outputs": [],
      "source": [
        "# 라이브러리를 임포트합니다.\n",
        "from sklearn.neighbors import KNeighborsClassifier\n",
        "from sklearn import datasets\n",
        "from sklearn.preprocessing import StandardScaler\n",
        "from sklearn.pipeline import Pipeline, FeatureUnion\n",
        "from sklearn.model_selection import GridSearchCV\n",
        "\n",
        "# 데이터를 로드합니다.\n",
        "iris = datasets.load_iris()\n",
        "features = iris.data\n",
        "target = iris.target\n",
        "\n",
        "# 표준화 객체를 만듭니다.\n",
        "standardizer = StandardScaler()\n",
        "\n",
        "# KNN 분류기를 만듭니다.\n",
        "knn = KNeighborsClassifier(n_neighbors=5, n_jobs=-1)\n",
        "\n",
        "# 파이프라인을 만듭니다.\n",
        "pipe = Pipeline([(\"standardizer\", standardizer), (\"knn\", knn)])\n",
        "\n",
        "# 탐색 영역의 후보를 만듭니다.\n",
        "search_space = [{\"knn__n_neighbors\": [1, 2, 3, 4, 5, 6, 7, 8, 9, 10]}]\n",
        "\n",
        "# 그리드 서치를 만듭니다.\n",
        "classifier = GridSearchCV(\n",
        "    pipe, search_space, cv=5, verbose=0).fit(features, target)"
      ]
    },
    {
      "cell_type": "code",
      "execution_count": 16,
      "metadata": {
        "colab": {
          "base_uri": "https://localhost:8080/"
        },
        "id": "lVZvwVTwyyVA",
        "outputId": "72985ed3-3292-40a8-fce3-d194a2d91e24"
      },
      "outputs": [
        {
          "output_type": "execute_result",
          "data": {
            "text/plain": [
              "6"
            ]
          },
          "metadata": {},
          "execution_count": 16
        }
      ],
      "source": [
        "# 최선의 이웃 개수 (k)\n",
        "classifier.best_estimator_.get_params()[\"knn__n_neighbors\"]"
      ]
    },
    {
      "cell_type": "markdown",
      "metadata": {
        "id": "CawHLM3hyyVA"
      },
      "source": [
        "## 15.4 반지름 기반의 최근접 이웃 분류기 만들기"
      ]
    },
    {
      "cell_type": "code",
      "execution_count": 17,
      "metadata": {
        "colab": {
          "base_uri": "https://localhost:8080/"
        },
        "id": "X8xPeUEVyyVB",
        "outputId": "217bf012-95eb-4d31-8696-2a3bcac2f291"
      },
      "outputs": [
        {
          "output_type": "execute_result",
          "data": {
            "text/plain": [
              "array([2])"
            ]
          },
          "metadata": {},
          "execution_count": 17
        }
      ],
      "source": [
        "# 라이브러리를 임포트합니다.\n",
        "from sklearn.neighbors import RadiusNeighborsClassifier\n",
        "from sklearn.preprocessing import StandardScaler\n",
        "from sklearn import datasets\n",
        "\n",
        "# 데이터를 로드합니다.\n",
        "iris = datasets.load_iris()\n",
        "features = iris.data\n",
        "target = iris.target\n",
        "\n",
        "# 표준화 객체를 만듭니다.\n",
        "standardizer = StandardScaler()\n",
        "\n",
        "# 특성을 표준화합니다.\n",
        "features_standardized = standardizer.fit_transform(features)\n",
        "\n",
        "# 반지름 이웃 분류기를 훈련합니다.\n",
        "rnn = RadiusNeighborsClassifier(\n",
        "    radius=.5, n_jobs=-1).fit(features_standardized, target)\n",
        "\n",
        "# 두 개의 샘플을 만듭니다.\n",
        "new_observations = [[ 1,  1,  1,  1]]\n",
        "\n",
        "# 두 샘플의 클래스를 예측합니다.\n",
        "rnn.predict(new_observations)"
      ]
    },
    {
      "cell_type": "markdown",
      "metadata": {
        "id": "fZ1-TypRyyVB"
      },
      "source": [
        "### 붙임"
      ]
    },
    {
      "cell_type": "code",
      "execution_count": 18,
      "metadata": {
        "colab": {
          "base_uri": "https://localhost:8080/"
        },
        "id": "_xXOxDMUyyVC",
        "outputId": "1b1eb180-f608-40c1-879e-49cf1b3624c3"
      },
      "outputs": [
        {
          "output_type": "stream",
          "name": "stderr",
          "text": [
            "/usr/local/lib/python3.10/dist-packages/sklearn/neighbors/_classification.py:693: UserWarning: Outlier label -1 is not in training classes. All class probabilities of outliers will be assigned with 0.\n",
            "  warnings.warn(\n"
          ]
        },
        {
          "output_type": "execute_result",
          "data": {
            "text/plain": [
              "array([-1])"
            ]
          },
          "metadata": {},
          "execution_count": 18
        }
      ],
      "source": [
        "# 반지름 이웃 분류기를 훈련합니다.\n",
        "rnn = RadiusNeighborsClassifier(\n",
        "    radius=.5, outlier_label=-1, n_jobs=-1).fit(features_standardized, target)\n",
        "\n",
        "rnn.predict([[100, 100, 100, 100]])"
      ]
    },
    {
      "cell_type": "markdown",
      "metadata": {
        "id": "dhk31wzFyyVC"
      },
      "source": [
        "## 15.5 근사 최근접 이웃 찾기"
      ]
    },
    {
      "cell_type": "code",
      "execution_count": 19,
      "metadata": {
        "colab": {
          "base_uri": "https://localhost:8080/"
        },
        "id": "fZo21a9IyyVC",
        "outputId": "682b08a8-00da-4793-945d-ed9e03059f2b"
      },
      "outputs": [
        {
          "output_type": "execute_result",
          "data": {
            "text/plain": [
              "array([[1.03800476, 0.55861082, 1.10378283, 1.18556721],\n",
              "       [0.79566902, 0.32841405, 0.76275827, 1.05393502]])"
            ]
          },
          "metadata": {},
          "execution_count": 19
        }
      ],
      "source": [
        "# 라이브러리를 임포트합니다.\n",
        "import faiss\n",
        "import numpy as np\n",
        "from sklearn import datasets\n",
        "from sklearn.neighbors import NearestNeighbors\n",
        "from sklearn.preprocessing import StandardScaler\n",
        "\n",
        "# 데이터를 로드합니다.\n",
        "iris = datasets.load_iris()\n",
        "features = iris.data\n",
        "\n",
        "# 표준화 전처리 객체를 만듭니다.\n",
        "standardizer = StandardScaler()\n",
        "\n",
        "# 특성을 표준화합니다.\n",
        "features_standardized = standardizer.fit_transform(features)\n",
        "\n",
        "# faiss 파라미터를 지정합니다.\n",
        "n_features = features_standardized.shape[1]\n",
        "nlist = 3\n",
        "k = 2\n",
        "\n",
        "# IVF 인덱스를 만듭니다.\n",
        "quantizer = faiss.IndexFlatIP(n_features)\n",
        "index = faiss.IndexIVFFlat(quantizer, n_features, nlist)\n",
        "\n",
        "# 인덱스를 훈련하고 특성 벡터를 추가합니다.\n",
        "index.train(features_standardized)\n",
        "index.add(features_standardized)\n",
        "\n",
        "# 새로운 샘플을 만듭니다.\n",
        "new_observation = np.array([[ 1,  1,  1,  1]])\n",
        "\n",
        "# 2개의 최근접 이웃을 위해 인덱스를 검색합니다.\n",
        "distances, indices = index.search(new_observation, k)\n",
        "\n",
        "# 2개의 최근접 이웃에 해당하는 특성 벡터를 출력합니다.\n",
        "np.array([list(features_standardized[i]) for i in indices[0]])"
      ]
    },
    {
      "cell_type": "markdown",
      "metadata": {
        "id": "CgdTcMtiyyVD"
      },
      "source": [
        "## 15.4 근사 최근접 이웃 평가하기"
      ]
    },
    {
      "cell_type": "code",
      "execution_count": 20,
      "metadata": {
        "colab": {
          "base_uri": "https://localhost:8080/"
        },
        "id": "C2sEsauWyyVD",
        "outputId": "8916d33a-745b-4489-eca3-10f30be8513f"
      },
      "outputs": [
        {
          "output_type": "stream",
          "name": "stdout",
          "text": [
            "Recall @k=10: 100.0%\n"
          ]
        }
      ],
      "source": [
        "# 라이브러리를 로드합니다.\n",
        "import faiss\n",
        "import numpy as np\n",
        "from sklearn import datasets\n",
        "from sklearn.neighbors import NearestNeighbors\n",
        "from sklearn.preprocessing import StandardScaler\n",
        "\n",
        "# 최근접 이웃 개수\n",
        "k = 10\n",
        "\n",
        "# 데이터를 로드합니다.\n",
        "iris = datasets.load_iris()\n",
        "features = iris.data\n",
        "\n",
        "# 표준화 전처리 객체를 만듭니다.\n",
        "standardizer = StandardScaler()\n",
        "\n",
        "# 특성을 표준화합니다.\n",
        "features_standardized = standardizer.fit_transform(features)\n",
        "\n",
        "# 10개의 최근접 이웃을 사용하는 KNN을 만듭니다.\n",
        "nearest_neighbors = NearestNeighbors(n_neighbors=k).fit(features_standardized)\n",
        "\n",
        "# faiss 파라미터를 지정합니다.\n",
        "n_features = features_standardized.shape[1]\n",
        "nlist = 3\n",
        "\n",
        "# IVF 인덱스를 만듭니다.\n",
        "quantizer = faiss.IndexFlatIP(n_features)\n",
        "index = faiss.IndexIVFFlat(quantizer, n_features, nlist)\n",
        "\n",
        "# 인덱스를 훈련하고 특성 벡터를 추가합니다.\n",
        "index.train(features_standardized)\n",
        "index.add(features_standardized)\n",
        "index.nprobe = 1\n",
        "\n",
        "# 새로운 샘플을 만듭니다.\n",
        "new_observation = np.array([[ 1,  1,  1,  1]])\n",
        "\n",
        "# 샘플의 최근접 이웃에 해당하는 인덱스와 거리를 찾습니다.\n",
        "knn_distances, knn_indices = nearest_neighbors.kneighbors(new_observation)\n",
        "\n",
        "# 두 개의 최근접 이웃을 위해 인덱스를 검색합니다.\n",
        "ivf_distances, ivf_indices = index.search(new_observation, k)\n",
        "\n",
        "# 두 인덱스의 교집합을 구합니다.\n",
        "recalled_items = set(list(knn_indices[0])) & set(list(ivf_indices[0]))\n",
        "\n",
        "# 재현율을 출력합니다.\n",
        "print(f\"Recall @k={k}: {len(recalled_items)/k * 100}%\")"
      ]
    }
  ],
  "metadata": {
    "kernelspec": {
      "display_name": "Python 3 (ipykernel)",
      "language": "python",
      "name": "python3"
    },
    "language_info": {
      "codemirror_mode": {
        "name": "ipython",
        "version": 3
      },
      "file_extension": ".py",
      "mimetype": "text/x-python",
      "name": "python",
      "nbconvert_exporter": "python",
      "pygments_lexer": "ipython3",
      "version": "3.10.13"
    },
    "colab": {
      "provenance": []
    }
  },
  "nbformat": 4,
  "nbformat_minor": 0
}