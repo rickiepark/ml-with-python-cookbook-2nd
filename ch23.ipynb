{
 "cells": [
  {
   "cell_type": "markdown",
   "id": "89357753-b57c-4efc-b5ba-4120381dc13d",
   "metadata": {},
   "source": [
    "# 23장 훈련 모델의 저장, 로딩, 서빙"
   ]
  },
  {
   "cell_type": "markdown",
   "id": "486ddf2e-b289-4011-9517-a4227815e974",
   "metadata": {},
   "source": [
    "<table align=\"left\"><tr><td>\n",
    "<a href=\"https://colab.research.google.com/github/rickiepark/ml-with-python-cookbook-2nd/blob/main/ch23.ipynb\" target=\"_parent\"><img src=\"https://colab.research.google.com/assets/colab-badge.svg\" alt=\"코랩에서 실행하기\"/></a>\n",
    "</td></tr></table>"
   ]
  },
  {
   "cell_type": "code",
   "execution_count": null,
   "id": "2ba3d70e-65b8-4f3f-a94f-ab90a158abb8",
   "metadata": {},
   "outputs": [],
   "source": [
    "import numpy as np\n",
    "import sklearn\n",
    "import joblib\n",
    "import tensorflow\n",
    "import torch\n",
    "import flask\n",
    "\n",
    "print('numpy', np.__version__)\n",
    "print('sklearn', sklearn.__version__)\n",
    "print('joblib', joblib.__version__)\n",
    "print('tensorflow', tensorflow.__version__)\n",
    "print('torch', torch.__version__)\n",
    "print('flask', flask.__version__)"
   ]
  },
  {
   "cell_type": "markdown",
   "id": "305e9518-8a09-431c-a9c2-58dab43c4591",
   "metadata": {},
   "source": [
    "## 23.1 사이킷런 모델 저장하고 로드하기"
   ]
  },
  {
   "cell_type": "code",
   "execution_count": null,
   "id": "2afc2bef-4600-4fc2-ab2d-a7490ba6d577",
   "metadata": {},
   "outputs": [],
   "source": [
    "# 라이브러리를 임포트합니다.\n",
    "import joblib\n",
    "from sklearn.ensemble import RandomForestClassifier\n",
    "from sklearn import datasets\n",
    "\n",
    "# 데이터를 로드합니다.\n",
    "iris = datasets.load_iris()\n",
    "features = iris.data\n",
    "target = iris.target\n",
    "\n",
    "# 결정 트리 분류기 객체를 만듭니다.\n",
    "classifer = RandomForestClassifier()\n",
    "\n",
    "# 모델을 훈련합니다.\n",
    "model = classifer.fit(features, target)\n",
    "\n",
    "# 모델을 피클 파일로 저장합니다.\n",
    "joblib.dump(model, \"model.pkl\")"
   ]
  },
  {
   "cell_type": "code",
   "execution_count": null,
   "id": "621f7618-526c-476e-bd4f-dee3fb615dd9",
   "metadata": {},
   "outputs": [],
   "source": [
    "# 파일에서 모델을 복원합니다.\n",
    "classifer = joblib.load(\"model.pkl\")"
   ]
  },
  {
   "cell_type": "code",
   "execution_count": null,
   "id": "3202b3e0-e912-4539-b4ec-804add144b80",
   "metadata": {},
   "outputs": [],
   "source": [
    "# 새로운 샘플을 만듭니다.\n",
    "new_observation = [[ 5.2,  3.2,  1.1,  0.1]]\n",
    "\n",
    "# 샘플의 클래스를 예측합니다.\n",
    "classifer.predict(new_observation)"
   ]
  },
  {
   "cell_type": "code",
   "execution_count": null,
   "id": "e6d26378-1017-44d3-8465-69f581f5cf12",
   "metadata": {},
   "outputs": [],
   "source": [
    "# 라이브러리를 임포트합니다.\n",
    "import sklearn\n",
    "\n",
    "# 사이킷런 버전을 구합니다.\n",
    "scikit_version = sklearn.__version__\n",
    "\n",
    "# 모델을 피클 파일로 저장합니다.\n",
    "joblib.dump(model, \"model_{version}.pkl\".format(version=scikit_version))"
   ]
  },
  {
   "cell_type": "markdown",
   "id": "b8a8b0d5-8c32-4034-8cff-f6c81621e04a",
   "metadata": {},
   "source": [
    "## 23.2 텐서플로 모델 저장하고 로드하기"
   ]
  },
  {
   "cell_type": "code",
   "execution_count": null,
   "id": "ece67346-a4b3-4ffe-af00-740c823a7f65",
   "metadata": {},
   "outputs": [],
   "source": [
    "# 라이브러리를 임포트합니다.\n",
    "import numpy as np\n",
    "from tensorflow import keras\n",
    "\n",
    "# 랜덤 시드를 지정합니다.\n",
    "np.random.seed(0)\n",
    "\n",
    "# 하나의 은닉층을 가진 모델을 만듭니다.\n",
    "input_layer = keras.Input(shape=(10,))\n",
    "hidden_layer = keras.layers.Dense(10)(input_layer)\n",
    "output_layer = keras.layers.Dense(1)(input_layer)\n",
    "model = keras.Model(input_layer, output_layer)\n",
    "model.compile(optimizer=\"adam\", loss=\"mean_squared_error\")\n",
    "\n",
    "# 모델을 훈련합니다.\n",
    "x_train = np.random.random((1000, 10))\n",
    "y_train = np.random.random((1000, 1))\n",
    "model.fit(x_train, y_train)\n",
    "\n",
    "# `save_model`이란 디렉토리에 모델을 저장합니다.\n",
    "model.save(\"saved_model\")"
   ]
  },
  {
   "cell_type": "code",
   "execution_count": null,
   "id": "5370e58f-1cda-435a-8827-16286098cec6",
   "metadata": {},
   "outputs": [],
   "source": [
    "!ls saved_model"
   ]
  },
  {
   "cell_type": "markdown",
   "id": "f1de03e4-ed09-47ed-aacb-b89b47387f3b",
   "metadata": {},
   "source": [
    "## 23.3 파이토치 모델 저장하고 로드하기"
   ]
  },
  {
   "cell_type": "code",
   "execution_count": null,
   "id": "7cf67ddf-7f95-4e5b-8904-114a2c05fb87",
   "metadata": {},
   "outputs": [],
   "source": [
    "# 라이브러리를 임포트합니다.\n",
    "import torch\n",
    "import torch.nn as nn\n",
    "import numpy as np\n",
    "from torch.utils.data import DataLoader, TensorDataset\n",
    "from torch.optim import RMSprop\n",
    "from sklearn.datasets import make_classification\n",
    "from sklearn.model_selection import train_test_split\n",
    "\n",
    "# 훈련 세트와 테스트 세트를 만듭니다.\n",
    "features, target = make_classification(n_classes=2, n_features=10,\n",
    "    n_samples=1000)\n",
    "features_train, features_test, target_train, target_test = train_test_split(\n",
    "    features, target, test_size=0.1, random_state=1)\n",
    "\n",
    "# 랜덤 시드를 지정합니다.\n",
    "torch.manual_seed(0)\n",
    "np.random.seed(0)\n",
    "\n",
    "# 데이터를 파이토치 텐서로 변환합니다.\n",
    "x_train = torch.from_numpy(features_train).float()\n",
    "y_train = torch.from_numpy(target_train).float().view(-1, 1)\n",
    "x_test = torch.from_numpy(features_test).float()\n",
    "y_test = torch.from_numpy(target_test).float().view(-1, 1)\n",
    "\n",
    "# Sequential 클래스를 사용해 신경망을 정의합니다.\n",
    "class SimpleNeuralNet(nn.Module):\n",
    "    def __init__(self):\n",
    "        super(SimpleNeuralNet, self).__init__()\n",
    "        self.sequential = torch.nn.Sequential(\n",
    "            torch.nn.Linear(10, 16),\n",
    "            torch.nn.ReLU(),\n",
    "            torch.nn.Linear(16,16),\n",
    "            torch.nn.ReLU(),\n",
    "            torch.nn.Linear(16, 1),\n",
    "            torch.nn.Dropout(0.1), # Drop 10% of neurons\n",
    "            torch.nn.Sigmoid(),\n",
    "        )\n",
    "\n",
    "    def forward(self, x):\n",
    "        x = self.sequential(x)\n",
    "        return x\n",
    "\n",
    "# 신경망을 초기화합니다.\n",
    "network = SimpleNeuralNet()\n",
    "\n",
    "# 손실 함수와 옵티마이저를 정의합니다.\n",
    "criterion = nn.BCELoss()\n",
    "optimizer = RMSprop(network.parameters())\n",
    "\n",
    "# 데이터 로더를 정의합니다.\n",
    "train_data = TensorDataset(x_train, y_train)\n",
    "train_loader = DataLoader(train_data, batch_size=100, shuffle=True)\n",
    "\n",
    "# 모델을 컴파일합니다.\n",
    "network = torch.compile(network)\n",
    "\n",
    "# 신경망을 훈련합니다.\n",
    "epochs = 5\n",
    "for epoch in range(epochs):\n",
    "    for batch_idx, (data, target) in enumerate(train_loader):\n",
    "        optimizer.zero_grad()\n",
    "        output = network(data)\n",
    "        loss = criterion(output, target)\n",
    "        loss.backward()\n",
    "        optimizer.step()\n",
    "\n",
    "# 모델을 훈련한 다음 저장합니다.\n",
    "torch.save(\n",
    "    {\n",
    "        'epoch': epoch,\n",
    "        'model_state_dict': network.state_dict(),\n",
    "        'optimizer_state_dict': optimizer.state_dict(),\n",
    "        'loss': loss,\n",
    "    },\n",
    "    \"model.pt\"\n",
    ")\n",
    "\n",
    "# 신경망을 로드합니다.\n",
    "network = SimpleNeuralNet()\n",
    "state_dict = torch.load(\n",
    "    \"model.pt\",\n",
    "    map_location=torch.device('cpu')\n",
    "    )[\"model_state_dict\"]\n",
    "network.load_state_dict(state_dict, strict=False)\n",
    "network.eval()"
   ]
  },
  {
   "cell_type": "markdown",
   "id": "271b6118-f02c-4d7b-8c72-d46cfd3e531c",
   "metadata": {},
   "source": [
    "## 23.4 사이킷런 모델 서빙하기"
   ]
  },
  {
   "cell_type": "code",
   "execution_count": null,
   "id": "abbafbf5-e580-43b5-8287-6c47cd661a3b",
   "metadata": {},
   "outputs": [],
   "source": [
    "# 라이브러리를 임포트합니다.\n",
    "import joblib\n",
    "from flask import Flask, request\n",
    "\n",
    "# 플라스크 앱을 초기화합니다.\n",
    "app = Flask(__name__)\n",
    "\n",
    "# 디스크로부터 모델을 로드합니다.\n",
    "model = joblib.load(\"model.pkl\")\n",
    "\n",
    "# JSON 데이터를 받고 예측을 만들어 반환하는 라우트(route)를 만듭니다.\n",
    "@app.route(\"/predict\", methods = [\"POST\"])\n",
    "def predict():\n",
    "    print(request.json)\n",
    "    inputs = request.json[\"inputs\"]\n",
    "    prediction = model.predict(inputs)\n",
    "    return {\n",
    "        \"prediction\" : prediction.tolist()\n",
    "    }\n",
    "\n",
    " # 애플리케이션을 실행합니다.\n",
    "if __name__ == \"__main__\":\n",
    "    app.run()"
   ]
  },
  {
   "cell_type": "code",
   "execution_count": null,
   "id": "e470f223-4b00-4376-b158-d58043ed3ebc",
   "metadata": {},
   "outputs": [],
   "source": [
    "!python3 app.py"
   ]
  },
  {
   "cell_type": "code",
   "execution_count": null,
   "id": "69af45d8-5fc8-44dd-8950-90ec4e08f2bc",
   "metadata": {},
   "outputs": [],
   "source": [
    "!curl -X POST http://127.0.0.1:5000/predict  -H 'Content-Type: application/json'\n",
    "    -d '{\"inputs\":[[5.1, 3.5, 1.4, 0.2]]}'"
   ]
  },
  {
   "cell_type": "markdown",
   "id": "6ca35488-5bf5-47fd-aaf2-b9ac327b6d7a",
   "metadata": {},
   "source": [
    "## 23.5 텐서플로 모델 서빙하기"
   ]
  },
  {
   "cell_type": "code",
   "execution_count": null,
   "id": "519a9493-aa62-4386-bc1c-31247871a67d",
   "metadata": {},
   "outputs": [],
   "source": [
    "!docker run -p 8501:8501 -p 8500:8500 \\\n",
    "--mount type=bind,source=$(pwd)/saved_model,target=/models/saved_model/1 \\\n",
    "-e MODEL_NAME=saved_model -t tensorflow/serving"
   ]
  },
  {
   "cell_type": "code",
   "execution_count": null,
   "id": "ff3c168d-8f85-4d91-a45c-0d1b79b7445c",
   "metadata": {},
   "outputs": [],
   "source": [
    "!curl -X POST http://localhost:8501/v1/models/saved_model:predict\n",
    "    -d '{\"inputs\":[[1,2,3,4,5,6,7,8,9,10]]}'"
   ]
  },
  {
   "cell_type": "markdown",
   "id": "13e13d80-98ca-4d99-9e8e-5691b0d90bd9",
   "metadata": {},
   "source": [
    "## 23.6 셀던으로 파이토치 모델 서빙하기"
   ]
  },
  {
   "cell_type": "code",
   "execution_count": null,
   "id": "47c2bb81-aa6c-485d-ae0d-fe1989a11f11",
   "metadata": {},
   "outputs": [],
   "source": [
    "# 라이브러리를 임포트합니다.\n",
    "import torch\n",
    "import torch.nn as nn\n",
    "import logging\n",
    "\n",
    "# 파이토치 모델 클래스를 만듭니다.\n",
    "class SimpleNeuralNet(nn.Module):\n",
    "    def __init__(self):\n",
    "        super(SimpleNeuralNet, self).__init__()\n",
    "        self.sequential = torch.nn.Sequential(\n",
    "            torch.nn.Linear(10, 16),\n",
    "            torch.nn.ReLU(),\n",
    "            torch.nn.Linear(16,16),\n",
    "            torch.nn.ReLU(),\n",
    "            torch.nn.Linear(16, 1),\n",
    "            torch.nn.Dropout(0.1), # Drop 10% of neurons\n",
    "            torch.nn.Sigmoid(),\n",
    "\n",
    "        )\n",
    "# `MyModel`이란 이름으로 셀던 모델 객체를 만듭니다.\n",
    "class MyModel(object):\n",
    "\n",
    "    # 모델을 로드합니다.\n",
    "    def __init__(self):\n",
    "        self.network = SimpleNeuralNet()\n",
    "        self.network.load_state_dict(\n",
    "            torch.load(\"model.pt\")[\"model_state_dict\"],\n",
    "            strict=False\n",
    "        )\n",
    "        logging.info(self.network.eval())\n",
    "\n",
    "    # 예측을 만듭니다.\n",
    "    def predict(self, X, features_names=None):\n",
    "        return self.network.forward(X)"
   ]
  },
  {
   "cell_type": "code",
   "execution_count": null,
   "id": "d07b6222-f886-4759-9287-f7d46b83e138",
   "metadata": {},
   "outputs": [],
   "source": [
    "!docker run -it -v $(pwd):/app -p 9000:9000 kylegallatin/seldon-example\n",
    "    seldon-core-microservice MyModel --service-type MODEL"
   ]
  },
  {
   "cell_type": "code",
   "execution_count": null,
   "id": "64cdf1d9-5aaa-4815-bb83-a205c15bca11",
   "metadata": {},
   "outputs": [],
   "source": [
    "!curl -X POST http://127.0.0.1:9000/predict  -H 'Content-Type: application/json'\n",
    "    -d '{\"data\": {\"ndarray\":[[0, 0, 0, 0, 0, 0, 0, 0, 0]]}}'"
   ]
  }
 ],
 "metadata": {
  "kernelspec": {
   "display_name": "Python 3 (ipykernel)",
   "language": "python",
   "name": "python3"
  },
  "language_info": {
   "codemirror_mode": {
    "name": "ipython",
    "version": 3
   },
   "file_extension": ".py",
   "mimetype": "text/x-python",
   "name": "python",
   "nbconvert_exporter": "python",
   "pygments_lexer": "ipython3",
   "version": "3.10.13"
  }
 },
 "nbformat": 4,
 "nbformat_minor": 5
}
