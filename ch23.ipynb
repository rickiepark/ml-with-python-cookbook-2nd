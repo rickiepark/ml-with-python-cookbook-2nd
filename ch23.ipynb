{
  "cells": [
    {
      "cell_type": "markdown",
      "id": "89357753-b57c-4efc-b5ba-4120381dc13d",
      "metadata": {
        "id": "89357753-b57c-4efc-b5ba-4120381dc13d"
      },
      "source": [
        "# 23장 훈련 모델의 저장, 로딩, 서빙"
      ]
    },
    {
      "cell_type": "markdown",
      "id": "486ddf2e-b289-4011-9517-a4227815e974",
      "metadata": {
        "id": "486ddf2e-b289-4011-9517-a4227815e974"
      },
      "source": [
        "<table align=\"left\"><tr><td>\n",
        "<a href=\"https://colab.research.google.com/github/rickiepark/ml-with-python-cookbook-2nd/blob/main/ch23.ipynb\" target=\"_parent\"><img src=\"https://colab.research.google.com/assets/colab-badge.svg\" alt=\"코랩에서 실행하기\"/></a>\n",
        "</td></tr></table>"
      ]
    },
    {
      "cell_type": "code",
      "execution_count": 11,
      "id": "2ba3d70e-65b8-4f3f-a94f-ab90a158abb8",
      "metadata": {
        "id": "2ba3d70e-65b8-4f3f-a94f-ab90a158abb8",
        "outputId": "bf85aa5c-e458-40b5-ac5b-9a3ec0c23df6",
        "colab": {
          "base_uri": "https://localhost:8080/"
        }
      },
      "outputs": [
        {
          "output_type": "stream",
          "name": "stdout",
          "text": [
            "numpy 1.26.4\n",
            "sklearn 1.6.0\n",
            "joblib 1.4.2\n",
            "tensorflow 2.17.1\n",
            "torch 2.5.1+cu121\n",
            "flask 3.1.0\n"
          ]
        }
      ],
      "source": [
        "import numpy as np\n",
        "import sklearn\n",
        "import joblib\n",
        "import tensorflow\n",
        "import torch\n",
        "import flask\n",
        "import importlib\n",
        "\n",
        "print('numpy', np.__version__)\n",
        "print('sklearn', sklearn.__version__)\n",
        "print('joblib', joblib.__version__)\n",
        "print('tensorflow', tensorflow.__version__)\n",
        "print('torch', torch.__version__)\n",
        "print('flask', importlib.metadata.version(\"flask\"))"
      ]
    },
    {
      "cell_type": "markdown",
      "id": "305e9518-8a09-431c-a9c2-58dab43c4591",
      "metadata": {
        "id": "305e9518-8a09-431c-a9c2-58dab43c4591"
      },
      "source": [
        "## 23.1 사이킷런 모델 저장하고 로드하기"
      ]
    },
    {
      "cell_type": "code",
      "execution_count": 2,
      "id": "2afc2bef-4600-4fc2-ab2d-a7490ba6d577",
      "metadata": {
        "id": "2afc2bef-4600-4fc2-ab2d-a7490ba6d577",
        "outputId": "c5df3857-6a76-4a7c-f2db-539dc006733c",
        "colab": {
          "base_uri": "https://localhost:8080/"
        }
      },
      "outputs": [
        {
          "output_type": "execute_result",
          "data": {
            "text/plain": [
              "['model.pkl']"
            ]
          },
          "metadata": {},
          "execution_count": 2
        }
      ],
      "source": [
        "# 라이브러리를 임포트합니다.\n",
        "import joblib\n",
        "from sklearn.ensemble import RandomForestClassifier\n",
        "from sklearn import datasets\n",
        "\n",
        "# 데이터를 로드합니다.\n",
        "iris = datasets.load_iris()\n",
        "features = iris.data\n",
        "target = iris.target\n",
        "\n",
        "# 결정 트리 분류기 객체를 만듭니다.\n",
        "classifer = RandomForestClassifier()\n",
        "\n",
        "# 모델을 훈련합니다.\n",
        "model = classifer.fit(features, target)\n",
        "\n",
        "# 모델을 피클 파일로 저장합니다.\n",
        "joblib.dump(model, \"model.pkl\")"
      ]
    },
    {
      "cell_type": "code",
      "execution_count": 3,
      "id": "621f7618-526c-476e-bd4f-dee3fb615dd9",
      "metadata": {
        "id": "621f7618-526c-476e-bd4f-dee3fb615dd9"
      },
      "outputs": [],
      "source": [
        "# 파일에서 모델을 복원합니다.\n",
        "classifer = joblib.load(\"model.pkl\")"
      ]
    },
    {
      "cell_type": "code",
      "execution_count": 4,
      "id": "3202b3e0-e912-4539-b4ec-804add144b80",
      "metadata": {
        "id": "3202b3e0-e912-4539-b4ec-804add144b80",
        "outputId": "611fae43-9f20-43db-a7d3-b1c61bf31001",
        "colab": {
          "base_uri": "https://localhost:8080/"
        }
      },
      "outputs": [
        {
          "output_type": "execute_result",
          "data": {
            "text/plain": [
              "array([0])"
            ]
          },
          "metadata": {},
          "execution_count": 4
        }
      ],
      "source": [
        "# 새로운 샘플을 만듭니다.\n",
        "new_observation = [[ 5.2,  3.2,  1.1,  0.1]]\n",
        "\n",
        "# 샘플의 클래스를 예측합니다.\n",
        "classifer.predict(new_observation)"
      ]
    },
    {
      "cell_type": "code",
      "execution_count": 5,
      "id": "e6d26378-1017-44d3-8465-69f581f5cf12",
      "metadata": {
        "id": "e6d26378-1017-44d3-8465-69f581f5cf12",
        "outputId": "163987db-8c55-44bf-ffb6-e27329976e4e",
        "colab": {
          "base_uri": "https://localhost:8080/"
        }
      },
      "outputs": [
        {
          "output_type": "execute_result",
          "data": {
            "text/plain": [
              "['model_1.6.0.pkl']"
            ]
          },
          "metadata": {},
          "execution_count": 5
        }
      ],
      "source": [
        "# 라이브러리를 임포트합니다.\n",
        "import sklearn\n",
        "\n",
        "# 사이킷런 버전을 구합니다.\n",
        "scikit_version = sklearn.__version__\n",
        "\n",
        "# 모델을 피클 파일로 저장합니다.\n",
        "joblib.dump(model, \"model_{version}.pkl\".format(version=scikit_version))"
      ]
    },
    {
      "cell_type": "markdown",
      "id": "b8a8b0d5-8c32-4034-8cff-f6c81621e04a",
      "metadata": {
        "id": "b8a8b0d5-8c32-4034-8cff-f6c81621e04a"
      },
      "source": [
        "## 23.2 텐서플로 모델 저장하고 로드하기"
      ]
    },
    {
      "cell_type": "code",
      "execution_count": 6,
      "id": "ece67346-a4b3-4ffe-af00-740c823a7f65",
      "metadata": {
        "id": "ece67346-a4b3-4ffe-af00-740c823a7f65",
        "outputId": "89a22bd5-3fb5-478f-dacd-8f47cf66ed72",
        "colab": {
          "base_uri": "https://localhost:8080/"
        }
      },
      "outputs": [
        {
          "output_type": "stream",
          "name": "stdout",
          "text": [
            "\u001b[1m32/32\u001b[0m \u001b[32m━━━━━━━━━━━━━━━━━━━━\u001b[0m\u001b[37m\u001b[0m \u001b[1m1s\u001b[0m 11ms/step - loss: 0.2502\n"
          ]
        }
      ],
      "source": [
        "# 라이브러리를 임포트합니다.\n",
        "import numpy as np\n",
        "from tensorflow import keras\n",
        "\n",
        "# 랜덤 시드를 지정합니다.\n",
        "np.random.seed(0)\n",
        "\n",
        "# 하나의 은닉층을 가진 모델을 만듭니다.\n",
        "input_layer = keras.Input(shape=(10,))\n",
        "hidden_layer = keras.layers.Dense(10)(input_layer)\n",
        "output_layer = keras.layers.Dense(1)(input_layer)\n",
        "model = keras.Model(input_layer, output_layer)\n",
        "model.compile(optimizer=\"adam\", loss=\"mean_squared_error\")\n",
        "\n",
        "# 모델을 훈련합니다.\n",
        "x_train = np.random.random((1000, 10))\n",
        "y_train = np.random.random((1000, 1))\n",
        "model.fit(x_train, y_train)\n",
        "\n",
        "# `save_model`이란 디렉토리에 모델을 저장합니다.\n",
        "model.save(\"saved_model.keras\")"
      ]
    },
    {
      "cell_type": "code",
      "source": [
        "model = keras.models.load_model(\"saved_model.keras\")"
      ],
      "metadata": {
        "id": "MAK3PZzUevk8"
      },
      "id": "MAK3PZzUevk8",
      "execution_count": 12,
      "outputs": []
    },
    {
      "cell_type": "code",
      "execution_count": 7,
      "id": "5370e58f-1cda-435a-8827-16286098cec6",
      "metadata": {
        "id": "5370e58f-1cda-435a-8827-16286098cec6",
        "outputId": "a0609ce3-9da6-45a5-f2d3-b8b48a17a126",
        "colab": {
          "base_uri": "https://localhost:8080/"
        }
      },
      "outputs": [
        {
          "output_type": "stream",
          "name": "stdout",
          "text": [
            "saved_model.keras\n"
          ]
        }
      ],
      "source": [
        "!ls saved_model.keras"
      ]
    },
    {
      "cell_type": "markdown",
      "id": "f1de03e4-ed09-47ed-aacb-b89b47387f3b",
      "metadata": {
        "id": "f1de03e4-ed09-47ed-aacb-b89b47387f3b"
      },
      "source": [
        "## 23.3 파이토치 모델 저장하고 로드하기"
      ]
    },
    {
      "cell_type": "code",
      "execution_count": 9,
      "id": "7cf67ddf-7f95-4e5b-8904-114a2c05fb87",
      "metadata": {
        "id": "7cf67ddf-7f95-4e5b-8904-114a2c05fb87",
        "outputId": "3f8e0cdb-bbb7-4d41-cf92-9f47876d48d8",
        "colab": {
          "base_uri": "https://localhost:8080/"
        }
      },
      "outputs": [
        {
          "output_type": "execute_result",
          "data": {
            "text/plain": [
              "SimpleNeuralNet(\n",
              "  (sequential): Sequential(\n",
              "    (0): Linear(in_features=10, out_features=16, bias=True)\n",
              "    (1): ReLU()\n",
              "    (2): Linear(in_features=16, out_features=16, bias=True)\n",
              "    (3): ReLU()\n",
              "    (4): Linear(in_features=16, out_features=1, bias=True)\n",
              "    (5): Dropout(p=0.1, inplace=False)\n",
              "    (6): Sigmoid()\n",
              "  )\n",
              ")"
            ]
          },
          "metadata": {},
          "execution_count": 9
        }
      ],
      "source": [
        "# 라이브러리를 임포트합니다.\n",
        "import torch\n",
        "import torch.nn as nn\n",
        "import numpy as np\n",
        "from torch.utils.data import DataLoader, TensorDataset\n",
        "from torch.optim import RMSprop\n",
        "from sklearn.datasets import make_classification\n",
        "from sklearn.model_selection import train_test_split\n",
        "\n",
        "# 훈련 세트와 테스트 세트를 만듭니다.\n",
        "features, target = make_classification(n_classes=2, n_features=10,\n",
        "    n_samples=1000)\n",
        "features_train, features_test, target_train, target_test = train_test_split(\n",
        "    features, target, test_size=0.1, random_state=1)\n",
        "\n",
        "# 랜덤 시드를 지정합니다.\n",
        "torch.manual_seed(0)\n",
        "np.random.seed(0)\n",
        "\n",
        "# 데이터를 파이토치 텐서로 변환합니다.\n",
        "x_train = torch.from_numpy(features_train).float()\n",
        "y_train = torch.from_numpy(target_train).float().view(-1, 1)\n",
        "x_test = torch.from_numpy(features_test).float()\n",
        "y_test = torch.from_numpy(target_test).float().view(-1, 1)\n",
        "\n",
        "# Sequential 클래스를 사용해 신경망을 정의합니다.\n",
        "class SimpleNeuralNet(nn.Module):\n",
        "    def __init__(self):\n",
        "        super(SimpleNeuralNet, self).__init__()\n",
        "        self.sequential = torch.nn.Sequential(\n",
        "            torch.nn.Linear(10, 16),\n",
        "            torch.nn.ReLU(),\n",
        "            torch.nn.Linear(16,16),\n",
        "            torch.nn.ReLU(),\n",
        "            torch.nn.Linear(16, 1),\n",
        "            torch.nn.Dropout(0.1), # 10%의 뉴런을 드롭아웃합니다.\n",
        "            torch.nn.Sigmoid(),\n",
        "        )\n",
        "\n",
        "    def forward(self, x):\n",
        "        x = self.sequential(x)\n",
        "        return x\n",
        "\n",
        "# 신경망을 초기화합니다.\n",
        "network = SimpleNeuralNet()\n",
        "\n",
        "# 손실 함수와 옵티마이저를 정의합니다.\n",
        "criterion = nn.BCELoss()\n",
        "optimizer = RMSprop(network.parameters())\n",
        "\n",
        "# 데이터 로더를 정의합니다.\n",
        "train_data = TensorDataset(x_train, y_train)\n",
        "train_loader = DataLoader(train_data, batch_size=100, shuffle=True)\n",
        "\n",
        "# 모델을 컴파일합니다.\n",
        "network = torch.compile(network)\n",
        "\n",
        "# 신경망을 훈련합니다.\n",
        "epochs = 5\n",
        "for epoch in range(epochs):\n",
        "    for batch_idx, (data, target) in enumerate(train_loader):\n",
        "        optimizer.zero_grad()\n",
        "        output = network(data)\n",
        "        loss = criterion(output, target)\n",
        "        loss.backward()\n",
        "        optimizer.step()\n",
        "\n",
        "# 모델을 훈련한 다음 저장합니다.\n",
        "torch.save(\n",
        "    {\n",
        "        'epoch': epoch,\n",
        "        'model_state_dict': network.state_dict(),\n",
        "        'optimizer_state_dict': optimizer.state_dict(),\n",
        "        'loss': loss,\n",
        "    },\n",
        "    \"model.pt\"\n",
        ")\n",
        "\n",
        "# 신경망을 로드합니다.\n",
        "network = SimpleNeuralNet()\n",
        "state_dict = torch.load(\n",
        "    \"model.pt\",\n",
        "    map_location=torch.device('cpu'),\n",
        "    weights_only=False\n",
        "    )[\"model_state_dict\"]\n",
        "network.load_state_dict(state_dict, strict=False)\n",
        "network.eval()"
      ]
    }
  ],
  "metadata": {
    "kernelspec": {
      "display_name": "Python 3",
      "name": "python3"
    },
    "language_info": {
      "codemirror_mode": {
        "name": "ipython",
        "version": 3
      },
      "file_extension": ".py",
      "mimetype": "text/x-python",
      "name": "python",
      "nbconvert_exporter": "python",
      "pygments_lexer": "ipython3",
      "version": "3.10.13"
    },
    "colab": {
      "provenance": [],
      "gpuType": "T4"
    },
    "accelerator": "GPU"
  },
  "nbformat": 4,
  "nbformat_minor": 5
}